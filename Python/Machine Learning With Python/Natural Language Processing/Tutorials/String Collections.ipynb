{
  "nbformat": 4,
  "nbformat_minor": 0,
  "metadata": {
    "colab": {
      "name": "Coleções - Textos.ipynb",
      "provenance": [],
      "collapsed_sections": []
    },
    "kernelspec": {
      "name": "python3",
      "display_name": "Python 3"
    }
  },
  "cells": [
    {
      "cell_type": "markdown",
      "metadata": {
        "id": "byotCNxg_-ZO"
      },
      "source": [
        "## Tipos de coloeções"
      ]
    },
    {
      "cell_type": "code",
      "metadata": {
        "id": "5exRs7GLAQkc"
      },
      "source": [
        "listas=[1,2,3]\n",
        "tuplas=('string',1)\n",
        "dicionarios={'a' '10','b' '20'}"
      ],
      "execution_count": null,
      "outputs": []
    },
    {
      "cell_type": "markdown",
      "metadata": {
        "id": "NHaXnwg3AsGB"
      },
      "source": [
        "#Exemplo"
      ]
    },
    {
      "cell_type": "code",
      "metadata": {
        "id": "uOiGOo3lAu-c",
        "colab": {
          "base_uri": "https://localhost:8080/",
          "height": 34
        },
        "outputId": "0c669d3f-965f-427f-e832-d46d97ea9ddb"
      },
      "source": [
        "alunos1=[15,10,20]\n",
        "alunos2=[15,63,12]\n",
        "\n",
        "todos_alunos=[]\n",
        "todos_alunos=alunos1\n",
        "todos_alunos.extend(alunos2)\n",
        "\n",
        "print(todos_alunos)"
      ],
      "execution_count": null,
      "outputs": [
        {
          "output_type": "stream",
          "text": [
            "[15, 10, 20, 15, 63, 12]\n"
          ],
          "name": "stdout"
        }
      ]
    },
    {
      "cell_type": "code",
      "metadata": {
        "id": "Y7I6rLC4A3X9",
        "colab": {
          "base_uri": "https://localhost:8080/",
          "height": 34
        },
        "outputId": "bebd8450-b12e-4eb0-cf7a-fecc9ecbde0b"
      },
      "source": [
        "Conjunto=set(todos_alunos) \n",
        "Conjunto"
      ],
      "execution_count": null,
      "outputs": [
        {
          "output_type": "execute_result",
          "data": {
            "text/plain": [
              "{10, 12, 15, 20, 63}"
            ]
          },
          "metadata": {
            "tags": []
          },
          "execution_count": 11
        }
      ]
    },
    {
      "cell_type": "code",
      "metadata": {
        "id": "2sHXvG0XB21o",
        "colab": {
          "base_uri": "https://localhost:8080/",
          "height": 34
        },
        "outputId": "f941f2bb-7831-47ce-ff4b-c40adc1b5a16"
      },
      "source": [
        "type(Conjunto)"
      ],
      "execution_count": null,
      "outputs": [
        {
          "output_type": "execute_result",
          "data": {
            "text/plain": [
              "set"
            ]
          },
          "metadata": {
            "tags": []
          },
          "execution_count": 12
        }
      ]
    },
    {
      "cell_type": "code",
      "metadata": {
        "id": "Y-StUXaaCCL5"
      },
      "source": [
        "alunos1={15,10,20}\n",
        "alunos2={15,63,12}"
      ],
      "execution_count": null,
      "outputs": []
    },
    {
      "cell_type": "code",
      "metadata": {
        "id": "9IuZwG36DTTy",
        "colab": {
          "base_uri": "https://localhost:8080/",
          "height": 34
        },
        "outputId": "1fdfc57f-c825-4582-d228-ed693f54e088"
      },
      "source": [
        "alunos1 | alunos2"
      ],
      "execution_count": null,
      "outputs": [
        {
          "output_type": "execute_result",
          "data": {
            "text/plain": [
              "{10, 12, 15, 20, 63}"
            ]
          },
          "metadata": {
            "tags": []
          },
          "execution_count": 16
        }
      ]
    },
    {
      "cell_type": "code",
      "metadata": {
        "id": "1Qr9NibvDZRC",
        "colab": {
          "base_uri": "https://localhost:8080/",
          "height": 34
        },
        "outputId": "8d9336ad-5c35-4bfe-b5bf-95d0a6947ab1"
      },
      "source": [
        "alunos1 & alunos2"
      ],
      "execution_count": null,
      "outputs": [
        {
          "output_type": "execute_result",
          "data": {
            "text/plain": [
              "{15}"
            ]
          },
          "metadata": {
            "tags": []
          },
          "execution_count": 18
        }
      ]
    },
    {
      "cell_type": "code",
      "metadata": {
        "id": "RnNQjH9ZDqkv",
        "colab": {
          "base_uri": "https://localhost:8080/",
          "height": 34
        },
        "outputId": "de0ffaab-efab-42aa-fa94-d46f39e23113"
      },
      "source": [
        "alunos1 - alunos2"
      ],
      "execution_count": null,
      "outputs": [
        {
          "output_type": "execute_result",
          "data": {
            "text/plain": [
              "{10, 20}"
            ]
          },
          "metadata": {
            "tags": []
          },
          "execution_count": 19
        }
      ]
    },
    {
      "cell_type": "code",
      "metadata": {
        "id": "zZOf4oA6Epzy",
        "colab": {
          "base_uri": "https://localhost:8080/",
          "height": 34
        },
        "outputId": "ad627950-a2d6-40b7-9b69-37eba478f243"
      },
      "source": [
        "alunos1 ^ alunos2"
      ],
      "execution_count": null,
      "outputs": [
        {
          "output_type": "execute_result",
          "data": {
            "text/plain": [
              "{10, 12, 20, 63}"
            ]
          },
          "metadata": {
            "tags": []
          },
          "execution_count": 21
        }
      ]
    },
    {
      "cell_type": "code",
      "metadata": {
        "id": "eIfYcGAVFH7n",
        "colab": {
          "base_uri": "https://localhost:8080/",
          "height": 34
        },
        "outputId": "49b69793-42e5-4eaf-c371-430f8019fb1b"
      },
      "source": [
        "drogrados={1,5,76,52,13,17}\n",
        "len(drogrados)\n"
      ],
      "execution_count": null,
      "outputs": [
        {
          "output_type": "execute_result",
          "data": {
            "text/plain": [
              "6"
            ]
          },
          "metadata": {
            "tags": []
          },
          "execution_count": 22
        }
      ]
    },
    {
      "cell_type": "code",
      "metadata": {
        "id": "6mG8ucbLGHCF",
        "colab": {
          "base_uri": "https://localhost:8080/",
          "height": 34
        },
        "outputId": "05d6c7ca-4816-4607-e1b9-3351a591c54e"
      },
      "source": [
        "drogrados.add(13)\n",
        "print(drogrados)"
      ],
      "execution_count": null,
      "outputs": [
        {
          "output_type": "stream",
          "text": [
            "{1, 5, 76, 13, 17, 52}\n"
          ],
          "name": "stdout"
        }
      ]
    },
    {
      "cell_type": "code",
      "metadata": {
        "id": "NFz692X2GQ76",
        "colab": {
          "base_uri": "https://localhost:8080/",
          "height": 34
        },
        "outputId": "b2338e9d-56ac-498d-9c43-73a893504f5a"
      },
      "source": [
        "drogrados.add(86)\n",
        "print(drogrados)"
      ],
      "execution_count": null,
      "outputs": [
        {
          "output_type": "stream",
          "text": [
            "{1, 5, 76, 13, 17, 52, 86}\n"
          ],
          "name": "stdout"
        }
      ]
    },
    {
      "cell_type": "code",
      "metadata": {
        "id": "-CE5_bO-GbbR",
        "colab": {
          "base_uri": "https://localhost:8080/",
          "height": 34
        },
        "outputId": "82bbcf65-7cc3-4ea0-b37c-2cf330023e1b"
      },
      "source": [
        "usuarios=frozenset(drogrados)\n",
        "print(usuarios)"
      ],
      "execution_count": null,
      "outputs": [
        {
          "output_type": "stream",
          "text": [
            "frozenset({1, 17, 52, 5, 86, 76, 13})\n"
          ],
          "name": "stdout"
        }
      ]
    },
    {
      "cell_type": "code",
      "metadata": {
        "id": "G8irvcrhGuSr",
        "colab": {
          "base_uri": "https://localhost:8080/",
          "height": 34
        },
        "outputId": "2e820363-d851-49de-fd80-24ae975aa983"
      },
      "source": [
        "meu_texto=\"Foda-se vadia puta\"\n",
        "set(meu_texto.split())"
      ],
      "execution_count": null,
      "outputs": [
        {
          "output_type": "execute_result",
          "data": {
            "text/plain": [
              "{'Foda-se', 'puta', 'vadia'}"
            ]
          },
          "metadata": {
            "tags": []
          },
          "execution_count": 34
        }
      ]
    },
    {
      "cell_type": "markdown",
      "metadata": {
        "id": "rLgUCLQVIk96"
      },
      "source": [
        "## Dados mapeados"
      ]
    },
    {
      "cell_type": "code",
      "metadata": {
        "id": "BjiWR9siIr-x",
        "colab": {
          "base_uri": "https://localhost:8080/",
          "height": 34
        },
        "outputId": "16df659f-f674-4c18-9a69-e46429b1fd47"
      },
      "source": [
        "dic={\"Felipe\": 1, \"Vivi\":2,\"Pantera\":3}\n",
        "dic[\"Felipe\"]"
      ],
      "execution_count": null,
      "outputs": [
        {
          "output_type": "execute_result",
          "data": {
            "text/plain": [
              "1"
            ]
          },
          "metadata": {
            "tags": []
          },
          "execution_count": 37
        }
      ]
    },
    {
      "cell_type": "code",
      "metadata": {
        "id": "UBT7qEijJEfz",
        "colab": {
          "base_uri": "https://localhost:8080/",
          "height": 34
        },
        "outputId": "c0a0bddf-cf22-4ff2-a6a2-29b1d925ee20"
      },
      "source": [
        "dic['Vivi']"
      ],
      "execution_count": null,
      "outputs": [
        {
          "output_type": "execute_result",
          "data": {
            "text/plain": [
              "2"
            ]
          },
          "metadata": {
            "tags": []
          },
          "execution_count": 40
        }
      ]
    },
    {
      "cell_type": "code",
      "metadata": {
        "id": "w8W_ka53Jb7_",
        "colab": {
          "base_uri": "https://localhost:8080/",
          "height": 34
        },
        "outputId": "2f7345a6-f611-41ce-b498-e782b4f79da4"
      },
      "source": [
        "dic['Felipe']=100\n",
        "dic"
      ],
      "execution_count": null,
      "outputs": [
        {
          "output_type": "execute_result",
          "data": {
            "text/plain": [
              "{'Felipe': 100, 'Pantera': 3, 'Vivi': 2}"
            ]
          },
          "metadata": {
            "tags": []
          },
          "execution_count": 42
        }
      ]
    },
    {
      "cell_type": "code",
      "metadata": {
        "id": "1maj5WqKJveb",
        "colab": {
          "base_uri": "https://localhost:8080/",
          "height": 34
        },
        "outputId": "ca36c095-53c3-467e-bf7e-5bd8d203df19"
      },
      "source": [
        "del dic [\"Pantera\"]\n",
        "dic"
      ],
      "execution_count": null,
      "outputs": [
        {
          "output_type": "execute_result",
          "data": {
            "text/plain": [
              "{'Felipe': 100, 'Vivi': 2}"
            ]
          },
          "metadata": {
            "tags": []
          },
          "execution_count": 43
        }
      ]
    },
    {
      "cell_type": "code",
      "metadata": {
        "id": "32K9Wc2aJ5mX",
        "colab": {
          "base_uri": "https://localhost:8080/",
          "height": 50
        },
        "outputId": "24d40ec5-d391-4fac-d9c1-edc2c2f648f4"
      },
      "source": [
        "for ele in dic:\n",
        "  print(ele)"
      ],
      "execution_count": null,
      "outputs": [
        {
          "output_type": "stream",
          "text": [
            "Felipe\n",
            "Vivi\n"
          ],
          "name": "stdout"
        }
      ]
    },
    {
      "cell_type": "code",
      "metadata": {
        "id": "Rt_9mQAFKFOy",
        "colab": {
          "base_uri": "https://localhost:8080/",
          "height": 50
        },
        "outputId": "b66b8c52-37eb-4205-ab1e-caed7cacad15"
      },
      "source": [
        "for ele in dic.keys():\n",
        "  print(ele)"
      ],
      "execution_count": null,
      "outputs": [
        {
          "output_type": "stream",
          "text": [
            "Felipe\n",
            "Vivi\n"
          ],
          "name": "stdout"
        }
      ]
    },
    {
      "cell_type": "code",
      "metadata": {
        "id": "JuJsEPUpKVrR",
        "colab": {
          "base_uri": "https://localhost:8080/",
          "height": 50
        },
        "outputId": "f0ab108a-9c47-4b82-969b-0215ac4e47cf"
      },
      "source": [
        "for ele in dic.values():\n",
        "  print(ele)"
      ],
      "execution_count": null,
      "outputs": [
        {
          "output_type": "stream",
          "text": [
            "100\n",
            "2\n"
          ],
          "name": "stdout"
        }
      ]
    },
    {
      "cell_type": "code",
      "metadata": {
        "id": "cqL-D-S5KdF6",
        "colab": {
          "base_uri": "https://localhost:8080/",
          "height": 50
        },
        "outputId": "1927f49d-abcc-416e-839e-9b06e62a9164"
      },
      "source": [
        "for ele in dic.items():\n",
        "  print(ele)"
      ],
      "execution_count": null,
      "outputs": [
        {
          "output_type": "stream",
          "text": [
            "('Felipe', 100)\n",
            "('Vivi', 2)\n"
          ],
          "name": "stdout"
        }
      ]
    },
    {
      "cell_type": "code",
      "metadata": {
        "id": "9bBcsLtHKxW9",
        "colab": {
          "base_uri": "https://localhost:8080/",
          "height": 50
        },
        "outputId": "9dadafb6-08c8-47c4-ef17-6eb1f2df408e"
      },
      "source": [
        "for chave,valor in dic.items():\n",
        "  print(chave,'=',valor)"
      ],
      "execution_count": null,
      "outputs": [
        {
          "output_type": "stream",
          "text": [
            "Felipe = 100\n",
            "Vivi = 2\n"
          ],
          "name": "stdout"
        }
      ]
    },
    {
      "cell_type": "code",
      "metadata": {
        "id": "0l7rzicnLFJE",
        "colab": {
          "base_uri": "https://localhost:8080/",
          "height": 34
        },
        "outputId": "1612652f-aa72-4fd0-d8f9-cdaa50888b20"
      },
      "source": [
        "['palavra {}'.format(chave) for chave in dic.keys()]"
      ],
      "execution_count": null,
      "outputs": [
        {
          "output_type": "execute_result",
          "data": {
            "text/plain": [
              "['palavra Felipe', 'palavra Vivi']"
            ]
          },
          "metadata": {
            "tags": []
          },
          "execution_count": 54
        }
      ]
    },
    {
      "cell_type": "code",
      "metadata": {
        "id": "80Lu3_n2L4Q1",
        "colab": {
          "base_uri": "https://localhost:8080/",
          "height": 151
        },
        "outputId": "bb104799-346d-4194-bbb6-69cba26e6c02"
      },
      "source": [
        "meu_texto='meu nome e Felipe e o nome do meu cachorro e Pantera'\n",
        "texto_limpo=meu_texto.lower()\n",
        "\n",
        "apareceu={}\n",
        "\n",
        "for palavra in texto_limpo.split():\n",
        "   ate_agora=apareceu.get(palavra,0)\n",
        "   apareceu[palavra]=ate_agora+1\n",
        "apareceu"
      ],
      "execution_count": null,
      "outputs": [
        {
          "output_type": "execute_result",
          "data": {
            "text/plain": [
              "{'cachorro': 1,\n",
              " 'do': 1,\n",
              " 'e': 3,\n",
              " 'felipe': 1,\n",
              " 'meu': 2,\n",
              " 'nome': 2,\n",
              " 'o': 1,\n",
              " 'pantera': 1}"
            ]
          },
          "metadata": {
            "tags": []
          },
          "execution_count": 66
        }
      ]
    },
    {
      "cell_type": "code",
      "metadata": {
        "id": "DmI_DmiANor5",
        "colab": {
          "base_uri": "https://localhost:8080/",
          "height": 168
        },
        "outputId": "9d058cfa-cd62-487d-d44f-87e8c2625a27"
      },
      "source": [
        "from collections import defaultdict\n",
        "\n",
        "meu_texto='meu nome e Felipe e o nome do meu cachorro e Pantera'\n",
        "texto_limpo=meu_texto.lower()\n",
        "\n",
        "apareceu=defaultdict(int)\n",
        "\n",
        "for palavra in texto_limpo.split():\n",
        "   ate_agora=apareceu[palavra]\n",
        "   apareceu[palavra]=ate_agora+1\n",
        "apareceu\n"
      ],
      "execution_count": null,
      "outputs": [
        {
          "output_type": "execute_result",
          "data": {
            "text/plain": [
              "defaultdict(int,\n",
              "            {'cachorro': 1,\n",
              "             'do': 1,\n",
              "             'e': 3,\n",
              "             'felipe': 1,\n",
              "             'meu': 2,\n",
              "             'nome': 2,\n",
              "             'o': 1,\n",
              "             'pantera': 1})"
            ]
          },
          "metadata": {
            "tags": []
          },
          "execution_count": 67
        }
      ]
    },
    {
      "cell_type": "code",
      "metadata": {
        "id": "Od4R9U-HQKId",
        "colab": {
          "base_uri": "https://localhost:8080/",
          "height": 168
        },
        "outputId": "3e813a2c-7ed6-4fbb-9aad-c1af201af96b"
      },
      "source": [
        "apareceu=defaultdict(int)\n",
        "for palavra in texto_limpo.split():\n",
        "   apareceu[palavra]+=ate_agora+1\n",
        "apareceu"
      ],
      "execution_count": null,
      "outputs": [
        {
          "output_type": "execute_result",
          "data": {
            "text/plain": [
              "defaultdict(int,\n",
              "            {'cachorro': 1,\n",
              "             'do': 1,\n",
              "             'e': 3,\n",
              "             'felipe': 1,\n",
              "             'meu': 2,\n",
              "             'nome': 2,\n",
              "             'o': 1,\n",
              "             'pantera': 1})"
            ]
          },
          "metadata": {
            "tags": []
          },
          "execution_count": 68
        }
      ]
    },
    {
      "cell_type": "code",
      "metadata": {
        "id": "DVRsIs02Qn-L"
      },
      "source": [
        "class Conta:\n",
        "  def __init__(self):\n",
        "    print('Criando uma conta')"
      ],
      "execution_count": null,
      "outputs": []
    },
    {
      "cell_type": "code",
      "metadata": {
        "id": "uQElbmpJRaAZ",
        "colab": {
          "base_uri": "https://localhost:8080/",
          "height": 50
        },
        "outputId": "d7a6d3f1-05f0-44d2-ccfb-86cc384ee1dc"
      },
      "source": [
        "contas=defaultdict(Conta)\n",
        "contas[10]"
      ],
      "execution_count": null,
      "outputs": [
        {
          "output_type": "stream",
          "text": [
            "Imprimindo uma conta\n"
          ],
          "name": "stdout"
        },
        {
          "output_type": "execute_result",
          "data": {
            "text/plain": [
              "<__main__.Conta at 0x7f27bad4e390>"
            ]
          },
          "metadata": {
            "tags": []
          },
          "execution_count": 72
        }
      ]
    },
    {
      "cell_type": "code",
      "metadata": {
        "id": "dqMvamqrRmFS",
        "colab": {
          "base_uri": "https://localhost:8080/",
          "height": 151
        },
        "outputId": "aa2905ad-1f2a-4d84-a8f2-eeda720d4393"
      },
      "source": [
        "from collections import Counter\n",
        "\n",
        "apareceu=Counter()\n",
        "for palavra in texto_limpo.split():\n",
        "   apareceu[palavra]+=ate_agora+1\n",
        "apareceu"
      ],
      "execution_count": null,
      "outputs": [
        {
          "output_type": "execute_result",
          "data": {
            "text/plain": [
              "Counter({'cachorro': 1,\n",
              "         'do': 1,\n",
              "         'e': 3,\n",
              "         'felipe': 1,\n",
              "         'meu': 2,\n",
              "         'nome': 2,\n",
              "         'o': 1,\n",
              "         'pantera': 1})"
            ]
          },
          "metadata": {
            "tags": []
          },
          "execution_count": 73
        }
      ]
    },
    {
      "cell_type": "code",
      "metadata": {
        "id": "XaBgpCjxSLYW",
        "colab": {
          "base_uri": "https://localhost:8080/",
          "height": 151
        },
        "outputId": "12b6df7a-d0e9-4bb5-ba9a-263a0e4fb780"
      },
      "source": [
        "from collections import Counter\n",
        "apareceu=Counter(texto_limpo.split())\n",
        "apareceu"
      ],
      "execution_count": null,
      "outputs": [
        {
          "output_type": "execute_result",
          "data": {
            "text/plain": [
              "Counter({'cachorro': 1,\n",
              "         'do': 1,\n",
              "         'e': 3,\n",
              "         'felipe': 1,\n",
              "         'meu': 2,\n",
              "         'nome': 2,\n",
              "         'o': 1,\n",
              "         'pantera': 1})"
            ]
          },
          "metadata": {
            "tags": []
          },
          "execution_count": 75
        }
      ]
    },
    {
      "cell_type": "markdown",
      "metadata": {
        "id": "93RNP0PQuRz6"
      },
      "source": [
        "## Testando multiplas coleções"
      ]
    },
    {
      "cell_type": "code",
      "metadata": {
        "id": "JEUlQOKuua8E",
        "colab": {
          "base_uri": "https://localhost:8080/",
          "height": 168
        },
        "outputId": "dbaf9023-fe8d-4891-ed9e-a3fd0c7468d8"
      },
      "source": [
        "texto1= ''' \n",
        "A Justiça do Rio suspendeu nesta quinta-feira a realização do show da \n",
        "cantora gospel Anayle Sullivan, que seria a primeira a cantar no palco \n",
        "principal do réveillon de Copacabana este ano, e também de qualquer \n",
        "outro artista religioso na festa. A decisão judicial considera que \n",
        "há violação aos princípios da laicidade do Estado e da liberdade \n",
        "religiosa na escolha da artista. A ação civil pública foi ajuizada \n",
        "pela Associação Brasileira de Ateus e Agnósticos (Atea)\n",
        "'''\n",
        "print(texto1)"
      ],
      "execution_count": null,
      "outputs": [
        {
          "output_type": "stream",
          "text": [
            " \n",
            "A Justiça do Rio suspendeu nesta quinta-feira a realização do show da \n",
            "cantora gospel Anayle Sullivan, que seria a primeira a cantar no palco \n",
            "principal do réveillon de Copacabana este ano, e também de qualquer \n",
            "outro artista religioso na festa. A decisão judicial considera que \n",
            "há violação aos princípios da laicidade do Estado e da liberdade \n",
            "religiosa na escolha da artista. A ação civil pública foi ajuizada \n",
            "pela Associação Brasileira de Ateus e Agnósticos (Atea)\n",
            "\n"
          ],
          "name": "stdout"
        }
      ]
    },
    {
      "cell_type": "code",
      "metadata": {
        "id": "xKfJkaZmu6IA",
        "colab": {
          "base_uri": "https://localhost:8080/",
          "height": 134
        },
        "outputId": "c5758b1f-6574-426a-ce22-b1bfa26e8746"
      },
      "source": [
        "texto2='''\n",
        "A noção de que a Terra é redonda indica que o formato do globo terrestre \n",
        "é esférico, em oposição a ideia da Terra plana. O paradigma da Terra \n",
        "esférica apareceu na filosofia grega no século VI a.C. com Pitágoras, \n",
        "embora a maioria dos filósofos pré-socráticos defendesse o modelo da \n",
        "Terra plana\n",
        "'''\n",
        "\n",
        "print(texto2)"
      ],
      "execution_count": null,
      "outputs": [
        {
          "output_type": "stream",
          "text": [
            "\n",
            "A noção de que a Terra é redonda indica que o formato do globo terrestre \n",
            "é esférico, em oposição a ideia da Terra plana. O paradigma da Terra \n",
            "esférica apareceu na filosofia grega no século VI a.C. com Pitágoras, \n",
            "embora a maioria dos filósofos pré-socráticos defendesse o modelo da \n",
            "Terra plana\n",
            "\n"
          ],
          "name": "stdout"
        }
      ]
    },
    {
      "cell_type": "code",
      "metadata": {
        "id": "hPowTD5WvktA",
        "colab": {
          "base_uri": "https://localhost:8080/",
          "height": 655
        },
        "outputId": "eebd984a-8c73-4b7d-cc64-d674e37609e5"
      },
      "source": [
        "aparece=Counter(texto1.lower())\n",
        "total_carat=sum(aparece.values())\n",
        "\n",
        "for letra,freq in aparece.items():\n",
        "  tupla=(letra,freq/total_carat)\n",
        "  print(tupla)"
      ],
      "execution_count": null,
      "outputs": [
        {
          "output_type": "stream",
          "text": [
            "(' ', 0.15889830508474576)\n",
            "('\\n', 0.01694915254237288)\n",
            "('a', 0.13771186440677965)\n",
            "('j', 0.006355932203389831)\n",
            "('u', 0.02754237288135593)\n",
            "('s', 0.05508474576271186)\n",
            "('t', 0.036016949152542374)\n",
            "('i', 0.07838983050847458)\n",
            "('ç', 0.01059322033898305)\n",
            "('d', 0.04449152542372881)\n",
            "('o', 0.06779661016949153)\n",
            "('r', 0.04449152542372881)\n",
            "('p', 0.023305084745762712)\n",
            "('e', 0.07415254237288135)\n",
            "('n', 0.036016949152542374)\n",
            "('q', 0.01059322033898305)\n",
            "('-', 0.00211864406779661)\n",
            "('f', 0.006355932203389831)\n",
            "('l', 0.04449152542372881)\n",
            "('z', 0.00423728813559322)\n",
            "('ã', 0.01059322033898305)\n",
            "('h', 0.006355932203389831)\n",
            "('w', 0.00211864406779661)\n",
            "('c', 0.03389830508474576)\n",
            "('g', 0.00847457627118644)\n",
            "('y', 0.00211864406779661)\n",
            "('v', 0.00847457627118644)\n",
            "(',', 0.00423728813559322)\n",
            "('m', 0.006355932203389831)\n",
            "('é', 0.00423728813559322)\n",
            "('b', 0.01059322033898305)\n",
            "('.', 0.00423728813559322)\n",
            "('á', 0.00211864406779661)\n",
            "('í', 0.00211864406779661)\n",
            "('ú', 0.00211864406779661)\n",
            "('ó', 0.00211864406779661)\n",
            "('(', 0.00211864406779661)\n",
            "(')', 0.00211864406779661)\n"
          ],
          "name": "stdout"
        }
      ]
    },
    {
      "cell_type": "code",
      "metadata": {
        "id": "Y0LyNuq4v9Ia"
      },
      "source": [
        "def freq_letras(texto):\n",
        "  aparicoes = Counter(texto.lower())\n",
        "  total_de_caracteres = sum(aparicoes.values())\n",
        "\n",
        "  proporcoes = [(letra, frequencia / total_de_caracteres) for letra, frequencia in aparicoes.items()]\n",
        "  proporcoes = Counter(dict(proporcoes))\n",
        "  mais_comuns = proporcoes.most_common(10)\n",
        "  for caractere, proporcao in mais_comuns:\n",
        "    print(\"{} => {:.2f}%\".format(caractere, proporcao * 100))"
      ],
      "execution_count": null,
      "outputs": []
    },
    {
      "cell_type": "code",
      "metadata": {
        "id": "VG1b6dZAyZ-z",
        "colab": {
          "base_uri": "https://localhost:8080/",
          "height": 185
        },
        "outputId": "b0956db5-247c-4d90-afec-1dba2068568b"
      },
      "source": [
        "freq_letras(texto1)"
      ],
      "execution_count": null,
      "outputs": [
        {
          "output_type": "stream",
          "text": [
            "  => 15.89%\n",
            "a => 13.77%\n",
            "i => 7.84%\n",
            "e => 7.42%\n",
            "o => 6.78%\n",
            "s => 5.51%\n",
            "d => 4.45%\n",
            "r => 4.45%\n",
            "l => 4.45%\n",
            "t => 3.60%\n"
          ],
          "name": "stdout"
        }
      ]
    },
    {
      "cell_type": "code",
      "metadata": {
        "id": "4wQ9HDmi3bOJ",
        "colab": {
          "base_uri": "https://localhost:8080/",
          "height": 185
        },
        "outputId": "33cecac5-7ef7-45ac-d91e-78e2054804f8"
      },
      "source": [
        "freq_letras(texto2)"
      ],
      "execution_count": null,
      "outputs": [
        {
          "output_type": "stream",
          "text": [
            "  => 16.78%\n",
            "a => 11.07%\n",
            "o => 10.07%\n",
            "e => 8.05%\n",
            "r => 7.72%\n",
            "i => 5.37%\n",
            "d => 4.70%\n",
            "s => 4.70%\n",
            "t => 3.02%\n",
            "c => 3.02%\n"
          ],
          "name": "stdout"
        }
      ]
    },
    {
      "cell_type": "code",
      "metadata": {
        "id": "N3jdOtDf4abZ"
      },
      "source": [
        ""
      ],
      "execution_count": null,
      "outputs": []
    }
  ]
}