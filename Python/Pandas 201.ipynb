{
  "nbformat": 4,
  "nbformat_minor": 0,
  "metadata": {
    "colab": {
      "name": "Pandas - Manipulção de Tabelas.ipynb",
      "provenance": [],
      "collapsed_sections": [
        "CV5cnpY6E6qe",
        "y_QkuSVzF3sd",
        "XFMWKE0-Hhdl",
        "ztgSgy5kIiXX",
        "zn3UthjBJypK",
        "xYa79fH1LUc-",
        "J0d4-AabLvQt",
        "Rzu9OwRBOFc1",
        "3OCCnCmnQAgu",
        "xshpNffbkaW6",
        "ASzGG-cuoIpj",
        "uU0mbcqYsYUQ",
        "gNiKm_iUxMPe",
        "NZjI6mWFxRxN",
        "CLjyHX_lzGhs",
        "KJF-oPQf09fK",
        "qd28ywpn2dEM",
        "4pMrTlp98DAE"
      ],
      "toc_visible": true
    },
    "kernelspec": {
      "name": "python3",
      "display_name": "Python 3"
    }
  },
  "cells": [
    {
      "cell_type": "markdown",
      "metadata": {
        "id": "CV5cnpY6E6qe"
      },
      "source": [
        "# AULA 1"
      ]
    },
    {
      "cell_type": "markdown",
      "metadata": {
        "id": "y_QkuSVzF3sd"
      },
      "source": [
        "## 1. Importar base de dados json do API do IBGE"
      ]
    },
    {
      "cell_type": "code",
      "metadata": {
        "id": "lAT8obY_EFQH"
      },
      "source": [
        "import pandas as pd \n",
        "\n",
        "#Acesssar API\n",
        "uri_f='https://servicodados.ibge.gov.br/api/v1/censos/nomes/ranking?qtd=200&sexo=f'\n",
        "uri_m='https://servicodados.ibge.gov.br/api/v1/censos/nomes/ranking?qtd=200&sexo=m'\n",
        "\n",
        "#Lear banco de dados\n",
        "nomes_f=pd.read_json(uri_f)\n",
        "nomes_m=pd.read_json(uri_m)"
      ],
      "execution_count": null,
      "outputs": []
    },
    {
      "cell_type": "code",
      "metadata": {
        "id": "fMwvC0XhFmKX",
        "colab": {
          "base_uri": "https://localhost:8080/",
          "height": 238
        },
        "outputId": "72cbc546-3576-4135-8131-607ebc3bc25d"
      },
      "source": [
        "print('Nomes femininos:', len(nomes_f),'\\n' )\n",
        "nomes_f.head(5)"
      ],
      "execution_count": null,
      "outputs": [
        {
          "output_type": "stream",
          "text": [
            "Nomes femininos: 200 \n",
            "\n"
          ],
          "name": "stdout"
        },
        {
          "output_type": "execute_result",
          "data": {
            "text/html": [
              "<div>\n",
              "<style scoped>\n",
              "    .dataframe tbody tr th:only-of-type {\n",
              "        vertical-align: middle;\n",
              "    }\n",
              "\n",
              "    .dataframe tbody tr th {\n",
              "        vertical-align: top;\n",
              "    }\n",
              "\n",
              "    .dataframe thead th {\n",
              "        text-align: right;\n",
              "    }\n",
              "</style>\n",
              "<table border=\"1\" class=\"dataframe\">\n",
              "  <thead>\n",
              "    <tr style=\"text-align: right;\">\n",
              "      <th></th>\n",
              "      <th>nome</th>\n",
              "      <th>regiao</th>\n",
              "      <th>freq</th>\n",
              "      <th>rank</th>\n",
              "      <th>sexo</th>\n",
              "    </tr>\n",
              "  </thead>\n",
              "  <tbody>\n",
              "    <tr>\n",
              "      <th>0</th>\n",
              "      <td>MARIA</td>\n",
              "      <td>0</td>\n",
              "      <td>11694738</td>\n",
              "      <td>1</td>\n",
              "      <td>F</td>\n",
              "    </tr>\n",
              "    <tr>\n",
              "      <th>1</th>\n",
              "      <td>ANA</td>\n",
              "      <td>0</td>\n",
              "      <td>3079729</td>\n",
              "      <td>2</td>\n",
              "      <td>F</td>\n",
              "    </tr>\n",
              "    <tr>\n",
              "      <th>2</th>\n",
              "      <td>FRANCISCA</td>\n",
              "      <td>0</td>\n",
              "      <td>721637</td>\n",
              "      <td>3</td>\n",
              "      <td>F</td>\n",
              "    </tr>\n",
              "    <tr>\n",
              "      <th>3</th>\n",
              "      <td>ANTONIA</td>\n",
              "      <td>0</td>\n",
              "      <td>588783</td>\n",
              "      <td>4</td>\n",
              "      <td>F</td>\n",
              "    </tr>\n",
              "    <tr>\n",
              "      <th>4</th>\n",
              "      <td>ADRIANA</td>\n",
              "      <td>0</td>\n",
              "      <td>565621</td>\n",
              "      <td>5</td>\n",
              "      <td>F</td>\n",
              "    </tr>\n",
              "  </tbody>\n",
              "</table>\n",
              "</div>"
            ],
            "text/plain": [
              "        nome  regiao      freq  rank sexo\n",
              "0      MARIA       0  11694738     1    F\n",
              "1        ANA       0   3079729     2    F\n",
              "2  FRANCISCA       0    721637     3    F\n",
              "3    ANTONIA       0    588783     4    F\n",
              "4    ADRIANA       0    565621     5    F"
            ]
          },
          "metadata": {
            "tags": []
          },
          "execution_count": 2
        }
      ]
    },
    {
      "cell_type": "code",
      "metadata": {
        "id": "I7xS0p6FGuUg",
        "colab": {
          "base_uri": "https://localhost:8080/",
          "height": 238
        },
        "outputId": "dd02f08a-11f1-4c2b-bd01-5edaa4fb49a0"
      },
      "source": [
        "print('Nomes masculinos:', len(nomes_m),'\\n' )\n",
        "nomes_m.head(5)"
      ],
      "execution_count": null,
      "outputs": [
        {
          "output_type": "stream",
          "text": [
            "Nomes masculinos: 200 \n",
            "\n"
          ],
          "name": "stdout"
        },
        {
          "output_type": "execute_result",
          "data": {
            "text/html": [
              "<div>\n",
              "<style scoped>\n",
              "    .dataframe tbody tr th:only-of-type {\n",
              "        vertical-align: middle;\n",
              "    }\n",
              "\n",
              "    .dataframe tbody tr th {\n",
              "        vertical-align: top;\n",
              "    }\n",
              "\n",
              "    .dataframe thead th {\n",
              "        text-align: right;\n",
              "    }\n",
              "</style>\n",
              "<table border=\"1\" class=\"dataframe\">\n",
              "  <thead>\n",
              "    <tr style=\"text-align: right;\">\n",
              "      <th></th>\n",
              "      <th>nome</th>\n",
              "      <th>regiao</th>\n",
              "      <th>freq</th>\n",
              "      <th>rank</th>\n",
              "      <th>sexo</th>\n",
              "    </tr>\n",
              "  </thead>\n",
              "  <tbody>\n",
              "    <tr>\n",
              "      <th>0</th>\n",
              "      <td>JOSE</td>\n",
              "      <td>0</td>\n",
              "      <td>5732508</td>\n",
              "      <td>1</td>\n",
              "      <td>M</td>\n",
              "    </tr>\n",
              "    <tr>\n",
              "      <th>1</th>\n",
              "      <td>JOAO</td>\n",
              "      <td>0</td>\n",
              "      <td>2971935</td>\n",
              "      <td>2</td>\n",
              "      <td>M</td>\n",
              "    </tr>\n",
              "    <tr>\n",
              "      <th>2</th>\n",
              "      <td>ANTONIO</td>\n",
              "      <td>0</td>\n",
              "      <td>2567494</td>\n",
              "      <td>3</td>\n",
              "      <td>M</td>\n",
              "    </tr>\n",
              "    <tr>\n",
              "      <th>3</th>\n",
              "      <td>FRANCISCO</td>\n",
              "      <td>0</td>\n",
              "      <td>1765197</td>\n",
              "      <td>4</td>\n",
              "      <td>M</td>\n",
              "    </tr>\n",
              "    <tr>\n",
              "      <th>4</th>\n",
              "      <td>CARLOS</td>\n",
              "      <td>0</td>\n",
              "      <td>1483121</td>\n",
              "      <td>5</td>\n",
              "      <td>M</td>\n",
              "    </tr>\n",
              "  </tbody>\n",
              "</table>\n",
              "</div>"
            ],
            "text/plain": [
              "        nome  regiao     freq  rank sexo\n",
              "0       JOSE       0  5732508     1    M\n",
              "1       JOAO       0  2971935     2    M\n",
              "2    ANTONIO       0  2567494     3    M\n",
              "3  FRANCISCO       0  1765197     4    M\n",
              "4     CARLOS       0  1483121     5    M"
            ]
          },
          "metadata": {
            "tags": []
          },
          "execution_count": 3
        }
      ]
    },
    {
      "cell_type": "markdown",
      "metadata": {
        "id": "XFMWKE0-Hhdl"
      },
      "source": [
        "## 2. Concatenar tabelas de nomes "
      ]
    },
    {
      "cell_type": "code",
      "metadata": {
        "id": "mg4EEQi5GwPg",
        "colab": {
          "base_uri": "https://localhost:8080/",
          "height": 393
        },
        "outputId": "3a5a83c0-8800-42ee-d004-31b6a8f7206f"
      },
      "source": [
        "frames=[nomes_f,nomes_m]\n",
        "nomes=pd.concat(frames)['nome'].to_frame()\n",
        "print(\"Total de nomes :\", len(nomes),'\\n')\n",
        "nomes.sample(10)"
      ],
      "execution_count": null,
      "outputs": [
        {
          "output_type": "stream",
          "text": [
            "Total de nomes : 400 \n",
            "\n"
          ],
          "name": "stdout"
        },
        {
          "output_type": "execute_result",
          "data": {
            "text/html": [
              "<div>\n",
              "<style scoped>\n",
              "    .dataframe tbody tr th:only-of-type {\n",
              "        vertical-align: middle;\n",
              "    }\n",
              "\n",
              "    .dataframe tbody tr th {\n",
              "        vertical-align: top;\n",
              "    }\n",
              "\n",
              "    .dataframe thead th {\n",
              "        text-align: right;\n",
              "    }\n",
              "</style>\n",
              "<table border=\"1\" class=\"dataframe\">\n",
              "  <thead>\n",
              "    <tr style=\"text-align: right;\">\n",
              "      <th></th>\n",
              "      <th>nome</th>\n",
              "    </tr>\n",
              "  </thead>\n",
              "  <tbody>\n",
              "    <tr>\n",
              "      <th>29</th>\n",
              "      <td>RENATA</td>\n",
              "    </tr>\n",
              "    <tr>\n",
              "      <th>93</th>\n",
              "      <td>ADILSON</td>\n",
              "    </tr>\n",
              "    <tr>\n",
              "      <th>49</th>\n",
              "      <td>ANGELA</td>\n",
              "    </tr>\n",
              "    <tr>\n",
              "      <th>58</th>\n",
              "      <td>DAVI</td>\n",
              "    </tr>\n",
              "    <tr>\n",
              "      <th>114</th>\n",
              "      <td>ELZA</td>\n",
              "    </tr>\n",
              "    <tr>\n",
              "      <th>163</th>\n",
              "      <td>NIVALDO</td>\n",
              "    </tr>\n",
              "    <tr>\n",
              "      <th>199</th>\n",
              "      <td>NILZA</td>\n",
              "    </tr>\n",
              "    <tr>\n",
              "      <th>90</th>\n",
              "      <td>FABIANO</td>\n",
              "    </tr>\n",
              "    <tr>\n",
              "      <th>100</th>\n",
              "      <td>ROSELI</td>\n",
              "    </tr>\n",
              "    <tr>\n",
              "      <th>199</th>\n",
              "      <td>GEOVANE</td>\n",
              "    </tr>\n",
              "  </tbody>\n",
              "</table>\n",
              "</div>"
            ],
            "text/plain": [
              "        nome\n",
              "29    RENATA\n",
              "93   ADILSON\n",
              "49    ANGELA\n",
              "58      DAVI\n",
              "114     ELZA\n",
              "163  NIVALDO\n",
              "199    NILZA\n",
              "90   FABIANO\n",
              "100   ROSELI\n",
              "199  GEOVANE"
            ]
          },
          "metadata": {
            "tags": []
          },
          "execution_count": 4
        }
      ]
    },
    {
      "cell_type": "markdown",
      "metadata": {
        "id": "ztgSgy5kIiXX"
      },
      "source": [
        "## 3. Criar ID para os alunos"
      ]
    },
    {
      "cell_type": "code",
      "metadata": {
        "id": "68KFatMnH3YR",
        "colab": {
          "base_uri": "https://localhost:8080/"
        },
        "outputId": "1f3f387c-51b2-4d9d-ffc5-278d1634eed8"
      },
      "source": [
        "import numpy as np\n",
        "np.random.seed(42)\n",
        "total_alunos=len(nomes)\n",
        "\n",
        "#Atribuir nome aleatório (fixo) como ID\n",
        "nomes['id_aluno']=np.random.permutation(total_alunos)+1\n",
        "nomes.sample(5)"
      ],
      "execution_count": null,
      "outputs": [
        {
          "output_type": "execute_result",
          "data": {
            "text/html": [
              "<div>\n",
              "<style scoped>\n",
              "    .dataframe tbody tr th:only-of-type {\n",
              "        vertical-align: middle;\n",
              "    }\n",
              "\n",
              "    .dataframe tbody tr th {\n",
              "        vertical-align: top;\n",
              "    }\n",
              "\n",
              "    .dataframe thead th {\n",
              "        text-align: right;\n",
              "    }\n",
              "</style>\n",
              "<table border=\"1\" class=\"dataframe\">\n",
              "  <thead>\n",
              "    <tr style=\"text-align: right;\">\n",
              "      <th></th>\n",
              "      <th>nome</th>\n",
              "      <th>id_aluno</th>\n",
              "    </tr>\n",
              "  </thead>\n",
              "  <tbody>\n",
              "    <tr>\n",
              "      <th>85</th>\n",
              "      <td>FABRICIO</td>\n",
              "      <td>342</td>\n",
              "    </tr>\n",
              "    <tr>\n",
              "      <th>39</th>\n",
              "      <td>ROSA</td>\n",
              "      <td>142</td>\n",
              "    </tr>\n",
              "    <tr>\n",
              "      <th>11</th>\n",
              "      <td>GABRIEL</td>\n",
              "      <td>113</td>\n",
              "    </tr>\n",
              "    <tr>\n",
              "      <th>199</th>\n",
              "      <td>NILZA</td>\n",
              "      <td>303</td>\n",
              "    </tr>\n",
              "    <tr>\n",
              "      <th>35</th>\n",
              "      <td>ALEXANDRE</td>\n",
              "      <td>358</td>\n",
              "    </tr>\n",
              "  </tbody>\n",
              "</table>\n",
              "</div>"
            ],
            "text/plain": [
              "          nome  id_aluno\n",
              "85    FABRICIO       342\n",
              "39        ROSA       142\n",
              "11     GABRIEL       113\n",
              "199      NILZA       303\n",
              "35   ALEXANDRE       358"
            ]
          },
          "metadata": {
            "tags": []
          },
          "execution_count": 5
        }
      ]
    },
    {
      "cell_type": "markdown",
      "metadata": {
        "id": "zn3UthjBJypK"
      },
      "source": [
        "## 4. Criar e-mail"
      ]
    },
    {
      "cell_type": "code",
      "metadata": {
        "id": "09JVLOa3JyC1",
        "colab": {
          "base_uri": "https://localhost:8080/",
          "height": 204
        },
        "outputId": "1fdce696-e6db-4f52-ae5b-a3f8781e26d2"
      },
      "source": [
        "dominios=['@gmail.com','@coc.ufrj.br']\n",
        "#Selecionar dominio por escilha aleatória \n",
        "nomes['dominio']=np.random.choice(dominios,total_alunos)\n",
        "nomes.sample(5)"
      ],
      "execution_count": null,
      "outputs": [
        {
          "output_type": "execute_result",
          "data": {
            "text/html": [
              "<div>\n",
              "<style scoped>\n",
              "    .dataframe tbody tr th:only-of-type {\n",
              "        vertical-align: middle;\n",
              "    }\n",
              "\n",
              "    .dataframe tbody tr th {\n",
              "        vertical-align: top;\n",
              "    }\n",
              "\n",
              "    .dataframe thead th {\n",
              "        text-align: right;\n",
              "    }\n",
              "</style>\n",
              "<table border=\"1\" class=\"dataframe\">\n",
              "  <thead>\n",
              "    <tr style=\"text-align: right;\">\n",
              "      <th></th>\n",
              "      <th>nome</th>\n",
              "      <th>id_aluno</th>\n",
              "      <th>dominio</th>\n",
              "    </tr>\n",
              "  </thead>\n",
              "  <tbody>\n",
              "    <tr>\n",
              "      <th>158</th>\n",
              "      <td>INGRID</td>\n",
              "      <td>317</td>\n",
              "      <td>@gmail.com</td>\n",
              "    </tr>\n",
              "    <tr>\n",
              "      <th>181</th>\n",
              "      <td>YURI</td>\n",
              "      <td>309</td>\n",
              "      <td>@gmail.com</td>\n",
              "    </tr>\n",
              "    <tr>\n",
              "      <th>5</th>\n",
              "      <td>JULIANA</td>\n",
              "      <td>85</td>\n",
              "      <td>@gmail.com</td>\n",
              "    </tr>\n",
              "    <tr>\n",
              "      <th>196</th>\n",
              "      <td>ARLINDO</td>\n",
              "      <td>107</td>\n",
              "      <td>@gmail.com</td>\n",
              "    </tr>\n",
              "    <tr>\n",
              "      <th>192</th>\n",
              "      <td>ZILDA</td>\n",
              "      <td>372</td>\n",
              "      <td>@coc.ufrj.br</td>\n",
              "    </tr>\n",
              "  </tbody>\n",
              "</table>\n",
              "</div>"
            ],
            "text/plain": [
              "        nome  id_aluno       dominio\n",
              "158   INGRID       317    @gmail.com\n",
              "181     YURI       309    @gmail.com\n",
              "5    JULIANA        85    @gmail.com\n",
              "196  ARLINDO       107    @gmail.com\n",
              "192    ZILDA       372  @coc.ufrj.br"
            ]
          },
          "metadata": {
            "tags": []
          },
          "execution_count": 6
        }
      ]
    },
    {
      "cell_type": "code",
      "metadata": {
        "id": "PHDwE3-DJaO2",
        "colab": {
          "base_uri": "https://localhost:8080/",
          "height": 204
        },
        "outputId": "595137a6-847e-417e-9151-56c7f3fcd97f"
      },
      "source": [
        "#Concatenar colunas\n",
        "nomes['email']=nomes.nome.str.cat(nomes.dominio).str.lower()\n",
        "nomes.sample(5)"
      ],
      "execution_count": null,
      "outputs": [
        {
          "output_type": "execute_result",
          "data": {
            "text/html": [
              "<div>\n",
              "<style scoped>\n",
              "    .dataframe tbody tr th:only-of-type {\n",
              "        vertical-align: middle;\n",
              "    }\n",
              "\n",
              "    .dataframe tbody tr th {\n",
              "        vertical-align: top;\n",
              "    }\n",
              "\n",
              "    .dataframe thead th {\n",
              "        text-align: right;\n",
              "    }\n",
              "</style>\n",
              "<table border=\"1\" class=\"dataframe\">\n",
              "  <thead>\n",
              "    <tr style=\"text-align: right;\">\n",
              "      <th></th>\n",
              "      <th>nome</th>\n",
              "      <th>id_aluno</th>\n",
              "      <th>dominio</th>\n",
              "      <th>email</th>\n",
              "    </tr>\n",
              "  </thead>\n",
              "  <tbody>\n",
              "    <tr>\n",
              "      <th>42</th>\n",
              "      <td>MARLENE</td>\n",
              "      <td>77</td>\n",
              "      <td>@coc.ufrj.br</td>\n",
              "      <td>marlene@coc.ufrj.br</td>\n",
              "    </tr>\n",
              "    <tr>\n",
              "      <th>91</th>\n",
              "      <td>WESLEY</td>\n",
              "      <td>48</td>\n",
              "      <td>@gmail.com</td>\n",
              "      <td>wesley@gmail.com</td>\n",
              "    </tr>\n",
              "    <tr>\n",
              "      <th>15</th>\n",
              "      <td>LETICIA</td>\n",
              "      <td>43</td>\n",
              "      <td>@coc.ufrj.br</td>\n",
              "      <td>leticia@coc.ufrj.br</td>\n",
              "    </tr>\n",
              "    <tr>\n",
              "      <th>182</th>\n",
              "      <td>CHARLES</td>\n",
              "      <td>150</td>\n",
              "      <td>@gmail.com</td>\n",
              "      <td>charles@gmail.com</td>\n",
              "    </tr>\n",
              "    <tr>\n",
              "      <th>65</th>\n",
              "      <td>MAURICIO</td>\n",
              "      <td>143</td>\n",
              "      <td>@coc.ufrj.br</td>\n",
              "      <td>mauricio@coc.ufrj.br</td>\n",
              "    </tr>\n",
              "  </tbody>\n",
              "</table>\n",
              "</div>"
            ],
            "text/plain": [
              "         nome  id_aluno       dominio                 email\n",
              "42    MARLENE        77  @coc.ufrj.br   marlene@coc.ufrj.br\n",
              "91     WESLEY        48    @gmail.com      wesley@gmail.com\n",
              "15    LETICIA        43  @coc.ufrj.br   leticia@coc.ufrj.br\n",
              "182   CHARLES       150    @gmail.com     charles@gmail.com\n",
              "65   MAURICIO       143  @coc.ufrj.br  mauricio@coc.ufrj.br"
            ]
          },
          "metadata": {
            "tags": []
          },
          "execution_count": 7
        }
      ]
    },
    {
      "cell_type": "code",
      "metadata": {
        "id": "FErN2l87LGNw"
      },
      "source": [
        ""
      ],
      "execution_count": null,
      "outputs": []
    },
    {
      "cell_type": "markdown",
      "metadata": {
        "id": "xYa79fH1LUc-"
      },
      "source": [
        "# AULA 2"
      ]
    },
    {
      "cell_type": "markdown",
      "metadata": {
        "id": "J0d4-AabLvQt"
      },
      "source": [
        "## 1. Criar tabela de cursos"
      ]
    },
    {
      "cell_type": "code",
      "metadata": {
        "id": "fDk8nVgLNLYC",
        "colab": {
          "base_uri": "https://localhost:8080/"
        },
        "outputId": "ec43fb6e-1918-49c2-ed03-fad90a2f5e07"
      },
      "source": [
        "# bibliotecas necessárias \n",
        "! pip install html5lib\n",
        "! pip install lxml"
      ],
      "execution_count": null,
      "outputs": [
        {
          "output_type": "stream",
          "text": [
            "Requirement already satisfied: html5lib in /usr/local/lib/python3.6/dist-packages (1.0.1)\n",
            "Requirement already satisfied: six>=1.9 in /usr/local/lib/python3.6/dist-packages (from html5lib) (1.12.0)\n",
            "Requirement already satisfied: webencodings in /usr/local/lib/python3.6/dist-packages (from html5lib) (0.5.1)\n",
            "Requirement already satisfied: lxml in /usr/local/lib/python3.6/dist-packages (4.2.6)\n"
          ],
          "name": "stdout"
        }
      ]
    },
    {
      "cell_type": "code",
      "metadata": {
        "id": "SNQ49oNULWzP",
        "colab": {
          "base_uri": "https://localhost:8080/"
        },
        "outputId": "aa3f2453-eaad-4bd7-80d5-a25205c91f54"
      },
      "source": [
        "url = 'http://tabela-cursos.herokuapp.com/index.html'\n",
        "cursos = pd.read_html(url)\n",
        "#Coverter lista em dataframe\n",
        "cursos=cursos[0]\n",
        "cursos.sample(5)"
      ],
      "execution_count": null,
      "outputs": [
        {
          "output_type": "execute_result",
          "data": {
            "text/html": [
              "<div>\n",
              "<style scoped>\n",
              "    .dataframe tbody tr th:only-of-type {\n",
              "        vertical-align: middle;\n",
              "    }\n",
              "\n",
              "    .dataframe tbody tr th {\n",
              "        vertical-align: top;\n",
              "    }\n",
              "\n",
              "    .dataframe thead th {\n",
              "        text-align: right;\n",
              "    }\n",
              "</style>\n",
              "<table border=\"1\" class=\"dataframe\">\n",
              "  <thead>\n",
              "    <tr style=\"text-align: right;\">\n",
              "      <th></th>\n",
              "      <th>Nome do curso</th>\n",
              "    </tr>\n",
              "  </thead>\n",
              "  <tbody>\n",
              "    <tr>\n",
              "      <th>15</th>\n",
              "      <td>Estatística básica</td>\n",
              "    </tr>\n",
              "    <tr>\n",
              "      <th>8</th>\n",
              "      <td>TDD com Java</td>\n",
              "    </tr>\n",
              "    <tr>\n",
              "      <th>13</th>\n",
              "      <td>Desenvolvendo jogos</td>\n",
              "    </tr>\n",
              "    <tr>\n",
              "      <th>17</th>\n",
              "      <td>Programação funcional</td>\n",
              "    </tr>\n",
              "    <tr>\n",
              "      <th>10</th>\n",
              "      <td>Preparatório para certificação Java</td>\n",
              "    </tr>\n",
              "  </tbody>\n",
              "</table>\n",
              "</div>"
            ],
            "text/plain": [
              "                          Nome do curso\n",
              "15                   Estatística básica\n",
              "8                          TDD com Java\n",
              "13                  Desenvolvendo jogos\n",
              "17                Programação funcional\n",
              "10  Preparatório para certificação Java"
            ]
          },
          "metadata": {
            "tags": []
          },
          "execution_count": 9
        }
      ]
    },
    {
      "cell_type": "markdown",
      "metadata": {
        "id": "Rzu9OwRBOFc1"
      },
      "source": [
        "## 2. Manipular tabela de cursos"
      ]
    },
    {
      "cell_type": "code",
      "metadata": {
        "id": "YNfP4VdENomi",
        "colab": {
          "base_uri": "https://localhost:8080/"
        },
        "outputId": "ef152d16-a169-428b-ed26-6e4c993a52be"
      },
      "source": [
        "cursos=cursos.rename(columns={'Nome do curso':'nome_do_curso'})\n",
        "cursos.sample(5)"
      ],
      "execution_count": null,
      "outputs": [
        {
          "output_type": "execute_result",
          "data": {
            "text/html": [
              "<div>\n",
              "<style scoped>\n",
              "    .dataframe tbody tr th:only-of-type {\n",
              "        vertical-align: middle;\n",
              "    }\n",
              "\n",
              "    .dataframe tbody tr th {\n",
              "        vertical-align: top;\n",
              "    }\n",
              "\n",
              "    .dataframe thead th {\n",
              "        text-align: right;\n",
              "    }\n",
              "</style>\n",
              "<table border=\"1\" class=\"dataframe\">\n",
              "  <thead>\n",
              "    <tr style=\"text-align: right;\">\n",
              "      <th></th>\n",
              "      <th>nome_do_curso</th>\n",
              "    </tr>\n",
              "  </thead>\n",
              "  <tbody>\n",
              "    <tr>\n",
              "      <th>9</th>\n",
              "      <td>Código limpo com C#</td>\n",
              "    </tr>\n",
              "    <tr>\n",
              "      <th>4</th>\n",
              "      <td>Cursos de Python</td>\n",
              "    </tr>\n",
              "    <tr>\n",
              "      <th>10</th>\n",
              "      <td>Preparatório para certificação Java</td>\n",
              "    </tr>\n",
              "    <tr>\n",
              "      <th>11</th>\n",
              "      <td>Hardware básico</td>\n",
              "    </tr>\n",
              "    <tr>\n",
              "      <th>18</th>\n",
              "      <td>Boas práticas em Java</td>\n",
              "    </tr>\n",
              "  </tbody>\n",
              "</table>\n",
              "</div>"
            ],
            "text/plain": [
              "                          nome_do_curso\n",
              "9                   Código limpo com C#\n",
              "4                      Cursos de Python\n",
              "10  Preparatório para certificação Java\n",
              "11                      Hardware básico\n",
              "18                Boas práticas em Java"
            ]
          },
          "metadata": {
            "tags": []
          },
          "execution_count": 10
        }
      ]
    },
    {
      "cell_type": "code",
      "metadata": {
        "id": "uMsnr_T7Oexk",
        "colab": {
          "base_uri": "https://localhost:8080/"
        },
        "outputId": "61243f04-3614-4ffd-ca58-d6477810a99a"
      },
      "source": [
        "#Atribuir ID aleatório\n",
        "cursos['id']=np.random.permutation(len(cursos))+1\n",
        "cursos.head(5)"
      ],
      "execution_count": null,
      "outputs": [
        {
          "output_type": "execute_result",
          "data": {
            "text/html": [
              "<div>\n",
              "<style scoped>\n",
              "    .dataframe tbody tr th:only-of-type {\n",
              "        vertical-align: middle;\n",
              "    }\n",
              "\n",
              "    .dataframe tbody tr th {\n",
              "        vertical-align: top;\n",
              "    }\n",
              "\n",
              "    .dataframe thead th {\n",
              "        text-align: right;\n",
              "    }\n",
              "</style>\n",
              "<table border=\"1\" class=\"dataframe\">\n",
              "  <thead>\n",
              "    <tr style=\"text-align: right;\">\n",
              "      <th></th>\n",
              "      <th>nome_do_curso</th>\n",
              "      <th>id</th>\n",
              "    </tr>\n",
              "  </thead>\n",
              "  <tbody>\n",
              "    <tr>\n",
              "      <th>0</th>\n",
              "      <td>Lógica de programação</td>\n",
              "      <td>9</td>\n",
              "    </tr>\n",
              "    <tr>\n",
              "      <th>1</th>\n",
              "      <td>Java para Web</td>\n",
              "      <td>18</td>\n",
              "    </tr>\n",
              "    <tr>\n",
              "      <th>2</th>\n",
              "      <td>C# para Web</td>\n",
              "      <td>14</td>\n",
              "    </tr>\n",
              "    <tr>\n",
              "      <th>3</th>\n",
              "      <td>Ruby on Rails</td>\n",
              "      <td>16</td>\n",
              "    </tr>\n",
              "    <tr>\n",
              "      <th>4</th>\n",
              "      <td>Cursos de Python</td>\n",
              "      <td>19</td>\n",
              "    </tr>\n",
              "  </tbody>\n",
              "</table>\n",
              "</div>"
            ],
            "text/plain": [
              "           nome_do_curso  id\n",
              "0  Lógica de programação   9\n",
              "1          Java para Web  18\n",
              "2            C# para Web  14\n",
              "3          Ruby on Rails  16\n",
              "4       Cursos de Python  19"
            ]
          },
          "metadata": {
            "tags": []
          },
          "execution_count": 11
        }
      ]
    },
    {
      "cell_type": "code",
      "metadata": {
        "id": "qSRQh5hSPLSq",
        "colab": {
          "base_uri": "https://localhost:8080/"
        },
        "outputId": "60215981-7e72-4c87-a1c5-6d9ca5360058"
      },
      "source": [
        "# Atribuir inidice ao ID\n",
        "cursos=cursos.set_index('id')\n",
        "cursos.head(5)"
      ],
      "execution_count": null,
      "outputs": [
        {
          "output_type": "execute_result",
          "data": {
            "text/html": [
              "<div>\n",
              "<style scoped>\n",
              "    .dataframe tbody tr th:only-of-type {\n",
              "        vertical-align: middle;\n",
              "    }\n",
              "\n",
              "    .dataframe tbody tr th {\n",
              "        vertical-align: top;\n",
              "    }\n",
              "\n",
              "    .dataframe thead th {\n",
              "        text-align: right;\n",
              "    }\n",
              "</style>\n",
              "<table border=\"1\" class=\"dataframe\">\n",
              "  <thead>\n",
              "    <tr style=\"text-align: right;\">\n",
              "      <th></th>\n",
              "      <th>nome_do_curso</th>\n",
              "    </tr>\n",
              "    <tr>\n",
              "      <th>id</th>\n",
              "      <th></th>\n",
              "    </tr>\n",
              "  </thead>\n",
              "  <tbody>\n",
              "    <tr>\n",
              "      <th>9</th>\n",
              "      <td>Lógica de programação</td>\n",
              "    </tr>\n",
              "    <tr>\n",
              "      <th>18</th>\n",
              "      <td>Java para Web</td>\n",
              "    </tr>\n",
              "    <tr>\n",
              "      <th>14</th>\n",
              "      <td>C# para Web</td>\n",
              "    </tr>\n",
              "    <tr>\n",
              "      <th>16</th>\n",
              "      <td>Ruby on Rails</td>\n",
              "    </tr>\n",
              "    <tr>\n",
              "      <th>19</th>\n",
              "      <td>Cursos de Python</td>\n",
              "    </tr>\n",
              "  </tbody>\n",
              "</table>\n",
              "</div>"
            ],
            "text/plain": [
              "            nome_do_curso\n",
              "id                       \n",
              "9   Lógica de programação\n",
              "18          Java para Web\n",
              "14            C# para Web\n",
              "16          Ruby on Rails\n",
              "19       Cursos de Python"
            ]
          },
          "metadata": {
            "tags": []
          },
          "execution_count": 12
        }
      ]
    },
    {
      "cell_type": "markdown",
      "metadata": {
        "id": "3OCCnCmnQAgu"
      },
      "source": [
        "# AULA 3"
      ]
    },
    {
      "cell_type": "markdown",
      "metadata": {
        "id": "xshpNffbkaW6"
      },
      "source": [
        "## 1.Matricular alunos nos cursos"
      ]
    },
    {
      "cell_type": "code",
      "metadata": {
        "id": "lOCMJdwkQB7F",
        "colab": {
          "base_uri": "https://localhost:8080/",
          "height": 204
        },
        "outputId": "676824cb-76bd-48ad-cea2-433613234807"
      },
      "source": [
        "# Assumindo que os poucos alunos fazem mais de um curso\n",
        "nomes['matriculas']=np.ceil(np.random.exponential(size=total_alunos)*1.5).astype(int)\n",
        "nomes.sample(5)"
      ],
      "execution_count": null,
      "outputs": [
        {
          "output_type": "execute_result",
          "data": {
            "text/html": [
              "<div>\n",
              "<style scoped>\n",
              "    .dataframe tbody tr th:only-of-type {\n",
              "        vertical-align: middle;\n",
              "    }\n",
              "\n",
              "    .dataframe tbody tr th {\n",
              "        vertical-align: top;\n",
              "    }\n",
              "\n",
              "    .dataframe thead th {\n",
              "        text-align: right;\n",
              "    }\n",
              "</style>\n",
              "<table border=\"1\" class=\"dataframe\">\n",
              "  <thead>\n",
              "    <tr style=\"text-align: right;\">\n",
              "      <th></th>\n",
              "      <th>nome</th>\n",
              "      <th>id_aluno</th>\n",
              "      <th>dominio</th>\n",
              "      <th>email</th>\n",
              "      <th>matriculas</th>\n",
              "    </tr>\n",
              "  </thead>\n",
              "  <tbody>\n",
              "    <tr>\n",
              "      <th>195</th>\n",
              "      <td>ROSANE</td>\n",
              "      <td>341</td>\n",
              "      <td>@coc.ufrj.br</td>\n",
              "      <td>rosane@coc.ufrj.br</td>\n",
              "      <td>9</td>\n",
              "    </tr>\n",
              "    <tr>\n",
              "      <th>14</th>\n",
              "      <td>MARCELO</td>\n",
              "      <td>300</td>\n",
              "      <td>@coc.ufrj.br</td>\n",
              "      <td>marcelo@coc.ufrj.br</td>\n",
              "      <td>3</td>\n",
              "    </tr>\n",
              "    <tr>\n",
              "      <th>28</th>\n",
              "      <td>SONIA</td>\n",
              "      <td>263</td>\n",
              "      <td>@gmail.com</td>\n",
              "      <td>sonia@gmail.com</td>\n",
              "      <td>1</td>\n",
              "    </tr>\n",
              "    <tr>\n",
              "      <th>74</th>\n",
              "      <td>LAURA</td>\n",
              "      <td>389</td>\n",
              "      <td>@gmail.com</td>\n",
              "      <td>laura@gmail.com</td>\n",
              "      <td>3</td>\n",
              "    </tr>\n",
              "    <tr>\n",
              "      <th>85</th>\n",
              "      <td>HELENA</td>\n",
              "      <td>64</td>\n",
              "      <td>@gmail.com</td>\n",
              "      <td>helena@gmail.com</td>\n",
              "      <td>1</td>\n",
              "    </tr>\n",
              "  </tbody>\n",
              "</table>\n",
              "</div>"
            ],
            "text/plain": [
              "        nome  id_aluno       dominio                email  matriculas\n",
              "195   ROSANE       341  @coc.ufrj.br   rosane@coc.ufrj.br           9\n",
              "14   MARCELO       300  @coc.ufrj.br  marcelo@coc.ufrj.br           3\n",
              "28     SONIA       263    @gmail.com      sonia@gmail.com           1\n",
              "74     LAURA       389    @gmail.com      laura@gmail.com           3\n",
              "85    HELENA        64    @gmail.com     helena@gmail.com           1"
            ]
          },
          "metadata": {
            "tags": []
          },
          "execution_count": 17
        }
      ]
    },
    {
      "cell_type": "code",
      "metadata": {
        "id": "686FCWvilHuf",
        "colab": {
          "base_uri": "https://localhost:8080/",
          "height": 297
        },
        "outputId": "79315ebc-2e1c-42bc-c840-caa959326f78"
      },
      "source": [
        "#Descrtiva \n",
        "nomes.describe()"
      ],
      "execution_count": null,
      "outputs": [
        {
          "output_type": "execute_result",
          "data": {
            "text/html": [
              "<div>\n",
              "<style scoped>\n",
              "    .dataframe tbody tr th:only-of-type {\n",
              "        vertical-align: middle;\n",
              "    }\n",
              "\n",
              "    .dataframe tbody tr th {\n",
              "        vertical-align: top;\n",
              "    }\n",
              "\n",
              "    .dataframe thead th {\n",
              "        text-align: right;\n",
              "    }\n",
              "</style>\n",
              "<table border=\"1\" class=\"dataframe\">\n",
              "  <thead>\n",
              "    <tr style=\"text-align: right;\">\n",
              "      <th></th>\n",
              "      <th>id_aluno</th>\n",
              "      <th>matriculas</th>\n",
              "    </tr>\n",
              "  </thead>\n",
              "  <tbody>\n",
              "    <tr>\n",
              "      <th>count</th>\n",
              "      <td>400.000000</td>\n",
              "      <td>400.0000</td>\n",
              "    </tr>\n",
              "    <tr>\n",
              "      <th>mean</th>\n",
              "      <td>200.500000</td>\n",
              "      <td>2.0350</td>\n",
              "    </tr>\n",
              "    <tr>\n",
              "      <th>std</th>\n",
              "      <td>115.614301</td>\n",
              "      <td>1.4931</td>\n",
              "    </tr>\n",
              "    <tr>\n",
              "      <th>min</th>\n",
              "      <td>1.000000</td>\n",
              "      <td>1.0000</td>\n",
              "    </tr>\n",
              "    <tr>\n",
              "      <th>25%</th>\n",
              "      <td>100.750000</td>\n",
              "      <td>1.0000</td>\n",
              "    </tr>\n",
              "    <tr>\n",
              "      <th>50%</th>\n",
              "      <td>200.500000</td>\n",
              "      <td>2.0000</td>\n",
              "    </tr>\n",
              "    <tr>\n",
              "      <th>75%</th>\n",
              "      <td>300.250000</td>\n",
              "      <td>3.0000</td>\n",
              "    </tr>\n",
              "    <tr>\n",
              "      <th>max</th>\n",
              "      <td>400.000000</td>\n",
              "      <td>11.0000</td>\n",
              "    </tr>\n",
              "  </tbody>\n",
              "</table>\n",
              "</div>"
            ],
            "text/plain": [
              "         id_aluno  matriculas\n",
              "count  400.000000    400.0000\n",
              "mean   200.500000      2.0350\n",
              "std    115.614301      1.4931\n",
              "min      1.000000      1.0000\n",
              "25%    100.750000      1.0000\n",
              "50%    200.500000      2.0000\n",
              "75%    300.250000      3.0000\n",
              "max    400.000000     11.0000"
            ]
          },
          "metadata": {
            "tags": []
          },
          "execution_count": 18
        }
      ]
    },
    {
      "cell_type": "code",
      "metadata": {
        "id": "3SXoLdw7lsjl",
        "colab": {
          "base_uri": "https://localhost:8080/",
          "height": 279
        },
        "outputId": "6bf76e5f-5cbd-4516-8648-cdcb36ef5655"
      },
      "source": [
        "# Visulizar \n",
        "import seaborn as sns\n",
        "sns.set_style(\"darkgrid\")\n",
        "sns.set_palette(\"GnBu_d\")\n",
        "dist=sns.distplot(nomes.matriculas,)"
      ],
      "execution_count": null,
      "outputs": [
        {
          "output_type": "display_data",
          "data": {
            "image/png": "[encoded data removed]",
            "text/plain": [
              "<Figure size 432x288 with 1 Axes>"
            ]
          },
          "metadata": {
            "tags": []
          }
        }
      ]
    },
    {
      "cell_type": "code",
      "metadata": {
        "id": "5qzMmgoLl96G",
        "colab": {
          "base_uri": "https://localhost:8080/",
          "height": 221
        },
        "outputId": "314e6591-8011-42c6-d46a-9a977fed48bd"
      },
      "source": [
        "# Numero de alunos por curso\n",
        "nomes.matriculas.value_counts()"
      ],
      "execution_count": null,
      "outputs": [
        {
          "output_type": "execute_result",
          "data": {
            "text/plain": [
              "1     189\n",
              "2     108\n",
              "3      61\n",
              "4      22\n",
              "6       6\n",
              "5       6\n",
              "9       4\n",
              "11      1\n",
              "10      1\n",
              "8       1\n",
              "7       1\n",
              "Name: matriculas, dtype: int64"
            ]
          },
          "metadata": {
            "tags": []
          },
          "execution_count": 27
        }
      ]
    },
    {
      "cell_type": "markdown",
      "metadata": {
        "id": "ASzGG-cuoIpj"
      },
      "source": [
        "## 2. Selecionar cursos de forma aletória"
      ]
    },
    {
      "cell_type": "code",
      "metadata": {
        "id": "tfDfISL6oJtS"
      },
      "source": [
        "# Atribuição proporcional\n",
        "todas_matriculas=[]\n",
        "x=np.random.rand(20)\n",
        "prob=x/sum(x)\n",
        "\n",
        "for index,row in nomes.iterrows():\n",
        "  id=row.id_aluno\n",
        "  matriculas=row.matriculas\n",
        "  for i in range(matriculas):\n",
        "    mat=[id,np.random.choice(cursos.index,p=prob)]\n",
        "    todas_matriculas.append(mat)\n",
        "\n",
        "matriculas=pd.DataFrame(todas_matriculas,columns=['id_aluno','id_curso'])\n"
      ],
      "execution_count": null,
      "outputs": []
    },
    {
      "cell_type": "code",
      "metadata": {
        "id": "zZ2Cw3csp8q_",
        "colab": {
          "base_uri": "https://localhost:8080/",
          "height": 390
        },
        "outputId": "4a72096b-e0ef-4217-ea59-fc8b85d0fdfb"
      },
      "source": [
        "# Contar Nº de inscritos por curso\n",
        "matriculas_popr_curso=matriculas.groupby('id_curso').count().join(cursos['nome_do_curso']).rename(columns={'id_aluno':'quantidade_de_alunos'})\n",
        "matriculas_popr_curso.sample(10)"
      ],
      "execution_count": null,
      "outputs": [
        {
          "output_type": "execute_result",
          "data": {
            "text/html": [
              "<div>\n",
              "<style scoped>\n",
              "    .dataframe tbody tr th:only-of-type {\n",
              "        vertical-align: middle;\n",
              "    }\n",
              "\n",
              "    .dataframe tbody tr th {\n",
              "        vertical-align: top;\n",
              "    }\n",
              "\n",
              "    .dataframe thead th {\n",
              "        text-align: right;\n",
              "    }\n",
              "</style>\n",
              "<table border=\"1\" class=\"dataframe\">\n",
              "  <thead>\n",
              "    <tr style=\"text-align: right;\">\n",
              "      <th></th>\n",
              "      <th>quantidade_de_alunos</th>\n",
              "      <th>nome_do_curso</th>\n",
              "    </tr>\n",
              "    <tr>\n",
              "      <th>id_curso</th>\n",
              "      <th></th>\n",
              "      <th></th>\n",
              "    </tr>\n",
              "  </thead>\n",
              "  <tbody>\n",
              "    <tr>\n",
              "      <th>15</th>\n",
              "      <td>72</td>\n",
              "      <td>.NET para web</td>\n",
              "    </tr>\n",
              "    <tr>\n",
              "      <th>9</th>\n",
              "      <td>64</td>\n",
              "      <td>Lógica de programação</td>\n",
              "    </tr>\n",
              "    <tr>\n",
              "      <th>13</th>\n",
              "      <td>56</td>\n",
              "      <td>Persistência com .NET</td>\n",
              "    </tr>\n",
              "    <tr>\n",
              "      <th>19</th>\n",
              "      <td>9</td>\n",
              "      <td>Cursos de Python</td>\n",
              "    </tr>\n",
              "    <tr>\n",
              "      <th>1</th>\n",
              "      <td>27</td>\n",
              "      <td>Programação funcional</td>\n",
              "    </tr>\n",
              "    <tr>\n",
              "      <th>5</th>\n",
              "      <td>80</td>\n",
              "      <td>Orientação objetos com Java</td>\n",
              "    </tr>\n",
              "    <tr>\n",
              "      <th>8</th>\n",
              "      <td>47</td>\n",
              "      <td>Internet das coisas</td>\n",
              "    </tr>\n",
              "    <tr>\n",
              "      <th>7</th>\n",
              "      <td>50</td>\n",
              "      <td>Hardware básico</td>\n",
              "    </tr>\n",
              "    <tr>\n",
              "      <th>10</th>\n",
              "      <td>19</td>\n",
              "      <td>Código limpo com C#</td>\n",
              "    </tr>\n",
              "    <tr>\n",
              "      <th>20</th>\n",
              "      <td>7</td>\n",
              "      <td>Boas práticas em Java</td>\n",
              "    </tr>\n",
              "  </tbody>\n",
              "</table>\n",
              "</div>"
            ],
            "text/plain": [
              "          quantidade_de_alunos                nome_do_curso\n",
              "id_curso                                                   \n",
              "15                          72                .NET para web\n",
              "9                           64        Lógica de programação\n",
              "13                          56        Persistência com .NET\n",
              "19                           9             Cursos de Python\n",
              "1                           27        Programação funcional\n",
              "5                           80  Orientação objetos com Java\n",
              "8                           47          Internet das coisas\n",
              "7                           50              Hardware básico\n",
              "10                          19          Código limpo com C#\n",
              "20                           7        Boas práticas em Java"
            ]
          },
          "metadata": {
            "tags": []
          },
          "execution_count": 44
        }
      ]
    },
    {
      "cell_type": "markdown",
      "metadata": {
        "id": "uU0mbcqYsYUQ"
      },
      "source": [
        "## 3. Saída em diferentes formatos"
      ]
    },
    {
      "cell_type": "code",
      "metadata": {
        "id": "LR22rv_KsdDw",
        "colab": {
          "base_uri": "https://localhost:8080/",
          "height": 390
        },
        "outputId": "d0c2c705-790d-45b9-cb03-c07417a83993"
      },
      "source": [
        "matriculas_popr_curso.head(10)"
      ],
      "execution_count": null,
      "outputs": [
        {
          "output_type": "execute_result",
          "data": {
            "text/html": [
              "<div>\n",
              "<style scoped>\n",
              "    .dataframe tbody tr th:only-of-type {\n",
              "        vertical-align: middle;\n",
              "    }\n",
              "\n",
              "    .dataframe tbody tr th {\n",
              "        vertical-align: top;\n",
              "    }\n",
              "\n",
              "    .dataframe thead th {\n",
              "        text-align: right;\n",
              "    }\n",
              "</style>\n",
              "<table border=\"1\" class=\"dataframe\">\n",
              "  <thead>\n",
              "    <tr style=\"text-align: right;\">\n",
              "      <th></th>\n",
              "      <th>quantidade_de_alunos</th>\n",
              "      <th>nome_do_curso</th>\n",
              "    </tr>\n",
              "    <tr>\n",
              "      <th>id_curso</th>\n",
              "      <th></th>\n",
              "      <th></th>\n",
              "    </tr>\n",
              "  </thead>\n",
              "  <tbody>\n",
              "    <tr>\n",
              "      <th>1</th>\n",
              "      <td>27</td>\n",
              "      <td>Programação funcional</td>\n",
              "    </tr>\n",
              "    <tr>\n",
              "      <th>2</th>\n",
              "      <td>15</td>\n",
              "      <td>PHP com MySql</td>\n",
              "    </tr>\n",
              "    <tr>\n",
              "      <th>3</th>\n",
              "      <td>2</td>\n",
              "      <td>TDD com Java</td>\n",
              "    </tr>\n",
              "    <tr>\n",
              "      <th>4</th>\n",
              "      <td>86</td>\n",
              "      <td>Desenvolvendo jogos</td>\n",
              "    </tr>\n",
              "    <tr>\n",
              "      <th>5</th>\n",
              "      <td>80</td>\n",
              "      <td>Orientação objetos com Java</td>\n",
              "    </tr>\n",
              "    <tr>\n",
              "      <th>6</th>\n",
              "      <td>37</td>\n",
              "      <td>Novas integrações com Java</td>\n",
              "    </tr>\n",
              "    <tr>\n",
              "      <th>7</th>\n",
              "      <td>50</td>\n",
              "      <td>Hardware básico</td>\n",
              "    </tr>\n",
              "    <tr>\n",
              "      <th>8</th>\n",
              "      <td>47</td>\n",
              "      <td>Internet das coisas</td>\n",
              "    </tr>\n",
              "    <tr>\n",
              "      <th>9</th>\n",
              "      <td>64</td>\n",
              "      <td>Lógica de programação</td>\n",
              "    </tr>\n",
              "    <tr>\n",
              "      <th>10</th>\n",
              "      <td>19</td>\n",
              "      <td>Código limpo com C#</td>\n",
              "    </tr>\n",
              "  </tbody>\n",
              "</table>\n",
              "</div>"
            ],
            "text/plain": [
              "          quantidade_de_alunos                nome_do_curso\n",
              "id_curso                                                   \n",
              "1                           27        Programação funcional\n",
              "2                           15                PHP com MySql\n",
              "3                            2                 TDD com Java\n",
              "4                           86          Desenvolvendo jogos\n",
              "5                           80  Orientação objetos com Java\n",
              "6                           37   Novas integrações com Java\n",
              "7                           50              Hardware básico\n",
              "8                           47          Internet das coisas\n",
              "9                           64        Lógica de programação\n",
              "10                          19          Código limpo com C#"
            ]
          },
          "metadata": {
            "tags": []
          },
          "execution_count": 47
        }
      ]
    },
    {
      "cell_type": "code",
      "metadata": {
        "id": "kTTZuMP8s1YM",
        "colab": {
          "base_uri": "https://localhost:8080/",
          "height": 359
        },
        "outputId": "89fa1ed6-8785-472f-99c4-c463e9bcb8ad"
      },
      "source": [
        "# CSV\n",
        "matriculas_popr_curso.to_csv('CSV_arquivo.csv',sep=',')\n",
        "ler=pd.read_csv('CSV_arquivo.csv')\n",
        "ler.head(10)"
      ],
      "execution_count": null,
      "outputs": [
        {
          "output_type": "execute_result",
          "data": {
            "text/html": [
              "<div>\n",
              "<style scoped>\n",
              "    .dataframe tbody tr th:only-of-type {\n",
              "        vertical-align: middle;\n",
              "    }\n",
              "\n",
              "    .dataframe tbody tr th {\n",
              "        vertical-align: top;\n",
              "    }\n",
              "\n",
              "    .dataframe thead th {\n",
              "        text-align: right;\n",
              "    }\n",
              "</style>\n",
              "<table border=\"1\" class=\"dataframe\">\n",
              "  <thead>\n",
              "    <tr style=\"text-align: right;\">\n",
              "      <th></th>\n",
              "      <th>id_curso</th>\n",
              "      <th>quantidade_de_alunos</th>\n",
              "      <th>nome_do_curso</th>\n",
              "    </tr>\n",
              "  </thead>\n",
              "  <tbody>\n",
              "    <tr>\n",
              "      <th>0</th>\n",
              "      <td>1</td>\n",
              "      <td>27</td>\n",
              "      <td>Programação funcional</td>\n",
              "    </tr>\n",
              "    <tr>\n",
              "      <th>1</th>\n",
              "      <td>2</td>\n",
              "      <td>15</td>\n",
              "      <td>PHP com MySql</td>\n",
              "    </tr>\n",
              "    <tr>\n",
              "      <th>2</th>\n",
              "      <td>3</td>\n",
              "      <td>2</td>\n",
              "      <td>TDD com Java</td>\n",
              "    </tr>\n",
              "    <tr>\n",
              "      <th>3</th>\n",
              "      <td>4</td>\n",
              "      <td>86</td>\n",
              "      <td>Desenvolvendo jogos</td>\n",
              "    </tr>\n",
              "    <tr>\n",
              "      <th>4</th>\n",
              "      <td>5</td>\n",
              "      <td>80</td>\n",
              "      <td>Orientação objetos com Java</td>\n",
              "    </tr>\n",
              "    <tr>\n",
              "      <th>5</th>\n",
              "      <td>6</td>\n",
              "      <td>37</td>\n",
              "      <td>Novas integrações com Java</td>\n",
              "    </tr>\n",
              "    <tr>\n",
              "      <th>6</th>\n",
              "      <td>7</td>\n",
              "      <td>50</td>\n",
              "      <td>Hardware básico</td>\n",
              "    </tr>\n",
              "    <tr>\n",
              "      <th>7</th>\n",
              "      <td>8</td>\n",
              "      <td>47</td>\n",
              "      <td>Internet das coisas</td>\n",
              "    </tr>\n",
              "    <tr>\n",
              "      <th>8</th>\n",
              "      <td>9</td>\n",
              "      <td>64</td>\n",
              "      <td>Lógica de programação</td>\n",
              "    </tr>\n",
              "    <tr>\n",
              "      <th>9</th>\n",
              "      <td>10</td>\n",
              "      <td>19</td>\n",
              "      <td>Código limpo com C#</td>\n",
              "    </tr>\n",
              "  </tbody>\n",
              "</table>\n",
              "</div>"
            ],
            "text/plain": [
              "   id_curso  quantidade_de_alunos                nome_do_curso\n",
              "0         1                    27        Programação funcional\n",
              "1         2                    15                PHP com MySql\n",
              "2         3                     2                 TDD com Java\n",
              "3         4                    86          Desenvolvendo jogos\n",
              "4         5                    80  Orientação objetos com Java\n",
              "5         6                    37   Novas integrações com Java\n",
              "6         7                    50              Hardware básico\n",
              "7         8                    47          Internet das coisas\n",
              "8         9                    64        Lógica de programação\n",
              "9        10                    19          Código limpo com C#"
            ]
          },
          "metadata": {
            "tags": []
          },
          "execution_count": 56
        }
      ]
    },
    {
      "cell_type": "code",
      "metadata": {
        "id": "dXwci7o6tJcg",
        "colab": {
          "base_uri": "https://localhost:8080/",
          "height": 374
        },
        "outputId": "d046e398-31ec-4cc0-b398-ebd89fd670b4"
      },
      "source": [
        "# JSON\n",
        "JSON_arquivo=matriculas_popr_curso.to_json\n",
        "JSON_arquivo"
      ],
      "execution_count": null,
      "outputs": [
        {
          "output_type": "execute_result",
          "data": {
            "text/plain": [
              "<bound method NDFrame.to_json of           quantidade_de_alunos                        nome_do_curso\n",
              "id_curso                                                           \n",
              "1                           27                Programação funcional\n",
              "2                           15                        PHP com MySql\n",
              "3                            2                         TDD com Java\n",
              "4                           86                  Desenvolvendo jogos\n",
              "5                           80          Orientação objetos com Java\n",
              "6                           37           Novas integrações com Java\n",
              "7                           50                      Hardware básico\n",
              "8                           47                  Internet das coisas\n",
              "9                           64                Lógica de programação\n",
              "10                          19                  Código limpo com C#\n",
              "11                          34  Preparatório para certificação Java\n",
              "12                          39                   Estatística básica\n",
              "13                          56                Persistência com .NET\n",
              "14                          77                          C# para Web\n",
              "15                          72                        .NET para web\n",
              "16                          76                        Ruby on Rails\n",
              "17                          17                     Análise de dados\n",
              "19                           9                     Cursos de Python\n",
              "20                           7                Boas práticas em Java>"
            ]
          },
          "metadata": {
            "tags": []
          },
          "execution_count": 64
        }
      ]
    },
    {
      "cell_type": "code",
      "metadata": {
        "id": "stTHDaexuopT",
        "colab": {
          "base_uri": "https://localhost:8080/",
          "height": 374
        },
        "outputId": "224325f2-4248-4a98-f336-47ab70e93d4c"
      },
      "source": [
        "# HTML -> '()' no final da função faz difernça na exibição\n",
        "HTML_arquivo=matriculas_popr_curso.to_html\n",
        "HTML_arquivo"
      ],
      "execution_count": null,
      "outputs": [
        {
          "output_type": "execute_result",
          "data": {
            "text/plain": [
              "<bound method DataFrame.to_html of           quantidade_de_alunos                        nome_do_curso\n",
              "id_curso                                                           \n",
              "1                           27                Programação funcional\n",
              "2                           15                        PHP com MySql\n",
              "3                            2                         TDD com Java\n",
              "4                           86                  Desenvolvendo jogos\n",
              "5                           80          Orientação objetos com Java\n",
              "6                           37           Novas integrações com Java\n",
              "7                           50                      Hardware básico\n",
              "8                           47                  Internet das coisas\n",
              "9                           64                Lógica de programação\n",
              "10                          19                  Código limpo com C#\n",
              "11                          34  Preparatório para certificação Java\n",
              "12                          39                   Estatística básica\n",
              "13                          56                Persistência com .NET\n",
              "14                          77                          C# para Web\n",
              "15                          72                        .NET para web\n",
              "16                          76                        Ruby on Rails\n",
              "17                          17                     Análise de dados\n",
              "19                           9                     Cursos de Python\n",
              "20                           7                Boas práticas em Java>"
            ]
          },
          "metadata": {
            "tags": []
          },
          "execution_count": 70
        }
      ]
    },
    {
      "cell_type": "code",
      "metadata": {
        "id": "pu93JnxsviSm"
      },
      "source": [
        ""
      ],
      "execution_count": null,
      "outputs": []
    },
    {
      "cell_type": "markdown",
      "metadata": {
        "id": "gNiKm_iUxMPe"
      },
      "source": [
        "# AULA 4"
      ]
    },
    {
      "cell_type": "markdown",
      "metadata": {
        "id": "NZjI6mWFxRxN"
      },
      "source": [
        "## 1. Criando o banco SQL\n"
      ]
    },
    {
      "cell_type": "code",
      "metadata": {
        "id": "L6d-bcD-xOXX",
        "colab": {
          "base_uri": "https://localhost:8080/",
          "height": 34
        },
        "outputId": "83f7e4c5-397f-45f0-be58-e36b237ece6a"
      },
      "source": [
        "# Instalar biblioteca \n",
        "!pip install sqlalchemy"
      ],
      "execution_count": null,
      "outputs": [
        {
          "output_type": "stream",
          "text": [
            "Requirement already satisfied: sqlalchemy in /usr/local/lib/python3.6/dist-packages (1.3.17)\n"
          ],
          "name": "stdout"
        }
      ]
    },
    {
      "cell_type": "code",
      "metadata": {
        "id": "yefeaqU7xyhr"
      },
      "source": [
        "# Importar biblioteca \n",
        "from sqlalchemy import create_engine,MetaData,table"
      ],
      "execution_count": null,
      "outputs": []
    },
    {
      "cell_type": "code",
      "metadata": {
        "id": "t6AkxoWWyE3Q",
        "colab": {
          "base_uri": "https://localhost:8080/",
          "height": 34
        },
        "outputId": "da1add42-061f-482c-c38a-b6c5fd0fbd73"
      },
      "source": [
        "# Criar eng\n",
        "engine=create_engine('sqlite:///memory:')\n",
        "engine"
      ],
      "execution_count": null,
      "outputs": [
        {
          "output_type": "execute_result",
          "data": {
            "text/plain": [
              "Engine(sqlite:///memory:)"
            ]
          },
          "metadata": {
            "tags": []
          },
          "execution_count": 75
        }
      ]
    },
    {
      "cell_type": "code",
      "metadata": {
        "id": "ISsV8RpryLym",
        "colab": {
          "base_uri": "https://localhost:8080/",
          "height": 34
        },
        "outputId": "0cb06fc4-bf27-4340-ac49-c686eced73fe"
      },
      "source": [
        "type(engine)"
      ],
      "execution_count": null,
      "outputs": [
        {
          "output_type": "execute_result",
          "data": {
            "text/plain": [
              "sqlalchemy.engine.base.Engine"
            ]
          },
          "metadata": {
            "tags": []
          },
          "execution_count": 76
        }
      ]
    },
    {
      "cell_type": "code",
      "metadata": {
        "id": "fFC6GZdnyVl3",
        "colab": {
          "base_uri": "https://localhost:8080/",
          "height": 390
        },
        "outputId": "14b16afc-6193-44e8-c986-6a19b25d1953"
      },
      "source": [
        "matriculas_popr_curso.head(10)"
      ],
      "execution_count": null,
      "outputs": [
        {
          "output_type": "execute_result",
          "data": {
            "text/html": [
              "<div>\n",
              "<style scoped>\n",
              "    .dataframe tbody tr th:only-of-type {\n",
              "        vertical-align: middle;\n",
              "    }\n",
              "\n",
              "    .dataframe tbody tr th {\n",
              "        vertical-align: top;\n",
              "    }\n",
              "\n",
              "    .dataframe thead th {\n",
              "        text-align: right;\n",
              "    }\n",
              "</style>\n",
              "<table border=\"1\" class=\"dataframe\">\n",
              "  <thead>\n",
              "    <tr style=\"text-align: right;\">\n",
              "      <th></th>\n",
              "      <th>quantidade_de_alunos</th>\n",
              "      <th>nome_do_curso</th>\n",
              "    </tr>\n",
              "    <tr>\n",
              "      <th>id_curso</th>\n",
              "      <th></th>\n",
              "      <th></th>\n",
              "    </tr>\n",
              "  </thead>\n",
              "  <tbody>\n",
              "    <tr>\n",
              "      <th>1</th>\n",
              "      <td>27</td>\n",
              "      <td>Programação funcional</td>\n",
              "    </tr>\n",
              "    <tr>\n",
              "      <th>2</th>\n",
              "      <td>15</td>\n",
              "      <td>PHP com MySql</td>\n",
              "    </tr>\n",
              "    <tr>\n",
              "      <th>3</th>\n",
              "      <td>2</td>\n",
              "      <td>TDD com Java</td>\n",
              "    </tr>\n",
              "    <tr>\n",
              "      <th>4</th>\n",
              "      <td>86</td>\n",
              "      <td>Desenvolvendo jogos</td>\n",
              "    </tr>\n",
              "    <tr>\n",
              "      <th>5</th>\n",
              "      <td>80</td>\n",
              "      <td>Orientação objetos com Java</td>\n",
              "    </tr>\n",
              "    <tr>\n",
              "      <th>6</th>\n",
              "      <td>37</td>\n",
              "      <td>Novas integrações com Java</td>\n",
              "    </tr>\n",
              "    <tr>\n",
              "      <th>7</th>\n",
              "      <td>50</td>\n",
              "      <td>Hardware básico</td>\n",
              "    </tr>\n",
              "    <tr>\n",
              "      <th>8</th>\n",
              "      <td>47</td>\n",
              "      <td>Internet das coisas</td>\n",
              "    </tr>\n",
              "    <tr>\n",
              "      <th>9</th>\n",
              "      <td>64</td>\n",
              "      <td>Lógica de programação</td>\n",
              "    </tr>\n",
              "    <tr>\n",
              "      <th>10</th>\n",
              "      <td>19</td>\n",
              "      <td>Código limpo com C#</td>\n",
              "    </tr>\n",
              "  </tbody>\n",
              "</table>\n",
              "</div>"
            ],
            "text/plain": [
              "          quantidade_de_alunos                nome_do_curso\n",
              "id_curso                                                   \n",
              "1                           27        Programação funcional\n",
              "2                           15                PHP com MySql\n",
              "3                            2                 TDD com Java\n",
              "4                           86          Desenvolvendo jogos\n",
              "5                           80  Orientação objetos com Java\n",
              "6                           37   Novas integrações com Java\n",
              "7                           50              Hardware básico\n",
              "8                           47          Internet das coisas\n",
              "9                           64        Lógica de programação\n",
              "10                          19          Código limpo com C#"
            ]
          },
          "metadata": {
            "tags": []
          },
          "execution_count": 77
        }
      ]
    },
    {
      "cell_type": "code",
      "metadata": {
        "id": "Tkgsx-uGyZnT"
      },
      "source": [
        "# Criar banco de dados\n",
        "matriculas_popr_curso.to_sql('matriculas',engine)"
      ],
      "execution_count": null,
      "outputs": []
    },
    {
      "cell_type": "code",
      "metadata": {
        "id": "jM7LcVoXynkt",
        "colab": {
          "base_uri": "https://localhost:8080/",
          "height": 34
        },
        "outputId": "51bb729d-486c-4414-a5c7-47627c6a2e6c"
      },
      "source": [
        "print(engine.table_names())"
      ],
      "execution_count": null,
      "outputs": [
        {
          "output_type": "stream",
          "text": [
            "['matriculas']\n"
          ],
          "name": "stdout"
        }
      ]
    },
    {
      "cell_type": "markdown",
      "metadata": {
        "id": "CLjyHX_lzGhs"
      },
      "source": [
        "## 2. Buscando no banco SQL"
      ]
    },
    {
      "cell_type": "code",
      "metadata": {
        "id": "cIixj_75y1GU",
        "colab": {
          "base_uri": "https://localhost:8080/",
          "height": 638
        },
        "outputId": "b7c2dd3c-9867-484a-dc9c-addc36d79956"
      },
      "source": [
        "query='select * from matriculas'\n",
        "pd.read_sql(query,engine)"
      ],
      "execution_count": null,
      "outputs": [
        {
          "output_type": "execute_result",
          "data": {
            "text/html": [
              "<div>\n",
              "<style scoped>\n",
              "    .dataframe tbody tr th:only-of-type {\n",
              "        vertical-align: middle;\n",
              "    }\n",
              "\n",
              "    .dataframe tbody tr th {\n",
              "        vertical-align: top;\n",
              "    }\n",
              "\n",
              "    .dataframe thead th {\n",
              "        text-align: right;\n",
              "    }\n",
              "</style>\n",
              "<table border=\"1\" class=\"dataframe\">\n",
              "  <thead>\n",
              "    <tr style=\"text-align: right;\">\n",
              "      <th></th>\n",
              "      <th>id_curso</th>\n",
              "      <th>quantidade_de_alunos</th>\n",
              "      <th>nome_do_curso</th>\n",
              "    </tr>\n",
              "  </thead>\n",
              "  <tbody>\n",
              "    <tr>\n",
              "      <th>0</th>\n",
              "      <td>1</td>\n",
              "      <td>27</td>\n",
              "      <td>Programação funcional</td>\n",
              "    </tr>\n",
              "    <tr>\n",
              "      <th>1</th>\n",
              "      <td>2</td>\n",
              "      <td>15</td>\n",
              "      <td>PHP com MySql</td>\n",
              "    </tr>\n",
              "    <tr>\n",
              "      <th>2</th>\n",
              "      <td>3</td>\n",
              "      <td>2</td>\n",
              "      <td>TDD com Java</td>\n",
              "    </tr>\n",
              "    <tr>\n",
              "      <th>3</th>\n",
              "      <td>4</td>\n",
              "      <td>86</td>\n",
              "      <td>Desenvolvendo jogos</td>\n",
              "    </tr>\n",
              "    <tr>\n",
              "      <th>4</th>\n",
              "      <td>5</td>\n",
              "      <td>80</td>\n",
              "      <td>Orientação objetos com Java</td>\n",
              "    </tr>\n",
              "    <tr>\n",
              "      <th>5</th>\n",
              "      <td>6</td>\n",
              "      <td>37</td>\n",
              "      <td>Novas integrações com Java</td>\n",
              "    </tr>\n",
              "    <tr>\n",
              "      <th>6</th>\n",
              "      <td>7</td>\n",
              "      <td>50</td>\n",
              "      <td>Hardware básico</td>\n",
              "    </tr>\n",
              "    <tr>\n",
              "      <th>7</th>\n",
              "      <td>8</td>\n",
              "      <td>47</td>\n",
              "      <td>Internet das coisas</td>\n",
              "    </tr>\n",
              "    <tr>\n",
              "      <th>8</th>\n",
              "      <td>9</td>\n",
              "      <td>64</td>\n",
              "      <td>Lógica de programação</td>\n",
              "    </tr>\n",
              "    <tr>\n",
              "      <th>9</th>\n",
              "      <td>10</td>\n",
              "      <td>19</td>\n",
              "      <td>Código limpo com C#</td>\n",
              "    </tr>\n",
              "    <tr>\n",
              "      <th>10</th>\n",
              "      <td>11</td>\n",
              "      <td>34</td>\n",
              "      <td>Preparatório para certificação Java</td>\n",
              "    </tr>\n",
              "    <tr>\n",
              "      <th>11</th>\n",
              "      <td>12</td>\n",
              "      <td>39</td>\n",
              "      <td>Estatística básica</td>\n",
              "    </tr>\n",
              "    <tr>\n",
              "      <th>12</th>\n",
              "      <td>13</td>\n",
              "      <td>56</td>\n",
              "      <td>Persistência com .NET</td>\n",
              "    </tr>\n",
              "    <tr>\n",
              "      <th>13</th>\n",
              "      <td>14</td>\n",
              "      <td>77</td>\n",
              "      <td>C# para Web</td>\n",
              "    </tr>\n",
              "    <tr>\n",
              "      <th>14</th>\n",
              "      <td>15</td>\n",
              "      <td>72</td>\n",
              "      <td>.NET para web</td>\n",
              "    </tr>\n",
              "    <tr>\n",
              "      <th>15</th>\n",
              "      <td>16</td>\n",
              "      <td>76</td>\n",
              "      <td>Ruby on Rails</td>\n",
              "    </tr>\n",
              "    <tr>\n",
              "      <th>16</th>\n",
              "      <td>17</td>\n",
              "      <td>17</td>\n",
              "      <td>Análise de dados</td>\n",
              "    </tr>\n",
              "    <tr>\n",
              "      <th>17</th>\n",
              "      <td>19</td>\n",
              "      <td>9</td>\n",
              "      <td>Cursos de Python</td>\n",
              "    </tr>\n",
              "    <tr>\n",
              "      <th>18</th>\n",
              "      <td>20</td>\n",
              "      <td>7</td>\n",
              "      <td>Boas práticas em Java</td>\n",
              "    </tr>\n",
              "  </tbody>\n",
              "</table>\n",
              "</div>"
            ],
            "text/plain": [
              "    id_curso  quantidade_de_alunos                        nome_do_curso\n",
              "0          1                    27                Programação funcional\n",
              "1          2                    15                        PHP com MySql\n",
              "2          3                     2                         TDD com Java\n",
              "3          4                    86                  Desenvolvendo jogos\n",
              "4          5                    80          Orientação objetos com Java\n",
              "5          6                    37           Novas integrações com Java\n",
              "6          7                    50                      Hardware básico\n",
              "7          8                    47                  Internet das coisas\n",
              "8          9                    64                Lógica de programação\n",
              "9         10                    19                  Código limpo com C#\n",
              "10        11                    34  Preparatório para certificação Java\n",
              "11        12                    39                   Estatística básica\n",
              "12        13                    56                Persistência com .NET\n",
              "13        14                    77                          C# para Web\n",
              "14        15                    72                        .NET para web\n",
              "15        16                    76                        Ruby on Rails\n",
              "16        17                    17                     Análise de dados\n",
              "17        19                     9                     Cursos de Python\n",
              "18        20                     7                Boas práticas em Java"
            ]
          },
          "metadata": {
            "tags": []
          },
          "execution_count": 84
        }
      ]
    },
    {
      "cell_type": "code",
      "metadata": {
        "id": "PWdlg-pwzian",
        "colab": {
          "base_uri": "https://localhost:8080/",
          "height": 328
        },
        "outputId": "2ecf9901-d28b-4b6c-cad1-6c5ef1c1315c"
      },
      "source": [
        "query='select * from matriculas where quantidade_de_alunos >40'\n",
        "pd.read_sql(query,engine)"
      ],
      "execution_count": null,
      "outputs": [
        {
          "output_type": "execute_result",
          "data": {
            "text/html": [
              "<div>\n",
              "<style scoped>\n",
              "    .dataframe tbody tr th:only-of-type {\n",
              "        vertical-align: middle;\n",
              "    }\n",
              "\n",
              "    .dataframe tbody tr th {\n",
              "        vertical-align: top;\n",
              "    }\n",
              "\n",
              "    .dataframe thead th {\n",
              "        text-align: right;\n",
              "    }\n",
              "</style>\n",
              "<table border=\"1\" class=\"dataframe\">\n",
              "  <thead>\n",
              "    <tr style=\"text-align: right;\">\n",
              "      <th></th>\n",
              "      <th>id_curso</th>\n",
              "      <th>quantidade_de_alunos</th>\n",
              "      <th>nome_do_curso</th>\n",
              "    </tr>\n",
              "  </thead>\n",
              "  <tbody>\n",
              "    <tr>\n",
              "      <th>0</th>\n",
              "      <td>4</td>\n",
              "      <td>86</td>\n",
              "      <td>Desenvolvendo jogos</td>\n",
              "    </tr>\n",
              "    <tr>\n",
              "      <th>1</th>\n",
              "      <td>5</td>\n",
              "      <td>80</td>\n",
              "      <td>Orientação objetos com Java</td>\n",
              "    </tr>\n",
              "    <tr>\n",
              "      <th>2</th>\n",
              "      <td>7</td>\n",
              "      <td>50</td>\n",
              "      <td>Hardware básico</td>\n",
              "    </tr>\n",
              "    <tr>\n",
              "      <th>3</th>\n",
              "      <td>8</td>\n",
              "      <td>47</td>\n",
              "      <td>Internet das coisas</td>\n",
              "    </tr>\n",
              "    <tr>\n",
              "      <th>4</th>\n",
              "      <td>9</td>\n",
              "      <td>64</td>\n",
              "      <td>Lógica de programação</td>\n",
              "    </tr>\n",
              "    <tr>\n",
              "      <th>5</th>\n",
              "      <td>13</td>\n",
              "      <td>56</td>\n",
              "      <td>Persistência com .NET</td>\n",
              "    </tr>\n",
              "    <tr>\n",
              "      <th>6</th>\n",
              "      <td>14</td>\n",
              "      <td>77</td>\n",
              "      <td>C# para Web</td>\n",
              "    </tr>\n",
              "    <tr>\n",
              "      <th>7</th>\n",
              "      <td>15</td>\n",
              "      <td>72</td>\n",
              "      <td>.NET para web</td>\n",
              "    </tr>\n",
              "    <tr>\n",
              "      <th>8</th>\n",
              "      <td>16</td>\n",
              "      <td>76</td>\n",
              "      <td>Ruby on Rails</td>\n",
              "    </tr>\n",
              "  </tbody>\n",
              "</table>\n",
              "</div>"
            ],
            "text/plain": [
              "   id_curso  quantidade_de_alunos                nome_do_curso\n",
              "0         4                    86          Desenvolvendo jogos\n",
              "1         5                    80  Orientação objetos com Java\n",
              "2         7                    50              Hardware básico\n",
              "3         8                    47          Internet das coisas\n",
              "4         9                    64        Lógica de programação\n",
              "5        13                    56        Persistência com .NET\n",
              "6        14                    77                  C# para Web\n",
              "7        15                    72                .NET para web\n",
              "8        16                    76                Ruby on Rails"
            ]
          },
          "metadata": {
            "tags": []
          },
          "execution_count": 87
        }
      ]
    },
    {
      "cell_type": "code",
      "metadata": {
        "id": "07lvndPVzyKm",
        "colab": {
          "base_uri": "https://localhost:8080/",
          "height": 359
        },
        "outputId": "517d9d39-fe19-410a-b3dc-3758349a0043"
      },
      "source": [
        "# Ler tabelas \n",
        "muitas_matriculas=pd.read_sql_table('matriculas',engine,columns=['nome_do_curso','quantidade_de_alunos'])\n",
        "muitas_matriculas.head(10)"
      ],
      "execution_count": null,
      "outputs": [
        {
          "output_type": "execute_result",
          "data": {
            "text/html": [
              "<div>\n",
              "<style scoped>\n",
              "    .dataframe tbody tr th:only-of-type {\n",
              "        vertical-align: middle;\n",
              "    }\n",
              "\n",
              "    .dataframe tbody tr th {\n",
              "        vertical-align: top;\n",
              "    }\n",
              "\n",
              "    .dataframe thead th {\n",
              "        text-align: right;\n",
              "    }\n",
              "</style>\n",
              "<table border=\"1\" class=\"dataframe\">\n",
              "  <thead>\n",
              "    <tr style=\"text-align: right;\">\n",
              "      <th></th>\n",
              "      <th>nome_do_curso</th>\n",
              "      <th>quantidade_de_alunos</th>\n",
              "    </tr>\n",
              "  </thead>\n",
              "  <tbody>\n",
              "    <tr>\n",
              "      <th>0</th>\n",
              "      <td>Programação funcional</td>\n",
              "      <td>27</td>\n",
              "    </tr>\n",
              "    <tr>\n",
              "      <th>1</th>\n",
              "      <td>PHP com MySql</td>\n",
              "      <td>15</td>\n",
              "    </tr>\n",
              "    <tr>\n",
              "      <th>2</th>\n",
              "      <td>TDD com Java</td>\n",
              "      <td>2</td>\n",
              "    </tr>\n",
              "    <tr>\n",
              "      <th>3</th>\n",
              "      <td>Desenvolvendo jogos</td>\n",
              "      <td>86</td>\n",
              "    </tr>\n",
              "    <tr>\n",
              "      <th>4</th>\n",
              "      <td>Orientação objetos com Java</td>\n",
              "      <td>80</td>\n",
              "    </tr>\n",
              "    <tr>\n",
              "      <th>5</th>\n",
              "      <td>Novas integrações com Java</td>\n",
              "      <td>37</td>\n",
              "    </tr>\n",
              "    <tr>\n",
              "      <th>6</th>\n",
              "      <td>Hardware básico</td>\n",
              "      <td>50</td>\n",
              "    </tr>\n",
              "    <tr>\n",
              "      <th>7</th>\n",
              "      <td>Internet das coisas</td>\n",
              "      <td>47</td>\n",
              "    </tr>\n",
              "    <tr>\n",
              "      <th>8</th>\n",
              "      <td>Lógica de programação</td>\n",
              "      <td>64</td>\n",
              "    </tr>\n",
              "    <tr>\n",
              "      <th>9</th>\n",
              "      <td>Código limpo com C#</td>\n",
              "      <td>19</td>\n",
              "    </tr>\n",
              "  </tbody>\n",
              "</table>\n",
              "</div>"
            ],
            "text/plain": [
              "                 nome_do_curso  quantidade_de_alunos\n",
              "0        Programação funcional                    27\n",
              "1                PHP com MySql                    15\n",
              "2                 TDD com Java                     2\n",
              "3          Desenvolvendo jogos                    86\n",
              "4  Orientação objetos com Java                    80\n",
              "5   Novas integrações com Java                    37\n",
              "6              Hardware básico                    50\n",
              "7          Internet das coisas                    47\n",
              "8        Lógica de programação                    64\n",
              "9          Código limpo com C#                    19"
            ]
          },
          "metadata": {
            "tags": []
          },
          "execution_count": 92
        }
      ]
    },
    {
      "cell_type": "code",
      "metadata": {
        "id": "JS4T1Mkh0QC3",
        "colab": {
          "base_uri": "https://localhost:8080/",
          "height": 204
        },
        "outputId": "010fe5c2-addc-4d7b-c5b3-c40e5a9e86be"
      },
      "source": [
        "#Query direto do pandas \n",
        "matriculas_70=muitas_matriculas.query('quantidade_de_alunos>70')\n",
        "matriculas_70"
      ],
      "execution_count": null,
      "outputs": [
        {
          "output_type": "execute_result",
          "data": {
            "text/html": [
              "<div>\n",
              "<style scoped>\n",
              "    .dataframe tbody tr th:only-of-type {\n",
              "        vertical-align: middle;\n",
              "    }\n",
              "\n",
              "    .dataframe tbody tr th {\n",
              "        vertical-align: top;\n",
              "    }\n",
              "\n",
              "    .dataframe thead th {\n",
              "        text-align: right;\n",
              "    }\n",
              "</style>\n",
              "<table border=\"1\" class=\"dataframe\">\n",
              "  <thead>\n",
              "    <tr style=\"text-align: right;\">\n",
              "      <th></th>\n",
              "      <th>nome_do_curso</th>\n",
              "      <th>quantidade_de_alunos</th>\n",
              "    </tr>\n",
              "  </thead>\n",
              "  <tbody>\n",
              "    <tr>\n",
              "      <th>3</th>\n",
              "      <td>Desenvolvendo jogos</td>\n",
              "      <td>86</td>\n",
              "    </tr>\n",
              "    <tr>\n",
              "      <th>4</th>\n",
              "      <td>Orientação objetos com Java</td>\n",
              "      <td>80</td>\n",
              "    </tr>\n",
              "    <tr>\n",
              "      <th>13</th>\n",
              "      <td>C# para Web</td>\n",
              "      <td>77</td>\n",
              "    </tr>\n",
              "    <tr>\n",
              "      <th>14</th>\n",
              "      <td>.NET para web</td>\n",
              "      <td>72</td>\n",
              "    </tr>\n",
              "    <tr>\n",
              "      <th>15</th>\n",
              "      <td>Ruby on Rails</td>\n",
              "      <td>76</td>\n",
              "    </tr>\n",
              "  </tbody>\n",
              "</table>\n",
              "</div>"
            ],
            "text/plain": [
              "                  nome_do_curso  quantidade_de_alunos\n",
              "3           Desenvolvendo jogos                    86\n",
              "4   Orientação objetos com Java                    80\n",
              "13                  C# para Web                    77\n",
              "14                .NET para web                    72\n",
              "15                Ruby on Rails                    76"
            ]
          },
          "metadata": {
            "tags": []
          },
          "execution_count": 95
        }
      ]
    },
    {
      "cell_type": "markdown",
      "metadata": {
        "id": "KJF-oPQf09fK"
      },
      "source": [
        "## 3.  Escrevendo no banco"
      ]
    },
    {
      "cell_type": "code",
      "metadata": {
        "id": "Vpmb-fe209EE"
      },
      "source": [
        "matriculas_70.to_sql('muitas_matriculas',engine)"
      ],
      "execution_count": null,
      "outputs": []
    },
    {
      "cell_type": "code",
      "metadata": {
        "id": "I1vkhW7v0ule",
        "colab": {
          "base_uri": "https://localhost:8080/",
          "height": 34
        },
        "outputId": "0ffbec6e-7423-4a04-e01e-3e15e2fbe6ac"
      },
      "source": [
        "# O Banco de adados agora tem duas tabeals\n",
        "print(engine.table_names())"
      ],
      "execution_count": null,
      "outputs": [
        {
          "output_type": "stream",
          "text": [
            "['matriculas', 'muitas_matriculas']\n"
          ],
          "name": "stdout"
        }
      ]
    },
    {
      "cell_type": "code",
      "metadata": {
        "id": "GW7xQoo01XG4",
        "colab": {
          "base_uri": "https://localhost:8080/",
          "height": 204
        },
        "outputId": "68578794-cd38-4227-b0ce-3f339023dd6f"
      },
      "source": [
        "query='select * from muitas_matriculas'\n",
        "pd.read_sql(query,engine)"
      ],
      "execution_count": null,
      "outputs": [
        {
          "output_type": "execute_result",
          "data": {
            "text/html": [
              "<div>\n",
              "<style scoped>\n",
              "    .dataframe tbody tr th:only-of-type {\n",
              "        vertical-align: middle;\n",
              "    }\n",
              "\n",
              "    .dataframe tbody tr th {\n",
              "        vertical-align: top;\n",
              "    }\n",
              "\n",
              "    .dataframe thead th {\n",
              "        text-align: right;\n",
              "    }\n",
              "</style>\n",
              "<table border=\"1\" class=\"dataframe\">\n",
              "  <thead>\n",
              "    <tr style=\"text-align: right;\">\n",
              "      <th></th>\n",
              "      <th>index</th>\n",
              "      <th>nome_do_curso</th>\n",
              "      <th>quantidade_de_alunos</th>\n",
              "    </tr>\n",
              "  </thead>\n",
              "  <tbody>\n",
              "    <tr>\n",
              "      <th>0</th>\n",
              "      <td>3</td>\n",
              "      <td>Desenvolvendo jogos</td>\n",
              "      <td>86</td>\n",
              "    </tr>\n",
              "    <tr>\n",
              "      <th>1</th>\n",
              "      <td>4</td>\n",
              "      <td>Orientação objetos com Java</td>\n",
              "      <td>80</td>\n",
              "    </tr>\n",
              "    <tr>\n",
              "      <th>2</th>\n",
              "      <td>13</td>\n",
              "      <td>C# para Web</td>\n",
              "      <td>77</td>\n",
              "    </tr>\n",
              "    <tr>\n",
              "      <th>3</th>\n",
              "      <td>14</td>\n",
              "      <td>.NET para web</td>\n",
              "      <td>72</td>\n",
              "    </tr>\n",
              "    <tr>\n",
              "      <th>4</th>\n",
              "      <td>15</td>\n",
              "      <td>Ruby on Rails</td>\n",
              "      <td>76</td>\n",
              "    </tr>\n",
              "  </tbody>\n",
              "</table>\n",
              "</div>"
            ],
            "text/plain": [
              "   index                nome_do_curso  quantidade_de_alunos\n",
              "0      3          Desenvolvendo jogos                    86\n",
              "1      4  Orientação objetos com Java                    80\n",
              "2     13                  C# para Web                    77\n",
              "3     14                .NET para web                    72\n",
              "4     15                Ruby on Rails                    76"
            ]
          },
          "metadata": {
            "tags": []
          },
          "execution_count": 98
        }
      ]
    },
    {
      "cell_type": "markdown",
      "metadata": {
        "id": "JJOFJeLO1naa"
      },
      "source": [
        "# AULA 5"
      ]
    },
    {
      "cell_type": "markdown",
      "metadata": {
        "id": "qd28ywpn2dEM"
      },
      "source": [
        "## 1. Nomes da próxima turma"
      ]
    },
    {
      "cell_type": "code",
      "metadata": {
        "id": "LFnxKbaS1pD2",
        "colab": {
          "base_uri": "https://localhost:8080/",
          "height": 235
        },
        "outputId": "850489bf-7c08-4dbf-829f-78f9adffbbd7"
      },
      "source": [
        "matriculas_popr_curso.sort_values('quantidade_de_alunos',ascending=False).head(5)"
      ],
      "execution_count": null,
      "outputs": [
        {
          "output_type": "execute_result",
          "data": {
            "text/html": [
              "<div>\n",
              "<style scoped>\n",
              "    .dataframe tbody tr th:only-of-type {\n",
              "        vertical-align: middle;\n",
              "    }\n",
              "\n",
              "    .dataframe tbody tr th {\n",
              "        vertical-align: top;\n",
              "    }\n",
              "\n",
              "    .dataframe thead th {\n",
              "        text-align: right;\n",
              "    }\n",
              "</style>\n",
              "<table border=\"1\" class=\"dataframe\">\n",
              "  <thead>\n",
              "    <tr style=\"text-align: right;\">\n",
              "      <th></th>\n",
              "      <th>quantidade_de_alunos</th>\n",
              "      <th>nome_do_curso</th>\n",
              "    </tr>\n",
              "    <tr>\n",
              "      <th>id_curso</th>\n",
              "      <th></th>\n",
              "      <th></th>\n",
              "    </tr>\n",
              "  </thead>\n",
              "  <tbody>\n",
              "    <tr>\n",
              "      <th>4</th>\n",
              "      <td>86</td>\n",
              "      <td>Desenvolvendo jogos</td>\n",
              "    </tr>\n",
              "    <tr>\n",
              "      <th>5</th>\n",
              "      <td>80</td>\n",
              "      <td>Orientação objetos com Java</td>\n",
              "    </tr>\n",
              "    <tr>\n",
              "      <th>14</th>\n",
              "      <td>77</td>\n",
              "      <td>C# para Web</td>\n",
              "    </tr>\n",
              "    <tr>\n",
              "      <th>16</th>\n",
              "      <td>76</td>\n",
              "      <td>Ruby on Rails</td>\n",
              "    </tr>\n",
              "    <tr>\n",
              "      <th>15</th>\n",
              "      <td>72</td>\n",
              "      <td>.NET para web</td>\n",
              "    </tr>\n",
              "  </tbody>\n",
              "</table>\n",
              "</div>"
            ],
            "text/plain": [
              "          quantidade_de_alunos                nome_do_curso\n",
              "id_curso                                                   \n",
              "4                           86          Desenvolvendo jogos\n",
              "5                           80  Orientação objetos com Java\n",
              "14                          77                  C# para Web\n",
              "16                          76                Ruby on Rails\n",
              "15                          72                .NET para web"
            ]
          },
          "metadata": {
            "tags": []
          },
          "execution_count": 109
        }
      ]
    },
    {
      "cell_type": "code",
      "metadata": {
        "id": "eg_NkoGc39tj",
        "colab": {
          "base_uri": "https://localhost:8080/",
          "height": 359
        },
        "outputId": "4caa0237-2cee-4436-86f8-885177d66ef5"
      },
      "source": [
        "# Query\n",
        "id_ref=4\n",
        "proxima_turma=matriculas.query('id_curso == {}'.format(id_ref))\n",
        "proxima_turma.head(10)"
      ],
      "execution_count": null,
      "outputs": [
        {
          "output_type": "execute_result",
          "data": {
            "text/html": [
              "<div>\n",
              "<style scoped>\n",
              "    .dataframe tbody tr th:only-of-type {\n",
              "        vertical-align: middle;\n",
              "    }\n",
              "\n",
              "    .dataframe tbody tr th {\n",
              "        vertical-align: top;\n",
              "    }\n",
              "\n",
              "    .dataframe thead th {\n",
              "        text-align: right;\n",
              "    }\n",
              "</style>\n",
              "<table border=\"1\" class=\"dataframe\">\n",
              "  <thead>\n",
              "    <tr style=\"text-align: right;\">\n",
              "      <th></th>\n",
              "      <th>id_aluno</th>\n",
              "      <th>id_curso</th>\n",
              "    </tr>\n",
              "  </thead>\n",
              "  <tbody>\n",
              "    <tr>\n",
              "      <th>5</th>\n",
              "      <td>211</td>\n",
              "      <td>4</td>\n",
              "    </tr>\n",
              "    <tr>\n",
              "      <th>26</th>\n",
              "      <td>73</td>\n",
              "      <td>4</td>\n",
              "    </tr>\n",
              "    <tr>\n",
              "      <th>36</th>\n",
              "      <td>78</td>\n",
              "      <td>4</td>\n",
              "    </tr>\n",
              "    <tr>\n",
              "      <th>52</th>\n",
              "      <td>194</td>\n",
              "      <td>4</td>\n",
              "    </tr>\n",
              "    <tr>\n",
              "      <th>70</th>\n",
              "      <td>77</td>\n",
              "      <td>4</td>\n",
              "    </tr>\n",
              "    <tr>\n",
              "      <th>71</th>\n",
              "      <td>77</td>\n",
              "      <td>4</td>\n",
              "    </tr>\n",
              "    <tr>\n",
              "      <th>74</th>\n",
              "      <td>83</td>\n",
              "      <td>4</td>\n",
              "    </tr>\n",
              "    <tr>\n",
              "      <th>96</th>\n",
              "      <td>173</td>\n",
              "      <td>4</td>\n",
              "    </tr>\n",
              "    <tr>\n",
              "      <th>112</th>\n",
              "      <td>269</td>\n",
              "      <td>4</td>\n",
              "    </tr>\n",
              "    <tr>\n",
              "      <th>115</th>\n",
              "      <td>395</td>\n",
              "      <td>4</td>\n",
              "    </tr>\n",
              "  </tbody>\n",
              "</table>\n",
              "</div>"
            ],
            "text/plain": [
              "     id_aluno  id_curso\n",
              "5         211         4\n",
              "26         73         4\n",
              "36         78         4\n",
              "52        194         4\n",
              "70         77         4\n",
              "71         77         4\n",
              "74         83         4\n",
              "96        173         4\n",
              "112       269         4\n",
              "115       395         4"
            ]
          },
          "metadata": {
            "tags": []
          },
          "execution_count": 117
        }
      ]
    },
    {
      "cell_type": "code",
      "metadata": {
        "id": "XrypkmOY4IE3",
        "colab": {
          "base_uri": "https://localhost:8080/",
          "height": 450
        },
        "outputId": "7e7dd7b5-653f-4a27-f001-b33058436d37"
      },
      "source": [
        "proxima_turma.set_index('id_aluno').join(nomes.set_index('id_aluno'))"
      ],
      "execution_count": null,
      "outputs": [
        {
          "output_type": "execute_result",
          "data": {
            "text/html": [
              "<div>\n",
              "<style scoped>\n",
              "    .dataframe tbody tr th:only-of-type {\n",
              "        vertical-align: middle;\n",
              "    }\n",
              "\n",
              "    .dataframe tbody tr th {\n",
              "        vertical-align: top;\n",
              "    }\n",
              "\n",
              "    .dataframe thead th {\n",
              "        text-align: right;\n",
              "    }\n",
              "</style>\n",
              "<table border=\"1\" class=\"dataframe\">\n",
              "  <thead>\n",
              "    <tr style=\"text-align: right;\">\n",
              "      <th></th>\n",
              "      <th>id_curso</th>\n",
              "      <th>nome</th>\n",
              "      <th>dominio</th>\n",
              "      <th>email</th>\n",
              "      <th>matriculas</th>\n",
              "    </tr>\n",
              "    <tr>\n",
              "      <th>id_aluno</th>\n",
              "      <th></th>\n",
              "      <th></th>\n",
              "      <th></th>\n",
              "      <th></th>\n",
              "      <th></th>\n",
              "    </tr>\n",
              "  </thead>\n",
              "  <tbody>\n",
              "    <tr>\n",
              "      <th>3</th>\n",
              "      <td>4</td>\n",
              "      <td>LEANDRO</td>\n",
              "      <td>@gmail.com</td>\n",
              "      <td>leandro@gmail.com</td>\n",
              "      <td>3</td>\n",
              "    </tr>\n",
              "    <tr>\n",
              "      <th>12</th>\n",
              "      <td>4</td>\n",
              "      <td>LUCAS</td>\n",
              "      <td>@coc.ufrj.br</td>\n",
              "      <td>lucas@coc.ufrj.br</td>\n",
              "      <td>10</td>\n",
              "    </tr>\n",
              "    <tr>\n",
              "      <th>12</th>\n",
              "      <td>4</td>\n",
              "      <td>LUCAS</td>\n",
              "      <td>@coc.ufrj.br</td>\n",
              "      <td>lucas@coc.ufrj.br</td>\n",
              "      <td>10</td>\n",
              "    </tr>\n",
              "    <tr>\n",
              "      <th>12</th>\n",
              "      <td>4</td>\n",
              "      <td>LUCAS</td>\n",
              "      <td>@coc.ufrj.br</td>\n",
              "      <td>lucas@coc.ufrj.br</td>\n",
              "      <td>10</td>\n",
              "    </tr>\n",
              "    <tr>\n",
              "      <th>22</th>\n",
              "      <td>4</td>\n",
              "      <td>JAILSON</td>\n",
              "      <td>@coc.ufrj.br</td>\n",
              "      <td>jailson@coc.ufrj.br</td>\n",
              "      <td>7</td>\n",
              "    </tr>\n",
              "    <tr>\n",
              "      <th>...</th>\n",
              "      <td>...</td>\n",
              "      <td>...</td>\n",
              "      <td>...</td>\n",
              "      <td>...</td>\n",
              "      <td>...</td>\n",
              "    </tr>\n",
              "    <tr>\n",
              "      <th>376</th>\n",
              "      <td>4</td>\n",
              "      <td>LEILA</td>\n",
              "      <td>@gmail.com</td>\n",
              "      <td>leila@gmail.com</td>\n",
              "      <td>3</td>\n",
              "    </tr>\n",
              "    <tr>\n",
              "      <th>388</th>\n",
              "      <td>4</td>\n",
              "      <td>TAMIRES</td>\n",
              "      <td>@coc.ufrj.br</td>\n",
              "      <td>tamires@coc.ufrj.br</td>\n",
              "      <td>2</td>\n",
              "    </tr>\n",
              "    <tr>\n",
              "      <th>389</th>\n",
              "      <td>4</td>\n",
              "      <td>LAURA</td>\n",
              "      <td>@gmail.com</td>\n",
              "      <td>laura@gmail.com</td>\n",
              "      <td>3</td>\n",
              "    </tr>\n",
              "    <tr>\n",
              "      <th>390</th>\n",
              "      <td>4</td>\n",
              "      <td>LUCIANO</td>\n",
              "      <td>@coc.ufrj.br</td>\n",
              "      <td>luciano@coc.ufrj.br</td>\n",
              "      <td>3</td>\n",
              "    </tr>\n",
              "    <tr>\n",
              "      <th>395</th>\n",
              "      <td>4</td>\n",
              "      <td>LUIZA</td>\n",
              "      <td>@coc.ufrj.br</td>\n",
              "      <td>luiza@coc.ufrj.br</td>\n",
              "      <td>2</td>\n",
              "    </tr>\n",
              "  </tbody>\n",
              "</table>\n",
              "<p>86 rows × 5 columns</p>\n",
              "</div>"
            ],
            "text/plain": [
              "          id_curso     nome       dominio                email  matriculas\n",
              "id_aluno                                                                  \n",
              "3                4  LEANDRO    @gmail.com    leandro@gmail.com           3\n",
              "12               4    LUCAS  @coc.ufrj.br    lucas@coc.ufrj.br          10\n",
              "12               4    LUCAS  @coc.ufrj.br    lucas@coc.ufrj.br          10\n",
              "12               4    LUCAS  @coc.ufrj.br    lucas@coc.ufrj.br          10\n",
              "22               4  JAILSON  @coc.ufrj.br  jailson@coc.ufrj.br           7\n",
              "...            ...      ...           ...                  ...         ...\n",
              "376              4    LEILA    @gmail.com      leila@gmail.com           3\n",
              "388              4  TAMIRES  @coc.ufrj.br  tamires@coc.ufrj.br           2\n",
              "389              4    LAURA    @gmail.com      laura@gmail.com           3\n",
              "390              4  LUCIANO  @coc.ufrj.br  luciano@coc.ufrj.br           3\n",
              "395              4    LUIZA  @coc.ufrj.br    luiza@coc.ufrj.br           2\n",
              "\n",
              "[86 rows x 5 columns]"
            ]
          },
          "metadata": {
            "tags": []
          },
          "execution_count": 121
        }
      ]
    },
    {
      "cell_type": "code",
      "metadata": {
        "id": "tLkhljS_434k",
        "colab": {
          "base_uri": "https://localhost:8080/",
          "height": 238
        },
        "outputId": "99e42ff9-e2c1-4174-e431-63101c869364"
      },
      "source": [
        "proxima_turma.set_index('id_aluno').join(nomes.set_index('id_aluno'))['nome']"
      ],
      "execution_count": null,
      "outputs": [
        {
          "output_type": "execute_result",
          "data": {
            "text/plain": [
              "id_aluno\n",
              "3      LEANDRO\n",
              "12       LUCAS\n",
              "12       LUCAS\n",
              "12       LUCAS\n",
              "22     JAILSON\n",
              "        ...   \n",
              "376      LEILA\n",
              "388    TAMIRES\n",
              "389      LAURA\n",
              "390    LUCIANO\n",
              "395      LUIZA\n",
              "Name: nome, Length: 86, dtype: object"
            ]
          },
          "metadata": {
            "tags": []
          },
          "execution_count": 122
        }
      ]
    },
    {
      "cell_type": "code",
      "metadata": {
        "id": "rsv3QfiC5jEq",
        "colab": {
          "base_uri": "https://localhost:8080/",
          "height": 235
        },
        "outputId": "de8a41fe-3722-4d7d-af36-263f2c6219ec"
      },
      "source": [
        "# Transforma lista em dataframe\n",
        "proxima_turma=proxima_turma.set_index('id_aluno').join(nomes.set_index('id_aluno'))['nome'].to_frame()\n",
        "proxima_turma.head()"
      ],
      "execution_count": null,
      "outputs": [
        {
          "output_type": "execute_result",
          "data": {
            "text/html": [
              "<div>\n",
              "<style scoped>\n",
              "    .dataframe tbody tr th:only-of-type {\n",
              "        vertical-align: middle;\n",
              "    }\n",
              "\n",
              "    .dataframe tbody tr th {\n",
              "        vertical-align: top;\n",
              "    }\n",
              "\n",
              "    .dataframe thead th {\n",
              "        text-align: right;\n",
              "    }\n",
              "</style>\n",
              "<table border=\"1\" class=\"dataframe\">\n",
              "  <thead>\n",
              "    <tr style=\"text-align: right;\">\n",
              "      <th></th>\n",
              "      <th>nome</th>\n",
              "    </tr>\n",
              "    <tr>\n",
              "      <th>id_aluno</th>\n",
              "      <th></th>\n",
              "    </tr>\n",
              "  </thead>\n",
              "  <tbody>\n",
              "    <tr>\n",
              "      <th>3</th>\n",
              "      <td>LEANDRO</td>\n",
              "    </tr>\n",
              "    <tr>\n",
              "      <th>12</th>\n",
              "      <td>LUCAS</td>\n",
              "    </tr>\n",
              "    <tr>\n",
              "      <th>12</th>\n",
              "      <td>LUCAS</td>\n",
              "    </tr>\n",
              "    <tr>\n",
              "      <th>12</th>\n",
              "      <td>LUCAS</td>\n",
              "    </tr>\n",
              "    <tr>\n",
              "      <th>22</th>\n",
              "      <td>JAILSON</td>\n",
              "    </tr>\n",
              "  </tbody>\n",
              "</table>\n",
              "</div>"
            ],
            "text/plain": [
              "             nome\n",
              "id_aluno         \n",
              "3         LEANDRO\n",
              "12          LUCAS\n",
              "12          LUCAS\n",
              "12          LUCAS\n",
              "22        JAILSON"
            ]
          },
          "metadata": {
            "tags": []
          },
          "execution_count": 135
        }
      ]
    },
    {
      "cell_type": "code",
      "metadata": {
        "id": "ytoPK9H95p6Y",
        "colab": {
          "base_uri": "https://localhost:8080/",
          "height": 51
        },
        "outputId": "067c85a0-e853-4435-acf8-e9a868a48fb8"
      },
      "source": [
        "nome_curso=cursos.loc[id_ref]\n",
        "nome_curso"
      ],
      "execution_count": null,
      "outputs": [
        {
          "output_type": "execute_result",
          "data": {
            "text/plain": [
              "nome_do_curso    Desenvolvendo jogos\n",
              "Name: 4, dtype: object"
            ]
          },
          "metadata": {
            "tags": []
          },
          "execution_count": 139
        }
      ]
    },
    {
      "cell_type": "code",
      "metadata": {
        "id": "DNkezNrl6Jn-",
        "colab": {
          "base_uri": "https://localhost:8080/",
          "height": 34
        },
        "outputId": "58af4fa1-af52-4969-a2a6-9f0539939343"
      },
      "source": [
        "nome_curso=nome_curso.nome_do_curso\n",
        "nome_curso"
      ],
      "execution_count": null,
      "outputs": [
        {
          "output_type": "execute_result",
          "data": {
            "text/plain": [
              "'Desenvolvendo jogos'"
            ]
          },
          "metadata": {
            "tags": []
          },
          "execution_count": 140
        }
      ]
    },
    {
      "cell_type": "code",
      "metadata": {
        "id": "ljPhhaG76js4",
        "colab": {
          "base_uri": "https://localhost:8080/",
          "height": 390
        },
        "outputId": "3247c502-e32b-4097-f55a-dbc3320ecc86"
      },
      "source": [
        "proxima_turma=proxima_turma.rename(columns={'nome':'Alunos do curso de {}'.format(nome_curso)})\n",
        "proxima_turma.sample(10)"
      ],
      "execution_count": null,
      "outputs": [
        {
          "output_type": "execute_result",
          "data": {
            "text/html": [
              "<div>\n",
              "<style scoped>\n",
              "    .dataframe tbody tr th:only-of-type {\n",
              "        vertical-align: middle;\n",
              "    }\n",
              "\n",
              "    .dataframe tbody tr th {\n",
              "        vertical-align: top;\n",
              "    }\n",
              "\n",
              "    .dataframe thead th {\n",
              "        text-align: right;\n",
              "    }\n",
              "</style>\n",
              "<table border=\"1\" class=\"dataframe\">\n",
              "  <thead>\n",
              "    <tr style=\"text-align: right;\">\n",
              "      <th></th>\n",
              "      <th>Alunos do curso de Desenvolvendo jogos</th>\n",
              "    </tr>\n",
              "    <tr>\n",
              "      <th>id_aluno</th>\n",
              "      <th></th>\n",
              "    </tr>\n",
              "  </thead>\n",
              "  <tbody>\n",
              "    <tr>\n",
              "      <th>283</th>\n",
              "      <td>CARLOS</td>\n",
              "    </tr>\n",
              "    <tr>\n",
              "      <th>63</th>\n",
              "      <td>REINALDO</td>\n",
              "    </tr>\n",
              "    <tr>\n",
              "      <th>355</th>\n",
              "      <td>LUCIANE</td>\n",
              "    </tr>\n",
              "    <tr>\n",
              "      <th>245</th>\n",
              "      <td>ROGERIO</td>\n",
              "    </tr>\n",
              "    <tr>\n",
              "      <th>247</th>\n",
              "      <td>MARLI</td>\n",
              "    </tr>\n",
              "    <tr>\n",
              "      <th>252</th>\n",
              "      <td>EVANDRO</td>\n",
              "    </tr>\n",
              "    <tr>\n",
              "      <th>352</th>\n",
              "      <td>SEBASTIANA</td>\n",
              "    </tr>\n",
              "    <tr>\n",
              "      <th>101</th>\n",
              "      <td>RENAN</td>\n",
              "    </tr>\n",
              "    <tr>\n",
              "      <th>338</th>\n",
              "      <td>IVONETE</td>\n",
              "    </tr>\n",
              "    <tr>\n",
              "      <th>25</th>\n",
              "      <td>LAIS</td>\n",
              "    </tr>\n",
              "  </tbody>\n",
              "</table>\n",
              "</div>"
            ],
            "text/plain": [
              "         Alunos do curso de Desenvolvendo jogos\n",
              "id_aluno                                       \n",
              "283                                      CARLOS\n",
              "63                                     REINALDO\n",
              "355                                     LUCIANE\n",
              "245                                     ROGERIO\n",
              "247                                       MARLI\n",
              "252                                     EVANDRO\n",
              "352                                  SEBASTIANA\n",
              "101                                       RENAN\n",
              "338                                     IVONETE\n",
              "25                                         LAIS"
            ]
          },
          "metadata": {
            "tags": []
          },
          "execution_count": 143
        }
      ]
    },
    {
      "cell_type": "markdown",
      "metadata": {
        "id": "4pMrTlp98DAE"
      },
      "source": [
        "## 2. Escrevendo e lendo excel"
      ]
    },
    {
      "cell_type": "code",
      "metadata": {
        "id": "ekeKbe6t7wgh"
      },
      "source": [
        "proxima_turma.to_excel('EXCEL_arquivo.xlsx',index=False)"
      ],
      "execution_count": null,
      "outputs": []
    },
    {
      "cell_type": "code",
      "metadata": {
        "id": "jVbeS6NH8kQR",
        "colab": {
          "base_uri": "https://localhost:8080/",
          "height": 419
        },
        "outputId": "81b2d4ce-2700-4e87-c4dd-ee47d2945c35"
      },
      "source": [
        "pd.read_excel('EXCEL_arquivo.xlsx')"
      ],
      "execution_count": null,
      "outputs": [
        {
          "output_type": "execute_result",
          "data": {
            "text/html": [
              "<div>\n",
              "<style scoped>\n",
              "    .dataframe tbody tr th:only-of-type {\n",
              "        vertical-align: middle;\n",
              "    }\n",
              "\n",
              "    .dataframe tbody tr th {\n",
              "        vertical-align: top;\n",
              "    }\n",
              "\n",
              "    .dataframe thead th {\n",
              "        text-align: right;\n",
              "    }\n",
              "</style>\n",
              "<table border=\"1\" class=\"dataframe\">\n",
              "  <thead>\n",
              "    <tr style=\"text-align: right;\">\n",
              "      <th></th>\n",
              "      <th>Alunos do curso de Desenvolvendo jogos</th>\n",
              "    </tr>\n",
              "  </thead>\n",
              "  <tbody>\n",
              "    <tr>\n",
              "      <th>0</th>\n",
              "      <td>LEANDRO</td>\n",
              "    </tr>\n",
              "    <tr>\n",
              "      <th>1</th>\n",
              "      <td>LUCAS</td>\n",
              "    </tr>\n",
              "    <tr>\n",
              "      <th>2</th>\n",
              "      <td>LUCAS</td>\n",
              "    </tr>\n",
              "    <tr>\n",
              "      <th>3</th>\n",
              "      <td>LUCAS</td>\n",
              "    </tr>\n",
              "    <tr>\n",
              "      <th>4</th>\n",
              "      <td>JAILSON</td>\n",
              "    </tr>\n",
              "    <tr>\n",
              "      <th>...</th>\n",
              "      <td>...</td>\n",
              "    </tr>\n",
              "    <tr>\n",
              "      <th>81</th>\n",
              "      <td>LEILA</td>\n",
              "    </tr>\n",
              "    <tr>\n",
              "      <th>82</th>\n",
              "      <td>TAMIRES</td>\n",
              "    </tr>\n",
              "    <tr>\n",
              "      <th>83</th>\n",
              "      <td>LAURA</td>\n",
              "    </tr>\n",
              "    <tr>\n",
              "      <th>84</th>\n",
              "      <td>LUCIANO</td>\n",
              "    </tr>\n",
              "    <tr>\n",
              "      <th>85</th>\n",
              "      <td>LUIZA</td>\n",
              "    </tr>\n",
              "  </tbody>\n",
              "</table>\n",
              "<p>86 rows × 1 columns</p>\n",
              "</div>"
            ],
            "text/plain": [
              "   Alunos do curso de Desenvolvendo jogos\n",
              "0                                 LEANDRO\n",
              "1                                   LUCAS\n",
              "2                                   LUCAS\n",
              "3                                   LUCAS\n",
              "4                                 JAILSON\n",
              "..                                    ...\n",
              "81                                  LEILA\n",
              "82                                TAMIRES\n",
              "83                                  LAURA\n",
              "84                                LUCIANO\n",
              "85                                  LUIZA\n",
              "\n",
              "[86 rows x 1 columns]"
            ]
          },
          "metadata": {
            "tags": []
          },
          "execution_count": 145
        }
      ]
    },
    {
      "cell_type": "code",
      "metadata": {
        "id": "2Qo7xJaR82Tr"
      },
      "source": [
        ""
      ],
      "execution_count": null,
      "outputs": []
    }
  ]
}