{
 "metadata": {
  "language_info": {
   "codemirror_mode": {
    "name": "ipython",
    "version": 3
   },
   "file_extension": ".py",
   "mimetype": "text/x-python",
   "name": "python",
   "nbconvert_exporter": "python",
   "pygments_lexer": "ipython3",
   "version": "3.8.6"
  },
  "orig_nbformat": 2,
  "kernelspec": {
   "name": "python386jvsc74a57bd01baa965d5efe3ac65b79dfc60c0d706280b1da80fedb7760faf2759126c4f253",
   "display_name": "Python 3.8.6 64-bit"
  },
  "metadata": {
   "interpreter": {
    "hash": "1baa965d5efe3ac65b79dfc60c0d706280b1da80fedb7760faf2759126c4f253"
   }
  }
 },
 "nbformat": 4,
 "nbformat_minor": 2,
 "cells": [
  {
   "source": [
    "---\n",
    "#  SUBSTITUTION CIPHERS\n",
    "*Alan Mathison Turing  (23 June 1912 – 7 June 1954) was an English mathematician, computer scientist, logician, cryptanalyst, philosopher, and theoretical biologist. Turing was highly influential in the development of theoretical computer science, providing a formalisation of the concepts of algorithm and computation with the Turing machine, which can be considered a model of a general-purpose computer. Turing is widely considered to be the father of theoretical computer science and artificial intelligence*\n",
    "\n",
    "![](https://s2.glbimg.com/3auOxS3cG2mc_H5jFXDpxC7ol-w=/e.glbimg.com/og/ed/f/original/2016/09/12/dr-alan-turing-2956483.jpg)\n",
    "\n",
    "\n",
    "In cryptography, a classical cipher is a type of cipher that was used historically but for the most part, has fallen into disuse. In contrast to modern cryptographic algorithms, most classical ciphers can be practically computed and solved by hand. However, they are also usually very simple to break with modern technology. The term includes the simple systems used since Greek and Roman times, the elaborate Renaissance ciphers, World War II cryptography such as the Enigma machine and beyond\n",
    "\n",
    "In a substitution cipher, letters (or groups of letters) are systematically replaced throughout the message for other letters (or groups of letters).\n",
    "A well-known example of a substitution cipher is the Caesar cipher. To encrypt a message with the Caesar cipher, each letter of message is replaced by the letter three positions later in the alphabet. Hence, A is replaced by D, B by E, C by F, etc. Finally, X, Y and Z are replaced by A, B and C respectively. So, for example, \"WIKIPEDIA\" encrypts as \"ZLNLSHGLD\". Caesar rotated the alphabet by three letters, but any number works.\n",
    "\n",
    "Another method of substitution cipher is based on a keyword. All spaces and repeated letters are removed from a word or phrase, which the encoder then uses as the start of the cipher alphabet. The end of the cipher alphabet is the rest of the alphabet in order without repeating the letters in the keyword.\n",
    "\n",
    "---\n",
    "# PART 2 - STATISTICAL NLP\n",
    "\n",
    "## 2.1. Text Normalization "
   ],
   "cell_type": "markdown",
   "metadata": {}
  },
  {
   "cell_type": "code",
   "execution_count": 1,
   "metadata": {},
   "outputs": [
    {
     "output_type": "stream",
     "name": "stdout",
     "text": [
      "lutei pra entrar e nao vou sair os que nao pertencem eu devolvi acido no metal causa efeito letal teto baixo te espreme respira quem pira ta na mira da minha firma entao me espera recupera o folego se comigo nao morre nunca cai nao tento a sorte woodstock num flow metodico toma e pra quem quer dou e pra quem pode e nosso destino e uma caixa de surpresa leopardo ou zebra me diz ce quer ser predador ou presa e assim o percorri pela beira da terra ate a sorte me dizer menino voce tem uma aval no tempo essencia eu elevo no peito o excesso essencial e muito bom nao se acomodar satisfacao se o verso ecoar vendo em polpa nao vou me poupar entao demorou meu mano let s go quero que se foda o que disser to de pe vou mantendo a fe ate meu mano vou correndo igual rale adivinha o que tu quer vagabundo quer mas e quem nao quer ne quero ver dinheiro na responsa ser amigo da onca jacare que banca vira bolsa mano entao me mostre a cara convivencia com malandro que ja foi da costa fala pra carai diz que gosta se gosta tambem ze vagabundo ve a bota e nao ve o pe mas nao quer me ver em pe jao sei ate quem sao to na contencao bababarebabareba papo de cuzao voce quer provar ja provei que sei bem te representei levei pra caminhada quando nem era ninguem nao palavra de conforto recebida minha vida se resume no meu dom jao vai vai espero que seu ego nao atrapalhe sua conduta se nao vagabundo cai e como cai dependendo onde eu sei bem dessa febre e talvez nao levante mais membro do haikaiss sou cabra da peste que agride mais sou capaz de fazer essa multidao aliada na missao concedida na vida de um tempo atras nao sei se e ciencia ou penso em como o acesso e essencial a todos que entenderam nao adianta acusar o dom nasceu comigo e vacilo e nao o usar dizem por ai que e facil fazer tudo que eu sei e nao fazem e nao sabem na vida voce perde tempo ou entende o conceito de sabedoria ganha melodia cansado de ve tio ouvir multidao falar de minoria nao vai se covardia explanar dividiram mema tag se xinga essa falta de etica pratica excentrica elegem e vejo o som na esquiva mas que fita nao sei que poucos sao bons pelo troco sei dom cada plano nao e em vao sem querer ser zoiao mano so aumenta na idade e mantida a cidade reduz bpm entra longevidade cientista do grave quando quer sabe qual que ele e eu vim dominei os palco rodape os mic com fio rodoviaria novo rio sou paulista memo e chamo os outros de tio eu nao vejo uma arminha praia sempre foi dollar bill bora filha sabado de abril balada ja abriu camarada meu ja ta a mil rap para me deixar febril eu tentei nao serviu uniforme e para garcom de navio um salve ao imortal sabotage que faz da rima um fuzil quinze anos depois construindo mais pontes que engenheiro civil isqueiro pra acender o pavio racionais rzo engajamento na luta e vantagem me dou liberdade de representar cidade sem diversidade zona norte pro mundo entao parte ah um salve a quem nao falha na conduta filha de uma puta veste a carapuca veja a cara de quem escuta moda velha que te muda que se foda mudo o rumo mas nao mudo o que se planta vem pra guerra e de quebra vende o almoco pega janta maloqueiro canta junto com a vontade dessa porra pra esse mundo ser melhor mas na verdade o que se prega diferente da novela vida loka vida curta vai na falha que te corta vale mais do que se pensa tudo mundo que defende vale mais seguir em frente caminhando diferente caminhando com a minha gente cara a cara conquistado no que pega nossa mente na verdade eu canto aquilo que difere o nivel cara compativel mas nao passa no canal domingo aquilo que se fala de importante pra nacao mas que se foda eu falo memo rapido como quem bate o coracao em cada passo eu olho e vejo na bagagem calejada meu comunicado mano e complicado cada laco que mantenho vale o ouro mas nao vale o couro aqui se visa o muro poe na conta do mano que calo o povo eu quero ve na cara cara com o menor oh tem muito veneno e pouca do oh falam da vitoria mas nao falam da derrota mas nao para para para para para rap lord nao sei se e ciencia ou penso em como o acesso e essencial a todos que entenderam nao adianta acusar o dom nasceu comigo e vacilo e nao o usar ah nao pensa que eu parei nao acabo nao acabo nao deixa eu aproveita que esse momento e bom jao ta tao bom irmao que eu falei que eu domestico mais um pouco da batida desse flow vagabundao vagabundo fica louco to loucao sente a colisao entao vindo de um moleque cativando pro meu rap que te passa uma energia que virou meu ganha pao dizem por ai que e facil fazer tudo que eu sei e nao fazem e nao sabem nao sabem nao sabem nao sabem falam da vitoria mas nao falam da derrota mas nao para para para para para rap lord\n"
     ]
    }
   ],
   "source": [
    "# Import the packges\n",
    "from collections import Counter \n",
    "import unidecode\n",
    "import re \n",
    "\n",
    "#Read the file with the string >> Remove accents>>Remove special characters\n",
    "rap_lord = re.sub('\\W+',' ',unidecode.unidecode(open('rap_lord.txt','r',encoding=\"utf8\").read().replace('\\n', ' ').lower()))\n",
    "print(rap_lord)"
   ]
  },
  {
   "cell_type": "code",
   "execution_count": 8,
   "metadata": {},
   "outputs": [
    {
     "output_type": "stream",
     "name": "stdout",
     "text": [
      "a => 12.49%\ne => 10.74%\no => 8.77%\nn => 4.7%\nr => 4.62%\ni => 4.36%\nm => 4.23%\nu => 4.08%\ns => 3.98%\nd => 3.81%\nt => 2.97%\nc => 2.93%\np => 2.29%\nl => 2.12%\nv => 1.92%\nq => 1.56%\nb => 1.09%\nf => 1.01%\ng => 0.83%\nh => 0.58%\nz => 0.47%\nj => 0.34%\nx => 0.17%\nw => 0.06%\nk => 0.06%\n"
     ]
    }
   ],
   "source": [
    "# Define function which counts the letters\n",
    "def freq_text(sentece,n_top):\n",
    "  letters_count = Counter(sentece.lower()).most_common(n_top)\n",
    "  letters_total = sum(Counter(sentece.lower()).values())\n",
    "\n",
    "  letters_list=[]\n",
    "  for letter in letters_count:\n",
    "    if letter[0]!=\" \":\n",
    "        print (f\"{letter[0]} => {round((letter[1]/letters_total)*100,2)}%\")\n",
    "        letters_list.append(letter[0])\n",
    "  return letters_list\n",
    "\n",
    "#Apply      \n",
    "list_letters=freq_letters(rap_lord,30)"
   ]
  },
  {
   "source": [
    "## 2.1. Caesar Cipher and Language statistics\n",
    "\n",
    "---\n",
    "## Test 04 \n",
    "\n",
    "Using the information available in below and knowing that the text was written in Portuguese. Try decipher the cipher sentence"
   ],
   "cell_type": "markdown",
   "metadata": {}
  },
  {
   "source": [],
   "cell_type": "markdown",
   "metadata": {}
  },
  {
   "cell_type": "code",
   "execution_count": 9,
   "metadata": {},
   "outputs": [
    {
     "output_type": "stream",
     "name": "stdout",
     "text": [
      "h => 12.49%\nl => 10.74%\nv => 8.77%\nu => 4.7%\ny => 4.62%\np => 4.36%\nt => 4.23%\nb => 4.08%\nz => 3.98%\nk => 3.81%\na => 2.97%\nj => 2.93%\nw => 2.29%\ns => 2.1%\nc => 1.92%\nx => 1.56%\ni => 1.09%\nm => 1.01%\nn => 0.83%\no => 0.58%\ng => 0.47%\nq => 0.34%\ne => 0.17%\nd => 0.06%\nr => 0.06%\n"
     ]
    }
   ],
   "source": [
    "cipher=''' balp wyh luayhy l uhv cvb zhpy vz xbl uhv wlyalujlt lb klcvscp hjpkv uv tlahs jhbzh lmlpav slahs alav ihpev al lzwyltl ylzwpyh xblt wpyh ah uh tpyh kh tpuoh mpyth luahv tl lzwlyh yljbwlyh v mvslnv zl jvtpnv uhv tvyyl ubujh jhp uhv aluav h zvyal dvvkzavjr ubt msvd tlavkpjv avth l wyh xblt xbly kvb l wyh xblt wvkl l uvzzv klzapuv l bth jhpeh kl zbywylzh slvwhykv vb gliyh tl kpg jl xbly zly wylkhkvy vb wylzh l hzzpt v wlyjvyyp wlsh ilpyh kh alyyh hal h zvyal tl kpgly tlupuv cvjl alt bth hchs uv altwv lzzlujph lb lslcv uv wlpav v lejlzzv lzzlujphs l tbpav ivt uhv zl hjvtvkhy zhapzmhjhv zl v clyzv ljvhy clukv lt wvswh uhv cvb tl wvbwhy luahv kltvyvb tlb thuv sla z nv xblyv xbl zl mvkh v xbl kpzzly av kl wl cvb thualukv h ml hal tlb thuv cvb jvyylukv pnbhs yhsl hkpcpuoh v xbl ab xbly chnhibukv xbly thz l xblt uhv xbly ul xblyv cly kpuolpyv uh ylzwvuzh zly htpnv kh vujh qhjhyl xbl ihujh cpyh ivszh thuv luahv tl tvzayl h jhyh jvucpclujph jvt thshukyv xbl qh mvp kh jvzah mhsh wyh jhyhp kpg xbl nvzah zl nvzah ahtilt gl chnhibukv cl h ivah l uhv cl v wl thz uhv xbly tl cly lt wl qhv zlp hal xblt zhv av uh jvualujhv ihihihylihihylih whwv kl jbghv cvjl xbly wyvchy qh wyvclp xbl zlp ilt al ylwylzlualp slclp wyh jhtpuohkh xbhukv ult lyh upunblt uhv whshcyh kl jvumvyav yljlipkh tpuoh cpkh zl ylzbtl uv tlb kvt qhv chp chp lzwlyv xbl zlb lnv uhv hayhwhsol zbh jvukbah zl uhv chnhibukv jhp l jvtv jhp klwluklukv vukl lb zlp ilt klzzh mliyl l ahsclg uhv slchual thpz tltiyv kv ohprhpzz zvb jhiyh kh wlzal xbl hnypkl thpz zvb jhwhg kl mhgly lzzh tbsapkhv hsphkh uh tpzzhv jvujlkpkh uh cpkh kl bt altwv hayhz uhv zlp zl l jplujph vb wluzv lt jvtv v hjlzzv l lzzlujphs h avkvz xbl lualuklyht uhv hkphuah hjbzhy v kvt uhzjlb jvtpnv l chjpsv l uhv v bzhy kpglt wvy hp xbl l mhjps mhgly abkv xbl lb zlp l uhv mhglt l uhv zhilt uh cpkh cvjl wlykl altwv vb lualukl v jvujlpav kl zhilkvyph nhuoh tlsvkph jhuzhkv kl cl apv vbcpy tbsapkhv mhshy kl tpuvyph uhv chp zl jvchykph lewshuhy kpcpkpyht tlth ahn zl epunh lzzh mhsah kl lapjh wyhapjh lejluaypjh lslnlt l clqv v zvt uh lzxbpch thz xbl mpah uhv zlp xbl wvbjvz zhv ivuz wlsv ayvjv zlp kvt jhkh wshuv uhv l lt chv zlt xblyly zly gvphv thuv zv hbtluah uh pkhkl l thuapkh h jpkhkl ylkbg iwt luayh svunlcpkhkl jpluapzah kv nyhcl xbhukv xbly zhil xbhs xbl lsl l lb cpt kvtpulp vz whsjv yvkhwl vz tpj jvt mpv yvkvcphyph uvcv ypv zvb whbspzah tltv l johtv vz vbayvz kl apv lb uhv clqv bth hytpuoh wyhph zltwyl mvp kvsshy ipss ivyh mpsoh zhihkv kl hiyps ihshkh qh hiypb jhthyhkh tlb qh ah h tps yhw whyh tl klpehy mliyps lb alualp uhv zlycpb bupmvytl l whyh nhyjvt kl uhcpv bt zhscl hv ptvyahs zhivahnl xbl mhg kh ypth bt mbgps xbpugl huvz klwvpz jvuzaybpukv thpz wvualz xbl lunluolpyv jpcps pzxblpyv wyh hjlukly v whcpv yhjpvuhpz ygv lunhqhtluav uh sbah l chuahnlt tl kvb spilykhkl kl ylwylzluahy jpkhkl zlt kpclyzpkhkl gvuh uvyal wyv tbukv luahv whyal ho bt zhscl h xblt uhv mhsoh uh jvukbah mpsoh kl bth wbah clzal h jhyhwbjh clqh h jhyh kl xblt lzjbah tvkh clsoh xbl al tbkh xbl zl mvkh tbkv v ybtv thz uhv tbkv v xbl zl wshuah clt wyh nblyyh l kl xbliyh clukl v hstvjv wlnh qhuah thsvxblpyv jhuah qbuav jvt h cvuahkl klzzh wvyyh wyh lzzl tbukv zly tlsovy thz uh clykhkl v xbl zl wylnh kpmlylual kh uvclsh cpkh svrh cpkh jbyah chp uh mhsoh xbl al jvyah chsl thpz kv xbl zl wluzh abkv tbukv xbl klmlukl chsl thpz zlnbpy lt mylual jhtpuohukv kpmlylual jhtpuohukv jvt h tpuoh nlual jhyh h jhyh jvuxbpzahkv uv xbl wlnh uvzzh tlual uh clykhkl lb jhuav hxbpsv xbl kpmlyl v upcls jhyh jvtwhapcls thz uhv whzzh uv jhuhs kvtpunv hxbpsv xbl zl mhsh kl ptwvyahual wyh uhjhv thz xbl zl mvkh lb mhsv tltv yhwpkv jvtv xblt ihal v jvyhjhv lt jhkh whzzv lb vsov l clqv uh ihnhnlt jhslqhkh tlb jvtbupjhkv thuv l jvtwspjhkv jhkh shjv xbl thualuov chsl v vbyv thz uhv chsl v jvbyv hxbp zl cpzh v tbyv wvl uh jvuah kv thuv xbl jhsv v wvcv lb xblyv cl uh jhyh jhyh jvt v tluvy vo alt tbpav cluluv l wvbjh kv vo mhsht kh cpavyph thz uhv mhsht kh klyyvah thz uhv whyh whyh whyh whyh whyh yhw svyk uhv zlp zl l jplujph vb wluzv lt jvtv v hjlzzv l lzzlujphs h avkvz xbl lualuklyht uhv hkphuah hjbzhy v kvt uhzjlb jvtpnv l chjpsv l uhv v bzhy ho uhv wluzh xbl lb whylp uhv hjhiv uhv hjhiv uhv klpeh lb hwyvclpah xbl lzzl tvtluav l ivt qhv ah ahv ivt pythv xbl lb mhslp xbl lb kvtlzapjv thpz bt wvbjv kh ihapkh klzzl msvd chnhibukhv chnhibukv mpjh svbjv av svbjhv zlual h jvspzhv luahv cpukv kl bt tvslxbl jhapchukv wyv tlb yhw xbl al whzzh bth lulynph xbl cpyvb tlb nhuoh whv kpglt wvy hp xbl l mhjps mhgly abkv xbl lb zlp l uhv mhglt l uhv zhilt uhv zhilt uhv zhilt uhv zhilt mhsht kh cpavyph thz uhv mhsht kh klyyvah thz uhv whyh whyh whyh whyh whyh yhw svyk''' \n",
    "#\n",
    "cipher_sentence= \"sbalp wyh luayhy l uhv cvb zhpy vz xbl uhv wlyalujlt lb klcvscp hjpkv uv tlahs\"\n",
    "#\n",
    "list_letters=freq_text(cipher,30)"
   ]
  },
  {
   "cell_type": "code",
   "execution_count": 15,
   "metadata": {},
   "outputs": [],
   "source": [
    "#>>        \n",
    "cipher_code=   ['h','l','v','u','y','p','t','b','z','k','a','j','w','s','c','x','i','m','n','o','g','q','e','d','r']\n",
    "key_code=      ['a','e','o','n','r','i','m','u','s','d','t','c','p','l','v','q','b','f','g','h','z','j','x','w','k']\n",
    "#>>\n",
    "decipher=\"lutei pra entrar e nao vou sair os que nao pertencem eu devolvi acido no metal\""
   ]
  },
  {
   "source": [
    "---\n",
    "## 2.3.Pareto Chart and Stop Words"
   ],
   "cell_type": "markdown",
   "metadata": {}
  },
  {
   "cell_type": "code",
   "execution_count": null,
   "metadata": {},
   "outputs": [],
   "source": []
  }
 ]
}