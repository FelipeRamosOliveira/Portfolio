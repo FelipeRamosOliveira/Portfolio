{
 "metadata": {
  "language_info": {
   "codemirror_mode": {
    "name": "ipython",
    "version": 3
   },
   "file_extension": ".py",
   "mimetype": "text/x-python",
   "name": "python",
   "nbconvert_exporter": "python",
   "pygments_lexer": "ipython3",
   "version": "3.8.6"
  },
  "orig_nbformat": 2,
  "kernelspec": {
   "name": "python386jvsc74a57bd01baa965d5efe3ac65b79dfc60c0d706280b1da80fedb7760faf2759126c4f253",
   "display_name": "Python 3.8.6 64-bit"
  },
  "metadata": {
   "interpreter": {
    "hash": "1baa965d5efe3ac65b79dfc60c0d706280b1da80fedb7760faf2759126c4f253"
   }
  }
 },
 "nbformat": 4,
 "nbformat_minor": 2,
 "cells": [
  {
   "source": [
    "---\n",
    "# Natural Language Processing (NLP)\n",
    "![](https://www.encora.com/hs-fs/hubfs/Blog-EncoraML.png?width=800&name=Blog-EncoraML.png)\n",
    "\n",
    "Natural language processing (NLP) is a subfield of linguistics, computer science, and artificial intelligence concerned with the interactions between computers and human language, in particular how to program computers to process and analyze large amounts of natural language data. The result is a computer capable of \"understanding\" the contents of documents, including the contextual nuances of the language within them. The technology can then accurately extract information and insights contained in the documents as well as categorize and organize the documents themselves.Challenges in natural language processing frequently involve speech recognition, natural language understanding, and natural-language generation.\n",
    "\n",
    "Natural language processing (or Computational linguistic is becoming the state of art in today’s world. It has evolved many years ago in past 1960’s. The task of NLP is understanding the natural human utterances in terms of speech or text, taking as input and giving proper response or output. Text mining also called as Text Analytics uses Natural language processing to transform unstructured corpus into standard and normalised documents or databases for further analysis by applying Artificial intelligence techniques and Machine learning algorithms.\n",
    "\n",
    "## Common NLP tasks\n",
    "The following is a list of some of the most commonly researched tasks in natural language processing. Some of these tasks have direct real-world applications, while others more commonly serve as subtasks that are used to aid in solving larger tasks.\n",
    "\n",
    "Though natural language processing tasks are closely intertwined, they can be subdivided into categories for convenience. A coarse division is given below.\n",
    "* **Text and speech processing** \n",
    "* Morphological analysis \n",
    "* Syntactic analysis\n",
    "* Lexical semantics \n",
    "* Relational semantics (semantics of individual sentences)\n",
    "* Discourse (semantics beyond individual sentences)\n",
    "* Higher-level NLP applications"
   ],
   "cell_type": "markdown",
   "metadata": {}
  },
  {
   "source": [
    "---\n",
    "# PART 1 - MANIPULATING STRINGS\n",
    "\n",
    "**String:** In computer programming, a string is traditionally a sequence of characters, either as a literal constant or as some kind of variable. The latter may allow its elements to be mutated and the length changed, or it may be fixed (after creation). A string is generally considered as a data type and is often implemented as an array data structure of bytes (or words) that stores a sequence of elements, typically characters, using some character encoding.\n",
    "\n",
    "## 1.1. Python String Methods"
   ],
   "cell_type": "markdown",
   "metadata": {}
  },
  {
   "cell_type": "code",
   "execution_count": 1,
   "metadata": {},
   "outputs": [],
   "source": [
    "from notebook.services.config import ConfigManager\n",
    "cm = ConfigManager().update('notebook', {'limit_output': 50})"
   ]
  },
  {
   "cell_type": "code",
   "execution_count": 2,
   "metadata": {},
   "outputs": [
    {
     "output_type": "stream",
     "name": "stdout",
     "text": [
      "olá mundo , meu nome é Felipe meu sobrenome é Oliveira\n"
     ]
    }
   ],
   "source": [
    "# PRINT A STENCE\n",
    "hello_world=\"olá mundo , meu nome é Felipe meu sobrenome é Oliveira\"\n",
    "print(hello_world)"
   ]
  },
  {
   "cell_type": "code",
   "execution_count": 3,
   "metadata": {},
   "outputs": [
    {
     "output_type": "stream",
     "name": "stdout",
     "text": [
      "Original:                    olá mundo , meu nome é Felipe meu sobrenome é Oliveira\nCapitalize:                  Olá mundo , meu nome é felipe meu sobrenome é oliveira\nTitle:                       Olá Mundo , Meu Nome É Felipe Meu Sobrenome É Oliveira\nTitle:                       Olá Mundo , Meu Nome É Felipe Meu Sobrenome É Oliveira\nUpper:                       OLÁ MUNDO , MEU NOME É FELIPE MEU SOBRENOME É OLIVEIRA\nLower:                       olá mundo , meu nome é felipe meu sobrenome é oliveira\nCount   (meu):               2\nReplace (Oliveira<>Ramos):   olá mundo , meu nome é Felipe meu sobrenome é Ramos\nSplit:                       ['olá', 'mundo', ',', 'meu', 'nome', 'é', 'Felipe', 'meu', 'sobrenome', 'é', 'Oliveira']\nSplit (Words Total):         11\n"
     ]
    }
   ],
   "source": [
    "#>>BASIC\n",
    "# capitalize()  - Converts the first character to upper case\n",
    "# title()       - Converts the first character of each word to upper case\n",
    "# upper()       - Converts a string into upper case\n",
    "# lower()       - Converts a string into lower case\n",
    "\n",
    "#>> NLP USEFUL\n",
    "# count()   - Returns the number of times a specified value occurs in a string\n",
    "# replace()\t- Returns a string where a specified value is replaced with a specified value\n",
    "# split()\t- Splits the string at the specified separator, and returns a list\n",
    "\n",
    "print(\"Original:                    \"    + hello_world)\n",
    "print(\"Capitalize:                  \"  + hello_world.capitalize())\n",
    "print(\"Title:                       \"  + hello_world.title())\n",
    "print(\"Title:                       \"  + hello_world.title())\n",
    "print(\"Upper:                       \"  + hello_world.upper())\n",
    "print(\"Lower:                       \"  + hello_world.lower())\n",
    "\n",
    "print(\"Count   (meu):               \" +  str(hello_world.count(\"meu\") ))\n",
    "print(\"Replace (Oliveira<>Ramos):   \" +   hello_world.replace('Oliveira','Ramos'))\n",
    "print(\"Split:                       \" +   str(hello_world.split()))\n",
    "print(\"Split (Words Total):         \" +   str(len(hello_world.split())))\n",
    "\n"
   ]
  },
  {
   "source": [
    "---\n",
    "## Test 01\n",
    "Create a function that counts the number of words in the sentence"
   ],
   "cell_type": "markdown",
   "metadata": {}
  },
  {
   "cell_type": "code",
   "execution_count": 4,
   "metadata": {},
   "outputs": [
    {
     "output_type": "stream",
     "name": "stdout",
     "text": [
      "Count (olá):1\nCount (mundo):1\nCount (,):1\nCount (meu):2\nCount (nome):2\nCount (é):2\nCount (Felipe):1\nCount (meu):2\nCount (sobrenome):1\nCount (é):2\nCount (Oliveira):1\n"
     ]
    }
   ],
   "source": [
    "# Function\n",
    "def count_words(setence):\n",
    "     [print( f\"Count ({word}):\" +  str(setence.count(word))) for word in setence.split()]\n",
    "# Test    \n",
    "count_words(hello_world)"
   ]
  },
  {
   "cell_type": "code",
   "execution_count": 5,
   "metadata": {},
   "outputs": [
    {
     "output_type": "execute_result",
     "data": {
      "text/plain": [
       "Counter({'olá': 1,\n",
       "         'mundo': 1,\n",
       "         ',': 1,\n",
       "         'meu': 2,\n",
       "         'nome': 1,\n",
       "         'é': 2,\n",
       "         'Felipe': 1,\n",
       "         'sobrenome': 1,\n",
       "         'Oliveira': 1})"
      ]
     },
     "metadata": {},
     "execution_count": 5
    }
   ],
   "source": [
    "# Alternative\n",
    "from collections import Counter\n",
    "Counter(hello_world.split())"
   ]
  },
  {
   "source": [
    "---\n",
    "## 1.2. NLP Hello World and Collections Methods"
   ],
   "cell_type": "markdown",
   "metadata": {}
  },
  {
   "cell_type": "code",
   "execution_count": 6,
   "metadata": {},
   "outputs": [],
   "source": [
    "# Import the packge \n",
    "from collections import Counter"
   ]
  },
  {
   "cell_type": "code",
   "execution_count": 13,
   "metadata": {},
   "outputs": [
    {
     "output_type": "stream",
     "name": "stdout",
     "text": [
      "Lutei pra entrar e não vou sair Os que não pertencem eu devolvi Ácido no metal causa efeito letal Teto baixo te espreme, respira Quem pira tá na mira da minha firma Então me espera recupera o fôlego Se comigo não morre nunca cai Não tento a sorte, Woodstock num flow metódico Toma é pra quem quer dou é pra quem pode E nosso destino é uma caixa de surpresa Leopardo ou zebra me diz 'Cê quer ser predador ou presa (é assim ô) Percorri pela beira da terra Até a sorte me dizer, menino você tem uma aval No tempo essência eu elevo no peito O excesso essencial É muito bom não se acomodar Satisfação se o verso ecoar Vendo em polpa não vou me poupar Então demorou meu mano, let's go Quero que se foda o que disser 'Tô de pé, vou mantendo a fé até Meu mano vou correndo igual ralé Adivinha o que tu quer, vagabundo quer Mas e quem não quer, né? Quero ver dinheiro na responsa Ser amigo da onça, jacaré que banca vira bolsa Mano, então me mostre a cara Convivência com malandro que já foi da costa Fala pra carai, diz que gosta, se gosta também zé Vagabundo vê a bota e não vê o pé Mas não quer me ver em pé Jão? Sei até quem são 'To na contenção bababarebabareba papo de cuzão Você quer provar? Já provei que sei bem Te representei, levei pra caminhada Quando nem era ninguém, não Palavra de conforto recebida Minha vida se resume no meu dom Jão Vai, vai espero que seu ego não atrapalhe Sua conduta se não vagabundo cai E como cai, dependendo onde Eu sei bem dessa febre E talvez não levante mais Membro do Haikaiss, sou cabra da peste Que agride mais Sou capaz, de fazer essa multidão Aliada na missão Concedida na vida de um tempo atrás Não sei se é ciência ou penso em Como o acesso é essencial A todos que entenderam não adianta acusar O dom nasceu comigo e vacilo é não o usar Dizem por ai que é fácil fazer tudo que eu sei E não fazem, e não sabem Na vida você perde tempo Ou entende o conceito de sabedoria Ganha melodia Cansado de vê tio, ouvir multidão Falar de minoria Não vai se covardia explanar Dividiram mema tag se xinga Essa falta de ética, prática, excêntrica Elegem, e vejo o som na esquiva Mas que fita (não) Sei que poucos são bons Pelo troco, sei dom Cada plano não é em vão Sem querer ser zoião Mano, só aumenta na idade É mantida a cidade Reduz BPM, entra longevidade Cientista do grave Quando, quer sabe qual que ele é? Eu vim dominei os palco, rodapé os mic com fio Rodoviária novo Rio Sou paulista memo e chamo os outros de tio Eu não vejo uma arminha, praia sempre foi dollar bill Bora filha sábado de abril Balada já abriu, camarada meu já tá à mil Rap para me deixar febril eu tentei não serviu Uniforme é para garçom de navio Um salve ao imortal Sabotage Que faz da rima um fuzil quinze anos depois construindo Mais pontes que engenheiro civil Isqueiro pra acender o pavio Racionais, RZO engajamento na luta É vantagem me dou liberdade de representar cidade sem diversidade Zona norte pro mundo então parte Ah um salve á quem não falha na conduta Filha de uma puta Veste a carapuça Veja a cara de quem escuta Moda velha que te muda, que se foda Mudo o rumo mas não mudo o que se planta, vem pra guerra E de quebra, vende o almoço, pega janta Maloqueiro canta junto, com a vontade dessa porra Pra esse mundo ser melhor mas na verdade o que se prega Diferente da novela, vida loka, vida curta Vai na falha que te corta vale mais do que se pensa Tudo mundo que defende vale mais seguir em frente Caminhando diferente, caminhando com a minha gente Cara a cara conquistado no que pega nossa mente Na verdade, eu canto aquilo que difere o nível Cara compatível mas não passa no canal domingo Aquilo que se fala de importante pra nação Mas que se foda, eu falo memo rápido como quem bate o coração Em cada passo eu olho e vejo na bagagem calejada Meu comunicado, mano é complicado Cada laço que mantenho vale o ouro mas, não vale o couro Aqui se visa o muro põe na conta do mano que calo o povo Eu quero vê na cara cara com o menor, oh Tem muito veneno e pouca dó, oh Falam da vitória mas não falam da derrota Mas não para para para para para rap lord Não sei se é ciência Ou penso em como o acesso é essencial A todos que entenderam não adianta acusar O dom nasceu comigo e vacilo é não o usar Ah não pensa que eu parei Não acabo, não acabo não Deixa eu aproveita que esse momento é bom Jão 'Tá tão bom irmão Que eu falei que eu domestico Mais um pouco da batida desse flow Vagabundão, vagabundo fica louco, tô loucão Sente a colisão então Vindo de um moleque cativando Pro meu rap, que te passa uma energia Que virou meu ganha pão Dizem por ai Que é fácil fazer tudo que eu sei E não fazem, e não sabem? Não sabem, não sabem, não sabem Falam da vitória mas não falam da derrota Mas não para para para para para rap lord\n"
     ]
    }
   ],
   "source": [
    "#Read the file with the string (Helo World)\n",
    "rap_lord=open('rap_lord.txt','r',encoding=\"utf8\").read()\n",
    "print(rap_lord)"
   ]
  },
  {
   "cell_type": "code",
   "execution_count": 8,
   "metadata": {},
   "outputs": [
    {
     "output_type": "execute_result",
     "data": {
      "text/plain": [
       "[(' ', 791),\n",
       " ('a', 498),\n",
       " ('e', 454),\n",
       " ('o', 400),\n",
       " ('n', 220),\n",
       " ('r', 216),\n",
       " ('i', 202),\n",
       " ('m', 198),\n",
       " ('u', 191),\n",
       " ('s', 186)]"
      ]
     },
     "metadata": {},
     "execution_count": 8
    }
   ],
   "source": [
    "# Count letters\n",
    "Counter(rap_lord.lower()).most_common(10)"
   ]
  },
  {
   "cell_type": "code",
   "execution_count": 9,
   "metadata": {},
   "outputs": [
    {
     "output_type": "execute_result",
     "data": {
      "text/plain": [
       "[('não', 42),\n",
       " ('que', 40),\n",
       " ('o', 26),\n",
       " ('de', 19),\n",
       " ('se', 18),\n",
       " ('é', 18),\n",
       " ('e', 17),\n",
       " ('eu', 16),\n",
       " ('na', 16),\n",
       " ('a', 14)]"
      ]
     },
     "metadata": {},
     "execution_count": 9
    }
   ],
   "source": [
    "# Count words\n",
    "Counter(rap_lord.lower().split()).most_common(10)"
   ]
  },
  {
   "source": [
    "---\n",
    "## Test 02\n",
    "Create a function that counts the perecentage of letters or words in the sentence"
   ],
   "cell_type": "markdown",
   "metadata": {}
  },
  {
   "cell_type": "code",
   "execution_count": 10,
   "metadata": {},
   "outputs": [
    {
     "output_type": "stream",
     "name": "stdout",
     "text": [
      "  => 16.69%\n",
      "a => 10.51%\n",
      "e => 9.58%\n",
      "o => 8.44%\n",
      "n => 4.64%\n",
      "r => 4.56%\n",
      "i => 4.26%\n",
      "m => 4.18%\n",
      "u => 4.03%\n",
      "s => 3.92%\n"
     ]
    }
   ],
   "source": [
    "def freq_letters(sentece,n_top):\n",
    "  letters_count = Counter(sentece.lower()).most_common(n_top)\n",
    "  letters_total = sum(Counter(sentece.lower()).values())\n",
    "  \n",
    "  for letter in letters_count:\n",
    "      print (f\"{letter[0]} => {round((letter[1]/letters_total)*100,2)}%\")\n",
    "  \n",
    "freq_letters(rap_lord,10)"
   ]
  },
  {
   "source": [
    "---\n",
    "## Test 03\n",
    "Create a function that counts the perecentage of words in the sentence"
   ],
   "cell_type": "markdown",
   "metadata": {}
  },
  {
   "cell_type": "code",
   "execution_count": 11,
   "metadata": {},
   "outputs": [
    {
     "output_type": "stream",
     "name": "stdout",
     "text": [
      "não => 4.54%\nque => 4.32%\no => 2.81%\nde => 2.05%\nse => 1.94%\né => 1.94%\ne => 1.84%\neu => 1.73%\nna => 1.73%\na => 1.51%\n"
     ]
    }
   ],
   "source": [
    "def freq_words(sentece,n_top):\n",
    "  word_count = Counter(sentece.lower().split()).most_common(n_top)\n",
    "  word_total = sum(Counter(sentece.lower().split()).values())\n",
    "  \n",
    "  for word in word_count:\n",
    "      print (f\"{word[0]} => {round((word[1]/word_total)*100,2)}%\")\n",
    "  \n",
    "freq_words(rap_lord,10)"
   ]
  }
 ]
}