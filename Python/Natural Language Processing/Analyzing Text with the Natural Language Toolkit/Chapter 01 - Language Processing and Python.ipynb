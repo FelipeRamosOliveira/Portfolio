{
 "metadata": {
  "language_info": {
   "codemirror_mode": {
    "name": "ipython",
    "version": 3
   },
   "file_extension": ".py",
   "mimetype": "text/x-python",
   "name": "python",
   "nbconvert_exporter": "python",
   "pygments_lexer": "ipython3",
   "version": "3.8.6"
  },
  "orig_nbformat": 2,
  "kernelspec": {
   "name": "python386jvsc74a57bd01baa965d5efe3ac65b79dfc60c0d706280b1da80fedb7760faf2759126c4f253",
   "display_name": "Python 3.8.6 64-bit"
  },
  "metadata": {
   "interpreter": {
    "hash": "1baa965d5efe3ac65b79dfc60c0d706280b1da80fedb7760faf2759126c4f253"
   }
  }
 },
 "nbformat": 4,
 "nbformat_minor": 2,
 "cells": [
  {
   "source": [
    "# 1.1.Computing with Language: Texts and Words"
   ],
   "cell_type": "markdown",
   "metadata": {}
  },
  {
   "source": [
    "## Getting Started with Python"
   ],
   "cell_type": "markdown",
   "metadata": {}
  },
  {
   "cell_type": "code",
   "execution_count": 2,
   "metadata": {},
   "outputs": [
    {
     "output_type": "stream",
     "name": "stdout",
     "text": [
      "3.8.6 (tags/v3.8.6:db45529, Sep 23 2020, 15:52:53) [MSC v.1927 64 bit (AMD64)]\n"
     ]
    }
   ],
   "source": [
    "#Check Python version\n",
    "import sys\n",
    "print(sys.version)"
   ]
  },
  {
   "cell_type": "code",
   "execution_count": 3,
   "metadata": {},
   "outputs": [
    {
     "output_type": "execute_result",
     "data": {
      "text/plain": [
       "8"
      ]
     },
     "metadata": {},
     "execution_count": 3
    }
   ],
   "source": [
    "#Using Python as a calculator\n",
    "1 + 5 * 2 - 3"
   ]
  },
  {
   "source": [
    "## Getting Started with NLTK"
   ],
   "cell_type": "markdown",
   "metadata": {}
  },
  {
   "cell_type": "code",
   "execution_count": 4,
   "metadata": {},
   "outputs": [
    {
     "output_type": "stream",
     "name": "stdout",
     "text": [
      "Defaulting to user installation because normal site-packages is not writeable\n",
      "Requirement already satisfied: nltk in c:\\users\\felipe.roliveira\\appdata\\roaming\\python\\python38\\site-packages (3.5)\n",
      "Requirement already satisfied: click in c:\\users\\felipe.roliveira\\appdata\\roaming\\python\\python38\\site-packages (from nltk) (7.1.2)\n",
      "Requirement already satisfied: joblib in c:\\users\\felipe.roliveira\\appdata\\roaming\\python\\python38\\site-packages (from nltk) (1.0.1)\n",
      "WARNING: You are using pip version 21.1.1; however, version 21.1.2 is available.\n",
      "You should consider upgrading via the 'c:\\program files\\python38\\python.exe -m pip install --upgrade pip' command.\n",
      "Requirement already satisfied: regex in c:\\users\\felipe.roliveira\\appdata\\roaming\\python\\python38\\site-packages (from nltk) (2021.3.17)\n",
      "Requirement already satisfied: tqdm in c:\\users\\felipe.roliveira\\appdata\\roaming\\python\\python38\\site-packages (from nltk) (4.59.0)\n"
     ]
    }
   ],
   "source": [
    "# Before going further you should install NLTK\n",
    "!pip install nltk"
   ]
  },
  {
   "cell_type": "code",
   "execution_count": 5,
   "metadata": {},
   "outputs": [
    {
     "output_type": "stream",
     "name": "stdout",
     "text": [
      "showing info https://raw.githubusercontent.com/nltk/nltk_data/gh-pages/index.xml\n"
     ]
    },
    {
     "output_type": "execute_result",
     "data": {
      "text/plain": [
       "True"
      ]
     },
     "metadata": {},
     "execution_count": 5
    }
   ],
   "source": [
    "#Install the data required for the book\n",
    "import nltk\n",
    "#nltk.download()"
   ]
  },
  {
   "cell_type": "code",
   "execution_count": 6,
   "metadata": {},
   "outputs": [
    {
     "output_type": "stream",
     "name": "stdout",
     "text": [
      "*** Introductory Examples for the NLTK Book ***\n",
      "Loading text1, ..., text9 and sent1, ..., sent9\n",
      "Type the name of the text or sentence to view it.\n",
      "Type: 'texts()' or 'sents()' to list the materials.\n",
      "text1: Moby Dick by Herman Melville 1851\n",
      "text2: Sense and Sensibility by Jane Austen 1811\n",
      "text3: The Book of Genesis\n",
      "text4: Inaugural Address Corpus\n",
      "text5: Chat Corpus\n",
      "text6: Monty Python and the Holy Grail\n",
      "text7: Wall Street Journal\n",
      "text8: Personals Corpus\n",
      "text9: The Man Who Was Thursday by G . K . Chesterton 1908\n"
     ]
    }
   ],
   "source": [
    "#All the data we will need in this chapter\n",
    "from nltk.book import *"
   ]
  },
  {
   "cell_type": "code",
   "execution_count": 7,
   "metadata": {},
   "outputs": [
    {
     "output_type": "execute_result",
     "data": {
      "text/plain": [
       "<Text: Moby Dick by Herman Melville 1851>"
      ]
     },
     "metadata": {},
     "execution_count": 7
    }
   ],
   "source": [
    "#Find out about these texts,\n",
    "text1"
   ]
  },
  {
   "source": [
    "## Searching Text"
   ],
   "cell_type": "markdown",
   "metadata": {}
  },
  {
   "cell_type": "code",
   "execution_count": 8,
   "metadata": {},
   "outputs": [
    {
     "output_type": "stream",
     "name": "stdout",
     "text": [
      "Displaying 11 of 11 matches:\nong the former , one was of a most monstrous size . ... This came towards us , \nON OF THE PSALMS . \" Touching that monstrous bulk of the whale or ork we have r\nll over with a heathenish array of monstrous clubs and spears . Some were thick\nd as you gazed , and wondered what monstrous cannibal and savage could ever hav\nthat has survived the flood ; most monstrous and most mountainous ! That Himmal\nthey might scout at Moby Dick as a monstrous fable , or still worse and more de\nth of Radney .'\" CHAPTER 55 Of the Monstrous Pictures of Whales . I shall ere l\ning Scenes . In connexion with the monstrous pictures of whales , I am strongly\nere to enter upon those still more monstrous stories of them which are to be fo\nght have been rummaged out of this monstrous cabinet there is no telling . But \nof Whale - Bones ; for Whales of a monstrous size are oftentimes cast up dead u\n"
     ]
    }
   ],
   "source": [
    "#Look up the word \"monstrous\" in Moby Dick\n",
    "text1.concordance(\"monstrous\")"
   ]
  },
  {
   "cell_type": "code",
   "execution_count": 9,
   "metadata": {},
   "outputs": [
    {
     "output_type": "stream",
     "name": "stdout",
     "text": [
      "am_glad a_pretty a_lucky is_pretty be_glad\n"
     ]
    }
   ],
   "source": [
    "# The term ´common_contexts´ allows us to examine just the contexts that are shared by two or more words, such as monstrous and very\n",
    "text2.common_contexts([\"monstrous\", \"very\"])"
   ]
  },
  {
   "cell_type": "code",
   "execution_count": 10,
   "metadata": {},
   "outputs": [
    {
     "output_type": "display_data",
     "data": {
      "text/plain": "<Figure size 432x288 with 1 Axes>",
      "image/svg+xml": "<?xml version=\"1.0\" encoding=\"utf-8\" standalone=\"no\"?>\r\n<!DOCTYPE svg PUBLIC \"-//W3C//DTD SVG 1.1//EN\"\r\n  \"http://www.w3.org/Graphics/SVG/1.1/DTD/svg11.dtd\">\r\n<!-- Created with matplotlib (https://matplotlib.org/) -->\r\n<svg height=\"277.314375pt\" version=\"1.1\" viewBox=\"0 0 411.715625 277.314375\" width=\"411.715625pt\" xmlns=\"http://www.w3.org/2000/svg\" xmlns:xlink=\"http://www.w3.org/1999/xlink\">\r\n <metadata>\r\n  <rdf:RDF xmlns:cc=\"http://creativecommons.org/ns#\" xmlns:dc=\"http://purl.org/dc/elements/1.1/\" xmlns:rdf=\"http://www.w3.org/1999/02/22-rdf-syntax-ns#\">\r\n   <cc:Work>\r\n    <dc:type rdf:resource=\"http://purl.org/dc/dcmitype/StillImage\"/>\r\n    <dc:date>2021-06-02T16:54:18.488372</dc:date>\r\n    <dc:format>image/svg+xml</dc:format>\r\n    <dc:creator>\r\n     <cc:Agent>\r\n      <dc:title>Matplotlib v3.3.4, https://matplotlib.org/</dc:title>\r\n     </cc:Agent>\r\n    </dc:creator>\r\n   </cc:Work>\r\n  </rdf:RDF>\r\n </metadata>\r\n <defs>\r\n  <style type=\"text/css\">*{stroke-linecap:butt;stroke-linejoin:round;}</style>\r\n </defs>\r\n <g id=\"figure_1\">\r\n  <g id=\"patch_1\">\r\n   <path d=\"M 0 277.314375 \r\nL 411.715625 277.314375 \r\nL 411.715625 0 \r\nL 0 0 \r\nz\r\n\" style=\"fill:none;\"/>\r\n  </g>\r\n  <g id=\"axes_1\">\r\n   <g id=\"patch_2\">\r\n    <path d=\"M 69.715625 239.758125 \r\nL 404.515625 239.758125 \r\nL 404.515625 22.318125 \r\nL 69.715625 22.318125 \r\nz\r\n\" style=\"fill:#ffffff;\"/>\r\n   </g>\r\n   <g id=\"matplotlib.axis_1\">\r\n    <g id=\"xtick_1\">\r\n     <g id=\"line2d_1\">\r\n      <defs>\r\n       <path d=\"M 0 0 \r\nL 0 3.5 \r\n\" id=\"m3c62e0c62b\" style=\"stroke:#000000;stroke-width:0.8;\"/>\r\n      </defs>\r\n      <g>\r\n       <use style=\"stroke:#000000;stroke-width:0.8;\" x=\"84.563557\" xlink:href=\"#m3c62e0c62b\" y=\"239.758125\"/>\r\n      </g>\r\n     </g>\r\n     <g id=\"text_1\">\r\n      <!-- 0 -->\r\n      <g transform=\"translate(81.382307 254.356562)scale(0.1 -0.1)\">\r\n       <defs>\r\n        <path d=\"M 31.78125 66.40625 \r\nQ 24.171875 66.40625 20.328125 58.90625 \r\nQ 16.5 51.421875 16.5 36.375 \r\nQ 16.5 21.390625 20.328125 13.890625 \r\nQ 24.171875 6.390625 31.78125 6.390625 \r\nQ 39.453125 6.390625 43.28125 13.890625 \r\nQ 47.125 21.390625 47.125 36.375 \r\nQ 47.125 51.421875 43.28125 58.90625 \r\nQ 39.453125 66.40625 31.78125 66.40625 \r\nz\r\nM 31.78125 74.21875 \r\nQ 44.046875 74.21875 50.515625 64.515625 \r\nQ 56.984375 54.828125 56.984375 36.375 \r\nQ 56.984375 17.96875 50.515625 8.265625 \r\nQ 44.046875 -1.421875 31.78125 -1.421875 \r\nQ 19.53125 -1.421875 13.0625 8.265625 \r\nQ 6.59375 17.96875 6.59375 36.375 \r\nQ 6.59375 54.828125 13.0625 64.515625 \r\nQ 19.53125 74.21875 31.78125 74.21875 \r\nz\r\n\" id=\"DejaVuSans-48\"/>\r\n       </defs>\r\n       <use xlink:href=\"#DejaVuSans-48\"/>\r\n      </g>\r\n     </g>\r\n    </g>\r\n    <g id=\"xtick_2\">\r\n     <g id=\"line2d_2\">\r\n      <g>\r\n       <use style=\"stroke:#000000;stroke-width:0.8;\" x=\"125.250347\" xlink:href=\"#m3c62e0c62b\" y=\"239.758125\"/>\r\n      </g>\r\n     </g>\r\n     <g id=\"text_2\">\r\n      <!-- 20000 -->\r\n      <g transform=\"translate(109.344097 254.356562)scale(0.1 -0.1)\">\r\n       <defs>\r\n        <path d=\"M 19.1875 8.296875 \r\nL 53.609375 8.296875 \r\nL 53.609375 0 \r\nL 7.328125 0 \r\nL 7.328125 8.296875 \r\nQ 12.9375 14.109375 22.625 23.890625 \r\nQ 32.328125 33.6875 34.8125 36.53125 \r\nQ 39.546875 41.84375 41.421875 45.53125 \r\nQ 43.3125 49.21875 43.3125 52.78125 \r\nQ 43.3125 58.59375 39.234375 62.25 \r\nQ 35.15625 65.921875 28.609375 65.921875 \r\nQ 23.96875 65.921875 18.8125 64.3125 \r\nQ 13.671875 62.703125 7.8125 59.421875 \r\nL 7.8125 69.390625 \r\nQ 13.765625 71.78125 18.9375 73 \r\nQ 24.125 74.21875 28.421875 74.21875 \r\nQ 39.75 74.21875 46.484375 68.546875 \r\nQ 53.21875 62.890625 53.21875 53.421875 \r\nQ 53.21875 48.921875 51.53125 44.890625 \r\nQ 49.859375 40.875 45.40625 35.40625 \r\nQ 44.1875 33.984375 37.640625 27.21875 \r\nQ 31.109375 20.453125 19.1875 8.296875 \r\nz\r\n\" id=\"DejaVuSans-50\"/>\r\n       </defs>\r\n       <use xlink:href=\"#DejaVuSans-50\"/>\r\n       <use x=\"63.623047\" xlink:href=\"#DejaVuSans-48\"/>\r\n       <use x=\"127.246094\" xlink:href=\"#DejaVuSans-48\"/>\r\n       <use x=\"190.869141\" xlink:href=\"#DejaVuSans-48\"/>\r\n       <use x=\"254.492188\" xlink:href=\"#DejaVuSans-48\"/>\r\n      </g>\r\n     </g>\r\n    </g>\r\n    <g id=\"xtick_3\">\r\n     <g id=\"line2d_3\">\r\n      <g>\r\n       <use style=\"stroke:#000000;stroke-width:0.8;\" x=\"165.937137\" xlink:href=\"#m3c62e0c62b\" y=\"239.758125\"/>\r\n      </g>\r\n     </g>\r\n     <g id=\"text_3\">\r\n      <!-- 40000 -->\r\n      <g transform=\"translate(150.030887 254.356562)scale(0.1 -0.1)\">\r\n       <defs>\r\n        <path d=\"M 37.796875 64.3125 \r\nL 12.890625 25.390625 \r\nL 37.796875 25.390625 \r\nz\r\nM 35.203125 72.90625 \r\nL 47.609375 72.90625 \r\nL 47.609375 25.390625 \r\nL 58.015625 25.390625 \r\nL 58.015625 17.1875 \r\nL 47.609375 17.1875 \r\nL 47.609375 0 \r\nL 37.796875 0 \r\nL 37.796875 17.1875 \r\nL 4.890625 17.1875 \r\nL 4.890625 26.703125 \r\nz\r\n\" id=\"DejaVuSans-52\"/>\r\n       </defs>\r\n       <use xlink:href=\"#DejaVuSans-52\"/>\r\n       <use x=\"63.623047\" xlink:href=\"#DejaVuSans-48\"/>\r\n       <use x=\"127.246094\" xlink:href=\"#DejaVuSans-48\"/>\r\n       <use x=\"190.869141\" xlink:href=\"#DejaVuSans-48\"/>\r\n       <use x=\"254.492188\" xlink:href=\"#DejaVuSans-48\"/>\r\n      </g>\r\n     </g>\r\n    </g>\r\n    <g id=\"xtick_4\">\r\n     <g id=\"line2d_4\">\r\n      <g>\r\n       <use style=\"stroke:#000000;stroke-width:0.8;\" x=\"206.623927\" xlink:href=\"#m3c62e0c62b\" y=\"239.758125\"/>\r\n      </g>\r\n     </g>\r\n     <g id=\"text_4\">\r\n      <!-- 60000 -->\r\n      <g transform=\"translate(190.717677 254.356562)scale(0.1 -0.1)\">\r\n       <defs>\r\n        <path d=\"M 33.015625 40.375 \r\nQ 26.375 40.375 22.484375 35.828125 \r\nQ 18.609375 31.296875 18.609375 23.390625 \r\nQ 18.609375 15.53125 22.484375 10.953125 \r\nQ 26.375 6.390625 33.015625 6.390625 \r\nQ 39.65625 6.390625 43.53125 10.953125 \r\nQ 47.40625 15.53125 47.40625 23.390625 \r\nQ 47.40625 31.296875 43.53125 35.828125 \r\nQ 39.65625 40.375 33.015625 40.375 \r\nz\r\nM 52.59375 71.296875 \r\nL 52.59375 62.3125 \r\nQ 48.875 64.0625 45.09375 64.984375 \r\nQ 41.3125 65.921875 37.59375 65.921875 \r\nQ 27.828125 65.921875 22.671875 59.328125 \r\nQ 17.53125 52.734375 16.796875 39.40625 \r\nQ 19.671875 43.65625 24.015625 45.921875 \r\nQ 28.375 48.1875 33.59375 48.1875 \r\nQ 44.578125 48.1875 50.953125 41.515625 \r\nQ 57.328125 34.859375 57.328125 23.390625 \r\nQ 57.328125 12.15625 50.6875 5.359375 \r\nQ 44.046875 -1.421875 33.015625 -1.421875 \r\nQ 20.359375 -1.421875 13.671875 8.265625 \r\nQ 6.984375 17.96875 6.984375 36.375 \r\nQ 6.984375 53.65625 15.1875 63.9375 \r\nQ 23.390625 74.21875 37.203125 74.21875 \r\nQ 40.921875 74.21875 44.703125 73.484375 \r\nQ 48.484375 72.75 52.59375 71.296875 \r\nz\r\n\" id=\"DejaVuSans-54\"/>\r\n       </defs>\r\n       <use xlink:href=\"#DejaVuSans-54\"/>\r\n       <use x=\"63.623047\" xlink:href=\"#DejaVuSans-48\"/>\r\n       <use x=\"127.246094\" xlink:href=\"#DejaVuSans-48\"/>\r\n       <use x=\"190.869141\" xlink:href=\"#DejaVuSans-48\"/>\r\n       <use x=\"254.492188\" xlink:href=\"#DejaVuSans-48\"/>\r\n      </g>\r\n     </g>\r\n    </g>\r\n    <g id=\"xtick_5\">\r\n     <g id=\"line2d_5\">\r\n      <g>\r\n       <use style=\"stroke:#000000;stroke-width:0.8;\" x=\"247.310717\" xlink:href=\"#m3c62e0c62b\" y=\"239.758125\"/>\r\n      </g>\r\n     </g>\r\n     <g id=\"text_5\">\r\n      <!-- 80000 -->\r\n      <g transform=\"translate(231.404467 254.356562)scale(0.1 -0.1)\">\r\n       <defs>\r\n        <path d=\"M 31.78125 34.625 \r\nQ 24.75 34.625 20.71875 30.859375 \r\nQ 16.703125 27.09375 16.703125 20.515625 \r\nQ 16.703125 13.921875 20.71875 10.15625 \r\nQ 24.75 6.390625 31.78125 6.390625 \r\nQ 38.8125 6.390625 42.859375 10.171875 \r\nQ 46.921875 13.96875 46.921875 20.515625 \r\nQ 46.921875 27.09375 42.890625 30.859375 \r\nQ 38.875 34.625 31.78125 34.625 \r\nz\r\nM 21.921875 38.8125 \r\nQ 15.578125 40.375 12.03125 44.71875 \r\nQ 8.5 49.078125 8.5 55.328125 \r\nQ 8.5 64.0625 14.71875 69.140625 \r\nQ 20.953125 74.21875 31.78125 74.21875 \r\nQ 42.671875 74.21875 48.875 69.140625 \r\nQ 55.078125 64.0625 55.078125 55.328125 \r\nQ 55.078125 49.078125 51.53125 44.71875 \r\nQ 48 40.375 41.703125 38.8125 \r\nQ 48.828125 37.15625 52.796875 32.3125 \r\nQ 56.78125 27.484375 56.78125 20.515625 \r\nQ 56.78125 9.90625 50.3125 4.234375 \r\nQ 43.84375 -1.421875 31.78125 -1.421875 \r\nQ 19.734375 -1.421875 13.25 4.234375 \r\nQ 6.78125 9.90625 6.78125 20.515625 \r\nQ 6.78125 27.484375 10.78125 32.3125 \r\nQ 14.796875 37.15625 21.921875 38.8125 \r\nz\r\nM 18.3125 54.390625 \r\nQ 18.3125 48.734375 21.84375 45.5625 \r\nQ 25.390625 42.390625 31.78125 42.390625 \r\nQ 38.140625 42.390625 41.71875 45.5625 \r\nQ 45.3125 48.734375 45.3125 54.390625 \r\nQ 45.3125 60.0625 41.71875 63.234375 \r\nQ 38.140625 66.40625 31.78125 66.40625 \r\nQ 25.390625 66.40625 21.84375 63.234375 \r\nQ 18.3125 60.0625 18.3125 54.390625 \r\nz\r\n\" id=\"DejaVuSans-56\"/>\r\n       </defs>\r\n       <use xlink:href=\"#DejaVuSans-56\"/>\r\n       <use x=\"63.623047\" xlink:href=\"#DejaVuSans-48\"/>\r\n       <use x=\"127.246094\" xlink:href=\"#DejaVuSans-48\"/>\r\n       <use x=\"190.869141\" xlink:href=\"#DejaVuSans-48\"/>\r\n       <use x=\"254.492188\" xlink:href=\"#DejaVuSans-48\"/>\r\n      </g>\r\n     </g>\r\n    </g>\r\n    <g id=\"xtick_6\">\r\n     <g id=\"line2d_6\">\r\n      <g>\r\n       <use style=\"stroke:#000000;stroke-width:0.8;\" x=\"287.997508\" xlink:href=\"#m3c62e0c62b\" y=\"239.758125\"/>\r\n      </g>\r\n     </g>\r\n     <g id=\"text_6\">\r\n      <!-- 100000 -->\r\n      <g transform=\"translate(268.910008 254.356562)scale(0.1 -0.1)\">\r\n       <defs>\r\n        <path d=\"M 12.40625 8.296875 \r\nL 28.515625 8.296875 \r\nL 28.515625 63.921875 \r\nL 10.984375 60.40625 \r\nL 10.984375 69.390625 \r\nL 28.421875 72.90625 \r\nL 38.28125 72.90625 \r\nL 38.28125 8.296875 \r\nL 54.390625 8.296875 \r\nL 54.390625 0 \r\nL 12.40625 0 \r\nz\r\n\" id=\"DejaVuSans-49\"/>\r\n       </defs>\r\n       <use xlink:href=\"#DejaVuSans-49\"/>\r\n       <use x=\"63.623047\" xlink:href=\"#DejaVuSans-48\"/>\r\n       <use x=\"127.246094\" xlink:href=\"#DejaVuSans-48\"/>\r\n       <use x=\"190.869141\" xlink:href=\"#DejaVuSans-48\"/>\r\n       <use x=\"254.492188\" xlink:href=\"#DejaVuSans-48\"/>\r\n       <use x=\"318.115234\" xlink:href=\"#DejaVuSans-48\"/>\r\n      </g>\r\n     </g>\r\n    </g>\r\n    <g id=\"xtick_7\">\r\n     <g id=\"line2d_7\">\r\n      <g>\r\n       <use style=\"stroke:#000000;stroke-width:0.8;\" x=\"328.684298\" xlink:href=\"#m3c62e0c62b\" y=\"239.758125\"/>\r\n      </g>\r\n     </g>\r\n     <g id=\"text_7\">\r\n      <!-- 120000 -->\r\n      <g transform=\"translate(309.596798 254.356562)scale(0.1 -0.1)\">\r\n       <use xlink:href=\"#DejaVuSans-49\"/>\r\n       <use x=\"63.623047\" xlink:href=\"#DejaVuSans-50\"/>\r\n       <use x=\"127.246094\" xlink:href=\"#DejaVuSans-48\"/>\r\n       <use x=\"190.869141\" xlink:href=\"#DejaVuSans-48\"/>\r\n       <use x=\"254.492188\" xlink:href=\"#DejaVuSans-48\"/>\r\n       <use x=\"318.115234\" xlink:href=\"#DejaVuSans-48\"/>\r\n      </g>\r\n     </g>\r\n    </g>\r\n    <g id=\"xtick_8\">\r\n     <g id=\"line2d_8\">\r\n      <g>\r\n       <use style=\"stroke:#000000;stroke-width:0.8;\" x=\"369.371088\" xlink:href=\"#m3c62e0c62b\" y=\"239.758125\"/>\r\n      </g>\r\n     </g>\r\n     <g id=\"text_8\">\r\n      <!-- 140000 -->\r\n      <g transform=\"translate(350.283588 254.356562)scale(0.1 -0.1)\">\r\n       <use xlink:href=\"#DejaVuSans-49\"/>\r\n       <use x=\"63.623047\" xlink:href=\"#DejaVuSans-52\"/>\r\n       <use x=\"127.246094\" xlink:href=\"#DejaVuSans-48\"/>\r\n       <use x=\"190.869141\" xlink:href=\"#DejaVuSans-48\"/>\r\n       <use x=\"254.492188\" xlink:href=\"#DejaVuSans-48\"/>\r\n       <use x=\"318.115234\" xlink:href=\"#DejaVuSans-48\"/>\r\n      </g>\r\n     </g>\r\n    </g>\r\n    <g id=\"text_9\">\r\n     <!-- Word Offset -->\r\n     <g transform=\"translate(207.577344 268.034687)scale(0.1 -0.1)\">\r\n      <defs>\r\n       <path d=\"M 3.328125 72.90625 \r\nL 13.28125 72.90625 \r\nL 28.609375 11.28125 \r\nL 43.890625 72.90625 \r\nL 54.984375 72.90625 \r\nL 70.3125 11.28125 \r\nL 85.59375 72.90625 \r\nL 95.609375 72.90625 \r\nL 77.296875 0 \r\nL 64.890625 0 \r\nL 49.515625 63.28125 \r\nL 33.984375 0 \r\nL 21.578125 0 \r\nz\r\n\" id=\"DejaVuSans-87\"/>\r\n       <path d=\"M 30.609375 48.390625 \r\nQ 23.390625 48.390625 19.1875 42.75 \r\nQ 14.984375 37.109375 14.984375 27.296875 \r\nQ 14.984375 17.484375 19.15625 11.84375 \r\nQ 23.34375 6.203125 30.609375 6.203125 \r\nQ 37.796875 6.203125 41.984375 11.859375 \r\nQ 46.1875 17.53125 46.1875 27.296875 \r\nQ 46.1875 37.015625 41.984375 42.703125 \r\nQ 37.796875 48.390625 30.609375 48.390625 \r\nz\r\nM 30.609375 56 \r\nQ 42.328125 56 49.015625 48.375 \r\nQ 55.71875 40.765625 55.71875 27.296875 \r\nQ 55.71875 13.875 49.015625 6.21875 \r\nQ 42.328125 -1.421875 30.609375 -1.421875 \r\nQ 18.84375 -1.421875 12.171875 6.21875 \r\nQ 5.515625 13.875 5.515625 27.296875 \r\nQ 5.515625 40.765625 12.171875 48.375 \r\nQ 18.84375 56 30.609375 56 \r\nz\r\n\" id=\"DejaVuSans-111\"/>\r\n       <path d=\"M 41.109375 46.296875 \r\nQ 39.59375 47.171875 37.8125 47.578125 \r\nQ 36.03125 48 33.890625 48 \r\nQ 26.265625 48 22.1875 43.046875 \r\nQ 18.109375 38.09375 18.109375 28.8125 \r\nL 18.109375 0 \r\nL 9.078125 0 \r\nL 9.078125 54.6875 \r\nL 18.109375 54.6875 \r\nL 18.109375 46.1875 \r\nQ 20.953125 51.171875 25.484375 53.578125 \r\nQ 30.03125 56 36.53125 56 \r\nQ 37.453125 56 38.578125 55.875 \r\nQ 39.703125 55.765625 41.0625 55.515625 \r\nz\r\n\" id=\"DejaVuSans-114\"/>\r\n       <path d=\"M 45.40625 46.390625 \r\nL 45.40625 75.984375 \r\nL 54.390625 75.984375 \r\nL 54.390625 0 \r\nL 45.40625 0 \r\nL 45.40625 8.203125 \r\nQ 42.578125 3.328125 38.25 0.953125 \r\nQ 33.9375 -1.421875 27.875 -1.421875 \r\nQ 17.96875 -1.421875 11.734375 6.484375 \r\nQ 5.515625 14.40625 5.515625 27.296875 \r\nQ 5.515625 40.1875 11.734375 48.09375 \r\nQ 17.96875 56 27.875 56 \r\nQ 33.9375 56 38.25 53.625 \r\nQ 42.578125 51.265625 45.40625 46.390625 \r\nz\r\nM 14.796875 27.296875 \r\nQ 14.796875 17.390625 18.875 11.75 \r\nQ 22.953125 6.109375 30.078125 6.109375 \r\nQ 37.203125 6.109375 41.296875 11.75 \r\nQ 45.40625 17.390625 45.40625 27.296875 \r\nQ 45.40625 37.203125 41.296875 42.84375 \r\nQ 37.203125 48.484375 30.078125 48.484375 \r\nQ 22.953125 48.484375 18.875 42.84375 \r\nQ 14.796875 37.203125 14.796875 27.296875 \r\nz\r\n\" id=\"DejaVuSans-100\"/>\r\n       <path id=\"DejaVuSans-32\"/>\r\n       <path d=\"M 39.40625 66.21875 \r\nQ 28.65625 66.21875 22.328125 58.203125 \r\nQ 16.015625 50.203125 16.015625 36.375 \r\nQ 16.015625 22.609375 22.328125 14.59375 \r\nQ 28.65625 6.59375 39.40625 6.59375 \r\nQ 50.140625 6.59375 56.421875 14.59375 \r\nQ 62.703125 22.609375 62.703125 36.375 \r\nQ 62.703125 50.203125 56.421875 58.203125 \r\nQ 50.140625 66.21875 39.40625 66.21875 \r\nz\r\nM 39.40625 74.21875 \r\nQ 54.734375 74.21875 63.90625 63.9375 \r\nQ 73.09375 53.65625 73.09375 36.375 \r\nQ 73.09375 19.140625 63.90625 8.859375 \r\nQ 54.734375 -1.421875 39.40625 -1.421875 \r\nQ 24.03125 -1.421875 14.8125 8.828125 \r\nQ 5.609375 19.09375 5.609375 36.375 \r\nQ 5.609375 53.65625 14.8125 63.9375 \r\nQ 24.03125 74.21875 39.40625 74.21875 \r\nz\r\n\" id=\"DejaVuSans-79\"/>\r\n       <path d=\"M 37.109375 75.984375 \r\nL 37.109375 68.5 \r\nL 28.515625 68.5 \r\nQ 23.6875 68.5 21.796875 66.546875 \r\nQ 19.921875 64.59375 19.921875 59.515625 \r\nL 19.921875 54.6875 \r\nL 34.71875 54.6875 \r\nL 34.71875 47.703125 \r\nL 19.921875 47.703125 \r\nL 19.921875 0 \r\nL 10.890625 0 \r\nL 10.890625 47.703125 \r\nL 2.296875 47.703125 \r\nL 2.296875 54.6875 \r\nL 10.890625 54.6875 \r\nL 10.890625 58.5 \r\nQ 10.890625 67.625 15.140625 71.796875 \r\nQ 19.390625 75.984375 28.609375 75.984375 \r\nz\r\n\" id=\"DejaVuSans-102\"/>\r\n       <path d=\"M 44.28125 53.078125 \r\nL 44.28125 44.578125 \r\nQ 40.484375 46.53125 36.375 47.5 \r\nQ 32.28125 48.484375 27.875 48.484375 \r\nQ 21.1875 48.484375 17.84375 46.4375 \r\nQ 14.5 44.390625 14.5 40.28125 \r\nQ 14.5 37.15625 16.890625 35.375 \r\nQ 19.28125 33.59375 26.515625 31.984375 \r\nL 29.59375 31.296875 \r\nQ 39.15625 29.25 43.1875 25.515625 \r\nQ 47.21875 21.78125 47.21875 15.09375 \r\nQ 47.21875 7.46875 41.1875 3.015625 \r\nQ 35.15625 -1.421875 24.609375 -1.421875 \r\nQ 20.21875 -1.421875 15.453125 -0.5625 \r\nQ 10.6875 0.296875 5.421875 2 \r\nL 5.421875 11.28125 \r\nQ 10.40625 8.6875 15.234375 7.390625 \r\nQ 20.0625 6.109375 24.8125 6.109375 \r\nQ 31.15625 6.109375 34.5625 8.28125 \r\nQ 37.984375 10.453125 37.984375 14.40625 \r\nQ 37.984375 18.0625 35.515625 20.015625 \r\nQ 33.0625 21.96875 24.703125 23.78125 \r\nL 21.578125 24.515625 \r\nQ 13.234375 26.265625 9.515625 29.90625 \r\nQ 5.8125 33.546875 5.8125 39.890625 \r\nQ 5.8125 47.609375 11.28125 51.796875 \r\nQ 16.75 56 26.8125 56 \r\nQ 31.78125 56 36.171875 55.265625 \r\nQ 40.578125 54.546875 44.28125 53.078125 \r\nz\r\n\" id=\"DejaVuSans-115\"/>\r\n       <path d=\"M 56.203125 29.59375 \r\nL 56.203125 25.203125 \r\nL 14.890625 25.203125 \r\nQ 15.484375 15.921875 20.484375 11.0625 \r\nQ 25.484375 6.203125 34.421875 6.203125 \r\nQ 39.59375 6.203125 44.453125 7.46875 \r\nQ 49.3125 8.734375 54.109375 11.28125 \r\nL 54.109375 2.78125 \r\nQ 49.265625 0.734375 44.1875 -0.34375 \r\nQ 39.109375 -1.421875 33.890625 -1.421875 \r\nQ 20.796875 -1.421875 13.15625 6.1875 \r\nQ 5.515625 13.8125 5.515625 26.8125 \r\nQ 5.515625 40.234375 12.765625 48.109375 \r\nQ 20.015625 56 32.328125 56 \r\nQ 43.359375 56 49.78125 48.890625 \r\nQ 56.203125 41.796875 56.203125 29.59375 \r\nz\r\nM 47.21875 32.234375 \r\nQ 47.125 39.59375 43.09375 43.984375 \r\nQ 39.0625 48.390625 32.421875 48.390625 \r\nQ 24.90625 48.390625 20.390625 44.140625 \r\nQ 15.875 39.890625 15.1875 32.171875 \r\nz\r\n\" id=\"DejaVuSans-101\"/>\r\n       <path d=\"M 18.3125 70.21875 \r\nL 18.3125 54.6875 \r\nL 36.8125 54.6875 \r\nL 36.8125 47.703125 \r\nL 18.3125 47.703125 \r\nL 18.3125 18.015625 \r\nQ 18.3125 11.328125 20.140625 9.421875 \r\nQ 21.96875 7.515625 27.59375 7.515625 \r\nL 36.8125 7.515625 \r\nL 36.8125 0 \r\nL 27.59375 0 \r\nQ 17.1875 0 13.234375 3.875 \r\nQ 9.28125 7.765625 9.28125 18.015625 \r\nL 9.28125 47.703125 \r\nL 2.6875 47.703125 \r\nL 2.6875 54.6875 \r\nL 9.28125 54.6875 \r\nL 9.28125 70.21875 \r\nz\r\n\" id=\"DejaVuSans-116\"/>\r\n      </defs>\r\n      <use xlink:href=\"#DejaVuSans-87\"/>\r\n      <use x=\"93.001953\" xlink:href=\"#DejaVuSans-111\"/>\r\n      <use x=\"154.183594\" xlink:href=\"#DejaVuSans-114\"/>\r\n      <use x=\"193.546875\" xlink:href=\"#DejaVuSans-100\"/>\r\n      <use x=\"257.023438\" xlink:href=\"#DejaVuSans-32\"/>\r\n      <use x=\"288.810547\" xlink:href=\"#DejaVuSans-79\"/>\r\n      <use x=\"367.521484\" xlink:href=\"#DejaVuSans-102\"/>\r\n      <use x=\"402.726562\" xlink:href=\"#DejaVuSans-102\"/>\r\n      <use x=\"437.931641\" xlink:href=\"#DejaVuSans-115\"/>\r\n      <use x=\"490.03125\" xlink:href=\"#DejaVuSans-101\"/>\r\n      <use x=\"551.554688\" xlink:href=\"#DejaVuSans-116\"/>\r\n     </g>\r\n    </g>\r\n   </g>\r\n   <g id=\"matplotlib.axis_2\">\r\n    <g id=\"ytick_1\">\r\n     <g id=\"line2d_9\">\r\n      <defs>\r\n       <path d=\"M 0 0 \r\nL -3.5 0 \r\n\" id=\"m8f67b1b21a\" style=\"stroke:#000000;stroke-width:0.8;\"/>\r\n      </defs>\r\n      <g>\r\n       <use style=\"stroke:#000000;stroke-width:0.8;\" x=\"69.715625\" xlink:href=\"#m8f67b1b21a\" y=\"203.518125\"/>\r\n      </g>\r\n     </g>\r\n     <g id=\"text_10\">\r\n      <!-- America -->\r\n      <g style=\"fill:#0000ff;\" transform=\"translate(21.465625 207.317344)scale(0.1 -0.1)\">\r\n       <defs>\r\n        <path d=\"M 34.1875 63.1875 \r\nL 20.796875 26.90625 \r\nL 47.609375 26.90625 \r\nz\r\nM 28.609375 72.90625 \r\nL 39.796875 72.90625 \r\nL 67.578125 0 \r\nL 57.328125 0 \r\nL 50.6875 18.703125 \r\nL 17.828125 18.703125 \r\nL 11.1875 0 \r\nL 0.78125 0 \r\nz\r\n\" id=\"DejaVuSans-65\"/>\r\n        <path d=\"M 52 44.1875 \r\nQ 55.375 50.25 60.0625 53.125 \r\nQ 64.75 56 71.09375 56 \r\nQ 79.640625 56 84.28125 50.015625 \r\nQ 88.921875 44.046875 88.921875 33.015625 \r\nL 88.921875 0 \r\nL 79.890625 0 \r\nL 79.890625 32.71875 \r\nQ 79.890625 40.578125 77.09375 44.375 \r\nQ 74.3125 48.1875 68.609375 48.1875 \r\nQ 61.625 48.1875 57.5625 43.546875 \r\nQ 53.515625 38.921875 53.515625 30.90625 \r\nL 53.515625 0 \r\nL 44.484375 0 \r\nL 44.484375 32.71875 \r\nQ 44.484375 40.625 41.703125 44.40625 \r\nQ 38.921875 48.1875 33.109375 48.1875 \r\nQ 26.21875 48.1875 22.15625 43.53125 \r\nQ 18.109375 38.875 18.109375 30.90625 \r\nL 18.109375 0 \r\nL 9.078125 0 \r\nL 9.078125 54.6875 \r\nL 18.109375 54.6875 \r\nL 18.109375 46.1875 \r\nQ 21.1875 51.21875 25.484375 53.609375 \r\nQ 29.78125 56 35.6875 56 \r\nQ 41.65625 56 45.828125 52.96875 \r\nQ 50 49.953125 52 44.1875 \r\nz\r\n\" id=\"DejaVuSans-109\"/>\r\n        <path d=\"M 9.421875 54.6875 \r\nL 18.40625 54.6875 \r\nL 18.40625 0 \r\nL 9.421875 0 \r\nz\r\nM 9.421875 75.984375 \r\nL 18.40625 75.984375 \r\nL 18.40625 64.59375 \r\nL 9.421875 64.59375 \r\nz\r\n\" id=\"DejaVuSans-105\"/>\r\n        <path d=\"M 48.78125 52.59375 \r\nL 48.78125 44.1875 \r\nQ 44.96875 46.296875 41.140625 47.34375 \r\nQ 37.3125 48.390625 33.40625 48.390625 \r\nQ 24.65625 48.390625 19.8125 42.84375 \r\nQ 14.984375 37.3125 14.984375 27.296875 \r\nQ 14.984375 17.28125 19.8125 11.734375 \r\nQ 24.65625 6.203125 33.40625 6.203125 \r\nQ 37.3125 6.203125 41.140625 7.25 \r\nQ 44.96875 8.296875 48.78125 10.40625 \r\nL 48.78125 2.09375 \r\nQ 45.015625 0.34375 40.984375 -0.53125 \r\nQ 36.96875 -1.421875 32.421875 -1.421875 \r\nQ 20.0625 -1.421875 12.78125 6.34375 \r\nQ 5.515625 14.109375 5.515625 27.296875 \r\nQ 5.515625 40.671875 12.859375 48.328125 \r\nQ 20.21875 56 33.015625 56 \r\nQ 37.15625 56 41.109375 55.140625 \r\nQ 45.0625 54.296875 48.78125 52.59375 \r\nz\r\n\" id=\"DejaVuSans-99\"/>\r\n        <path d=\"M 34.28125 27.484375 \r\nQ 23.390625 27.484375 19.1875 25 \r\nQ 14.984375 22.515625 14.984375 16.5 \r\nQ 14.984375 11.71875 18.140625 8.90625 \r\nQ 21.296875 6.109375 26.703125 6.109375 \r\nQ 34.1875 6.109375 38.703125 11.40625 \r\nQ 43.21875 16.703125 43.21875 25.484375 \r\nL 43.21875 27.484375 \r\nz\r\nM 52.203125 31.203125 \r\nL 52.203125 0 \r\nL 43.21875 0 \r\nL 43.21875 8.296875 \r\nQ 40.140625 3.328125 35.546875 0.953125 \r\nQ 30.953125 -1.421875 24.3125 -1.421875 \r\nQ 15.921875 -1.421875 10.953125 3.296875 \r\nQ 6 8.015625 6 15.921875 \r\nQ 6 25.140625 12.171875 29.828125 \r\nQ 18.359375 34.515625 30.609375 34.515625 \r\nL 43.21875 34.515625 \r\nL 43.21875 35.40625 \r\nQ 43.21875 41.609375 39.140625 45 \r\nQ 35.0625 48.390625 27.6875 48.390625 \r\nQ 23 48.390625 18.546875 47.265625 \r\nQ 14.109375 46.140625 10.015625 43.890625 \r\nL 10.015625 52.203125 \r\nQ 14.9375 54.109375 19.578125 55.046875 \r\nQ 24.21875 56 28.609375 56 \r\nQ 40.484375 56 46.34375 49.84375 \r\nQ 52.203125 43.703125 52.203125 31.203125 \r\nz\r\n\" id=\"DejaVuSans-97\"/>\r\n       </defs>\r\n       <use xlink:href=\"#DejaVuSans-65\"/>\r\n       <use x=\"68.408203\" xlink:href=\"#DejaVuSans-109\"/>\r\n       <use x=\"165.820312\" xlink:href=\"#DejaVuSans-101\"/>\r\n       <use x=\"227.34375\" xlink:href=\"#DejaVuSans-114\"/>\r\n       <use x=\"268.457031\" xlink:href=\"#DejaVuSans-105\"/>\r\n       <use x=\"296.240234\" xlink:href=\"#DejaVuSans-99\"/>\r\n       <use x=\"351.220703\" xlink:href=\"#DejaVuSans-97\"/>\r\n      </g>\r\n     </g>\r\n    </g>\r\n    <g id=\"ytick_2\">\r\n     <g id=\"line2d_10\">\r\n      <g>\r\n       <use style=\"stroke:#000000;stroke-width:0.8;\" x=\"69.715625\" xlink:href=\"#m8f67b1b21a\" y=\"167.278125\"/>\r\n      </g>\r\n     </g>\r\n     <g id=\"text_11\">\r\n      <!-- duties -->\r\n      <g style=\"fill:#0000ff;\" transform=\"translate(31.96875 171.077344)scale(0.1 -0.1)\">\r\n       <defs>\r\n        <path d=\"M 8.5 21.578125 \r\nL 8.5 54.6875 \r\nL 17.484375 54.6875 \r\nL 17.484375 21.921875 \r\nQ 17.484375 14.15625 20.5 10.265625 \r\nQ 23.53125 6.390625 29.59375 6.390625 \r\nQ 36.859375 6.390625 41.078125 11.03125 \r\nQ 45.3125 15.671875 45.3125 23.6875 \r\nL 45.3125 54.6875 \r\nL 54.296875 54.6875 \r\nL 54.296875 0 \r\nL 45.3125 0 \r\nL 45.3125 8.40625 \r\nQ 42.046875 3.421875 37.71875 1 \r\nQ 33.40625 -1.421875 27.6875 -1.421875 \r\nQ 18.265625 -1.421875 13.375 4.4375 \r\nQ 8.5 10.296875 8.5 21.578125 \r\nz\r\nM 31.109375 56 \r\nz\r\n\" id=\"DejaVuSans-117\"/>\r\n       </defs>\r\n       <use xlink:href=\"#DejaVuSans-100\"/>\r\n       <use x=\"63.476562\" xlink:href=\"#DejaVuSans-117\"/>\r\n       <use x=\"126.855469\" xlink:href=\"#DejaVuSans-116\"/>\r\n       <use x=\"166.064453\" xlink:href=\"#DejaVuSans-105\"/>\r\n       <use x=\"193.847656\" xlink:href=\"#DejaVuSans-101\"/>\r\n       <use x=\"255.371094\" xlink:href=\"#DejaVuSans-115\"/>\r\n      </g>\r\n     </g>\r\n    </g>\r\n    <g id=\"ytick_3\">\r\n     <g id=\"line2d_11\">\r\n      <g>\r\n       <use style=\"stroke:#000000;stroke-width:0.8;\" x=\"69.715625\" xlink:href=\"#m8f67b1b21a\" y=\"131.038125\"/>\r\n      </g>\r\n     </g>\r\n     <g id=\"text_12\">\r\n      <!-- freedom -->\r\n      <g style=\"fill:#0000ff;\" transform=\"translate(20.795313 134.837344)scale(0.1 -0.1)\">\r\n       <use xlink:href=\"#DejaVuSans-102\"/>\r\n       <use x=\"35.205078\" xlink:href=\"#DejaVuSans-114\"/>\r\n       <use x=\"74.068359\" xlink:href=\"#DejaVuSans-101\"/>\r\n       <use x=\"135.591797\" xlink:href=\"#DejaVuSans-101\"/>\r\n       <use x=\"197.115234\" xlink:href=\"#DejaVuSans-100\"/>\r\n       <use x=\"260.591797\" xlink:href=\"#DejaVuSans-111\"/>\r\n       <use x=\"321.773438\" xlink:href=\"#DejaVuSans-109\"/>\r\n      </g>\r\n     </g>\r\n    </g>\r\n    <g id=\"ytick_4\">\r\n     <g id=\"line2d_12\">\r\n      <g>\r\n       <use style=\"stroke:#000000;stroke-width:0.8;\" x=\"69.715625\" xlink:href=\"#m8f67b1b21a\" y=\"94.798125\"/>\r\n      </g>\r\n     </g>\r\n     <g id=\"text_13\">\r\n      <!-- democracy -->\r\n      <g style=\"fill:#0000ff;\" transform=\"translate(7.2 98.597344)scale(0.1 -0.1)\">\r\n       <defs>\r\n        <path d=\"M 32.171875 -5.078125 \r\nQ 28.375 -14.84375 24.75 -17.8125 \r\nQ 21.140625 -20.796875 15.09375 -20.796875 \r\nL 7.90625 -20.796875 \r\nL 7.90625 -13.28125 \r\nL 13.1875 -13.28125 \r\nQ 16.890625 -13.28125 18.9375 -11.515625 \r\nQ 21 -9.765625 23.484375 -3.21875 \r\nL 25.09375 0.875 \r\nL 2.984375 54.6875 \r\nL 12.5 54.6875 \r\nL 29.59375 11.921875 \r\nL 46.6875 54.6875 \r\nL 56.203125 54.6875 \r\nz\r\n\" id=\"DejaVuSans-121\"/>\r\n       </defs>\r\n       <use xlink:href=\"#DejaVuSans-100\"/>\r\n       <use x=\"63.476562\" xlink:href=\"#DejaVuSans-101\"/>\r\n       <use x=\"125\" xlink:href=\"#DejaVuSans-109\"/>\r\n       <use x=\"222.412109\" xlink:href=\"#DejaVuSans-111\"/>\r\n       <use x=\"283.59375\" xlink:href=\"#DejaVuSans-99\"/>\r\n       <use x=\"338.574219\" xlink:href=\"#DejaVuSans-114\"/>\r\n       <use x=\"379.6875\" xlink:href=\"#DejaVuSans-97\"/>\r\n       <use x=\"440.966797\" xlink:href=\"#DejaVuSans-99\"/>\r\n       <use x=\"495.947266\" xlink:href=\"#DejaVuSans-121\"/>\r\n      </g>\r\n     </g>\r\n    </g>\r\n    <g id=\"ytick_5\">\r\n     <g id=\"line2d_13\">\r\n      <g>\r\n       <use style=\"stroke:#000000;stroke-width:0.8;\" x=\"69.715625\" xlink:href=\"#m8f67b1b21a\" y=\"58.558125\"/>\r\n      </g>\r\n     </g>\r\n     <g id=\"text_14\">\r\n      <!-- citizens -->\r\n      <g style=\"fill:#0000ff;\" transform=\"translate(24.792188 62.357344)scale(0.1 -0.1)\">\r\n       <defs>\r\n        <path d=\"M 5.515625 54.6875 \r\nL 48.1875 54.6875 \r\nL 48.1875 46.484375 \r\nL 14.40625 7.171875 \r\nL 48.1875 7.171875 \r\nL 48.1875 0 \r\nL 4.296875 0 \r\nL 4.296875 8.203125 \r\nL 38.09375 47.515625 \r\nL 5.515625 47.515625 \r\nz\r\n\" id=\"DejaVuSans-122\"/>\r\n        <path d=\"M 54.890625 33.015625 \r\nL 54.890625 0 \r\nL 45.90625 0 \r\nL 45.90625 32.71875 \r\nQ 45.90625 40.484375 42.875 44.328125 \r\nQ 39.84375 48.1875 33.796875 48.1875 \r\nQ 26.515625 48.1875 22.3125 43.546875 \r\nQ 18.109375 38.921875 18.109375 30.90625 \r\nL 18.109375 0 \r\nL 9.078125 0 \r\nL 9.078125 54.6875 \r\nL 18.109375 54.6875 \r\nL 18.109375 46.1875 \r\nQ 21.34375 51.125 25.703125 53.5625 \r\nQ 30.078125 56 35.796875 56 \r\nQ 45.21875 56 50.046875 50.171875 \r\nQ 54.890625 44.34375 54.890625 33.015625 \r\nz\r\n\" id=\"DejaVuSans-110\"/>\r\n       </defs>\r\n       <use xlink:href=\"#DejaVuSans-99\"/>\r\n       <use x=\"54.980469\" xlink:href=\"#DejaVuSans-105\"/>\r\n       <use x=\"82.763672\" xlink:href=\"#DejaVuSans-116\"/>\r\n       <use x=\"121.972656\" xlink:href=\"#DejaVuSans-105\"/>\r\n       <use x=\"149.755859\" xlink:href=\"#DejaVuSans-122\"/>\r\n       <use x=\"202.246094\" xlink:href=\"#DejaVuSans-101\"/>\r\n       <use x=\"263.769531\" xlink:href=\"#DejaVuSans-110\"/>\r\n       <use x=\"327.148438\" xlink:href=\"#DejaVuSans-115\"/>\r\n      </g>\r\n     </g>\r\n    </g>\r\n   </g>\r\n   <g id=\"line2d_14\">\r\n    <defs>\r\n     <path d=\"M 0 3 \r\nL 0 -3 \r\n\" id=\"m9e1f688fc5\" style=\"stroke:#0000ff;\"/>\r\n    </defs>\r\n    <g clip-path=\"url(#pb92e465b6c)\">\r\n     <use style=\"fill:#0000ff;stroke:#0000ff;\" x=\"84.933807\" xlink:href=\"#m9e1f688fc5\" y=\"58.558125\"/>\r\n     <use style=\"fill:#0000ff;stroke:#0000ff;\" x=\"84.9867\" xlink:href=\"#m9e1f688fc5\" y=\"167.278125\"/>\r\n     <use style=\"fill:#0000ff;stroke:#0000ff;\" x=\"85.173859\" xlink:href=\"#m9e1f688fc5\" y=\"58.558125\"/>\r\n     <use style=\"fill:#0000ff;stroke:#0000ff;\" x=\"85.580727\" xlink:href=\"#m9e1f688fc5\" y=\"58.558125\"/>\r\n     <use style=\"fill:#0000ff;stroke:#0000ff;\" x=\"86.420909\" xlink:href=\"#m9e1f688fc5\" y=\"58.558125\"/>\r\n     <use style=\"fill:#0000ff;stroke:#0000ff;\" x=\"87.694406\" xlink:href=\"#m9e1f688fc5\" y=\"58.558125\"/>\r\n     <use style=\"fill:#0000ff;stroke:#0000ff;\" x=\"87.8185\" xlink:href=\"#m9e1f688fc5\" y=\"203.518125\"/>\r\n     <use style=\"fill:#0000ff;stroke:#0000ff;\" x=\"88.021934\" xlink:href=\"#m9e1f688fc5\" y=\"203.518125\"/>\r\n     <use style=\"fill:#0000ff;stroke:#0000ff;\" x=\"88.856013\" xlink:href=\"#m9e1f688fc5\" y=\"203.518125\"/>\r\n     <use style=\"fill:#0000ff;stroke:#0000ff;\" x=\"89.309671\" xlink:href=\"#m9e1f688fc5\" y=\"58.558125\"/>\r\n     <use style=\"fill:#0000ff;stroke:#0000ff;\" x=\"90.044068\" xlink:href=\"#m9e1f688fc5\" y=\"58.558125\"/>\r\n     <use style=\"fill:#0000ff;stroke:#0000ff;\" x=\"90.878147\" xlink:href=\"#m9e1f688fc5\" y=\"203.518125\"/>\r\n     <use style=\"fill:#0000ff;stroke:#0000ff;\" x=\"91.051066\" xlink:href=\"#m9e1f688fc5\" y=\"58.558125\"/>\r\n     <use style=\"fill:#0000ff;stroke:#0000ff;\" x=\"92.076373\" xlink:href=\"#m9e1f688fc5\" y=\"203.518125\"/>\r\n     <use style=\"fill:#0000ff;stroke:#0000ff;\" x=\"92.119094\" xlink:href=\"#m9e1f688fc5\" y=\"58.558125\"/>\r\n     <use style=\"fill:#0000ff;stroke:#0000ff;\" x=\"92.377455\" xlink:href=\"#m9e1f688fc5\" y=\"203.518125\"/>\r\n     <use style=\"fill:#0000ff;stroke:#0000ff;\" x=\"92.489344\" xlink:href=\"#m9e1f688fc5\" y=\"58.558125\"/>\r\n     <use style=\"fill:#0000ff;stroke:#0000ff;\" x=\"92.733464\" xlink:href=\"#m9e1f688fc5\" y=\"167.278125\"/>\r\n     <use style=\"fill:#0000ff;stroke:#0000ff;\" x=\"93.27053\" xlink:href=\"#m9e1f688fc5\" y=\"167.278125\"/>\r\n     <use style=\"fill:#0000ff;stroke:#0000ff;\" x=\"93.315286\" xlink:href=\"#m9e1f688fc5\" y=\"58.558125\"/>\r\n     <use style=\"fill:#0000ff;stroke:#0000ff;\" x=\"94.165639\" xlink:href=\"#m9e1f688fc5\" y=\"58.558125\"/>\r\n     <use style=\"fill:#0000ff;stroke:#0000ff;\" x=\"95.233668\" xlink:href=\"#m9e1f688fc5\" y=\"58.558125\"/>\r\n     <use style=\"fill:#0000ff;stroke:#0000ff;\" x=\"95.447273\" xlink:href=\"#m9e1f688fc5\" y=\"58.558125\"/>\r\n     <use style=\"fill:#0000ff;stroke:#0000ff;\" x=\"95.59578\" xlink:href=\"#m9e1f688fc5\" y=\"58.558125\"/>\r\n     <use style=\"fill:#0000ff;stroke:#0000ff;\" x=\"95.607986\" xlink:href=\"#m9e1f688fc5\" y=\"167.278125\"/>\r\n     <use style=\"fill:#0000ff;stroke:#0000ff;\" x=\"96.220322\" xlink:href=\"#m9e1f688fc5\" y=\"131.038125\"/>\r\n     <use style=\"fill:#0000ff;stroke:#0000ff;\" x=\"96.22846\" xlink:href=\"#m9e1f688fc5\" y=\"131.038125\"/>\r\n     <use style=\"fill:#0000ff;stroke:#0000ff;\" x=\"96.240666\" xlink:href=\"#m9e1f688fc5\" y=\"131.038125\"/>\r\n     <use style=\"fill:#0000ff;stroke:#0000ff;\" x=\"96.507164\" xlink:href=\"#m9e1f688fc5\" y=\"58.558125\"/>\r\n     <use style=\"fill:#0000ff;stroke:#0000ff;\" x=\"97.02999\" xlink:href=\"#m9e1f688fc5\" y=\"131.038125\"/>\r\n     <use style=\"fill:#0000ff;stroke:#0000ff;\" x=\"97.192737\" xlink:href=\"#m9e1f688fc5\" y=\"58.558125\"/>\r\n     <use style=\"fill:#0000ff;stroke:#0000ff;\" x=\"97.27411\" xlink:href=\"#m9e1f688fc5\" y=\"58.558125\"/>\r\n     <use style=\"fill:#0000ff;stroke:#0000ff;\" x=\"97.613845\" xlink:href=\"#m9e1f688fc5\" y=\"167.278125\"/>\r\n     <use style=\"fill:#0000ff;stroke:#0000ff;\" x=\"97.683012\" xlink:href=\"#m9e1f688fc5\" y=\"58.558125\"/>\r\n     <use style=\"fill:#0000ff;stroke:#0000ff;\" x=\"98.020713\" xlink:href=\"#m9e1f688fc5\" y=\"58.558125\"/>\r\n     <use style=\"fill:#0000ff;stroke:#0000ff;\" x=\"98.52116\" xlink:href=\"#m9e1f688fc5\" y=\"58.558125\"/>\r\n     <use style=\"fill:#0000ff;stroke:#0000ff;\" x=\"99.863824\" xlink:href=\"#m9e1f688fc5\" y=\"58.558125\"/>\r\n     <use style=\"fill:#0000ff;stroke:#0000ff;\" x=\"99.918752\" xlink:href=\"#m9e1f688fc5\" y=\"58.558125\"/>\r\n     <use style=\"fill:#0000ff;stroke:#0000ff;\" x=\"100.00216\" xlink:href=\"#m9e1f688fc5\" y=\"167.278125\"/>\r\n     <use style=\"fill:#0000ff;stroke:#0000ff;\" x=\"100.207628\" xlink:href=\"#m9e1f688fc5\" y=\"131.038125\"/>\r\n     <use style=\"fill:#0000ff;stroke:#0000ff;\" x=\"100.315448\" xlink:href=\"#m9e1f688fc5\" y=\"167.278125\"/>\r\n     <use style=\"fill:#0000ff;stroke:#0000ff;\" x=\"100.406993\" xlink:href=\"#m9e1f688fc5\" y=\"131.038125\"/>\r\n     <use style=\"fill:#0000ff;stroke:#0000ff;\" x=\"100.559569\" xlink:href=\"#m9e1f688fc5\" y=\"58.558125\"/>\r\n     <use style=\"fill:#0000ff;stroke:#0000ff;\" x=\"101.151561\" xlink:href=\"#m9e1f688fc5\" y=\"58.558125\"/>\r\n     <use style=\"fill:#0000ff;stroke:#0000ff;\" x=\"101.564532\" xlink:href=\"#m9e1f688fc5\" y=\"167.278125\"/>\r\n     <use style=\"fill:#0000ff;stroke:#0000ff;\" x=\"101.574704\" xlink:href=\"#m9e1f688fc5\" y=\"58.558125\"/>\r\n     <use style=\"fill:#0000ff;stroke:#0000ff;\" x=\"102.113804\" xlink:href=\"#m9e1f688fc5\" y=\"167.278125\"/>\r\n     <use style=\"fill:#0000ff;stroke:#0000ff;\" x=\"103.212347\" xlink:href=\"#m9e1f688fc5\" y=\"167.278125\"/>\r\n     <use style=\"fill:#0000ff;stroke:#0000ff;\" x=\"103.739241\" xlink:href=\"#m9e1f688fc5\" y=\"131.038125\"/>\r\n     <use style=\"fill:#0000ff;stroke:#0000ff;\" x=\"104.400402\" xlink:href=\"#m9e1f688fc5\" y=\"58.558125\"/>\r\n     <use style=\"fill:#0000ff;stroke:#0000ff;\" x=\"104.762514\" xlink:href=\"#m9e1f688fc5\" y=\"167.278125\"/>\r\n     <use style=\"fill:#0000ff;stroke:#0000ff;\" x=\"105.273133\" xlink:href=\"#m9e1f688fc5\" y=\"58.558125\"/>\r\n     <use style=\"fill:#0000ff;stroke:#0000ff;\" x=\"105.751203\" xlink:href=\"#m9e1f688fc5\" y=\"58.558125\"/>\r\n     <use style=\"fill:#0000ff;stroke:#0000ff;\" x=\"105.940397\" xlink:href=\"#m9e1f688fc5\" y=\"58.558125\"/>\r\n     <use style=\"fill:#0000ff;stroke:#0000ff;\" x=\"107.010459\" xlink:href=\"#m9e1f688fc5\" y=\"58.558125\"/>\r\n     <use style=\"fill:#0000ff;stroke:#0000ff;\" x=\"107.303404\" xlink:href=\"#m9e1f688fc5\" y=\"58.558125\"/>\r\n     <use style=\"fill:#0000ff;stroke:#0000ff;\" x=\"107.474289\" xlink:href=\"#m9e1f688fc5\" y=\"167.278125\"/>\r\n     <use style=\"fill:#0000ff;stroke:#0000ff;\" x=\"107.539387\" xlink:href=\"#m9e1f688fc5\" y=\"167.278125\"/>\r\n     <use style=\"fill:#0000ff;stroke:#0000ff;\" x=\"107.657379\" xlink:href=\"#m9e1f688fc5\" y=\"167.278125\"/>\r\n     <use style=\"fill:#0000ff;stroke:#0000ff;\" x=\"107.805886\" xlink:href=\"#m9e1f688fc5\" y=\"167.278125\"/>\r\n     <use style=\"fill:#0000ff;stroke:#0000ff;\" x=\"108.050007\" xlink:href=\"#m9e1f688fc5\" y=\"58.558125\"/>\r\n     <use style=\"fill:#0000ff;stroke:#0000ff;\" x=\"108.534179\" xlink:href=\"#m9e1f688fc5\" y=\"167.278125\"/>\r\n     <use style=\"fill:#0000ff;stroke:#0000ff;\" x=\"109.537109\" xlink:href=\"#m9e1f688fc5\" y=\"58.558125\"/>\r\n     <use style=\"fill:#0000ff;stroke:#0000ff;\" x=\"110.590897\" xlink:href=\"#m9e1f688fc5\" y=\"58.558125\"/>\r\n     <use style=\"fill:#0000ff;stroke:#0000ff;\" x=\"111.115756\" xlink:href=\"#m9e1f688fc5\" y=\"58.558125\"/>\r\n     <use style=\"fill:#0000ff;stroke:#0000ff;\" x=\"111.363946\" xlink:href=\"#m9e1f688fc5\" y=\"58.558125\"/>\r\n     <use style=\"fill:#0000ff;stroke:#0000ff;\" x=\"112.098342\" xlink:href=\"#m9e1f688fc5\" y=\"58.558125\"/>\r\n     <use style=\"fill:#0000ff;stroke:#0000ff;\" x=\"112.859185\" xlink:href=\"#m9e1f688fc5\" y=\"58.558125\"/>\r\n     <use style=\"fill:#0000ff;stroke:#0000ff;\" x=\"113.520346\" xlink:href=\"#m9e1f688fc5\" y=\"167.278125\"/>\r\n     <use style=\"fill:#0000ff;stroke:#0000ff;\" x=\"114.712468\" xlink:href=\"#m9e1f688fc5\" y=\"58.558125\"/>\r\n     <use style=\"fill:#0000ff;stroke:#0000ff;\" x=\"114.777567\" xlink:href=\"#m9e1f688fc5\" y=\"58.558125\"/>\r\n     <use style=\"fill:#0000ff;stroke:#0000ff;\" x=\"114.826392\" xlink:href=\"#m9e1f688fc5\" y=\"58.558125\"/>\r\n     <use style=\"fill:#0000ff;stroke:#0000ff;\" x=\"115.434659\" xlink:href=\"#m9e1f688fc5\" y=\"167.278125\"/>\r\n     <use style=\"fill:#0000ff;stroke:#0000ff;\" x=\"115.690986\" xlink:href=\"#m9e1f688fc5\" y=\"58.558125\"/>\r\n     <use style=\"fill:#0000ff;stroke:#0000ff;\" x=\"115.939175\" xlink:href=\"#m9e1f688fc5\" y=\"58.558125\"/>\r\n     <use style=\"fill:#0000ff;stroke:#0000ff;\" x=\"117.226912\" xlink:href=\"#m9e1f688fc5\" y=\"58.558125\"/>\r\n     <use style=\"fill:#0000ff;stroke:#0000ff;\" x=\"117.654123\" xlink:href=\"#m9e1f688fc5\" y=\"203.518125\"/>\r\n     <use style=\"fill:#0000ff;stroke:#0000ff;\" x=\"118.244082\" xlink:href=\"#m9e1f688fc5\" y=\"58.558125\"/>\r\n     <use style=\"fill:#0000ff;stroke:#0000ff;\" x=\"119.263286\" xlink:href=\"#m9e1f688fc5\" y=\"58.558125\"/>\r\n     <use style=\"fill:#0000ff;stroke:#0000ff;\" x=\"119.887828\" xlink:href=\"#m9e1f688fc5\" y=\"58.558125\"/>\r\n     <use style=\"fill:#0000ff;stroke:#0000ff;\" x=\"119.922412\" xlink:href=\"#m9e1f688fc5\" y=\"203.518125\"/>\r\n     <use style=\"fill:#0000ff;stroke:#0000ff;\" x=\"120.463546\" xlink:href=\"#m9e1f688fc5\" y=\"167.278125\"/>\r\n     <use style=\"fill:#0000ff;stroke:#0000ff;\" x=\"120.854139\" xlink:href=\"#m9e1f688fc5\" y=\"58.558125\"/>\r\n     <use style=\"fill:#0000ff;stroke:#0000ff;\" x=\"121.126741\" xlink:href=\"#m9e1f688fc5\" y=\"58.558125\"/>\r\n     <use style=\"fill:#0000ff;stroke:#0000ff;\" x=\"121.610914\" xlink:href=\"#m9e1f688fc5\" y=\"58.558125\"/>\r\n     <use style=\"fill:#0000ff;stroke:#0000ff;\" x=\"121.769592\" xlink:href=\"#m9e1f688fc5\" y=\"167.278125\"/>\r\n     <use style=\"fill:#0000ff;stroke:#0000ff;\" x=\"122.97799\" xlink:href=\"#m9e1f688fc5\" y=\"58.558125\"/>\r\n     <use style=\"fill:#0000ff;stroke:#0000ff;\" x=\"124.448817\" xlink:href=\"#m9e1f688fc5\" y=\"58.558125\"/>\r\n     <use style=\"fill:#0000ff;stroke:#0000ff;\" x=\"124.623771\" xlink:href=\"#m9e1f688fc5\" y=\"58.558125\"/>\r\n     <use style=\"fill:#0000ff;stroke:#0000ff;\" x=\"124.684801\" xlink:href=\"#m9e1f688fc5\" y=\"58.558125\"/>\r\n     <use style=\"fill:#0000ff;stroke:#0000ff;\" x=\"124.737694\" xlink:href=\"#m9e1f688fc5\" y=\"167.278125\"/>\r\n     <use style=\"fill:#0000ff;stroke:#0000ff;\" x=\"124.839411\" xlink:href=\"#m9e1f688fc5\" y=\"58.558125\"/>\r\n     <use style=\"fill:#0000ff;stroke:#0000ff;\" x=\"124.890269\" xlink:href=\"#m9e1f688fc5\" y=\"167.278125\"/>\r\n     <use style=\"fill:#0000ff;stroke:#0000ff;\" x=\"124.955368\" xlink:href=\"#m9e1f688fc5\" y=\"167.278125\"/>\r\n     <use style=\"fill:#0000ff;stroke:#0000ff;\" x=\"125.028604\" xlink:href=\"#m9e1f688fc5\" y=\"167.278125\"/>\r\n     <use style=\"fill:#0000ff;stroke:#0000ff;\" x=\"125.413094\" xlink:href=\"#m9e1f688fc5\" y=\"131.038125\"/>\r\n     <use style=\"fill:#0000ff;stroke:#0000ff;\" x=\"126.029499\" xlink:href=\"#m9e1f688fc5\" y=\"167.278125\"/>\r\n     <use style=\"fill:#0000ff;stroke:#0000ff;\" x=\"126.462813\" xlink:href=\"#m9e1f688fc5\" y=\"131.038125\"/>\r\n     <use style=\"fill:#0000ff;stroke:#0000ff;\" x=\"127.575597\" xlink:href=\"#m9e1f688fc5\" y=\"131.038125\"/>\r\n     <use style=\"fill:#0000ff;stroke:#0000ff;\" x=\"127.79734\" xlink:href=\"#m9e1f688fc5\" y=\"131.038125\"/>\r\n     <use style=\"fill:#0000ff;stroke:#0000ff;\" x=\"127.899057\" xlink:href=\"#m9e1f688fc5\" y=\"94.798125\"/>\r\n     <use style=\"fill:#0000ff;stroke:#0000ff;\" x=\"128.61311\" xlink:href=\"#m9e1f688fc5\" y=\"167.278125\"/>\r\n     <use style=\"fill:#0000ff;stroke:#0000ff;\" x=\"129.272236\" xlink:href=\"#m9e1f688fc5\" y=\"131.038125\"/>\r\n     <use style=\"fill:#0000ff;stroke:#0000ff;\" x=\"130.665759\" xlink:href=\"#m9e1f688fc5\" y=\"58.558125\"/>\r\n     <use style=\"fill:#0000ff;stroke:#0000ff;\" x=\"130.93836\" xlink:href=\"#m9e1f688fc5\" y=\"167.278125\"/>\r\n     <use style=\"fill:#0000ff;stroke:#0000ff;\" x=\"131.172309\" xlink:href=\"#m9e1f688fc5\" y=\"58.558125\"/>\r\n     <use style=\"fill:#0000ff;stroke:#0000ff;\" x=\"131.18655\" xlink:href=\"#m9e1f688fc5\" y=\"167.278125\"/>\r\n     <use style=\"fill:#0000ff;stroke:#0000ff;\" x=\"131.52425\" xlink:href=\"#m9e1f688fc5\" y=\"167.278125\"/>\r\n     <use style=\"fill:#0000ff;stroke:#0000ff;\" x=\"133.104932\" xlink:href=\"#m9e1f688fc5\" y=\"167.278125\"/>\r\n     <use style=\"fill:#0000ff;stroke:#0000ff;\" x=\"133.180203\" xlink:href=\"#m9e1f688fc5\" y=\"131.038125\"/>\r\n     <use style=\"fill:#0000ff;stroke:#0000ff;\" x=\"133.509766\" xlink:href=\"#m9e1f688fc5\" y=\"58.558125\"/>\r\n     <use style=\"fill:#0000ff;stroke:#0000ff;\" x=\"133.629792\" xlink:href=\"#m9e1f688fc5\" y=\"58.558125\"/>\r\n     <use style=\"fill:#0000ff;stroke:#0000ff;\" x=\"133.690822\" xlink:href=\"#m9e1f688fc5\" y=\"167.278125\"/>\r\n     <use style=\"fill:#0000ff;stroke:#0000ff;\" x=\"135.928595\" xlink:href=\"#m9e1f688fc5\" y=\"167.278125\"/>\r\n     <use style=\"fill:#0000ff;stroke:#0000ff;\" x=\"135.983522\" xlink:href=\"#m9e1f688fc5\" y=\"58.558125\"/>\r\n     <use style=\"fill:#0000ff;stroke:#0000ff;\" x=\"136.164579\" xlink:href=\"#m9e1f688fc5\" y=\"58.558125\"/>\r\n     <use style=\"fill:#0000ff;stroke:#0000ff;\" x=\"136.2073\" xlink:href=\"#m9e1f688fc5\" y=\"58.558125\"/>\r\n     <use style=\"fill:#0000ff;stroke:#0000ff;\" x=\"136.59179\" xlink:href=\"#m9e1f688fc5\" y=\"167.278125\"/>\r\n     <use style=\"fill:#0000ff;stroke:#0000ff;\" x=\"136.791155\" xlink:href=\"#m9e1f688fc5\" y=\"58.558125\"/>\r\n     <use style=\"fill:#0000ff;stroke:#0000ff;\" x=\"138.71564\" xlink:href=\"#m9e1f688fc5\" y=\"58.558125\"/>\r\n     <use style=\"fill:#0000ff;stroke:#0000ff;\" x=\"138.862113\" xlink:href=\"#m9e1f688fc5\" y=\"203.518125\"/>\r\n     <use style=\"fill:#0000ff;stroke:#0000ff;\" x=\"139.946416\" xlink:href=\"#m9e1f688fc5\" y=\"58.558125\"/>\r\n     <use style=\"fill:#0000ff;stroke:#0000ff;\" x=\"141.722394\" xlink:href=\"#m9e1f688fc5\" y=\"58.558125\"/>\r\n     <use style=\"fill:#0000ff;stroke:#0000ff;\" x=\"142.051957\" xlink:href=\"#m9e1f688fc5\" y=\"58.558125\"/>\r\n     <use style=\"fill:#0000ff;stroke:#0000ff;\" x=\"144.765766\" xlink:href=\"#m9e1f688fc5\" y=\"58.558125\"/>\r\n     <use style=\"fill:#0000ff;stroke:#0000ff;\" x=\"144.804418\" xlink:href=\"#m9e1f688fc5\" y=\"167.278125\"/>\r\n     <use style=\"fill:#0000ff;stroke:#0000ff;\" x=\"144.885792\" xlink:href=\"#m9e1f688fc5\" y=\"167.278125\"/>\r\n     <use style=\"fill:#0000ff;stroke:#0000ff;\" x=\"145.756489\" xlink:href=\"#m9e1f688fc5\" y=\"94.798125\"/>\r\n     <use style=\"fill:#0000ff;stroke:#0000ff;\" x=\"145.970095\" xlink:href=\"#m9e1f688fc5\" y=\"58.558125\"/>\r\n     <use style=\"fill:#0000ff;stroke:#0000ff;\" x=\"147.925095\" xlink:href=\"#m9e1f688fc5\" y=\"94.798125\"/>\r\n     <use style=\"fill:#0000ff;stroke:#0000ff;\" x=\"148.569981\" xlink:href=\"#m9e1f688fc5\" y=\"58.558125\"/>\r\n     <use style=\"fill:#0000ff;stroke:#0000ff;\" x=\"151.418056\" xlink:href=\"#m9e1f688fc5\" y=\"131.038125\"/>\r\n     <use style=\"fill:#0000ff;stroke:#0000ff;\" x=\"152.992635\" xlink:href=\"#m9e1f688fc5\" y=\"131.038125\"/>\r\n     <use style=\"fill:#0000ff;stroke:#0000ff;\" x=\"154.105419\" xlink:href=\"#m9e1f688fc5\" y=\"131.038125\"/>\r\n     <use style=\"fill:#0000ff;stroke:#0000ff;\" x=\"154.384123\" xlink:href=\"#m9e1f688fc5\" y=\"131.038125\"/>\r\n     <use style=\"fill:#0000ff;stroke:#0000ff;\" x=\"155.580315\" xlink:href=\"#m9e1f688fc5\" y=\"58.558125\"/>\r\n     <use style=\"fill:#0000ff;stroke:#0000ff;\" x=\"155.645414\" xlink:href=\"#m9e1f688fc5\" y=\"58.558125\"/>\r\n     <use style=\"fill:#0000ff;stroke:#0000ff;\" x=\"155.867157\" xlink:href=\"#m9e1f688fc5\" y=\"167.278125\"/>\r\n     <use style=\"fill:#0000ff;stroke:#0000ff;\" x=\"156.00956\" xlink:href=\"#m9e1f688fc5\" y=\"58.558125\"/>\r\n     <use style=\"fill:#0000ff;stroke:#0000ff;\" x=\"156.198754\" xlink:href=\"#m9e1f688fc5\" y=\"58.558125\"/>\r\n     <use style=\"fill:#0000ff;stroke:#0000ff;\" x=\"156.328952\" xlink:href=\"#m9e1f688fc5\" y=\"58.558125\"/>\r\n     <use style=\"fill:#0000ff;stroke:#0000ff;\" x=\"156.432703\" xlink:href=\"#m9e1f688fc5\" y=\"58.558125\"/>\r\n     <use style=\"fill:#0000ff;stroke:#0000ff;\" x=\"156.599519\" xlink:href=\"#m9e1f688fc5\" y=\"58.558125\"/>\r\n     <use style=\"fill:#0000ff;stroke:#0000ff;\" x=\"157.523109\" xlink:href=\"#m9e1f688fc5\" y=\"58.558125\"/>\r\n     <use style=\"fill:#0000ff;stroke:#0000ff;\" x=\"157.569899\" xlink:href=\"#m9e1f688fc5\" y=\"58.558125\"/>\r\n     <use style=\"fill:#0000ff;stroke:#0000ff;\" x=\"157.614654\" xlink:href=\"#m9e1f688fc5\" y=\"58.558125\"/>\r\n     <use style=\"fill:#0000ff;stroke:#0000ff;\" x=\"157.744852\" xlink:href=\"#m9e1f688fc5\" y=\"58.558125\"/>\r\n     <use style=\"fill:#0000ff;stroke:#0000ff;\" x=\"157.82826\" xlink:href=\"#m9e1f688fc5\" y=\"58.558125\"/>\r\n     <use style=\"fill:#0000ff;stroke:#0000ff;\" x=\"158.249368\" xlink:href=\"#m9e1f688fc5\" y=\"58.558125\"/>\r\n     <use style=\"fill:#0000ff;stroke:#0000ff;\" x=\"158.27378\" xlink:href=\"#m9e1f688fc5\" y=\"58.558125\"/>\r\n     <use style=\"fill:#0000ff;stroke:#0000ff;\" x=\"158.613515\" xlink:href=\"#m9e1f688fc5\" y=\"58.558125\"/>\r\n     <use style=\"fill:#0000ff;stroke:#0000ff;\" x=\"159.211611\" xlink:href=\"#m9e1f688fc5\" y=\"58.558125\"/>\r\n     <use style=\"fill:#0000ff;stroke:#0000ff;\" x=\"159.895149\" xlink:href=\"#m9e1f688fc5\" y=\"94.798125\"/>\r\n     <use style=\"fill:#0000ff;stroke:#0000ff;\" x=\"160.238952\" xlink:href=\"#m9e1f688fc5\" y=\"131.038125\"/>\r\n     <use style=\"fill:#0000ff;stroke:#0000ff;\" x=\"160.773984\" xlink:href=\"#m9e1f688fc5\" y=\"94.798125\"/>\r\n     <use style=\"fill:#0000ff;stroke:#0000ff;\" x=\"160.841117\" xlink:href=\"#m9e1f688fc5\" y=\"58.558125\"/>\r\n     <use style=\"fill:#0000ff;stroke:#0000ff;\" x=\"161.087272\" xlink:href=\"#m9e1f688fc5\" y=\"58.558125\"/>\r\n     <use style=\"fill:#0000ff;stroke:#0000ff;\" x=\"161.180851\" xlink:href=\"#m9e1f688fc5\" y=\"58.558125\"/>\r\n     <use style=\"fill:#0000ff;stroke:#0000ff;\" x=\"161.345633\" xlink:href=\"#m9e1f688fc5\" y=\"167.278125\"/>\r\n     <use style=\"fill:#0000ff;stroke:#0000ff;\" x=\"161.483968\" xlink:href=\"#m9e1f688fc5\" y=\"58.558125\"/>\r\n     <use style=\"fill:#0000ff;stroke:#0000ff;\" x=\"161.803359\" xlink:href=\"#m9e1f688fc5\" y=\"58.558125\"/>\r\n     <use style=\"fill:#0000ff;stroke:#0000ff;\" x=\"161.868458\" xlink:href=\"#m9e1f688fc5\" y=\"58.558125\"/>\r\n     <use style=\"fill:#0000ff;stroke:#0000ff;\" x=\"162.958864\" xlink:href=\"#m9e1f688fc5\" y=\"58.558125\"/>\r\n     <use style=\"fill:#0000ff;stroke:#0000ff;\" x=\"163.06465\" xlink:href=\"#m9e1f688fc5\" y=\"131.038125\"/>\r\n     <use style=\"fill:#0000ff;stroke:#0000ff;\" x=\"163.162298\" xlink:href=\"#m9e1f688fc5\" y=\"58.558125\"/>\r\n     <use style=\"fill:#0000ff;stroke:#0000ff;\" x=\"163.268084\" xlink:href=\"#m9e1f688fc5\" y=\"167.278125\"/>\r\n     <use style=\"fill:#0000ff;stroke:#0000ff;\" x=\"163.337251\" xlink:href=\"#m9e1f688fc5\" y=\"58.558125\"/>\r\n     <use style=\"fill:#0000ff;stroke:#0000ff;\" x=\"163.502033\" xlink:href=\"#m9e1f688fc5\" y=\"167.278125\"/>\r\n     <use style=\"fill:#0000ff;stroke:#0000ff;\" x=\"163.569166\" xlink:href=\"#m9e1f688fc5\" y=\"167.278125\"/>\r\n     <use style=\"fill:#0000ff;stroke:#0000ff;\" x=\"165.145779\" xlink:href=\"#m9e1f688fc5\" y=\"131.038125\"/>\r\n     <use style=\"fill:#0000ff;stroke:#0000ff;\" x=\"166.368417\" xlink:href=\"#m9e1f688fc5\" y=\"58.558125\"/>\r\n     <use style=\"fill:#0000ff;stroke:#0000ff;\" x=\"166.439619\" xlink:href=\"#m9e1f688fc5\" y=\"131.038125\"/>\r\n     <use style=\"fill:#0000ff;stroke:#0000ff;\" x=\"167.670394\" xlink:href=\"#m9e1f688fc5\" y=\"58.558125\"/>\r\n     <use style=\"fill:#0000ff;stroke:#0000ff;\" x=\"168.421066\" xlink:href=\"#m9e1f688fc5\" y=\"58.558125\"/>\r\n     <use style=\"fill:#0000ff;stroke:#0000ff;\" x=\"168.691633\" xlink:href=\"#m9e1f688fc5\" y=\"58.558125\"/>\r\n     <use style=\"fill:#0000ff;stroke:#0000ff;\" x=\"169.025265\" xlink:href=\"#m9e1f688fc5\" y=\"58.558125\"/>\r\n     <use style=\"fill:#0000ff;stroke:#0000ff;\" x=\"169.149359\" xlink:href=\"#m9e1f688fc5\" y=\"58.558125\"/>\r\n     <use style=\"fill:#0000ff;stroke:#0000ff;\" x=\"169.356862\" xlink:href=\"#m9e1f688fc5\" y=\"167.278125\"/>\r\n     <use style=\"fill:#0000ff;stroke:#0000ff;\" x=\"169.458579\" xlink:href=\"#m9e1f688fc5\" y=\"167.278125\"/>\r\n     <use style=\"fill:#0000ff;stroke:#0000ff;\" x=\"169.544021\" xlink:href=\"#m9e1f688fc5\" y=\"167.278125\"/>\r\n     <use style=\"fill:#0000ff;stroke:#0000ff;\" x=\"169.643704\" xlink:href=\"#m9e1f688fc5\" y=\"167.278125\"/>\r\n     <use style=\"fill:#0000ff;stroke:#0000ff;\" x=\"170.032263\" xlink:href=\"#m9e1f688fc5\" y=\"167.278125\"/>\r\n     <use style=\"fill:#0000ff;stroke:#0000ff;\" x=\"170.408615\" xlink:href=\"#m9e1f688fc5\" y=\"58.558125\"/>\r\n     <use style=\"fill:#0000ff;stroke:#0000ff;\" x=\"171.956748\" xlink:href=\"#m9e1f688fc5\" y=\"58.558125\"/>\r\n     <use style=\"fill:#0000ff;stroke:#0000ff;\" x=\"172.02795\" xlink:href=\"#m9e1f688fc5\" y=\"167.278125\"/>\r\n     <use style=\"fill:#0000ff;stroke:#0000ff;\" x=\"172.084911\" xlink:href=\"#m9e1f688fc5\" y=\"58.558125\"/>\r\n     <use style=\"fill:#0000ff;stroke:#0000ff;\" x=\"173.671696\" xlink:href=\"#m9e1f688fc5\" y=\"58.558125\"/>\r\n     <use style=\"fill:#0000ff;stroke:#0000ff;\" x=\"173.799859\" xlink:href=\"#m9e1f688fc5\" y=\"167.278125\"/>\r\n     <use style=\"fill:#0000ff;stroke:#0000ff;\" x=\"174.123319\" xlink:href=\"#m9e1f688fc5\" y=\"167.278125\"/>\r\n     <use style=\"fill:#0000ff;stroke:#0000ff;\" x=\"174.214865\" xlink:href=\"#m9e1f688fc5\" y=\"167.278125\"/>\r\n     <use style=\"fill:#0000ff;stroke:#0000ff;\" x=\"174.426436\" xlink:href=\"#m9e1f688fc5\" y=\"167.278125\"/>\r\n     <use style=\"fill:#0000ff;stroke:#0000ff;\" x=\"174.446779\" xlink:href=\"#m9e1f688fc5\" y=\"167.278125\"/>\r\n     <use style=\"fill:#0000ff;stroke:#0000ff;\" x=\"175.488361\" xlink:href=\"#m9e1f688fc5\" y=\"58.558125\"/>\r\n     <use style=\"fill:#0000ff;stroke:#0000ff;\" x=\"175.612456\" xlink:href=\"#m9e1f688fc5\" y=\"167.278125\"/>\r\n     <use style=\"fill:#0000ff;stroke:#0000ff;\" x=\"176.086457\" xlink:href=\"#m9e1f688fc5\" y=\"58.558125\"/>\r\n     <use style=\"fill:#0000ff;stroke:#0000ff;\" x=\"176.733377\" xlink:href=\"#m9e1f688fc5\" y=\"167.278125\"/>\r\n     <use style=\"fill:#0000ff;stroke:#0000ff;\" x=\"177.335541\" xlink:href=\"#m9e1f688fc5\" y=\"131.038125\"/>\r\n     <use style=\"fill:#0000ff;stroke:#0000ff;\" x=\"177.785131\" xlink:href=\"#m9e1f688fc5\" y=\"131.038125\"/>\r\n     <use style=\"fill:#0000ff;stroke:#0000ff;\" x=\"178.84909\" xlink:href=\"#m9e1f688fc5\" y=\"58.558125\"/>\r\n     <use style=\"fill:#0000ff;stroke:#0000ff;\" x=\"179.491941\" xlink:href=\"#m9e1f688fc5\" y=\"131.038125\"/>\r\n     <use style=\"fill:#0000ff;stroke:#0000ff;\" x=\"180.942425\" xlink:href=\"#m9e1f688fc5\" y=\"167.278125\"/>\r\n     <use style=\"fill:#0000ff;stroke:#0000ff;\" x=\"180.954631\" xlink:href=\"#m9e1f688fc5\" y=\"58.558125\"/>\r\n     <use style=\"fill:#0000ff;stroke:#0000ff;\" x=\"181.37574\" xlink:href=\"#m9e1f688fc5\" y=\"167.278125\"/>\r\n     <use style=\"fill:#0000ff;stroke:#0000ff;\" x=\"183.751848\" xlink:href=\"#m9e1f688fc5\" y=\"58.558125\"/>\r\n     <use style=\"fill:#0000ff;stroke:#0000ff;\" x=\"183.900355\" xlink:href=\"#m9e1f688fc5\" y=\"167.278125\"/>\r\n     <use style=\"fill:#0000ff;stroke:#0000ff;\" x=\"184.1933\" xlink:href=\"#m9e1f688fc5\" y=\"58.558125\"/>\r\n     <use style=\"fill:#0000ff;stroke:#0000ff;\" x=\"184.801567\" xlink:href=\"#m9e1f688fc5\" y=\"58.558125\"/>\r\n     <use style=\"fill:#0000ff;stroke:#0000ff;\" x=\"187.639471\" xlink:href=\"#m9e1f688fc5\" y=\"58.558125\"/>\r\n     <use style=\"fill:#0000ff;stroke:#0000ff;\" x=\"187.790012\" xlink:href=\"#m9e1f688fc5\" y=\"58.558125\"/>\r\n     <use style=\"fill:#0000ff;stroke:#0000ff;\" x=\"187.834768\" xlink:href=\"#m9e1f688fc5\" y=\"58.558125\"/>\r\n     <use style=\"fill:#0000ff;stroke:#0000ff;\" x=\"188.67495\" xlink:href=\"#m9e1f688fc5\" y=\"203.518125\"/>\r\n     <use style=\"fill:#0000ff;stroke:#0000ff;\" x=\"188.849903\" xlink:href=\"#m9e1f688fc5\" y=\"58.558125\"/>\r\n     <use style=\"fill:#0000ff;stroke:#0000ff;\" x=\"189.148951\" xlink:href=\"#m9e1f688fc5\" y=\"167.278125\"/>\r\n     <use style=\"fill:#0000ff;stroke:#0000ff;\" x=\"191.736631\" xlink:href=\"#m9e1f688fc5\" y=\"58.558125\"/>\r\n     <use style=\"fill:#0000ff;stroke:#0000ff;\" x=\"191.763077\" xlink:href=\"#m9e1f688fc5\" y=\"58.558125\"/>\r\n     <use style=\"fill:#0000ff;stroke:#0000ff;\" x=\"192.021438\" xlink:href=\"#m9e1f688fc5\" y=\"58.558125\"/>\r\n     <use style=\"fill:#0000ff;stroke:#0000ff;\" x=\"193.319347\" xlink:href=\"#m9e1f688fc5\" y=\"167.278125\"/>\r\n     <use style=\"fill:#0000ff;stroke:#0000ff;\" x=\"193.425133\" xlink:href=\"#m9e1f688fc5\" y=\"58.558125\"/>\r\n     <use style=\"fill:#0000ff;stroke:#0000ff;\" x=\"196.547844\" xlink:href=\"#m9e1f688fc5\" y=\"58.558125\"/>\r\n     <use style=\"fill:#0000ff;stroke:#0000ff;\" x=\"199.985878\" xlink:href=\"#m9e1f688fc5\" y=\"167.278125\"/>\r\n     <use style=\"fill:#0000ff;stroke:#0000ff;\" x=\"202.107694\" xlink:href=\"#m9e1f688fc5\" y=\"58.558125\"/>\r\n     <use style=\"fill:#0000ff;stroke:#0000ff;\" x=\"205.326019\" xlink:href=\"#m9e1f688fc5\" y=\"58.558125\"/>\r\n     <use style=\"fill:#0000ff;stroke:#0000ff;\" x=\"205.417564\" xlink:href=\"#m9e1f688fc5\" y=\"167.278125\"/>\r\n     <use style=\"fill:#0000ff;stroke:#0000ff;\" x=\"205.513178\" xlink:href=\"#m9e1f688fc5\" y=\"167.278125\"/>\r\n     <use style=\"fill:#0000ff;stroke:#0000ff;\" x=\"205.999385\" xlink:href=\"#m9e1f688fc5\" y=\"58.558125\"/>\r\n     <use style=\"fill:#0000ff;stroke:#0000ff;\" x=\"206.048209\" xlink:href=\"#m9e1f688fc5\" y=\"58.558125\"/>\r\n     <use style=\"fill:#0000ff;stroke:#0000ff;\" x=\"206.898563\" xlink:href=\"#m9e1f688fc5\" y=\"58.558125\"/>\r\n     <use style=\"fill:#0000ff;stroke:#0000ff;\" x=\"207.449869\" xlink:href=\"#m9e1f688fc5\" y=\"58.558125\"/>\r\n     <use style=\"fill:#0000ff;stroke:#0000ff;\" x=\"208.328704\" xlink:href=\"#m9e1f688fc5\" y=\"167.278125\"/>\r\n     <use style=\"fill:#0000ff;stroke:#0000ff;\" x=\"209.720192\" xlink:href=\"#m9e1f688fc5\" y=\"58.558125\"/>\r\n     <use style=\"fill:#0000ff;stroke:#0000ff;\" x=\"210.670229\" xlink:href=\"#m9e1f688fc5\" y=\"58.558125\"/>\r\n     <use style=\"fill:#0000ff;stroke:#0000ff;\" x=\"211.498205\" xlink:href=\"#m9e1f688fc5\" y=\"131.038125\"/>\r\n     <use style=\"fill:#0000ff;stroke:#0000ff;\" x=\"211.69757\" xlink:href=\"#m9e1f688fc5\" y=\"58.558125\"/>\r\n     <use style=\"fill:#0000ff;stroke:#0000ff;\" x=\"212.785942\" xlink:href=\"#m9e1f688fc5\" y=\"131.038125\"/>\r\n     <use style=\"fill:#0000ff;stroke:#0000ff;\" x=\"213.36166\" xlink:href=\"#m9e1f688fc5\" y=\"58.558125\"/>\r\n     <use style=\"fill:#0000ff;stroke:#0000ff;\" x=\"213.371831\" xlink:href=\"#m9e1f688fc5\" y=\"131.038125\"/>\r\n     <use style=\"fill:#0000ff;stroke:#0000ff;\" x=\"213.504064\" xlink:href=\"#m9e1f688fc5\" y=\"131.038125\"/>\r\n     <use style=\"fill:#0000ff;stroke:#0000ff;\" x=\"213.552888\" xlink:href=\"#m9e1f688fc5\" y=\"131.038125\"/>\r\n     <use style=\"fill:#0000ff;stroke:#0000ff;\" x=\"213.982133\" xlink:href=\"#m9e1f688fc5\" y=\"58.558125\"/>\r\n     <use style=\"fill:#0000ff;stroke:#0000ff;\" x=\"216.366379\" xlink:href=\"#m9e1f688fc5\" y=\"203.518125\"/>\r\n     <use style=\"fill:#0000ff;stroke:#0000ff;\" x=\"216.392826\" xlink:href=\"#m9e1f688fc5\" y=\"131.038125\"/>\r\n     <use style=\"fill:#0000ff;stroke:#0000ff;\" x=\"217.245214\" xlink:href=\"#m9e1f688fc5\" y=\"58.558125\"/>\r\n     <use style=\"fill:#0000ff;stroke:#0000ff;\" x=\"217.385583\" xlink:href=\"#m9e1f688fc5\" y=\"167.278125\"/>\r\n     <use style=\"fill:#0000ff;stroke:#0000ff;\" x=\"217.456785\" xlink:href=\"#m9e1f688fc5\" y=\"58.558125\"/>\r\n     <use style=\"fill:#0000ff;stroke:#0000ff;\" x=\"217.576811\" xlink:href=\"#m9e1f688fc5\" y=\"58.558125\"/>\r\n     <use style=\"fill:#0000ff;stroke:#0000ff;\" x=\"219.635563\" xlink:href=\"#m9e1f688fc5\" y=\"58.558125\"/>\r\n     <use style=\"fill:#0000ff;stroke:#0000ff;\" x=\"220.50626\" xlink:href=\"#m9e1f688fc5\" y=\"58.558125\"/>\r\n     <use style=\"fill:#0000ff;stroke:#0000ff;\" x=\"220.784965\" xlink:href=\"#m9e1f688fc5\" y=\"58.558125\"/>\r\n     <use style=\"fill:#0000ff;stroke:#0000ff;\" x=\"220.825651\" xlink:href=\"#m9e1f688fc5\" y=\"58.558125\"/>\r\n     <use style=\"fill:#0000ff;stroke:#0000ff;\" x=\"220.860235\" xlink:href=\"#m9e1f688fc5\" y=\"167.278125\"/>\r\n     <use style=\"fill:#0000ff;stroke:#0000ff;\" x=\"220.947712\" xlink:href=\"#m9e1f688fc5\" y=\"167.278125\"/>\r\n     <use style=\"fill:#0000ff;stroke:#0000ff;\" x=\"223.173279\" xlink:href=\"#m9e1f688fc5\" y=\"131.038125\"/>\r\n     <use style=\"fill:#0000ff;stroke:#0000ff;\" x=\"223.366541\" xlink:href=\"#m9e1f688fc5\" y=\"167.278125\"/>\r\n     <use style=\"fill:#0000ff;stroke:#0000ff;\" x=\"225.219825\" xlink:href=\"#m9e1f688fc5\" y=\"167.278125\"/>\r\n     <use style=\"fill:#0000ff;stroke:#0000ff;\" x=\"225.293061\" xlink:href=\"#m9e1f688fc5\" y=\"58.558125\"/>\r\n     <use style=\"fill:#0000ff;stroke:#0000ff;\" x=\"225.858607\" xlink:href=\"#m9e1f688fc5\" y=\"167.278125\"/>\r\n     <use style=\"fill:#0000ff;stroke:#0000ff;\" x=\"225.903363\" xlink:href=\"#m9e1f688fc5\" y=\"167.278125\"/>\r\n     <use style=\"fill:#0000ff;stroke:#0000ff;\" x=\"226.719133\" xlink:href=\"#m9e1f688fc5\" y=\"58.558125\"/>\r\n     <use style=\"fill:#0000ff;stroke:#0000ff;\" x=\"226.995803\" xlink:href=\"#m9e1f688fc5\" y=\"58.558125\"/>\r\n     <use style=\"fill:#0000ff;stroke:#0000ff;\" x=\"227.573556\" xlink:href=\"#m9e1f688fc5\" y=\"167.278125\"/>\r\n     <use style=\"fill:#0000ff;stroke:#0000ff;\" x=\"229.508212\" xlink:href=\"#m9e1f688fc5\" y=\"131.038125\"/>\r\n     <use style=\"fill:#0000ff;stroke:#0000ff;\" x=\"230.840705\" xlink:href=\"#m9e1f688fc5\" y=\"58.558125\"/>\r\n     <use style=\"fill:#0000ff;stroke:#0000ff;\" x=\"232.423421\" xlink:href=\"#m9e1f688fc5\" y=\"58.558125\"/>\r\n     <use style=\"fill:#0000ff;stroke:#0000ff;\" x=\"233.410076\" xlink:href=\"#m9e1f688fc5\" y=\"58.558125\"/>\r\n     <use style=\"fill:#0000ff;stroke:#0000ff;\" x=\"234.390627\" xlink:href=\"#m9e1f688fc5\" y=\"58.558125\"/>\r\n     <use style=\"fill:#0000ff;stroke:#0000ff;\" x=\"234.893109\" xlink:href=\"#m9e1f688fc5\" y=\"167.278125\"/>\r\n     <use style=\"fill:#0000ff;stroke:#0000ff;\" x=\"235.218603\" xlink:href=\"#m9e1f688fc5\" y=\"58.558125\"/>\r\n     <use style=\"fill:#0000ff;stroke:#0000ff;\" x=\"235.283702\" xlink:href=\"#m9e1f688fc5\" y=\"167.278125\"/>\r\n     <use style=\"fill:#0000ff;stroke:#0000ff;\" x=\"236.188983\" xlink:href=\"#m9e1f688fc5\" y=\"58.558125\"/>\r\n     <use style=\"fill:#0000ff;stroke:#0000ff;\" x=\"237.956824\" xlink:href=\"#m9e1f688fc5\" y=\"167.278125\"/>\r\n     <use style=\"fill:#0000ff;stroke:#0000ff;\" x=\"239.425618\" xlink:href=\"#m9e1f688fc5\" y=\"131.038125\"/>\r\n     <use style=\"fill:#0000ff;stroke:#0000ff;\" x=\"239.592433\" xlink:href=\"#m9e1f688fc5\" y=\"58.558125\"/>\r\n     <use style=\"fill:#0000ff;stroke:#0000ff;\" x=\"239.919962\" xlink:href=\"#m9e1f688fc5\" y=\"58.558125\"/>\r\n     <use style=\"fill:#0000ff;stroke:#0000ff;\" x=\"240.231216\" xlink:href=\"#m9e1f688fc5\" y=\"58.558125\"/>\r\n     <use style=\"fill:#0000ff;stroke:#0000ff;\" x=\"240.568916\" xlink:href=\"#m9e1f688fc5\" y=\"58.558125\"/>\r\n     <use style=\"fill:#0000ff;stroke:#0000ff;\" x=\"241.614567\" xlink:href=\"#m9e1f688fc5\" y=\"58.558125\"/>\r\n     <use style=\"fill:#0000ff;stroke:#0000ff;\" x=\"243.128115\" xlink:href=\"#m9e1f688fc5\" y=\"58.558125\"/>\r\n     <use style=\"fill:#0000ff;stroke:#0000ff;\" x=\"244.11477\" xlink:href=\"#m9e1f688fc5\" y=\"58.558125\"/>\r\n     <use style=\"fill:#0000ff;stroke:#0000ff;\" x=\"245.312996\" xlink:href=\"#m9e1f688fc5\" y=\"167.278125\"/>\r\n     <use style=\"fill:#0000ff;stroke:#0000ff;\" x=\"245.451331\" xlink:href=\"#m9e1f688fc5\" y=\"167.278125\"/>\r\n     <use style=\"fill:#0000ff;stroke:#0000ff;\" x=\"246.138938\" xlink:href=\"#m9e1f688fc5\" y=\"131.038125\"/>\r\n     <use style=\"fill:#0000ff;stroke:#0000ff;\" x=\"246.348475\" xlink:href=\"#m9e1f688fc5\" y=\"131.038125\"/>\r\n     <use style=\"fill:#0000ff;stroke:#0000ff;\" x=\"246.64142\" xlink:href=\"#m9e1f688fc5\" y=\"131.038125\"/>\r\n     <use style=\"fill:#0000ff;stroke:#0000ff;\" x=\"246.891643\" xlink:href=\"#m9e1f688fc5\" y=\"58.558125\"/>\r\n     <use style=\"fill:#0000ff;stroke:#0000ff;\" x=\"247.560941\" xlink:href=\"#m9e1f688fc5\" y=\"167.278125\"/>\r\n     <use style=\"fill:#0000ff;stroke:#0000ff;\" x=\"248.146831\" xlink:href=\"#m9e1f688fc5\" y=\"167.278125\"/>\r\n     <use style=\"fill:#0000ff;stroke:#0000ff;\" x=\"248.856815\" xlink:href=\"#m9e1f688fc5\" y=\"131.038125\"/>\r\n     <use style=\"fill:#0000ff;stroke:#0000ff;\" x=\"249.096868\" xlink:href=\"#m9e1f688fc5\" y=\"58.558125\"/>\r\n     <use style=\"fill:#0000ff;stroke:#0000ff;\" x=\"249.656311\" xlink:href=\"#m9e1f688fc5\" y=\"167.278125\"/>\r\n     <use style=\"fill:#0000ff;stroke:#0000ff;\" x=\"249.664448\" xlink:href=\"#m9e1f688fc5\" y=\"167.278125\"/>\r\n     <use style=\"fill:#0000ff;stroke:#0000ff;\" x=\"251.316332\" xlink:href=\"#m9e1f688fc5\" y=\"58.558125\"/>\r\n     <use style=\"fill:#0000ff;stroke:#0000ff;\" x=\"251.379396\" xlink:href=\"#m9e1f688fc5\" y=\"167.278125\"/>\r\n     <use style=\"fill:#0000ff;stroke:#0000ff;\" x=\"251.847295\" xlink:href=\"#m9e1f688fc5\" y=\"131.038125\"/>\r\n     <use style=\"fill:#0000ff;stroke:#0000ff;\" x=\"252.720026\" xlink:href=\"#m9e1f688fc5\" y=\"167.278125\"/>\r\n     <use style=\"fill:#0000ff;stroke:#0000ff;\" x=\"253.61717\" xlink:href=\"#m9e1f688fc5\" y=\"167.278125\"/>\r\n     <use style=\"fill:#0000ff;stroke:#0000ff;\" x=\"253.651754\" xlink:href=\"#m9e1f688fc5\" y=\"167.278125\"/>\r\n     <use style=\"fill:#0000ff;stroke:#0000ff;\" x=\"256.310635\" xlink:href=\"#m9e1f688fc5\" y=\"58.558125\"/>\r\n     <use style=\"fill:#0000ff;stroke:#0000ff;\" x=\"256.3737\" xlink:href=\"#m9e1f688fc5\" y=\"58.558125\"/>\r\n     <use style=\"fill:#0000ff;stroke:#0000ff;\" x=\"256.721572\" xlink:href=\"#m9e1f688fc5\" y=\"58.558125\"/>\r\n     <use style=\"fill:#0000ff;stroke:#0000ff;\" x=\"257.909626\" xlink:href=\"#m9e1f688fc5\" y=\"203.518125\"/>\r\n     <use style=\"fill:#0000ff;stroke:#0000ff;\" x=\"258.019481\" xlink:href=\"#m9e1f688fc5\" y=\"203.518125\"/>\r\n     <use style=\"fill:#0000ff;stroke:#0000ff;\" x=\"258.428383\" xlink:href=\"#m9e1f688fc5\" y=\"203.518125\"/>\r\n     <use style=\"fill:#0000ff;stroke:#0000ff;\" x=\"258.465001\" xlink:href=\"#m9e1f688fc5\" y=\"203.518125\"/>\r\n     <use style=\"fill:#0000ff;stroke:#0000ff;\" x=\"259.746635\" xlink:href=\"#m9e1f688fc5\" y=\"131.038125\"/>\r\n     <use style=\"fill:#0000ff;stroke:#0000ff;\" x=\"260.169777\" xlink:href=\"#m9e1f688fc5\" y=\"58.558125\"/>\r\n     <use style=\"fill:#0000ff;stroke:#0000ff;\" x=\"263.172463\" xlink:href=\"#m9e1f688fc5\" y=\"58.558125\"/>\r\n     <use style=\"fill:#0000ff;stroke:#0000ff;\" x=\"263.200943\" xlink:href=\"#m9e1f688fc5\" y=\"167.278125\"/>\r\n     <use style=\"fill:#0000ff;stroke:#0000ff;\" x=\"267.084497\" xlink:href=\"#m9e1f688fc5\" y=\"58.558125\"/>\r\n     <use style=\"fill:#0000ff;stroke:#0000ff;\" x=\"268.160663\" xlink:href=\"#m9e1f688fc5\" y=\"131.038125\"/>\r\n     <use style=\"fill:#0000ff;stroke:#0000ff;\" x=\"268.311204\" xlink:href=\"#m9e1f688fc5\" y=\"131.038125\"/>\r\n     <use style=\"fill:#0000ff;stroke:#0000ff;\" x=\"268.827926\" xlink:href=\"#m9e1f688fc5\" y=\"58.558125\"/>\r\n     <use style=\"fill:#0000ff;stroke:#0000ff;\" x=\"269.438228\" xlink:href=\"#m9e1f688fc5\" y=\"58.558125\"/>\r\n     <use style=\"fill:#0000ff;stroke:#0000ff;\" x=\"270.093286\" xlink:href=\"#m9e1f688fc5\" y=\"203.518125\"/>\r\n     <use style=\"fill:#0000ff;stroke:#0000ff;\" x=\"270.099389\" xlink:href=\"#m9e1f688fc5\" y=\"203.518125\"/>\r\n     <use style=\"fill:#0000ff;stroke:#0000ff;\" x=\"271.035185\" xlink:href=\"#m9e1f688fc5\" y=\"131.038125\"/>\r\n     <use style=\"fill:#0000ff;stroke:#0000ff;\" x=\"271.407469\" xlink:href=\"#m9e1f688fc5\" y=\"203.518125\"/>\r\n     <use style=\"fill:#0000ff;stroke:#0000ff;\" x=\"271.413572\" xlink:href=\"#m9e1f688fc5\" y=\"203.518125\"/>\r\n     <use style=\"fill:#0000ff;stroke:#0000ff;\" x=\"271.419675\" xlink:href=\"#m9e1f688fc5\" y=\"203.518125\"/>\r\n     <use style=\"fill:#0000ff;stroke:#0000ff;\" x=\"271.983187\" xlink:href=\"#m9e1f688fc5\" y=\"131.038125\"/>\r\n     <use style=\"fill:#0000ff;stroke:#0000ff;\" x=\"272.37378\" xlink:href=\"#m9e1f688fc5\" y=\"203.518125\"/>\r\n     <use style=\"fill:#0000ff;stroke:#0000ff;\" x=\"272.469394\" xlink:href=\"#m9e1f688fc5\" y=\"203.518125\"/>\r\n     <use style=\"fill:#0000ff;stroke:#0000ff;\" x=\"272.648416\" xlink:href=\"#m9e1f688fc5\" y=\"203.518125\"/>\r\n     <use style=\"fill:#0000ff;stroke:#0000ff;\" x=\"272.670794\" xlink:href=\"#m9e1f688fc5\" y=\"94.798125\"/>\r\n     <use style=\"fill:#0000ff;stroke:#0000ff;\" x=\"272.965773\" xlink:href=\"#m9e1f688fc5\" y=\"94.798125\"/>\r\n     <use style=\"fill:#0000ff;stroke:#0000ff;\" x=\"273.207859\" xlink:href=\"#m9e1f688fc5\" y=\"203.518125\"/>\r\n     <use style=\"fill:#0000ff;stroke:#0000ff;\" x=\"273.270924\" xlink:href=\"#m9e1f688fc5\" y=\"94.798125\"/>\r\n     <use style=\"fill:#0000ff;stroke:#0000ff;\" x=\"273.279061\" xlink:href=\"#m9e1f688fc5\" y=\"131.038125\"/>\r\n     <use style=\"fill:#0000ff;stroke:#0000ff;\" x=\"273.3584\" xlink:href=\"#m9e1f688fc5\" y=\"131.038125\"/>\r\n     <use style=\"fill:#0000ff;stroke:#0000ff;\" x=\"273.848676\" xlink:href=\"#m9e1f688fc5\" y=\"203.518125\"/>\r\n     <use style=\"fill:#0000ff;stroke:#0000ff;\" x=\"274.0989\" xlink:href=\"#m9e1f688fc5\" y=\"94.798125\"/>\r\n     <use style=\"fill:#0000ff;stroke:#0000ff;\" x=\"275.425289\" xlink:href=\"#m9e1f688fc5\" y=\"203.518125\"/>\r\n     <use style=\"fill:#0000ff;stroke:#0000ff;\" x=\"275.775196\" xlink:href=\"#m9e1f688fc5\" y=\"167.278125\"/>\r\n     <use style=\"fill:#0000ff;stroke:#0000ff;\" x=\"275.807745\" xlink:href=\"#m9e1f688fc5\" y=\"203.518125\"/>\r\n     <use style=\"fill:#0000ff;stroke:#0000ff;\" x=\"275.94608\" xlink:href=\"#m9e1f688fc5\" y=\"203.518125\"/>\r\n     <use style=\"fill:#0000ff;stroke:#0000ff;\" x=\"276.066106\" xlink:href=\"#m9e1f688fc5\" y=\"58.558125\"/>\r\n     <use style=\"fill:#0000ff;stroke:#0000ff;\" x=\"276.143411\" xlink:href=\"#m9e1f688fc5\" y=\"203.518125\"/>\r\n     <use style=\"fill:#0000ff;stroke:#0000ff;\" x=\"276.22275\" xlink:href=\"#m9e1f688fc5\" y=\"131.038125\"/>\r\n     <use style=\"fill:#0000ff;stroke:#0000ff;\" x=\"276.879842\" xlink:href=\"#m9e1f688fc5\" y=\"203.518125\"/>\r\n     <use style=\"fill:#0000ff;stroke:#0000ff;\" x=\"277.184993\" xlink:href=\"#m9e1f688fc5\" y=\"203.518125\"/>\r\n     <use style=\"fill:#0000ff;stroke:#0000ff;\" x=\"277.81157\" xlink:href=\"#m9e1f688fc5\" y=\"203.518125\"/>\r\n     <use style=\"fill:#0000ff;stroke:#0000ff;\" x=\"278.482902\" xlink:href=\"#m9e1f688fc5\" y=\"203.518125\"/>\r\n     <use style=\"fill:#0000ff;stroke:#0000ff;\" x=\"278.491039\" xlink:href=\"#m9e1f688fc5\" y=\"203.518125\"/>\r\n     <use style=\"fill:#0000ff;stroke:#0000ff;\" x=\"279.017933\" xlink:href=\"#m9e1f688fc5\" y=\"131.038125\"/>\r\n     <use style=\"fill:#0000ff;stroke:#0000ff;\" x=\"279.048448\" xlink:href=\"#m9e1f688fc5\" y=\"131.038125\"/>\r\n     <use style=\"fill:#0000ff;stroke:#0000ff;\" x=\"279.168474\" xlink:href=\"#m9e1f688fc5\" y=\"131.038125\"/>\r\n     <use style=\"fill:#0000ff;stroke:#0000ff;\" x=\"279.337324\" xlink:href=\"#m9e1f688fc5\" y=\"131.038125\"/>\r\n     <use style=\"fill:#0000ff;stroke:#0000ff;\" x=\"280.039171\" xlink:href=\"#m9e1f688fc5\" y=\"58.558125\"/>\r\n     <use style=\"fill:#0000ff;stroke:#0000ff;\" x=\"280.48876\" xlink:href=\"#m9e1f688fc5\" y=\"203.518125\"/>\r\n     <use style=\"fill:#0000ff;stroke:#0000ff;\" x=\"280.515207\" xlink:href=\"#m9e1f688fc5\" y=\"203.518125\"/>\r\n     <use style=\"fill:#0000ff;stroke:#0000ff;\" x=\"281.499827\" xlink:href=\"#m9e1f688fc5\" y=\"58.558125\"/>\r\n     <use style=\"fill:#0000ff;stroke:#0000ff;\" x=\"282.022652\" xlink:href=\"#m9e1f688fc5\" y=\"203.518125\"/>\r\n     <use style=\"fill:#0000ff;stroke:#0000ff;\" x=\"283.591128\" xlink:href=\"#m9e1f688fc5\" y=\"131.038125\"/>\r\n     <use style=\"fill:#0000ff;stroke:#0000ff;\" x=\"285.251149\" xlink:href=\"#m9e1f688fc5\" y=\"167.278125\"/>\r\n     <use style=\"fill:#0000ff;stroke:#0000ff;\" x=\"286.02013\" xlink:href=\"#m9e1f688fc5\" y=\"131.038125\"/>\r\n     <use style=\"fill:#0000ff;stroke:#0000ff;\" x=\"286.323246\" xlink:href=\"#m9e1f688fc5\" y=\"203.518125\"/>\r\n     <use style=\"fill:#0000ff;stroke:#0000ff;\" x=\"286.64874\" xlink:href=\"#m9e1f688fc5\" y=\"203.518125\"/>\r\n     <use style=\"fill:#0000ff;stroke:#0000ff;\" x=\"286.966097\" xlink:href=\"#m9e1f688fc5\" y=\"203.518125\"/>\r\n     <use style=\"fill:#0000ff;stroke:#0000ff;\" x=\"287.462476\" xlink:href=\"#m9e1f688fc5\" y=\"203.518125\"/>\r\n     <use style=\"fill:#0000ff;stroke:#0000ff;\" x=\"287.582502\" xlink:href=\"#m9e1f688fc5\" y=\"131.038125\"/>\r\n     <use style=\"fill:#0000ff;stroke:#0000ff;\" x=\"288.632221\" xlink:href=\"#m9e1f688fc5\" y=\"131.038125\"/>\r\n     <use style=\"fill:#0000ff;stroke:#0000ff;\" x=\"289.030952\" xlink:href=\"#m9e1f688fc5\" y=\"58.558125\"/>\r\n     <use style=\"fill:#0000ff;stroke:#0000ff;\" x=\"289.096051\" xlink:href=\"#m9e1f688fc5\" y=\"58.558125\"/>\r\n     <use style=\"fill:#0000ff;stroke:#0000ff;\" x=\"289.214043\" xlink:href=\"#m9e1f688fc5\" y=\"58.558125\"/>\r\n     <use style=\"fill:#0000ff;stroke:#0000ff;\" x=\"289.228283\" xlink:href=\"#m9e1f688fc5\" y=\"58.558125\"/>\r\n     <use style=\"fill:#0000ff;stroke:#0000ff;\" x=\"289.429683\" xlink:href=\"#m9e1f688fc5\" y=\"58.558125\"/>\r\n     <use style=\"fill:#0000ff;stroke:#0000ff;\" x=\"289.48461\" xlink:href=\"#m9e1f688fc5\" y=\"58.558125\"/>\r\n     <use style=\"fill:#0000ff;stroke:#0000ff;\" x=\"289.574121\" xlink:href=\"#m9e1f688fc5\" y=\"58.558125\"/>\r\n     <use style=\"fill:#0000ff;stroke:#0000ff;\" x=\"290.890338\" xlink:href=\"#m9e1f688fc5\" y=\"58.558125\"/>\r\n     <use style=\"fill:#0000ff;stroke:#0000ff;\" x=\"291.17718\" xlink:href=\"#m9e1f688fc5\" y=\"203.518125\"/>\r\n     <use style=\"fill:#0000ff;stroke:#0000ff;\" x=\"291.236176\" xlink:href=\"#m9e1f688fc5\" y=\"131.038125\"/>\r\n     <use style=\"fill:#0000ff;stroke:#0000ff;\" x=\"291.409095\" xlink:href=\"#m9e1f688fc5\" y=\"131.038125\"/>\r\n     <use style=\"fill:#0000ff;stroke:#0000ff;\" x=\"291.60846\" xlink:href=\"#m9e1f688fc5\" y=\"203.518125\"/>\r\n     <use style=\"fill:#0000ff;stroke:#0000ff;\" x=\"292.375406\" xlink:href=\"#m9e1f688fc5\" y=\"203.518125\"/>\r\n     <use style=\"fill:#0000ff;stroke:#0000ff;\" x=\"292.745656\" xlink:href=\"#m9e1f688fc5\" y=\"203.518125\"/>\r\n     <use style=\"fill:#0000ff;stroke:#0000ff;\" x=\"293.205417\" xlink:href=\"#m9e1f688fc5\" y=\"94.798125\"/>\r\n     <use style=\"fill:#0000ff;stroke:#0000ff;\" x=\"293.795375\" xlink:href=\"#m9e1f688fc5\" y=\"58.558125\"/>\r\n     <use style=\"fill:#0000ff;stroke:#0000ff;\" x=\"293.962191\" xlink:href=\"#m9e1f688fc5\" y=\"203.518125\"/>\r\n     <use style=\"fill:#0000ff;stroke:#0000ff;\" x=\"294.328372\" xlink:href=\"#m9e1f688fc5\" y=\"131.038125\"/>\r\n     <use style=\"fill:#0000ff;stroke:#0000ff;\" x=\"295.599834\" xlink:href=\"#m9e1f688fc5\" y=\"58.558125\"/>\r\n     <use style=\"fill:#0000ff;stroke:#0000ff;\" x=\"299.04804\" xlink:href=\"#m9e1f688fc5\" y=\"94.798125\"/>\r\n     <use style=\"fill:#0000ff;stroke:#0000ff;\" x=\"300.221854\" xlink:href=\"#m9e1f688fc5\" y=\"94.798125\"/>\r\n     <use style=\"fill:#0000ff;stroke:#0000ff;\" x=\"300.246266\" xlink:href=\"#m9e1f688fc5\" y=\"94.798125\"/>\r\n     <use style=\"fill:#0000ff;stroke:#0000ff;\" x=\"300.327639\" xlink:href=\"#m9e1f688fc5\" y=\"94.798125\"/>\r\n     <use style=\"fill:#0000ff;stroke:#0000ff;\" x=\"300.431391\" xlink:href=\"#m9e1f688fc5\" y=\"94.798125\"/>\r\n     <use style=\"fill:#0000ff;stroke:#0000ff;\" x=\"300.547348\" xlink:href=\"#m9e1f688fc5\" y=\"94.798125\"/>\r\n     <use style=\"fill:#0000ff;stroke:#0000ff;\" x=\"301.167821\" xlink:href=\"#m9e1f688fc5\" y=\"203.518125\"/>\r\n     <use style=\"fill:#0000ff;stroke:#0000ff;\" x=\"301.188165\" xlink:href=\"#m9e1f688fc5\" y=\"94.798125\"/>\r\n     <use style=\"fill:#0000ff;stroke:#0000ff;\" x=\"301.957145\" xlink:href=\"#m9e1f688fc5\" y=\"94.798125\"/>\r\n     <use style=\"fill:#0000ff;stroke:#0000ff;\" x=\"301.981557\" xlink:href=\"#m9e1f688fc5\" y=\"58.558125\"/>\r\n     <use style=\"fill:#0000ff;stroke:#0000ff;\" x=\"303.063826\" xlink:href=\"#m9e1f688fc5\" y=\"94.798125\"/>\r\n     <use style=\"fill:#0000ff;stroke:#0000ff;\" x=\"303.777879\" xlink:href=\"#m9e1f688fc5\" y=\"94.798125\"/>\r\n     <use style=\"fill:#0000ff;stroke:#0000ff;\" x=\"303.871459\" xlink:href=\"#m9e1f688fc5\" y=\"131.038125\"/>\r\n     <use style=\"fill:#0000ff;stroke:#0000ff;\" x=\"304.026068\" xlink:href=\"#m9e1f688fc5\" y=\"94.798125\"/>\r\n     <use style=\"fill:#0000ff;stroke:#0000ff;\" x=\"304.119648\" xlink:href=\"#m9e1f688fc5\" y=\"94.798125\"/>\r\n     <use style=\"fill:#0000ff;stroke:#0000ff;\" x=\"304.184747\" xlink:href=\"#m9e1f688fc5\" y=\"94.798125\"/>\r\n     <use style=\"fill:#0000ff;stroke:#0000ff;\" x=\"304.266121\" xlink:href=\"#m9e1f688fc5\" y=\"131.038125\"/>\r\n     <use style=\"fill:#0000ff;stroke:#0000ff;\" x=\"304.292567\" xlink:href=\"#m9e1f688fc5\" y=\"94.798125\"/>\r\n     <use style=\"fill:#0000ff;stroke:#0000ff;\" x=\"304.441074\" xlink:href=\"#m9e1f688fc5\" y=\"94.798125\"/>\r\n     <use style=\"fill:#0000ff;stroke:#0000ff;\" x=\"304.489898\" xlink:href=\"#m9e1f688fc5\" y=\"94.798125\"/>\r\n     <use style=\"fill:#0000ff;stroke:#0000ff;\" x=\"304.978139\" xlink:href=\"#m9e1f688fc5\" y=\"203.518125\"/>\r\n     <use style=\"fill:#0000ff;stroke:#0000ff;\" x=\"305.065616\" xlink:href=\"#m9e1f688fc5\" y=\"131.038125\"/>\r\n     <use style=\"fill:#0000ff;stroke:#0000ff;\" x=\"305.17547\" xlink:href=\"#m9e1f688fc5\" y=\"203.518125\"/>\r\n     <use style=\"fill:#0000ff;stroke:#0000ff;\" x=\"305.277187\" xlink:href=\"#m9e1f688fc5\" y=\"131.038125\"/>\r\n     <use style=\"fill:#0000ff;stroke:#0000ff;\" x=\"305.710502\" xlink:href=\"#m9e1f688fc5\" y=\"203.518125\"/>\r\n     <use style=\"fill:#0000ff;stroke:#0000ff;\" x=\"305.759326\" xlink:href=\"#m9e1f688fc5\" y=\"203.518125\"/>\r\n     <use style=\"fill:#0000ff;stroke:#0000ff;\" x=\"305.999378\" xlink:href=\"#m9e1f688fc5\" y=\"131.038125\"/>\r\n     <use style=\"fill:#0000ff;stroke:#0000ff;\" x=\"306.015653\" xlink:href=\"#m9e1f688fc5\" y=\"131.038125\"/>\r\n     <use style=\"fill:#0000ff;stroke:#0000ff;\" x=\"306.040065\" xlink:href=\"#m9e1f688fc5\" y=\"203.518125\"/>\r\n     <use style=\"fill:#0000ff;stroke:#0000ff;\" x=\"306.367593\" xlink:href=\"#m9e1f688fc5\" y=\"94.798125\"/>\r\n     <use style=\"fill:#0000ff;stroke:#0000ff;\" x=\"306.385902\" xlink:href=\"#m9e1f688fc5\" y=\"203.518125\"/>\r\n     <use style=\"fill:#0000ff;stroke:#0000ff;\" x=\"306.398108\" xlink:href=\"#m9e1f688fc5\" y=\"203.518125\"/>\r\n     <use style=\"fill:#0000ff;stroke:#0000ff;\" x=\"306.617817\" xlink:href=\"#m9e1f688fc5\" y=\"94.798125\"/>\r\n     <use style=\"fill:#0000ff;stroke:#0000ff;\" x=\"306.750049\" xlink:href=\"#m9e1f688fc5\" y=\"203.518125\"/>\r\n     <use style=\"fill:#0000ff;stroke:#0000ff;\" x=\"307.230153\" xlink:href=\"#m9e1f688fc5\" y=\"94.798125\"/>\r\n     <use style=\"fill:#0000ff;stroke:#0000ff;\" x=\"307.409175\" xlink:href=\"#m9e1f688fc5\" y=\"58.558125\"/>\r\n     <use style=\"fill:#0000ff;stroke:#0000ff;\" x=\"307.622781\" xlink:href=\"#m9e1f688fc5\" y=\"131.038125\"/>\r\n     <use style=\"fill:#0000ff;stroke:#0000ff;\" x=\"307.789597\" xlink:href=\"#m9e1f688fc5\" y=\"58.558125\"/>\r\n     <use style=\"fill:#0000ff;stroke:#0000ff;\" x=\"307.885211\" xlink:href=\"#m9e1f688fc5\" y=\"167.278125\"/>\r\n     <use style=\"fill:#0000ff;stroke:#0000ff;\" x=\"308.515856\" xlink:href=\"#m9e1f688fc5\" y=\"131.038125\"/>\r\n     <use style=\"fill:#0000ff;stroke:#0000ff;\" x=\"308.82711\" xlink:href=\"#m9e1f688fc5\" y=\"131.038125\"/>\r\n     <use style=\"fill:#0000ff;stroke:#0000ff;\" x=\"309.203463\" xlink:href=\"#m9e1f688fc5\" y=\"131.038125\"/>\r\n     <use style=\"fill:#0000ff;stroke:#0000ff;\" x=\"309.343832\" xlink:href=\"#m9e1f688fc5\" y=\"94.798125\"/>\r\n     <use style=\"fill:#0000ff;stroke:#0000ff;\" x=\"309.561506\" xlink:href=\"#m9e1f688fc5\" y=\"131.038125\"/>\r\n     <use style=\"fill:#0000ff;stroke:#0000ff;\" x=\"309.880898\" xlink:href=\"#m9e1f688fc5\" y=\"94.798125\"/>\r\n     <use style=\"fill:#0000ff;stroke:#0000ff;\" x=\"310.234873\" xlink:href=\"#m9e1f688fc5\" y=\"131.038125\"/>\r\n     <use style=\"fill:#0000ff;stroke:#0000ff;\" x=\"310.590882\" xlink:href=\"#m9e1f688fc5\" y=\"131.038125\"/>\r\n     <use style=\"fill:#0000ff;stroke:#0000ff;\" x=\"311.601949\" xlink:href=\"#m9e1f688fc5\" y=\"131.038125\"/>\r\n     <use style=\"fill:#0000ff;stroke:#0000ff;\" x=\"312.18377\" xlink:href=\"#m9e1f688fc5\" y=\"131.038125\"/>\r\n     <use style=\"fill:#0000ff;stroke:#0000ff;\" x=\"312.313968\" xlink:href=\"#m9e1f688fc5\" y=\"131.038125\"/>\r\n     <use style=\"fill:#0000ff;stroke:#0000ff;\" x=\"312.490955\" xlink:href=\"#m9e1f688fc5\" y=\"131.038125\"/>\r\n     <use style=\"fill:#0000ff;stroke:#0000ff;\" x=\"312.499093\" xlink:href=\"#m9e1f688fc5\" y=\"131.038125\"/>\r\n     <use style=\"fill:#0000ff;stroke:#0000ff;\" x=\"312.509264\" xlink:href=\"#m9e1f688fc5\" y=\"131.038125\"/>\r\n     <use style=\"fill:#0000ff;stroke:#0000ff;\" x=\"312.596741\" xlink:href=\"#m9e1f688fc5\" y=\"94.798125\"/>\r\n     <use style=\"fill:#0000ff;stroke:#0000ff;\" x=\"312.684217\" xlink:href=\"#m9e1f688fc5\" y=\"94.798125\"/>\r\n     <use style=\"fill:#0000ff;stroke:#0000ff;\" x=\"312.814415\" xlink:href=\"#m9e1f688fc5\" y=\"131.038125\"/>\r\n     <use style=\"fill:#0000ff;stroke:#0000ff;\" x=\"313.089051\" xlink:href=\"#m9e1f688fc5\" y=\"58.558125\"/>\r\n     <use style=\"fill:#0000ff;stroke:#0000ff;\" x=\"313.302657\" xlink:href=\"#m9e1f688fc5\" y=\"58.558125\"/>\r\n     <use style=\"fill:#0000ff;stroke:#0000ff;\" x=\"314.002469\" xlink:href=\"#m9e1f688fc5\" y=\"131.038125\"/>\r\n     <use style=\"fill:#0000ff;stroke:#0000ff;\" x=\"314.740935\" xlink:href=\"#m9e1f688fc5\" y=\"203.518125\"/>\r\n     <use style=\"fill:#0000ff;stroke:#0000ff;\" x=\"316.07953\" xlink:href=\"#m9e1f688fc5\" y=\"131.038125\"/>\r\n     <use style=\"fill:#0000ff;stroke:#0000ff;\" x=\"316.685763\" xlink:href=\"#m9e1f688fc5\" y=\"131.038125\"/>\r\n     <use style=\"fill:#0000ff;stroke:#0000ff;\" x=\"316.761034\" xlink:href=\"#m9e1f688fc5\" y=\"58.558125\"/>\r\n     <use style=\"fill:#0000ff;stroke:#0000ff;\" x=\"316.911575\" xlink:href=\"#m9e1f688fc5\" y=\"131.038125\"/>\r\n     <use style=\"fill:#0000ff;stroke:#0000ff;\" x=\"317.00312\" xlink:href=\"#m9e1f688fc5\" y=\"131.038125\"/>\r\n     <use style=\"fill:#0000ff;stroke:#0000ff;\" x=\"317.426263\" xlink:href=\"#m9e1f688fc5\" y=\"131.038125\"/>\r\n     <use style=\"fill:#0000ff;stroke:#0000ff;\" x=\"317.432366\" xlink:href=\"#m9e1f688fc5\" y=\"131.038125\"/>\r\n     <use style=\"fill:#0000ff;stroke:#0000ff;\" x=\"317.772101\" xlink:href=\"#m9e1f688fc5\" y=\"131.038125\"/>\r\n     <use style=\"fill:#0000ff;stroke:#0000ff;\" x=\"318.018256\" xlink:href=\"#m9e1f688fc5\" y=\"131.038125\"/>\r\n     <use style=\"fill:#0000ff;stroke:#0000ff;\" x=\"318.286788\" xlink:href=\"#m9e1f688fc5\" y=\"203.518125\"/>\r\n     <use style=\"fill:#0000ff;stroke:#0000ff;\" x=\"318.323407\" xlink:href=\"#m9e1f688fc5\" y=\"203.518125\"/>\r\n     <use style=\"fill:#0000ff;stroke:#0000ff;\" x=\"318.935743\" xlink:href=\"#m9e1f688fc5\" y=\"203.518125\"/>\r\n     <use style=\"fill:#0000ff;stroke:#0000ff;\" x=\"319.177829\" xlink:href=\"#m9e1f688fc5\" y=\"203.518125\"/>\r\n     <use style=\"fill:#0000ff;stroke:#0000ff;\" x=\"319.464671\" xlink:href=\"#m9e1f688fc5\" y=\"131.038125\"/>\r\n     <use style=\"fill:#0000ff;stroke:#0000ff;\" x=\"319.46874\" xlink:href=\"#m9e1f688fc5\" y=\"131.038125\"/>\r\n     <use style=\"fill:#0000ff;stroke:#0000ff;\" x=\"319.910191\" xlink:href=\"#m9e1f688fc5\" y=\"131.038125\"/>\r\n     <use style=\"fill:#0000ff;stroke:#0000ff;\" x=\"320.304853\" xlink:href=\"#m9e1f688fc5\" y=\"131.038125\"/>\r\n     <use style=\"fill:#0000ff;stroke:#0000ff;\" x=\"320.579489\" xlink:href=\"#m9e1f688fc5\" y=\"131.038125\"/>\r\n     <use style=\"fill:#0000ff;stroke:#0000ff;\" x=\"321.299645\" xlink:href=\"#m9e1f688fc5\" y=\"131.038125\"/>\r\n     <use style=\"fill:#0000ff;stroke:#0000ff;\" x=\"321.350504\" xlink:href=\"#m9e1f688fc5\" y=\"203.518125\"/>\r\n     <use style=\"fill:#0000ff;stroke:#0000ff;\" x=\"321.494942\" xlink:href=\"#m9e1f688fc5\" y=\"203.518125\"/>\r\n     <use style=\"fill:#0000ff;stroke:#0000ff;\" x=\"321.535629\" xlink:href=\"#m9e1f688fc5\" y=\"203.518125\"/>\r\n     <use style=\"fill:#0000ff;stroke:#0000ff;\" x=\"321.582418\" xlink:href=\"#m9e1f688fc5\" y=\"131.038125\"/>\r\n     <use style=\"fill:#0000ff;stroke:#0000ff;\" x=\"321.863157\" xlink:href=\"#m9e1f688fc5\" y=\"131.038125\"/>\r\n     <use style=\"fill:#0000ff;stroke:#0000ff;\" x=\"321.944531\" xlink:href=\"#m9e1f688fc5\" y=\"131.038125\"/>\r\n     <use style=\"fill:#0000ff;stroke:#0000ff;\" x=\"322.046248\" xlink:href=\"#m9e1f688fc5\" y=\"131.038125\"/>\r\n     <use style=\"fill:#0000ff;stroke:#0000ff;\" x=\"322.343261\" xlink:href=\"#m9e1f688fc5\" y=\"131.038125\"/>\r\n     <use style=\"fill:#0000ff;stroke:#0000ff;\" x=\"322.508043\" xlink:href=\"#m9e1f688fc5\" y=\"58.558125\"/>\r\n     <use style=\"fill:#0000ff;stroke:#0000ff;\" x=\"322.538558\" xlink:href=\"#m9e1f688fc5\" y=\"131.038125\"/>\r\n     <use style=\"fill:#0000ff;stroke:#0000ff;\" x=\"323.352294\" xlink:href=\"#m9e1f688fc5\" y=\"131.038125\"/>\r\n     <use style=\"fill:#0000ff;stroke:#0000ff;\" x=\"324.774297\" xlink:href=\"#m9e1f688fc5\" y=\"58.558125\"/>\r\n     <use style=\"fill:#0000ff;stroke:#0000ff;\" x=\"325.16489\" xlink:href=\"#m9e1f688fc5\" y=\"131.038125\"/>\r\n     <use style=\"fill:#0000ff;stroke:#0000ff;\" x=\"325.376462\" xlink:href=\"#m9e1f688fc5\" y=\"58.558125\"/>\r\n     <use style=\"fill:#0000ff;stroke:#0000ff;\" x=\"325.392736\" xlink:href=\"#m9e1f688fc5\" y=\"203.518125\"/>\r\n     <use style=\"fill:#0000ff;stroke:#0000ff;\" x=\"325.421217\" xlink:href=\"#m9e1f688fc5\" y=\"131.038125\"/>\r\n     <use style=\"fill:#0000ff;stroke:#0000ff;\" x=\"325.439526\" xlink:href=\"#m9e1f688fc5\" y=\"58.558125\"/>\r\n     <use style=\"fill:#0000ff;stroke:#0000ff;\" x=\"325.443595\" xlink:href=\"#m9e1f688fc5\" y=\"203.518125\"/>\r\n     <use style=\"fill:#0000ff;stroke:#0000ff;\" x=\"325.447663\" xlink:href=\"#m9e1f688fc5\" y=\"58.558125\"/>\r\n     <use style=\"fill:#0000ff;stroke:#0000ff;\" x=\"325.710093\" xlink:href=\"#m9e1f688fc5\" y=\"58.558125\"/>\r\n     <use style=\"fill:#0000ff;stroke:#0000ff;\" x=\"326.633683\" xlink:href=\"#m9e1f688fc5\" y=\"203.518125\"/>\r\n     <use style=\"fill:#0000ff;stroke:#0000ff;\" x=\"326.713023\" xlink:href=\"#m9e1f688fc5\" y=\"203.518125\"/>\r\n     <use style=\"fill:#0000ff;stroke:#0000ff;\" x=\"328.037378\" xlink:href=\"#m9e1f688fc5\" y=\"131.038125\"/>\r\n     <use style=\"fill:#0000ff;stroke:#0000ff;\" x=\"328.287601\" xlink:href=\"#m9e1f688fc5\" y=\"94.798125\"/>\r\n     <use style=\"fill:#0000ff;stroke:#0000ff;\" x=\"328.299807\" xlink:href=\"#m9e1f688fc5\" y=\"131.038125\"/>\r\n     <use style=\"fill:#0000ff;stroke:#0000ff;\" x=\"328.674126\" xlink:href=\"#m9e1f688fc5\" y=\"203.518125\"/>\r\n     <use style=\"fill:#0000ff;stroke:#0000ff;\" x=\"329.142024\" xlink:href=\"#m9e1f688fc5\" y=\"58.558125\"/>\r\n     <use style=\"fill:#0000ff;stroke:#0000ff;\" x=\"329.512274\" xlink:href=\"#m9e1f688fc5\" y=\"203.518125\"/>\r\n     <use style=\"fill:#0000ff;stroke:#0000ff;\" x=\"329.711639\" xlink:href=\"#m9e1f688fc5\" y=\"203.518125\"/>\r\n     <use style=\"fill:#0000ff;stroke:#0000ff;\" x=\"329.994412\" xlink:href=\"#m9e1f688fc5\" y=\"131.038125\"/>\r\n     <use style=\"fill:#0000ff;stroke:#0000ff;\" x=\"330.065614\" xlink:href=\"#m9e1f688fc5\" y=\"203.518125\"/>\r\n     <use style=\"fill:#0000ff;stroke:#0000ff;\" x=\"330.712534\" xlink:href=\"#m9e1f688fc5\" y=\"203.518125\"/>\r\n     <use style=\"fill:#0000ff;stroke:#0000ff;\" x=\"331.813112\" xlink:href=\"#m9e1f688fc5\" y=\"131.038125\"/>\r\n     <use style=\"fill:#0000ff;stroke:#0000ff;\" x=\"332.997097\" xlink:href=\"#m9e1f688fc5\" y=\"203.518125\"/>\r\n     <use style=\"fill:#0000ff;stroke:#0000ff;\" x=\"333.011338\" xlink:href=\"#m9e1f688fc5\" y=\"203.518125\"/>\r\n     <use style=\"fill:#0000ff;stroke:#0000ff;\" x=\"334.069194\" xlink:href=\"#m9e1f688fc5\" y=\"58.558125\"/>\r\n     <use style=\"fill:#0000ff;stroke:#0000ff;\" x=\"334.107847\" xlink:href=\"#m9e1f688fc5\" y=\"203.518125\"/>\r\n     <use style=\"fill:#0000ff;stroke:#0000ff;\" x=\"334.368242\" xlink:href=\"#m9e1f688fc5\" y=\"203.518125\"/>\r\n     <use style=\"fill:#0000ff;stroke:#0000ff;\" x=\"334.508612\" xlink:href=\"#m9e1f688fc5\" y=\"203.518125\"/>\r\n     <use style=\"fill:#0000ff;stroke:#0000ff;\" x=\"334.665256\" xlink:href=\"#m9e1f688fc5\" y=\"203.518125\"/>\r\n     <use style=\"fill:#0000ff;stroke:#0000ff;\" x=\"334.689668\" xlink:href=\"#m9e1f688fc5\" y=\"203.518125\"/>\r\n     <use style=\"fill:#0000ff;stroke:#0000ff;\" x=\"334.722217\" xlink:href=\"#m9e1f688fc5\" y=\"203.518125\"/>\r\n     <use style=\"fill:#0000ff;stroke:#0000ff;\" x=\"334.730355\" xlink:href=\"#m9e1f688fc5\" y=\"131.038125\"/>\r\n     <use style=\"fill:#0000ff;stroke:#0000ff;\" x=\"334.742561\" xlink:href=\"#m9e1f688fc5\" y=\"131.038125\"/>\r\n     <use style=\"fill:#0000ff;stroke:#0000ff;\" x=\"334.764938\" xlink:href=\"#m9e1f688fc5\" y=\"203.518125\"/>\r\n     <use style=\"fill:#0000ff;stroke:#0000ff;\" x=\"334.950063\" xlink:href=\"#m9e1f688fc5\" y=\"131.038125\"/>\r\n     <use style=\"fill:#0000ff;stroke:#0000ff;\" x=\"334.99075\" xlink:href=\"#m9e1f688fc5\" y=\"203.518125\"/>\r\n     <use style=\"fill:#0000ff;stroke:#0000ff;\" x=\"335.133154\" xlink:href=\"#m9e1f688fc5\" y=\"203.518125\"/>\r\n     <use style=\"fill:#0000ff;stroke:#0000ff;\" x=\"335.649876\" xlink:href=\"#m9e1f688fc5\" y=\"203.518125\"/>\r\n     <use style=\"fill:#0000ff;stroke:#0000ff;\" x=\"336.473784\" xlink:href=\"#m9e1f688fc5\" y=\"203.518125\"/>\r\n     <use style=\"fill:#0000ff;stroke:#0000ff;\" x=\"336.87048\" xlink:href=\"#m9e1f688fc5\" y=\"203.518125\"/>\r\n     <use style=\"fill:#0000ff;stroke:#0000ff;\" x=\"336.939647\" xlink:href=\"#m9e1f688fc5\" y=\"203.518125\"/>\r\n     <use style=\"fill:#0000ff;stroke:#0000ff;\" x=\"337.128841\" xlink:href=\"#m9e1f688fc5\" y=\"203.518125\"/>\r\n     <use style=\"fill:#0000ff;stroke:#0000ff;\" x=\"337.191905\" xlink:href=\"#m9e1f688fc5\" y=\"203.518125\"/>\r\n     <use style=\"fill:#0000ff;stroke:#0000ff;\" x=\"337.250901\" xlink:href=\"#m9e1f688fc5\" y=\"203.518125\"/>\r\n     <use style=\"fill:#0000ff;stroke:#0000ff;\" x=\"337.316\" xlink:href=\"#m9e1f688fc5\" y=\"203.518125\"/>\r\n     <use style=\"fill:#0000ff;stroke:#0000ff;\" x=\"337.405511\" xlink:href=\"#m9e1f688fc5\" y=\"131.038125\"/>\r\n     <use style=\"fill:#0000ff;stroke:#0000ff;\" x=\"337.828654\" xlink:href=\"#m9e1f688fc5\" y=\"203.518125\"/>\r\n     <use style=\"fill:#0000ff;stroke:#0000ff;\" x=\"337.930371\" xlink:href=\"#m9e1f688fc5\" y=\"203.518125\"/>\r\n     <use style=\"fill:#0000ff;stroke:#0000ff;\" x=\"337.999538\" xlink:href=\"#m9e1f688fc5\" y=\"203.518125\"/>\r\n     <use style=\"fill:#0000ff;stroke:#0000ff;\" x=\"338.021916\" xlink:href=\"#m9e1f688fc5\" y=\"203.518125\"/>\r\n     <use style=\"fill:#0000ff;stroke:#0000ff;\" x=\"338.601703\" xlink:href=\"#m9e1f688fc5\" y=\"131.038125\"/>\r\n     <use style=\"fill:#0000ff;stroke:#0000ff;\" x=\"338.784793\" xlink:href=\"#m9e1f688fc5\" y=\"167.278125\"/>\r\n     <use style=\"fill:#0000ff;stroke:#0000ff;\" x=\"339.037051\" xlink:href=\"#m9e1f688fc5\" y=\"203.518125\"/>\r\n     <use style=\"fill:#0000ff;stroke:#0000ff;\" x=\"339.582254\" xlink:href=\"#m9e1f688fc5\" y=\"131.038125\"/>\r\n     <use style=\"fill:#0000ff;stroke:#0000ff;\" x=\"339.816203\" xlink:href=\"#m9e1f688fc5\" y=\"131.038125\"/>\r\n     <use style=\"fill:#0000ff;stroke:#0000ff;\" x=\"339.858925\" xlink:href=\"#m9e1f688fc5\" y=\"203.518125\"/>\r\n     <use style=\"fill:#0000ff;stroke:#0000ff;\" x=\"340.129492\" xlink:href=\"#m9e1f688fc5\" y=\"131.038125\"/>\r\n     <use style=\"fill:#0000ff;stroke:#0000ff;\" x=\"341.022567\" xlink:href=\"#m9e1f688fc5\" y=\"58.558125\"/>\r\n     <use style=\"fill:#0000ff;stroke:#0000ff;\" x=\"341.234138\" xlink:href=\"#m9e1f688fc5\" y=\"58.558125\"/>\r\n     <use style=\"fill:#0000ff;stroke:#0000ff;\" x=\"342.047874\" xlink:href=\"#m9e1f688fc5\" y=\"131.038125\"/>\r\n     <use style=\"fill:#0000ff;stroke:#0000ff;\" x=\"342.586974\" xlink:href=\"#m9e1f688fc5\" y=\"203.518125\"/>\r\n     <use style=\"fill:#0000ff;stroke:#0000ff;\" x=\"342.739549\" xlink:href=\"#m9e1f688fc5\" y=\"203.518125\"/>\r\n     <use style=\"fill:#0000ff;stroke:#0000ff;\" x=\"343.347817\" xlink:href=\"#m9e1f688fc5\" y=\"131.038125\"/>\r\n     <use style=\"fill:#0000ff;stroke:#0000ff;\" x=\"344.063904\" xlink:href=\"#m9e1f688fc5\" y=\"58.558125\"/>\r\n     <use style=\"fill:#0000ff;stroke:#0000ff;\" x=\"344.700653\" xlink:href=\"#m9e1f688fc5\" y=\"203.518125\"/>\r\n     <use style=\"fill:#0000ff;stroke:#0000ff;\" x=\"344.904087\" xlink:href=\"#m9e1f688fc5\" y=\"131.038125\"/>\r\n     <use style=\"fill:#0000ff;stroke:#0000ff;\" x=\"344.930533\" xlink:href=\"#m9e1f688fc5\" y=\"131.038125\"/>\r\n     <use style=\"fill:#0000ff;stroke:#0000ff;\" x=\"344.950876\" xlink:href=\"#m9e1f688fc5\" y=\"131.038125\"/>\r\n     <use style=\"fill:#0000ff;stroke:#0000ff;\" x=\"345.070902\" xlink:href=\"#m9e1f688fc5\" y=\"131.038125\"/>\r\n     <use style=\"fill:#0000ff;stroke:#0000ff;\" x=\"345.795127\" xlink:href=\"#m9e1f688fc5\" y=\"203.518125\"/>\r\n     <use style=\"fill:#0000ff;stroke:#0000ff;\" x=\"345.902947\" xlink:href=\"#m9e1f688fc5\" y=\"203.518125\"/>\r\n     <use style=\"fill:#0000ff;stroke:#0000ff;\" x=\"346.037214\" xlink:href=\"#m9e1f688fc5\" y=\"131.038125\"/>\r\n     <use style=\"fill:#0000ff;stroke:#0000ff;\" x=\"346.342365\" xlink:href=\"#m9e1f688fc5\" y=\"203.518125\"/>\r\n     <use style=\"fill:#0000ff;stroke:#0000ff;\" x=\"346.716683\" xlink:href=\"#m9e1f688fc5\" y=\"58.558125\"/>\r\n     <use style=\"fill:#0000ff;stroke:#0000ff;\" x=\"347.72775\" xlink:href=\"#m9e1f688fc5\" y=\"131.038125\"/>\r\n     <use style=\"fill:#0000ff;stroke:#0000ff;\" x=\"347.923046\" xlink:href=\"#m9e1f688fc5\" y=\"131.038125\"/>\r\n     <use style=\"fill:#0000ff;stroke:#0000ff;\" x=\"347.953561\" xlink:href=\"#m9e1f688fc5\" y=\"58.558125\"/>\r\n     <use style=\"fill:#0000ff;stroke:#0000ff;\" x=\"348.213957\" xlink:href=\"#m9e1f688fc5\" y=\"131.038125\"/>\r\n     <use style=\"fill:#0000ff;stroke:#0000ff;\" x=\"348.222094\" xlink:href=\"#m9e1f688fc5\" y=\"58.558125\"/>\r\n     <use style=\"fill:#0000ff;stroke:#0000ff;\" x=\"348.31364\" xlink:href=\"#m9e1f688fc5\" y=\"131.038125\"/>\r\n     <use style=\"fill:#0000ff;stroke:#0000ff;\" x=\"348.325846\" xlink:href=\"#m9e1f688fc5\" y=\"203.518125\"/>\r\n     <use style=\"fill:#0000ff;stroke:#0000ff;\" x=\"349.534243\" xlink:href=\"#m9e1f688fc5\" y=\"131.038125\"/>\r\n     <use style=\"fill:#0000ff;stroke:#0000ff;\" x=\"349.57493\" xlink:href=\"#m9e1f688fc5\" y=\"203.518125\"/>\r\n     <use style=\"fill:#0000ff;stroke:#0000ff;\" x=\"349.581033\" xlink:href=\"#m9e1f688fc5\" y=\"203.518125\"/>\r\n     <use style=\"fill:#0000ff;stroke:#0000ff;\" x=\"349.672578\" xlink:href=\"#m9e1f688fc5\" y=\"58.558125\"/>\r\n     <use style=\"fill:#0000ff;stroke:#0000ff;\" x=\"350.02045\" xlink:href=\"#m9e1f688fc5\" y=\"58.558125\"/>\r\n     <use style=\"fill:#0000ff;stroke:#0000ff;\" x=\"350.508692\" xlink:href=\"#m9e1f688fc5\" y=\"203.518125\"/>\r\n     <use style=\"fill:#0000ff;stroke:#0000ff;\" x=\"350.53107\" xlink:href=\"#m9e1f688fc5\" y=\"58.558125\"/>\r\n     <use style=\"fill:#0000ff;stroke:#0000ff;\" x=\"350.842324\" xlink:href=\"#m9e1f688fc5\" y=\"131.038125\"/>\r\n     <use style=\"fill:#0000ff;stroke:#0000ff;\" x=\"350.889113\" xlink:href=\"#m9e1f688fc5\" y=\"131.038125\"/>\r\n     <use style=\"fill:#0000ff;stroke:#0000ff;\" x=\"351.011174\" xlink:href=\"#m9e1f688fc5\" y=\"203.518125\"/>\r\n     <use style=\"fill:#0000ff;stroke:#0000ff;\" x=\"351.611304\" xlink:href=\"#m9e1f688fc5\" y=\"131.038125\"/>\r\n     <use style=\"fill:#0000ff;stroke:#0000ff;\" x=\"351.721158\" xlink:href=\"#m9e1f688fc5\" y=\"203.518125\"/>\r\n     <use style=\"fill:#0000ff;stroke:#0000ff;\" x=\"351.727261\" xlink:href=\"#m9e1f688fc5\" y=\"131.038125\"/>\r\n     <use style=\"fill:#0000ff;stroke:#0000ff;\" x=\"351.741502\" xlink:href=\"#m9e1f688fc5\" y=\"131.038125\"/>\r\n     <use style=\"fill:#0000ff;stroke:#0000ff;\" x=\"351.835081\" xlink:href=\"#m9e1f688fc5\" y=\"131.038125\"/>\r\n     <use style=\"fill:#0000ff;stroke:#0000ff;\" x=\"352.142266\" xlink:href=\"#m9e1f688fc5\" y=\"94.798125\"/>\r\n     <use style=\"fill:#0000ff;stroke:#0000ff;\" x=\"352.201262\" xlink:href=\"#m9e1f688fc5\" y=\"94.798125\"/>\r\n     <use style=\"fill:#0000ff;stroke:#0000ff;\" x=\"352.575581\" xlink:href=\"#m9e1f688fc5\" y=\"131.038125\"/>\r\n     <use style=\"fill:#0000ff;stroke:#0000ff;\" x=\"352.64068\" xlink:href=\"#m9e1f688fc5\" y=\"203.518125\"/>\r\n     <use style=\"fill:#0000ff;stroke:#0000ff;\" x=\"352.699675\" xlink:href=\"#m9e1f688fc5\" y=\"58.558125\"/>\r\n     <use style=\"fill:#0000ff;stroke:#0000ff;\" x=\"352.795289\" xlink:href=\"#m9e1f688fc5\" y=\"203.518125\"/>\r\n     <use style=\"fill:#0000ff;stroke:#0000ff;\" x=\"353.010929\" xlink:href=\"#m9e1f688fc5\" y=\"94.798125\"/>\r\n     <use style=\"fill:#0000ff;stroke:#0000ff;\" x=\"353.454415\" xlink:href=\"#m9e1f688fc5\" y=\"131.038125\"/>\r\n     <use style=\"fill:#0000ff;stroke:#0000ff;\" x=\"353.566304\" xlink:href=\"#m9e1f688fc5\" y=\"131.038125\"/>\r\n     <use style=\"fill:#0000ff;stroke:#0000ff;\" x=\"353.729051\" xlink:href=\"#m9e1f688fc5\" y=\"94.798125\"/>\r\n     <use style=\"fill:#0000ff;stroke:#0000ff;\" x=\"353.739223\" xlink:href=\"#m9e1f688fc5\" y=\"131.038125\"/>\r\n     <use style=\"fill:#0000ff;stroke:#0000ff;\" x=\"354.162366\" xlink:href=\"#m9e1f688fc5\" y=\"203.518125\"/>\r\n     <use style=\"fill:#0000ff;stroke:#0000ff;\" x=\"354.780805\" xlink:href=\"#m9e1f688fc5\" y=\"203.518125\"/>\r\n     <use style=\"fill:#0000ff;stroke:#0000ff;\" x=\"355.873245\" xlink:href=\"#m9e1f688fc5\" y=\"203.518125\"/>\r\n     <use style=\"fill:#0000ff;stroke:#0000ff;\" x=\"356.912793\" xlink:href=\"#m9e1f688fc5\" y=\"203.518125\"/>\r\n     <use style=\"fill:#0000ff;stroke:#0000ff;\" x=\"356.92093\" xlink:href=\"#m9e1f688fc5\" y=\"203.518125\"/>\r\n     <use style=\"fill:#0000ff;stroke:#0000ff;\" x=\"357.158948\" xlink:href=\"#m9e1f688fc5\" y=\"58.558125\"/>\r\n     <use style=\"fill:#0000ff;stroke:#0000ff;\" x=\"357.185394\" xlink:href=\"#m9e1f688fc5\" y=\"94.798125\"/>\r\n     <use style=\"fill:#0000ff;stroke:#0000ff;\" x=\"357.419343\" xlink:href=\"#m9e1f688fc5\" y=\"94.798125\"/>\r\n     <use style=\"fill:#0000ff;stroke:#0000ff;\" x=\"357.433584\" xlink:href=\"#m9e1f688fc5\" y=\"94.798125\"/>\r\n     <use style=\"fill:#0000ff;stroke:#0000ff;\" x=\"357.447824\" xlink:href=\"#m9e1f688fc5\" y=\"131.038125\"/>\r\n     <use style=\"fill:#0000ff;stroke:#0000ff;\" x=\"358.159843\" xlink:href=\"#m9e1f688fc5\" y=\"203.518125\"/>\r\n     <use style=\"fill:#0000ff;stroke:#0000ff;\" x=\"358.16798\" xlink:href=\"#m9e1f688fc5\" y=\"58.558125\"/>\r\n     <use style=\"fill:#0000ff;stroke:#0000ff;\" x=\"358.267663\" xlink:href=\"#m9e1f688fc5\" y=\"94.798125\"/>\r\n     <use style=\"fill:#0000ff;stroke:#0000ff;\" x=\"358.29004\" xlink:href=\"#m9e1f688fc5\" y=\"203.518125\"/>\r\n     <use style=\"fill:#0000ff;stroke:#0000ff;\" x=\"358.304281\" xlink:href=\"#m9e1f688fc5\" y=\"203.518125\"/>\r\n     <use style=\"fill:#0000ff;stroke:#0000ff;\" x=\"358.340899\" xlink:href=\"#m9e1f688fc5\" y=\"203.518125\"/>\r\n     <use style=\"fill:#0000ff;stroke:#0000ff;\" x=\"358.381586\" xlink:href=\"#m9e1f688fc5\" y=\"203.518125\"/>\r\n     <use style=\"fill:#0000ff;stroke:#0000ff;\" x=\"358.517886\" xlink:href=\"#m9e1f688fc5\" y=\"203.518125\"/>\r\n     <use style=\"fill:#0000ff;stroke:#0000ff;\" x=\"358.609432\" xlink:href=\"#m9e1f688fc5\" y=\"131.038125\"/>\r\n     <use style=\"fill:#0000ff;stroke:#0000ff;\" x=\"358.867793\" xlink:href=\"#m9e1f688fc5\" y=\"203.518125\"/>\r\n     <use style=\"fill:#0000ff;stroke:#0000ff;\" x=\"359.089536\" xlink:href=\"#m9e1f688fc5\" y=\"58.558125\"/>\r\n     <use style=\"fill:#0000ff;stroke:#0000ff;\" x=\"359.095639\" xlink:href=\"#m9e1f688fc5\" y=\"131.038125\"/>\r\n     <use style=\"fill:#0000ff;stroke:#0000ff;\" x=\"359.478095\" xlink:href=\"#m9e1f688fc5\" y=\"94.798125\"/>\r\n     <use style=\"fill:#0000ff;stroke:#0000ff;\" x=\"359.524885\" xlink:href=\"#m9e1f688fc5\" y=\"203.518125\"/>\r\n     <use style=\"fill:#0000ff;stroke:#0000ff;\" x=\"359.545228\" xlink:href=\"#m9e1f688fc5\" y=\"203.518125\"/>\r\n     <use style=\"fill:#0000ff;stroke:#0000ff;\" x=\"359.604224\" xlink:href=\"#m9e1f688fc5\" y=\"203.518125\"/>\r\n     <use style=\"fill:#0000ff;stroke:#0000ff;\" x=\"359.974474\" xlink:href=\"#m9e1f688fc5\" y=\"203.518125\"/>\r\n     <use style=\"fill:#0000ff;stroke:#0000ff;\" x=\"360.104671\" xlink:href=\"#m9e1f688fc5\" y=\"203.518125\"/>\r\n     <use style=\"fill:#0000ff;stroke:#0000ff;\" x=\"360.114843\" xlink:href=\"#m9e1f688fc5\" y=\"94.798125\"/>\r\n     <use style=\"fill:#0000ff;stroke:#0000ff;\" x=\"360.387444\" xlink:href=\"#m9e1f688fc5\" y=\"203.518125\"/>\r\n     <use style=\"fill:#0000ff;stroke:#0000ff;\" x=\"360.485093\" xlink:href=\"#m9e1f688fc5\" y=\"203.518125\"/>\r\n     <use style=\"fill:#0000ff;stroke:#0000ff;\" x=\"360.660046\" xlink:href=\"#m9e1f688fc5\" y=\"203.518125\"/>\r\n     <use style=\"fill:#0000ff;stroke:#0000ff;\" x=\"360.690561\" xlink:href=\"#m9e1f688fc5\" y=\"203.518125\"/>\r\n     <use style=\"fill:#0000ff;stroke:#0000ff;\" x=\"361.003849\" xlink:href=\"#m9e1f688fc5\" y=\"94.798125\"/>\r\n     <use style=\"fill:#0000ff;stroke:#0000ff;\" x=\"361.007918\" xlink:href=\"#m9e1f688fc5\" y=\"131.038125\"/>\r\n     <use style=\"fill:#0000ff;stroke:#0000ff;\" x=\"361.01809\" xlink:href=\"#m9e1f688fc5\" y=\"203.518125\"/>\r\n     <use style=\"fill:#0000ff;stroke:#0000ff;\" x=\"361.483953\" xlink:href=\"#m9e1f688fc5\" y=\"203.518125\"/>\r\n     <use style=\"fill:#0000ff;stroke:#0000ff;\" x=\"361.504297\" xlink:href=\"#m9e1f688fc5\" y=\"203.518125\"/>\r\n     <use style=\"fill:#0000ff;stroke:#0000ff;\" x=\"361.646701\" xlink:href=\"#m9e1f688fc5\" y=\"203.518125\"/>\r\n     <use style=\"fill:#0000ff;stroke:#0000ff;\" x=\"361.94168\" xlink:href=\"#m9e1f688fc5\" y=\"58.558125\"/>\r\n     <use style=\"fill:#0000ff;stroke:#0000ff;\" x=\"362.126805\" xlink:href=\"#m9e1f688fc5\" y=\"94.798125\"/>\r\n     <use style=\"fill:#0000ff;stroke:#0000ff;\" x=\"362.185801\" xlink:href=\"#m9e1f688fc5\" y=\"203.518125\"/>\r\n     <use style=\"fill:#0000ff;stroke:#0000ff;\" x=\"362.344479\" xlink:href=\"#m9e1f688fc5\" y=\"203.518125\"/>\r\n     <use style=\"fill:#0000ff;stroke:#0000ff;\" x=\"362.946644\" xlink:href=\"#m9e1f688fc5\" y=\"203.518125\"/>\r\n     <use style=\"fill:#0000ff;stroke:#0000ff;\" x=\"363.078876\" xlink:href=\"#m9e1f688fc5\" y=\"58.558125\"/>\r\n     <use style=\"fill:#0000ff;stroke:#0000ff;\" x=\"363.211108\" xlink:href=\"#m9e1f688fc5\" y=\"94.798125\"/>\r\n     <use style=\"fill:#0000ff;stroke:#0000ff;\" x=\"363.544739\" xlink:href=\"#m9e1f688fc5\" y=\"58.558125\"/>\r\n     <use style=\"fill:#0000ff;stroke:#0000ff;\" x=\"363.866165\" xlink:href=\"#m9e1f688fc5\" y=\"203.518125\"/>\r\n     <use style=\"fill:#0000ff;stroke:#0000ff;\" x=\"363.961779\" xlink:href=\"#m9e1f688fc5\" y=\"203.518125\"/>\r\n     <use style=\"fill:#0000ff;stroke:#0000ff;\" x=\"364.602596\" xlink:href=\"#m9e1f688fc5\" y=\"94.798125\"/>\r\n     <use style=\"fill:#0000ff;stroke:#0000ff;\" x=\"364.68397\" xlink:href=\"#m9e1f688fc5\" y=\"203.518125\"/>\r\n     <use style=\"fill:#0000ff;stroke:#0000ff;\" x=\"364.812133\" xlink:href=\"#m9e1f688fc5\" y=\"203.518125\"/>\r\n     <use style=\"fill:#0000ff;stroke:#0000ff;\" x=\"365.296306\" xlink:href=\"#m9e1f688fc5\" y=\"131.038125\"/>\r\n     <use style=\"fill:#0000ff;stroke:#0000ff;\" x=\"365.398023\" xlink:href=\"#m9e1f688fc5\" y=\"94.798125\"/>\r\n     <use style=\"fill:#0000ff;stroke:#0000ff;\" x=\"365.686899\" xlink:href=\"#m9e1f688fc5\" y=\"58.558125\"/>\r\n     <use style=\"fill:#0000ff;stroke:#0000ff;\" x=\"365.699105\" xlink:href=\"#m9e1f688fc5\" y=\"203.518125\"/>\r\n     <use style=\"fill:#0000ff;stroke:#0000ff;\" x=\"365.72962\" xlink:href=\"#m9e1f688fc5\" y=\"58.558125\"/>\r\n     <use style=\"fill:#0000ff;stroke:#0000ff;\" x=\"365.983912\" xlink:href=\"#m9e1f688fc5\" y=\"203.518125\"/>\r\n     <use style=\"fill:#0000ff;stroke:#0000ff;\" x=\"366.000187\" xlink:href=\"#m9e1f688fc5\" y=\"58.558125\"/>\r\n     <use style=\"fill:#0000ff;stroke:#0000ff;\" x=\"366.124282\" xlink:href=\"#m9e1f688fc5\" y=\"203.518125\"/>\r\n     <use style=\"fill:#0000ff;stroke:#0000ff;\" x=\"366.309407\" xlink:href=\"#m9e1f688fc5\" y=\"203.518125\"/>\r\n     <use style=\"fill:#0000ff;stroke:#0000ff;\" x=\"366.319578\" xlink:href=\"#m9e1f688fc5\" y=\"203.518125\"/>\r\n     <use style=\"fill:#0000ff;stroke:#0000ff;\" x=\"366.43757\" xlink:href=\"#m9e1f688fc5\" y=\"58.558125\"/>\r\n     <use style=\"fill:#0000ff;stroke:#0000ff;\" x=\"366.525047\" xlink:href=\"#m9e1f688fc5\" y=\"203.518125\"/>\r\n     <use style=\"fill:#0000ff;stroke:#0000ff;\" x=\"366.844438\" xlink:href=\"#m9e1f688fc5\" y=\"203.518125\"/>\r\n     <use style=\"fill:#0000ff;stroke:#0000ff;\" x=\"366.856644\" xlink:href=\"#m9e1f688fc5\" y=\"131.038125\"/>\r\n     <use style=\"fill:#0000ff;stroke:#0000ff;\" x=\"366.942086\" xlink:href=\"#m9e1f688fc5\" y=\"203.518125\"/>\r\n     <use style=\"fill:#0000ff;stroke:#0000ff;\" x=\"366.96243\" xlink:href=\"#m9e1f688fc5\" y=\"58.558125\"/>\r\n     <use style=\"fill:#0000ff;stroke:#0000ff;\" x=\"367.119074\" xlink:href=\"#m9e1f688fc5\" y=\"203.518125\"/>\r\n     <use style=\"fill:#0000ff;stroke:#0000ff;\" x=\"367.267581\" xlink:href=\"#m9e1f688fc5\" y=\"131.038125\"/>\r\n     <use style=\"fill:#0000ff;stroke:#0000ff;\" x=\"367.507633\" xlink:href=\"#m9e1f688fc5\" y=\"203.518125\"/>\r\n     <use style=\"fill:#0000ff;stroke:#0000ff;\" x=\"367.517804\" xlink:href=\"#m9e1f688fc5\" y=\"131.038125\"/>\r\n     <use style=\"fill:#0000ff;stroke:#0000ff;\" x=\"367.521873\" xlink:href=\"#m9e1f688fc5\" y=\"94.798125\"/>\r\n     <use style=\"fill:#0000ff;stroke:#0000ff;\" x=\"367.688689\" xlink:href=\"#m9e1f688fc5\" y=\"58.558125\"/>\r\n     <use style=\"fill:#0000ff;stroke:#0000ff;\" x=\"367.857539\" xlink:href=\"#m9e1f688fc5\" y=\"58.558125\"/>\r\n     <use style=\"fill:#0000ff;stroke:#0000ff;\" x=\"367.985703\" xlink:href=\"#m9e1f688fc5\" y=\"203.518125\"/>\r\n     <use style=\"fill:#0000ff;stroke:#0000ff;\" x=\"368.060973\" xlink:href=\"#m9e1f688fc5\" y=\"58.558125\"/>\r\n     <use style=\"fill:#0000ff;stroke:#0000ff;\" x=\"368.180999\" xlink:href=\"#m9e1f688fc5\" y=\"203.518125\"/>\r\n     <use style=\"fill:#0000ff;stroke:#0000ff;\" x=\"368.3173\" xlink:href=\"#m9e1f688fc5\" y=\"203.518125\"/>\r\n     <use style=\"fill:#0000ff;stroke:#0000ff;\" x=\"368.345781\" xlink:href=\"#m9e1f688fc5\" y=\"131.038125\"/>\r\n     <use style=\"fill:#0000ff;stroke:#0000ff;\" x=\"368.545146\" xlink:href=\"#m9e1f688fc5\" y=\"203.518125\"/>\r\n     <use style=\"fill:#0000ff;stroke:#0000ff;\" x=\"368.70179\" xlink:href=\"#m9e1f688fc5\" y=\"203.518125\"/>\r\n     <use style=\"fill:#0000ff;stroke:#0000ff;\" x=\"368.905224\" xlink:href=\"#m9e1f688fc5\" y=\"203.518125\"/>\r\n     <use style=\"fill:#0000ff;stroke:#0000ff;\" x=\"368.943876\" xlink:href=\"#m9e1f688fc5\" y=\"131.038125\"/>\r\n     <use style=\"fill:#0000ff;stroke:#0000ff;\" x=\"369.03949\" xlink:href=\"#m9e1f688fc5\" y=\"203.518125\"/>\r\n     <use style=\"fill:#0000ff;stroke:#0000ff;\" x=\"369.253096\" xlink:href=\"#m9e1f688fc5\" y=\"58.558125\"/>\r\n     <use style=\"fill:#0000ff;stroke:#0000ff;\" x=\"369.570453\" xlink:href=\"#m9e1f688fc5\" y=\"203.518125\"/>\r\n     <use style=\"fill:#0000ff;stroke:#0000ff;\" x=\"369.784059\" xlink:href=\"#m9e1f688fc5\" y=\"131.038125\"/>\r\n     <use style=\"fill:#0000ff;stroke:#0000ff;\" x=\"369.869501\" xlink:href=\"#m9e1f688fc5\" y=\"94.798125\"/>\r\n     <use style=\"fill:#0000ff;stroke:#0000ff;\" x=\"370.105484\" xlink:href=\"#m9e1f688fc5\" y=\"58.558125\"/>\r\n     <use style=\"fill:#0000ff;stroke:#0000ff;\" x=\"370.109553\" xlink:href=\"#m9e1f688fc5\" y=\"58.558125\"/>\r\n     <use style=\"fill:#0000ff;stroke:#0000ff;\" x=\"370.119725\" xlink:href=\"#m9e1f688fc5\" y=\"58.558125\"/>\r\n     <use style=\"fill:#0000ff;stroke:#0000ff;\" x=\"370.131931\" xlink:href=\"#m9e1f688fc5\" y=\"58.558125\"/>\r\n     <use style=\"fill:#0000ff;stroke:#0000ff;\" x=\"370.654756\" xlink:href=\"#m9e1f688fc5\" y=\"203.518125\"/>\r\n     <use style=\"fill:#0000ff;stroke:#0000ff;\" x=\"370.723924\" xlink:href=\"#m9e1f688fc5\" y=\"58.558125\"/>\r\n     <use style=\"fill:#0000ff;stroke:#0000ff;\" x=\"370.874465\" xlink:href=\"#m9e1f688fc5\" y=\"167.278125\"/>\r\n     <use style=\"fill:#0000ff;stroke:#0000ff;\" x=\"370.925323\" xlink:href=\"#m9e1f688fc5\" y=\"203.518125\"/>\r\n     <use style=\"fill:#0000ff;stroke:#0000ff;\" x=\"370.93346\" xlink:href=\"#m9e1f688fc5\" y=\"131.038125\"/>\r\n     <use style=\"fill:#0000ff;stroke:#0000ff;\" x=\"371.216234\" xlink:href=\"#m9e1f688fc5\" y=\"131.038125\"/>\r\n     <use style=\"fill:#0000ff;stroke:#0000ff;\" x=\"371.309813\" xlink:href=\"#m9e1f688fc5\" y=\"131.038125\"/>\r\n     <use style=\"fill:#0000ff;stroke:#0000ff;\" x=\"371.322019\" xlink:href=\"#m9e1f688fc5\" y=\"203.518125\"/>\r\n     <use style=\"fill:#0000ff;stroke:#0000ff;\" x=\"371.728887\" xlink:href=\"#m9e1f688fc5\" y=\"58.558125\"/>\r\n     <use style=\"fill:#0000ff;stroke:#0000ff;\" x=\"371.810261\" xlink:href=\"#m9e1f688fc5\" y=\"203.518125\"/>\r\n     <use style=\"fill:#0000ff;stroke:#0000ff;\" x=\"371.867222\" xlink:href=\"#m9e1f688fc5\" y=\"131.038125\"/>\r\n     <use style=\"fill:#0000ff;stroke:#0000ff;\" x=\"371.934356\" xlink:href=\"#m9e1f688fc5\" y=\"203.518125\"/>\r\n     <use style=\"fill:#0000ff;stroke:#0000ff;\" x=\"371.962836\" xlink:href=\"#m9e1f688fc5\" y=\"203.518125\"/>\r\n     <use style=\"fill:#0000ff;stroke:#0000ff;\" x=\"371.991317\" xlink:href=\"#m9e1f688fc5\" y=\"131.038125\"/>\r\n     <use style=\"fill:#0000ff;stroke:#0000ff;\" x=\"372.052347\" xlink:href=\"#m9e1f688fc5\" y=\"203.518125\"/>\r\n     <use style=\"fill:#0000ff;stroke:#0000ff;\" x=\"372.125583\" xlink:href=\"#m9e1f688fc5\" y=\"131.038125\"/>\r\n     <use style=\"fill:#0000ff;stroke:#0000ff;\" x=\"372.139824\" xlink:href=\"#m9e1f688fc5\" y=\"203.518125\"/>\r\n     <use style=\"fill:#0000ff;stroke:#0000ff;\" x=\"372.257815\" xlink:href=\"#m9e1f688fc5\" y=\"203.518125\"/>\r\n     <use style=\"fill:#0000ff;stroke:#0000ff;\" x=\"372.353429\" xlink:href=\"#m9e1f688fc5\" y=\"131.038125\"/>\r\n     <use style=\"fill:#0000ff;stroke:#0000ff;\" x=\"372.434803\" xlink:href=\"#m9e1f688fc5\" y=\"131.038125\"/>\r\n     <use style=\"fill:#0000ff;stroke:#0000ff;\" x=\"372.501936\" xlink:href=\"#m9e1f688fc5\" y=\"131.038125\"/>\r\n     <use style=\"fill:#0000ff;stroke:#0000ff;\" x=\"372.58331\" xlink:href=\"#m9e1f688fc5\" y=\"203.518125\"/>\r\n     <use style=\"fill:#0000ff;stroke:#0000ff;\" x=\"372.703336\" xlink:href=\"#m9e1f688fc5\" y=\"203.518125\"/>\r\n     <use style=\"fill:#0000ff;stroke:#0000ff;\" x=\"372.776572\" xlink:href=\"#m9e1f688fc5\" y=\"131.038125\"/>\r\n     <use style=\"fill:#0000ff;stroke:#0000ff;\" x=\"372.894564\" xlink:href=\"#m9e1f688fc5\" y=\"203.518125\"/>\r\n     <use style=\"fill:#0000ff;stroke:#0000ff;\" x=\"372.986109\" xlink:href=\"#m9e1f688fc5\" y=\"131.038125\"/>\r\n     <use style=\"fill:#0000ff;stroke:#0000ff;\" x=\"373.012555\" xlink:href=\"#m9e1f688fc5\" y=\"94.798125\"/>\r\n     <use style=\"fill:#0000ff;stroke:#0000ff;\" x=\"373.051208\" xlink:href=\"#m9e1f688fc5\" y=\"58.558125\"/>\r\n     <use style=\"fill:#0000ff;stroke:#0000ff;\" x=\"373.085792\" xlink:href=\"#m9e1f688fc5\" y=\"203.518125\"/>\r\n     <use style=\"fill:#0000ff;stroke:#0000ff;\" x=\"373.18344\" xlink:href=\"#m9e1f688fc5\" y=\"131.038125\"/>\r\n     <use style=\"fill:#0000ff;stroke:#0000ff;\" x=\"373.299397\" xlink:href=\"#m9e1f688fc5\" y=\"131.038125\"/>\r\n     <use style=\"fill:#0000ff;stroke:#0000ff;\" x=\"373.333981\" xlink:href=\"#m9e1f688fc5\" y=\"167.278125\"/>\r\n     <use style=\"fill:#0000ff;stroke:#0000ff;\" x=\"373.498763\" xlink:href=\"#m9e1f688fc5\" y=\"58.558125\"/>\r\n     <use style=\"fill:#0000ff;stroke:#0000ff;\" x=\"373.657441\" xlink:href=\"#m9e1f688fc5\" y=\"203.518125\"/>\r\n     <use style=\"fill:#0000ff;stroke:#0000ff;\" x=\"373.700162\" xlink:href=\"#m9e1f688fc5\" y=\"131.038125\"/>\r\n     <use style=\"fill:#0000ff;stroke:#0000ff;\" x=\"373.744918\" xlink:href=\"#m9e1f688fc5\" y=\"203.518125\"/>\r\n     <use style=\"fill:#0000ff;stroke:#0000ff;\" x=\"373.755089\" xlink:href=\"#m9e1f688fc5\" y=\"131.038125\"/>\r\n     <use style=\"fill:#0000ff;stroke:#0000ff;\" x=\"373.759158\" xlink:href=\"#m9e1f688fc5\" y=\"58.558125\"/>\r\n     <use style=\"fill:#0000ff;stroke:#0000ff;\" x=\"374.056172\" xlink:href=\"#m9e1f688fc5\" y=\"131.038125\"/>\r\n     <use style=\"fill:#0000ff;stroke:#0000ff;\" x=\"374.09279\" xlink:href=\"#m9e1f688fc5\" y=\"203.518125\"/>\r\n     <use style=\"fill:#0000ff;stroke:#0000ff;\" x=\"374.102961\" xlink:href=\"#m9e1f688fc5\" y=\"131.038125\"/>\r\n     <use style=\"fill:#0000ff;stroke:#0000ff;\" x=\"374.359288\" xlink:href=\"#m9e1f688fc5\" y=\"203.518125\"/>\r\n     <use style=\"fill:#0000ff;stroke:#0000ff;\" x=\"374.36946\" xlink:href=\"#m9e1f688fc5\" y=\"131.038125\"/>\r\n     <use style=\"fill:#0000ff;stroke:#0000ff;\" x=\"374.562722\" xlink:href=\"#m9e1f688fc5\" y=\"131.038125\"/>\r\n     <use style=\"fill:#0000ff;stroke:#0000ff;\" x=\"374.682748\" xlink:href=\"#m9e1f688fc5\" y=\"131.038125\"/>\r\n     <use style=\"fill:#0000ff;stroke:#0000ff;\" x=\"374.774293\" xlink:href=\"#m9e1f688fc5\" y=\"131.038125\"/>\r\n     <use style=\"fill:#0000ff;stroke:#0000ff;\" x=\"374.845495\" xlink:href=\"#m9e1f688fc5\" y=\"203.518125\"/>\r\n     <use style=\"fill:#0000ff;stroke:#0000ff;\" x=\"374.869907\" xlink:href=\"#m9e1f688fc5\" y=\"131.038125\"/>\r\n     <use style=\"fill:#0000ff;stroke:#0000ff;\" x=\"374.926869\" xlink:href=\"#m9e1f688fc5\" y=\"203.518125\"/>\r\n     <use style=\"fill:#0000ff;stroke:#0000ff;\" x=\"375.004174\" xlink:href=\"#m9e1f688fc5\" y=\"131.038125\"/>\r\n     <use style=\"fill:#0000ff;stroke:#0000ff;\" x=\"375.087582\" xlink:href=\"#m9e1f688fc5\" y=\"131.038125\"/>\r\n     <use style=\"fill:#0000ff;stroke:#0000ff;\" x=\"375.181161\" xlink:href=\"#m9e1f688fc5\" y=\"58.558125\"/>\r\n     <use style=\"fill:#0000ff;stroke:#0000ff;\" x=\"375.368321\" xlink:href=\"#m9e1f688fc5\" y=\"203.518125\"/>\r\n     <use style=\"fill:#0000ff;stroke:#0000ff;\" x=\"375.455797\" xlink:href=\"#m9e1f688fc5\" y=\"131.038125\"/>\r\n     <use style=\"fill:#0000ff;stroke:#0000ff;\" x=\"375.488347\" xlink:href=\"#m9e1f688fc5\" y=\"203.518125\"/>\r\n     <use style=\"fill:#0000ff;stroke:#0000ff;\" x=\"375.496484\" xlink:href=\"#m9e1f688fc5\" y=\"58.558125\"/>\r\n     <use style=\"fill:#0000ff;stroke:#0000ff;\" x=\"375.706021\" xlink:href=\"#m9e1f688fc5\" y=\"203.518125\"/>\r\n     <use style=\"fill:#0000ff;stroke:#0000ff;\" x=\"376.106786\" xlink:href=\"#m9e1f688fc5\" y=\"203.518125\"/>\r\n     <use style=\"fill:#0000ff;stroke:#0000ff;\" x=\"376.218675\" xlink:href=\"#m9e1f688fc5\" y=\"203.518125\"/>\r\n     <use style=\"fill:#0000ff;stroke:#0000ff;\" x=\"376.7415\" xlink:href=\"#m9e1f688fc5\" y=\"131.038125\"/>\r\n     <use style=\"fill:#0000ff;stroke:#0000ff;\" x=\"376.934762\" xlink:href=\"#m9e1f688fc5\" y=\"203.518125\"/>\r\n     <use style=\"fill:#0000ff;stroke:#0000ff;\" x=\"377.195157\" xlink:href=\"#m9e1f688fc5\" y=\"203.518125\"/>\r\n     <use style=\"fill:#0000ff;stroke:#0000ff;\" x=\"377.972275\" xlink:href=\"#m9e1f688fc5\" y=\"131.038125\"/>\r\n     <use style=\"fill:#0000ff;stroke:#0000ff;\" x=\"378.37304\" xlink:href=\"#m9e1f688fc5\" y=\"203.518125\"/>\r\n     <use style=\"fill:#0000ff;stroke:#0000ff;\" x=\"379.129814\" xlink:href=\"#m9e1f688fc5\" y=\"203.518125\"/>\r\n     <use style=\"fill:#0000ff;stroke:#0000ff;\" x=\"380.19174\" xlink:href=\"#m9e1f688fc5\" y=\"167.278125\"/>\r\n     <use style=\"fill:#0000ff;stroke:#0000ff;\" x=\"380.214117\" xlink:href=\"#m9e1f688fc5\" y=\"167.278125\"/>\r\n     <use style=\"fill:#0000ff;stroke:#0000ff;\" x=\"380.539612\" xlink:href=\"#m9e1f688fc5\" y=\"203.518125\"/>\r\n     <use style=\"fill:#0000ff;stroke:#0000ff;\" x=\"380.781698\" xlink:href=\"#m9e1f688fc5\" y=\"203.518125\"/>\r\n     <use style=\"fill:#0000ff;stroke:#0000ff;\" x=\"380.987166\" xlink:href=\"#m9e1f688fc5\" y=\"131.038125\"/>\r\n     <use style=\"fill:#0000ff;stroke:#0000ff;\" x=\"381.033956\" xlink:href=\"#m9e1f688fc5\" y=\"203.518125\"/>\r\n     <use style=\"fill:#0000ff;stroke:#0000ff;\" x=\"381.097021\" xlink:href=\"#m9e1f688fc5\" y=\"58.558125\"/>\r\n     <use style=\"fill:#0000ff;stroke:#0000ff;\" x=\"381.151948\" xlink:href=\"#m9e1f688fc5\" y=\"94.798125\"/>\r\n     <use style=\"fill:#0000ff;stroke:#0000ff;\" x=\"381.450996\" xlink:href=\"#m9e1f688fc5\" y=\"131.038125\"/>\r\n     <use style=\"fill:#0000ff;stroke:#0000ff;\" x=\"382.311521\" xlink:href=\"#m9e1f688fc5\" y=\"203.518125\"/>\r\n     <use style=\"fill:#0000ff;stroke:#0000ff;\" x=\"382.500715\" xlink:href=\"#m9e1f688fc5\" y=\"203.518125\"/>\r\n     <use style=\"fill:#0000ff;stroke:#0000ff;\" x=\"382.539367\" xlink:href=\"#m9e1f688fc5\" y=\"203.518125\"/>\r\n     <use style=\"fill:#0000ff;stroke:#0000ff;\" x=\"382.789591\" xlink:href=\"#m9e1f688fc5\" y=\"58.558125\"/>\r\n     <use style=\"fill:#0000ff;stroke:#0000ff;\" x=\"382.999128\" xlink:href=\"#m9e1f688fc5\" y=\"203.518125\"/>\r\n     <use style=\"fill:#0000ff;stroke:#0000ff;\" x=\"383.121188\" xlink:href=\"#m9e1f688fc5\" y=\"131.038125\"/>\r\n     <use style=\"fill:#0000ff;stroke:#0000ff;\" x=\"383.509747\" xlink:href=\"#m9e1f688fc5\" y=\"203.518125\"/>\r\n     <use style=\"fill:#0000ff;stroke:#0000ff;\" x=\"383.786417\" xlink:href=\"#m9e1f688fc5\" y=\"58.558125\"/>\r\n     <use style=\"fill:#0000ff;stroke:#0000ff;\" x=\"384.063088\" xlink:href=\"#m9e1f688fc5\" y=\"203.518125\"/>\r\n     <use style=\"fill:#0000ff;stroke:#0000ff;\" x=\"384.164805\" xlink:href=\"#m9e1f688fc5\" y=\"94.798125\"/>\r\n     <use style=\"fill:#0000ff;stroke:#0000ff;\" x=\"384.227869\" xlink:href=\"#m9e1f688fc5\" y=\"131.038125\"/>\r\n     <use style=\"fill:#0000ff;stroke:#0000ff;\" x=\"384.520814\" xlink:href=\"#m9e1f688fc5\" y=\"131.038125\"/>\r\n     <use style=\"fill:#0000ff;stroke:#0000ff;\" x=\"384.53302\" xlink:href=\"#m9e1f688fc5\" y=\"131.038125\"/>\r\n     <use style=\"fill:#0000ff;stroke:#0000ff;\" x=\"384.799519\" xlink:href=\"#m9e1f688fc5\" y=\"203.518125\"/>\r\n     <use style=\"fill:#0000ff;stroke:#0000ff;\" x=\"385.574602\" xlink:href=\"#m9e1f688fc5\" y=\"58.558125\"/>\r\n     <use style=\"fill:#0000ff;stroke:#0000ff;\" x=\"385.601048\" xlink:href=\"#m9e1f688fc5\" y=\"58.558125\"/>\r\n     <use style=\"fill:#0000ff;stroke:#0000ff;\" x=\"385.637666\" xlink:href=\"#m9e1f688fc5\" y=\"58.558125\"/>\r\n     <use style=\"fill:#0000ff;stroke:#0000ff;\" x=\"385.816688\" xlink:href=\"#m9e1f688fc5\" y=\"131.038125\"/>\r\n     <use style=\"fill:#0000ff;stroke:#0000ff;\" x=\"385.853306\" xlink:href=\"#m9e1f688fc5\" y=\"203.518125\"/>\r\n     <use style=\"fill:#0000ff;stroke:#0000ff;\" x=\"385.92044\" xlink:href=\"#m9e1f688fc5\" y=\"58.558125\"/>\r\n     <use style=\"fill:#0000ff;stroke:#0000ff;\" x=\"385.924508\" xlink:href=\"#m9e1f688fc5\" y=\"203.518125\"/>\r\n     <use style=\"fill:#0000ff;stroke:#0000ff;\" x=\"385.989607\" xlink:href=\"#m9e1f688fc5\" y=\"203.518125\"/>\r\n     <use style=\"fill:#0000ff;stroke:#0000ff;\" x=\"386.378166\" xlink:href=\"#m9e1f688fc5\" y=\"58.558125\"/>\r\n     <use style=\"fill:#0000ff;stroke:#0000ff;\" x=\"386.540913\" xlink:href=\"#m9e1f688fc5\" y=\"203.518125\"/>\r\n     <use style=\"fill:#0000ff;stroke:#0000ff;\" x=\"386.579566\" xlink:href=\"#m9e1f688fc5\" y=\"203.518125\"/>\r\n     <use style=\"fill:#0000ff;stroke:#0000ff;\" x=\"386.807412\" xlink:href=\"#m9e1f688fc5\" y=\"58.558125\"/>\r\n     <use style=\"fill:#0000ff;stroke:#0000ff;\" x=\"386.892854\" xlink:href=\"#m9e1f688fc5\" y=\"58.558125\"/>\r\n     <use style=\"fill:#0000ff;stroke:#0000ff;\" x=\"387.301756\" xlink:href=\"#m9e1f688fc5\" y=\"203.518125\"/>\r\n     <use style=\"fill:#0000ff;stroke:#0000ff;\" x=\"387.621147\" xlink:href=\"#m9e1f688fc5\" y=\"203.518125\"/>\r\n     <use style=\"fill:#0000ff;stroke:#0000ff;\" x=\"387.62725\" xlink:href=\"#m9e1f688fc5\" y=\"203.518125\"/>\r\n     <use style=\"fill:#0000ff;stroke:#0000ff;\" x=\"387.798135\" xlink:href=\"#m9e1f688fc5\" y=\"203.518125\"/>\r\n     <use style=\"fill:#0000ff;stroke:#0000ff;\" x=\"388.229415\" xlink:href=\"#m9e1f688fc5\" y=\"203.518125\"/>\r\n     <use style=\"fill:#0000ff;stroke:#0000ff;\" x=\"388.379956\" xlink:href=\"#m9e1f688fc5\" y=\"203.518125\"/>\r\n     <use style=\"fill:#0000ff;stroke:#0000ff;\" x=\"388.388093\" xlink:href=\"#m9e1f688fc5\" y=\"203.518125\"/>\r\n     <use style=\"fill:#0000ff;stroke:#0000ff;\" x=\"388.514222\" xlink:href=\"#m9e1f688fc5\" y=\"203.518125\"/>\r\n     <use style=\"fill:#0000ff;stroke:#0000ff;\" x=\"388.67697\" xlink:href=\"#m9e1f688fc5\" y=\"203.518125\"/>\r\n     <use style=\"fill:#0000ff;stroke:#0000ff;\" x=\"389.185555\" xlink:href=\"#m9e1f688fc5\" y=\"203.518125\"/>\r\n     <use style=\"fill:#0000ff;stroke:#0000ff;\" x=\"389.199795\" xlink:href=\"#m9e1f688fc5\" y=\"203.518125\"/>\r\n     <use style=\"fill:#0000ff;stroke:#0000ff;\" x=\"389.214035\" xlink:href=\"#m9e1f688fc5\" y=\"203.518125\"/>\r\n     <use style=\"fill:#0000ff;stroke:#0000ff;\" x=\"389.228276\" xlink:href=\"#m9e1f688fc5\" y=\"203.518125\"/>\r\n     <use style=\"fill:#0000ff;stroke:#0000ff;\" x=\"389.254722\" xlink:href=\"#m9e1f688fc5\" y=\"203.518125\"/>\r\n     <use style=\"fill:#0000ff;stroke:#0000ff;\" x=\"389.283203\" xlink:href=\"#m9e1f688fc5\" y=\"203.518125\"/>\r\n     <use style=\"fill:#0000ff;stroke:#0000ff;\" x=\"389.297443\" xlink:href=\"#m9e1f688fc5\" y=\"203.518125\"/>\r\n    </g>\r\n   </g>\r\n   <g id=\"patch_3\">\r\n    <path d=\"M 69.715625 239.758125 \r\nL 69.715625 22.318125 \r\n\" style=\"fill:none;stroke:#000000;stroke-linecap:square;stroke-linejoin:miter;stroke-width:0.8;\"/>\r\n   </g>\r\n   <g id=\"patch_4\">\r\n    <path d=\"M 404.515625 239.758125 \r\nL 404.515625 22.318125 \r\n\" style=\"fill:none;stroke:#000000;stroke-linecap:square;stroke-linejoin:miter;stroke-width:0.8;\"/>\r\n   </g>\r\n   <g id=\"patch_5\">\r\n    <path d=\"M 69.715625 239.758125 \r\nL 404.515625 239.758125 \r\n\" style=\"fill:none;stroke:#000000;stroke-linecap:square;stroke-linejoin:miter;stroke-width:0.8;\"/>\r\n   </g>\r\n   <g id=\"patch_6\">\r\n    <path d=\"M 69.715625 22.318125 \r\nL 404.515625 22.318125 \r\n\" style=\"fill:none;stroke:#000000;stroke-linecap:square;stroke-linejoin:miter;stroke-width:0.8;\"/>\r\n   </g>\r\n   <g id=\"text_15\">\r\n    <!-- Lexical Dispersion Plot -->\r\n    <g transform=\"translate(169.661563 16.318125)scale(0.12 -0.12)\">\r\n     <defs>\r\n      <path d=\"M 9.8125 72.90625 \r\nL 19.671875 72.90625 \r\nL 19.671875 8.296875 \r\nL 55.171875 8.296875 \r\nL 55.171875 0 \r\nL 9.8125 0 \r\nz\r\n\" id=\"DejaVuSans-76\"/>\r\n      <path d=\"M 54.890625 54.6875 \r\nL 35.109375 28.078125 \r\nL 55.90625 0 \r\nL 45.3125 0 \r\nL 29.390625 21.484375 \r\nL 13.484375 0 \r\nL 2.875 0 \r\nL 24.125 28.609375 \r\nL 4.6875 54.6875 \r\nL 15.28125 54.6875 \r\nL 29.78125 35.203125 \r\nL 44.28125 54.6875 \r\nz\r\n\" id=\"DejaVuSans-120\"/>\r\n      <path d=\"M 9.421875 75.984375 \r\nL 18.40625 75.984375 \r\nL 18.40625 0 \r\nL 9.421875 0 \r\nz\r\n\" id=\"DejaVuSans-108\"/>\r\n      <path d=\"M 19.671875 64.796875 \r\nL 19.671875 8.109375 \r\nL 31.59375 8.109375 \r\nQ 46.6875 8.109375 53.6875 14.9375 \r\nQ 60.6875 21.78125 60.6875 36.53125 \r\nQ 60.6875 51.171875 53.6875 57.984375 \r\nQ 46.6875 64.796875 31.59375 64.796875 \r\nz\r\nM 9.8125 72.90625 \r\nL 30.078125 72.90625 \r\nQ 51.265625 72.90625 61.171875 64.09375 \r\nQ 71.09375 55.28125 71.09375 36.53125 \r\nQ 71.09375 17.671875 61.125 8.828125 \r\nQ 51.171875 0 30.078125 0 \r\nL 9.8125 0 \r\nz\r\n\" id=\"DejaVuSans-68\"/>\r\n      <path d=\"M 18.109375 8.203125 \r\nL 18.109375 -20.796875 \r\nL 9.078125 -20.796875 \r\nL 9.078125 54.6875 \r\nL 18.109375 54.6875 \r\nL 18.109375 46.390625 \r\nQ 20.953125 51.265625 25.265625 53.625 \r\nQ 29.59375 56 35.59375 56 \r\nQ 45.5625 56 51.78125 48.09375 \r\nQ 58.015625 40.1875 58.015625 27.296875 \r\nQ 58.015625 14.40625 51.78125 6.484375 \r\nQ 45.5625 -1.421875 35.59375 -1.421875 \r\nQ 29.59375 -1.421875 25.265625 0.953125 \r\nQ 20.953125 3.328125 18.109375 8.203125 \r\nz\r\nM 48.6875 27.296875 \r\nQ 48.6875 37.203125 44.609375 42.84375 \r\nQ 40.53125 48.484375 33.40625 48.484375 \r\nQ 26.265625 48.484375 22.1875 42.84375 \r\nQ 18.109375 37.203125 18.109375 27.296875 \r\nQ 18.109375 17.390625 22.1875 11.75 \r\nQ 26.265625 6.109375 33.40625 6.109375 \r\nQ 40.53125 6.109375 44.609375 11.75 \r\nQ 48.6875 17.390625 48.6875 27.296875 \r\nz\r\n\" id=\"DejaVuSans-112\"/>\r\n      <path d=\"M 19.671875 64.796875 \r\nL 19.671875 37.40625 \r\nL 32.078125 37.40625 \r\nQ 38.96875 37.40625 42.71875 40.96875 \r\nQ 46.484375 44.53125 46.484375 51.125 \r\nQ 46.484375 57.671875 42.71875 61.234375 \r\nQ 38.96875 64.796875 32.078125 64.796875 \r\nz\r\nM 9.8125 72.90625 \r\nL 32.078125 72.90625 \r\nQ 44.34375 72.90625 50.609375 67.359375 \r\nQ 56.890625 61.8125 56.890625 51.125 \r\nQ 56.890625 40.328125 50.609375 34.8125 \r\nQ 44.34375 29.296875 32.078125 29.296875 \r\nL 19.671875 29.296875 \r\nL 19.671875 0 \r\nL 9.8125 0 \r\nz\r\n\" id=\"DejaVuSans-80\"/>\r\n     </defs>\r\n     <use xlink:href=\"#DejaVuSans-76\"/>\r\n     <use x=\"53.962891\" xlink:href=\"#DejaVuSans-101\"/>\r\n     <use x=\"113.736328\" xlink:href=\"#DejaVuSans-120\"/>\r\n     <use x=\"172.916016\" xlink:href=\"#DejaVuSans-105\"/>\r\n     <use x=\"200.699219\" xlink:href=\"#DejaVuSans-99\"/>\r\n     <use x=\"255.679688\" xlink:href=\"#DejaVuSans-97\"/>\r\n     <use x=\"316.958984\" xlink:href=\"#DejaVuSans-108\"/>\r\n     <use x=\"344.742188\" xlink:href=\"#DejaVuSans-32\"/>\r\n     <use x=\"376.529297\" xlink:href=\"#DejaVuSans-68\"/>\r\n     <use x=\"453.53125\" xlink:href=\"#DejaVuSans-105\"/>\r\n     <use x=\"481.314453\" xlink:href=\"#DejaVuSans-115\"/>\r\n     <use x=\"533.414062\" xlink:href=\"#DejaVuSans-112\"/>\r\n     <use x=\"596.890625\" xlink:href=\"#DejaVuSans-101\"/>\r\n     <use x=\"658.414062\" xlink:href=\"#DejaVuSans-114\"/>\r\n     <use x=\"699.527344\" xlink:href=\"#DejaVuSans-115\"/>\r\n     <use x=\"751.626953\" xlink:href=\"#DejaVuSans-105\"/>\r\n     <use x=\"779.410156\" xlink:href=\"#DejaVuSans-111\"/>\r\n     <use x=\"840.591797\" xlink:href=\"#DejaVuSans-110\"/>\r\n     <use x=\"903.970703\" xlink:href=\"#DejaVuSans-32\"/>\r\n     <use x=\"935.757812\" xlink:href=\"#DejaVuSans-80\"/>\r\n     <use x=\"996.060547\" xlink:href=\"#DejaVuSans-108\"/>\r\n     <use x=\"1023.84375\" xlink:href=\"#DejaVuSans-111\"/>\r\n     <use x=\"1085.025391\" xlink:href=\"#DejaVuSans-116\"/>\r\n    </g>\r\n   </g>\r\n  </g>\r\n </g>\r\n <defs>\r\n  <clipPath id=\"pb92e465b6c\">\r\n   <rect height=\"217.44\" width=\"334.8\" x=\"69.715625\" y=\"22.318125\"/>\r\n  </clipPath>\r\n </defs>\r\n</svg>\r\n",
      "image/png": "[encoded data removed]"
     },
     "metadata": {
      "needs_background": "light"
     }
    }
   ],
   "source": [
    "#we can also determine the location of a word in the text: how many words from the beginning it appears. This positional information can be displayed using a dispersion plot.\n",
    "text4.dispersion_plot([\"citizens\", \"democracy\", \"freedom\", \"duties\", \"America\"])"
   ]
  },
  {
   "cell_type": "code",
   "execution_count": 11,
   "metadata": {},
   "outputs": [
    {
     "output_type": "stream",
     "name": "stderr",
     "text": [
      "Building ngram index...\n",
      "laid by her , and said unto Cain , Where art thou , and said , Go to ,\n",
      "I will not do it for ten ' s sons ; we dreamed each man according to\n",
      "their generatio the firstborn said unto Laban , Because I said , Nay ,\n",
      "but Sarah shall her name be . , duke Elah , duke Shobal , and Akan .\n",
      "and looked upon my affliction . Bashemath Ishmael ' s blood , but Isra\n",
      "for as a prince hast thou found of all the cattle in the valley , and\n",
      "the wo The\n"
     ]
    },
    {
     "output_type": "execute_result",
     "data": {
      "text/plain": [
       "\"laid by her , and said unto Cain , Where art thou , and said , Go to ,\\nI will not do it for ten ' s sons ; we dreamed each man according to\\ntheir generatio the firstborn said unto Laban , Because I said , Nay ,\\nbut Sarah shall her name be . , duke Elah , duke Shobal , and Akan .\\nand looked upon my affliction . Bashemath Ishmael ' s blood , but Isra\\nfor as a prince hast thou found of all the cattle in the valley , and\\nthe wo The\""
      ]
     },
     "metadata": {},
     "execution_count": 11
    }
   ],
   "source": [
    "#Try generating some random text\n",
    "text3.generate()"
   ]
  },
  {
   "source": [
    "## Counting Vocabulary"
   ],
   "cell_type": "markdown",
   "metadata": {}
  },
  {
   "cell_type": "code",
   "execution_count": 12,
   "metadata": {},
   "outputs": [
    {
     "output_type": "execute_result",
     "data": {
      "text/plain": [
       "44764"
      ]
     },
     "metadata": {},
     "execution_count": 12
    }
   ],
   "source": [
    "#Length of a text from start to finish\n",
    "len(text3)"
   ]
  },
  {
   "source": [
    "* Note:\n",
    "> *\"A token is the technical name for a sequence of characters—such as hairy, his, or :)—that we want to treat as a group\"*"
   ],
   "cell_type": "markdown",
   "metadata": {}
  },
  {
   "cell_type": "code",
   "execution_count": 20,
   "metadata": {},
   "outputs": [
    {
     "output_type": "execute_result",
     "data": {
      "text/plain": [
       "2789"
      ]
     },
     "metadata": {},
     "execution_count": 20
    }
   ],
   "source": [
    "#Distinct words, or “word types.”\n",
    "len(set(text3))"
   ]
  },
  {
   "source": [
    "* Note:\n",
    "> *\"A word type is the form or spelling of the word independently of its specific occurrences in a text—that is, the word considered as a unique item of vocabulary\"*"
   ],
   "cell_type": "markdown",
   "metadata": {}
  },
  {
   "cell_type": "code",
   "execution_count": 18,
   "metadata": {},
   "outputs": [
    {
     "output_type": "execute_result",
     "data": {
      "text/plain": [
       "[',)', '.', '.)', ':', ';', ';)', '?', '?)', 'A', 'Abel']"
      ]
     },
     "metadata": {},
     "execution_count": 18
    }
   ],
   "source": [
    "# Sorted list of vocabulary\n",
    "sorted(set(text3))[5:15]"
   ]
  },
  {
   "cell_type": "code",
   "execution_count": 22,
   "metadata": {},
   "outputs": [
    {
     "output_type": "execute_result",
     "data": {
      "text/plain": [
       "16.050197203298673"
      ]
     },
     "metadata": {},
     "execution_count": 22
    }
   ],
   "source": [
    "# Lexical richness\n",
    "len(text3) / len(set(text3))"
   ]
  },
  {
   "cell_type": "code",
   "execution_count": 23,
   "metadata": {},
   "outputs": [
    {
     "output_type": "execute_result",
     "data": {
      "text/plain": [
       "5"
      ]
     },
     "metadata": {},
     "execution_count": 23
    }
   ],
   "source": [
    "# Counting how often a word occurs in a text\n",
    "text3.count(\"smote\")"
   ]
  },
  {
   "cell_type": "code",
   "execution_count": 24,
   "metadata": {},
   "outputs": [
    {
     "output_type": "execute_result",
     "data": {
      "text/plain": [
       "1.457973123627309"
      ]
     },
     "metadata": {},
     "execution_count": 24
    }
   ],
   "source": [
    "# Counting how often a word occurs in a text (percentage)\n",
    "100 * text4.count('a') / len(text4)"
   ]
  },
  {
   "cell_type": "code",
   "execution_count": 25,
   "metadata": {},
   "outputs": [],
   "source": [
    "# Define two new functions\n",
    "def lexical_diversity(text):\n",
    "    return len(text) / len(set(text))\n",
    "\n",
    "def percentage(count, total):\n",
    "    return 100 * count / total   "
   ]
  },
  {
   "cell_type": "code",
   "execution_count": 27,
   "metadata": {},
   "outputs": [
    {
     "output_type": "execute_result",
     "data": {
      "text/plain": [
       "16.050197203298673"
      ]
     },
     "metadata": {},
     "execution_count": 27
    }
   ],
   "source": [
    "# Applying lexical_diversity function\n",
    "lexical_diversity(text3)"
   ]
  },
  {
   "cell_type": "code",
   "execution_count": 29,
   "metadata": {},
   "outputs": [
    {
     "output_type": "execute_result",
     "data": {
      "text/plain": [
       "0.7640067911714771"
      ]
     },
     "metadata": {},
     "execution_count": 29
    }
   ],
   "source": [
    "# Applying percentage function\n",
    "percentage(text3.count('a'), len(text3))"
   ]
  },
  {
   "source": [
    "# 1.2.Closer Look at Python: Texts as Lists of Words"
   ],
   "cell_type": "markdown",
   "metadata": {}
  },
  {
   "source": [
    "* Note:\n",
    ">*\"We will think of a text as nothing more than a sequence of words and punctuation\"*"
   ],
   "cell_type": "markdown",
   "metadata": {}
  },
  {
   "cell_type": "code",
   "execution_count": 34,
   "metadata": {},
   "outputs": [
    {
     "output_type": "execute_result",
     "data": {
      "text/plain": [
       "['Call', 'me', 'Ishmael', '.']"
      ]
     },
     "metadata": {},
     "execution_count": 34
    }
   ],
   "source": [
    "#Opening sentence of Moby Dick\n",
    "sent1 = ['Call', 'me', 'Ishmael', '.']\n",
    "sent1"
   ]
  },
  {
   "cell_type": "code",
   "execution_count": 32,
   "metadata": {},
   "outputs": [
    {
     "output_type": "execute_result",
     "data": {
      "text/plain": [
       "4"
      ]
     },
     "metadata": {},
     "execution_count": 32
    }
   ],
   "source": [
    "#Asking  for its length\n",
    "len(sent1)"
   ]
  },
  {
   "cell_type": "code",
   "execution_count": 33,
   "metadata": {},
   "outputs": [
    {
     "output_type": "execute_result",
     "data": {
      "text/plain": [
       "1.0"
      ]
     },
     "metadata": {},
     "execution_count": 33
    }
   ],
   "source": [
    "#Asking for lexical diversity\n",
    "lexical_diversity(sent1)"
   ]
  },
  {
   "cell_type": "code",
   "execution_count": 35,
   "metadata": {},
   "outputs": [
    {
     "output_type": "execute_result",
     "data": {
      "text/plain": [
       "['Monty', 'Python', 'and', 'the', 'Holy', 'Grail']"
      ]
     },
     "metadata": {},
     "execution_count": 35
    }
   ],
   "source": [
    "#List - sum\n",
    "['Monty', 'Python'] + ['and', 'the', 'Holy', 'Grail']"
   ]
  },
  {
   "cell_type": "code",
   "execution_count": 37,
   "metadata": {},
   "outputs": [
    {
     "output_type": "execute_result",
     "data": {
      "text/plain": [
       "['Call', 'me', 'Ishmael', '.', 'lol', 'lol']"
      ]
     },
     "metadata": {},
     "execution_count": 37
    }
   ],
   "source": [
    "#List - append\n",
    "sent1.append('lol')\n",
    "sent1"
   ]
  },
  {
   "source": [
    "## Indexing Lists"
   ],
   "cell_type": "markdown",
   "metadata": {}
  },
  {
   "cell_type": "code",
   "execution_count": 38,
   "metadata": {},
   "outputs": [
    {
     "output_type": "execute_result",
     "data": {
      "text/plain": [
       "'awaken'"
      ]
     },
     "metadata": {},
     "execution_count": 38
    }
   ],
   "source": [
    "#Index inside square brackets\n",
    "text4[173]"
   ]
  },
  {
   "cell_type": "code",
   "execution_count": 39,
   "metadata": {},
   "outputs": [
    {
     "output_type": "execute_result",
     "data": {
      "text/plain": [
       "173"
      ]
     },
     "metadata": {},
     "execution_count": 39
    }
   ],
   "source": [
    "#Given a word, find the index of when it first occurs\n",
    "text4.index('awaken')"
   ]
  },
  {
   "cell_type": "code",
   "execution_count": 42,
   "metadata": {},
   "outputs": [
    {
     "output_type": "execute_result",
     "data": {
      "text/plain": [
       "['U86', 'thats', 'why', 'something', 'like']"
      ]
     },
     "metadata": {},
     "execution_count": 42
    }
   ],
   "source": [
    "#Extracting manageable pieces of language from large texts\n",
    "text5[16715:16720]"
   ]
  },
  {
   "cell_type": "code",
   "execution_count": 47,
   "metadata": {},
   "outputs": [
    {
     "output_type": "execute_result",
     "data": {
      "text/plain": [
       "['between', 'their', 'husbands', '.', 'THE', 'END']"
      ]
     },
     "metadata": {},
     "execution_count": 47
    }
   ],
   "source": [
    "#Slicing\n",
    "text2[141570:]"
   ]
  },
  {
   "source": [
    "## Variables"
   ],
   "cell_type": "markdown",
   "metadata": {}
  },
  {
   "cell_type": "code",
   "execution_count": 51,
   "metadata": {},
   "outputs": [
    {
     "output_type": "execute_result",
     "data": {
      "text/plain": [
       "['bold', 'Sir', 'Robin']"
      ]
     },
     "metadata": {},
     "execution_count": 51
    }
   ],
   "source": [
    "#Evaluating the expression, and save its result to the variable (assignment)\n",
    "my_sent = ['Bravely', 'bold', 'Sir', 'Robin', ',', 'rode','forth', 'from', 'Camelot', '.']\n",
    "\n",
    "noun_phrase = my_sent[1:4]\n",
    "noun_phrase"
   ]
  },
  {
   "cell_type": "code",
   "execution_count": 52,
   "metadata": {},
   "outputs": [
    {
     "output_type": "execute_result",
     "data": {
      "text/plain": [
       "['Robin', 'Sir', 'bold']"
      ]
     },
     "metadata": {},
     "execution_count": 52
    }
   ],
   "source": [
    "wOrDs = sorted(noun_phrase)\n",
    "wOrDs"
   ]
  },
  {
   "cell_type": "code",
   "execution_count": 53,
   "metadata": {},
   "outputs": [
    {
     "output_type": "execute_result",
     "data": {
      "text/plain": [
       "19317"
      ]
     },
     "metadata": {},
     "execution_count": 53
    }
   ],
   "source": [
    "#Using variables to hold intermediate steps of a computation\n",
    "vocab = set(text1)\n",
    "vocab_size = len(vocab)\n",
    "vocab_size"
   ]
  },
  {
   "source": [
    "## Strings"
   ],
   "cell_type": "markdown",
   "metadata": {}
  },
  {
   "cell_type": "code",
   "execution_count": 54,
   "metadata": {},
   "outputs": [
    {
     "output_type": "execute_result",
     "data": {
      "text/plain": [
       "'M'"
      ]
     },
     "metadata": {},
     "execution_count": 54
    }
   ],
   "source": [
    "name = 'Monty'\n",
    "name[0]"
   ]
  },
  {
   "cell_type": "code",
   "execution_count": 57,
   "metadata": {},
   "outputs": [
    {
     "output_type": "execute_result",
     "data": {
      "text/plain": [
       "'Mont'"
      ]
     },
     "metadata": {},
     "execution_count": 57
    }
   ],
   "source": [
    "# Slicing a string\n",
    "name[:4]"
   ]
  },
  {
   "cell_type": "code",
   "execution_count": 58,
   "metadata": {},
   "outputs": [
    {
     "output_type": "execute_result",
     "data": {
      "text/plain": [
       "'MontyMonty'"
      ]
     },
     "metadata": {},
     "execution_count": 58
    }
   ],
   "source": [
    "# Perform multiplication and addition with strings ...\n",
    "name*2"
   ]
  },
  {
   "cell_type": "code",
   "execution_count": 59,
   "metadata": {},
   "outputs": [
    {
     "output_type": "execute_result",
     "data": {
      "text/plain": [
       "'Monty1'"
      ]
     },
     "metadata": {},
     "execution_count": 59
    }
   ],
   "source": [
    "# and addition with strings\n",
    "name+\"1\""
   ]
  },
  {
   "cell_type": "code",
   "execution_count": null,
   "metadata": {},
   "outputs": [],
   "source": []
  }
 ]
}