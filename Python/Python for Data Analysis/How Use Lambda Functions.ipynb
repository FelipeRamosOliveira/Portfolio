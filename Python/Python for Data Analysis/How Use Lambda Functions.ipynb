{
 "metadata": {
  "language_info": {
   "codemirror_mode": {
    "name": "ipython",
    "version": 3
   },
   "file_extension": ".py",
   "mimetype": "text/x-python",
   "name": "python",
   "nbconvert_exporter": "python",
   "pygments_lexer": "ipython3",
   "version": "3.8.6"
  },
  "orig_nbformat": 4,
  "kernelspec": {
   "name": "python3",
   "display_name": "Python 3.8.6 64-bit"
  },
  "interpreter": {
   "hash": "1baa965d5efe3ac65b79dfc60c0d706280b1da80fedb7760faf2759126c4f253"
  }
 },
 "nbformat": 4,
 "nbformat_minor": 2,
 "cells": [
  {
   "source": [
    "# How to Use Python Lambda Functions"
   ],
   "cell_type": "markdown",
   "metadata": {}
  },
  {
   "source": [
    "Python and other languages like Java, C#, and even C++ have had lambda functions added to their syntax, whereas languages like LISP or the ML family of languages, Haskell, OCaml, and F#, use lambdas as a core concept.\n",
    "\n",
    "Python lambdas are little, anonymous functions, subject to a more restrictive but more concise syntax than regular Python functions.\n",
    "\n",
    "By the end of this notebook, you’ll know:\n",
    "\n",
    "* How Python lambdas came to be\n",
    "* How lambdas compare with regular function objects\n",
    "* How to write lambda functions\n",
    "* Which functions in the Python standard library leverage lambdas\n",
    "* When to use or avoid Python lambda functions\n",
    "\n",
    "This tutorial is mainly for intermediate to experienced Python programmers, but it is accessible to any curious minds with interest in programming and lambda calculus."
   ],
   "cell_type": "markdown",
   "metadata": {}
  },
  {
   "source": [
    "# History"
   ],
   "cell_type": "markdown",
   "metadata": {}
  },
  {
   "source": [
    "\n",
    "Alonzo Church formalized lambda calculus, a language based on pure abstraction, in the 1930s. Lambda functions are also referred to as lambda abstractions, a direct reference to the abstraction model of Alonzo Church’s original creation.\n",
    "\n",
    "Lambda calculus can encode any computation. It is Turing complete, but contrary to the concept of a Turing machine, it is pure and does not keep any state.\n",
    "\n",
    "Functional languages get their origin in mathematical logic and lambda calculus, while imperative programming languages embrace the state-based model of computation invented by Alan Turing. The two models of computation, lambda calculus and Turing machines, can be translated into each another. This equivalence is known as the Church-Turing hypothesis.\n",
    "\n",
    "Functional languages directly inherit the lambda calculus philosophy, adopting a declarative approach of programming that emphasizes abstraction, data transformation, composition, and purity (no state and no side effects). Examples of functional languages include Haskell, Lisp, or Erlang.\n",
    "\n",
    "By contrast, the Turing Machine led to imperative programming found in languages like Fortran, C, or Python.\n",
    "\n",
    "The imperative style consists of programming with statements, driving the flow of the program step by step with detailed instructions. This approach promotes mutation and requires managing state.\n",
    "\n",
    "The separation in both families presents some nuances, as some functional languages incorporate imperative features, like OCaml, while functional features have been permeating the imperative family of languages in particular with the introduction of lambda functions in Java, or Python.\n",
    "\n",
    "Python is not inherently a functional language, but it adopted some functional concepts early on. In January 1994, map(), filter(), reduce(), and the lambda operator were added to the language."
   ],
   "cell_type": "markdown",
   "metadata": {}
  },
  {
   "source": [
    "# First Example"
   ],
   "cell_type": "markdown",
   "metadata": {}
  },
  {
   "source": [
    "Here are a few examples to give you an appetite for some Python code, functional style.\n",
    "\n",
    "The identity function, a function that returns its argument, is expressed with a standard Python function definition using the keyword def as follows:"
   ],
   "cell_type": "markdown",
   "metadata": {}
  },
  {
   "cell_type": "code",
   "execution_count": 2,
   "metadata": {},
   "outputs": [],
   "source": [
    "def identity(x):\n",
    "    return x"
   ]
  },
  {
   "source": [
    "`identity()` takes an argument `x` and returns it upon invocation.<br>\n",
    "In contrast, if you use a Python lambda construction, you get the following:"
   ],
   "cell_type": "markdown",
   "metadata": {}
  },
  {
   "cell_type": "code",
   "execution_count": 3,
   "metadata": {},
   "outputs": [
    {
     "output_type": "execute_result",
     "data": {
      "text/plain": [
       "<function __main__.<lambda>(x)>"
      ]
     },
     "metadata": {},
     "execution_count": 3
    }
   ],
   "source": [
    "lambda x: x"
   ]
  },
  {
   "source": [
    "In the example above, the expression is composed of:\n",
    "\n",
    "The keyword: `lambda`\n",
    "* A bound variable: `x`\n",
    "* A body: `x`"
   ],
   "cell_type": "markdown",
   "metadata": {}
  },
  {
   "source": [
    "You can write a slightly more elaborated example, a function that adds 1 to an argument, as follows:"
   ],
   "cell_type": "markdown",
   "metadata": {}
  },
  {
   "cell_type": "code",
   "execution_count": 4,
   "metadata": {},
   "outputs": [
    {
     "output_type": "execute_result",
     "data": {
      "text/plain": [
       "<function __main__.<lambda>(x)>"
      ]
     },
     "metadata": {},
     "execution_count": 4
    }
   ],
   "source": [
    "lambda x: x + 1"
   ]
  },
  {
   "source": [
    "You can apply the function above to an argument by surrounding the function and its argument with parentheses:\n"
   ],
   "cell_type": "markdown",
   "metadata": {}
  },
  {
   "cell_type": "code",
   "execution_count": 5,
   "metadata": {},
   "outputs": [
    {
     "output_type": "execute_result",
     "data": {
      "text/plain": [
       "3"
      ]
     },
     "metadata": {},
     "execution_count": 5
    }
   ],
   "source": [
    "(lambda x: x + 1)(2)"
   ]
  },
  {
   "source": [
    "Reduction is a lambda calculus strategy to compute the value of the expression. In the current example, it consists of replacing the bound variable x with the argument 2:\n",
    "\n",
    "```\n",
    "(lambda x: x + 1)(2) = lambda 2: 2 + 1\n",
    "                     = 2 + 1\n",
    "                     = 3\n",
    "```"
   ],
   "cell_type": "markdown",
   "metadata": {}
  },
  {
   "source": [
    "Because a lambda function is an expression, it can be named. Therefore you could write the previous code as follows:"
   ],
   "cell_type": "markdown",
   "metadata": {}
  },
  {
   "cell_type": "code",
   "execution_count": 8,
   "metadata": {},
   "outputs": [
    {
     "output_type": "execute_result",
     "data": {
      "text/plain": [
       "3"
      ]
     },
     "metadata": {},
     "execution_count": 8
    }
   ],
   "source": [
    "add_one = lambda x: x + 1\n",
    "add_one(2)"
   ]
  },
  {
   "source": [
    "The above lambda function is equivalent to writing this:"
   ],
   "cell_type": "markdown",
   "metadata": {}
  },
  {
   "cell_type": "code",
   "execution_count": 9,
   "metadata": {},
   "outputs": [],
   "source": [
    "def add_one(x):\n",
    "    return x + 1"
   ]
  },
  {
   "source": [
    "These functions all take a single argument. You may have noticed that, in the definition of the lambdas, the arguments don’t have parentheses around them. Multi-argument functions (functions that take more than one argument) are expressed in Python lambdas by listing arguments and separating them with a comma (,) but without surrounding them with parentheses:"
   ],
   "cell_type": "markdown",
   "metadata": {}
  },
  {
   "cell_type": "code",
   "execution_count": 10,
   "metadata": {},
   "outputs": [
    {
     "output_type": "execute_result",
     "data": {
      "text/plain": [
       "'Full name: Guido Van Rossum'"
      ]
     },
     "metadata": {},
     "execution_count": 10
    }
   ],
   "source": [
    "full_name = lambda first, last: f'Full name: {first.title()} {last.title()}'\n",
    "full_name('guido', 'van rossum')"
   ]
  },
  {
   "source": [
    "The lambda function assigned to full_name takes two arguments and returns a string interpolating the two parameters first and last. As expected, the definition of the lambda lists the arguments with no parentheses, whereas calling the function is done exactly like a normal Python function, with parentheses surrounding the arguments."
   ],
   "cell_type": "markdown",
   "metadata": {}
  },
  {
   "source": [
    "# Anonymous Functions"
   ],
   "cell_type": "markdown",
   "metadata": {}
  },
  {
   "source": [
    "The following terms may be used interchangeably depending on the programming language type and culture:\n",
    "\n",
    "* Anonymous functions\n",
    "* Lambda functions\n",
    "* Lambda expressions\n",
    "* Lambda abstractions\n",
    "* Lambda form\n",
    "* Function literals\n",
    "* For the rest of this article after this section, you’ll mostly see the term `lambda` function.\n",
    "\n",
    "Taken literally, an anonymous function is a function without a name. In Python, an anonymous function is created with the `lambda` keyword. More loosely, it may or not be assigned a name. Consider a two-argument anonymous function defined with lambda but not bound to a variable. The`lambda` is not given a name:"
   ],
   "cell_type": "markdown",
   "metadata": {}
  },
  {
   "cell_type": "code",
   "execution_count": 12,
   "metadata": {},
   "outputs": [
    {
     "output_type": "execute_result",
     "data": {
      "text/plain": [
       "3"
      ]
     },
     "metadata": {},
     "execution_count": 12
    }
   ],
   "source": [
    "lambda_sum=lambda x, y: x + y\n",
    "lambda_sum(1,2)"
   ]
  },
  {
   "source": [
    "The function above defines a lambda expression that takes two arguments and returns their sum.\n",
    "\n",
    "Other than providing you with the feedback that Python is perfectly fine with this form, it doesn’t lead to any practical use. You could invoke the function in the Python interpreter:\n",
    "\n",
    "```\n",
    ">>> _(1, 2)\n",
    "3\n",
    "```\n",
    "The example above is taking advantage of the interactive interpreter-only feature provided via the underscore (_). See the note below for more details.\n",
    "\n",
    "You could not write similar code in a Python module. Consider the _ in the interpreter as a side effect that you took advantage of. In a Python module, you would assign a name to the lambda, or you would pass the lambda to a function. You’ll use those two approaches later in this article."
   ],
   "cell_type": "markdown",
   "metadata": {}
  },
  {
   "source": [
    "Another pattern used in other languages like JavaScript is to immediately execute a Python lambda function. This is known as an Immediately Invoked Function Expression (IIFE, pronounce “iffy”). Here’s an example:"
   ],
   "cell_type": "markdown",
   "metadata": {}
  },
  {
   "cell_type": "code",
   "execution_count": 16,
   "metadata": {},
   "outputs": [
    {
     "output_type": "execute_result",
     "data": {
      "text/plain": [
       "5"
      ]
     },
     "metadata": {},
     "execution_count": 16
    }
   ],
   "source": [
    "(lambda x, y: x + y)(2, 3)"
   ]
  },
  {
   "source": [
    "The lambda function above is defined and then immediately called with two arguments (2 and 3). It returns the value 5, which is the sum of the arguments.\n",
    "\n",
    "Several examples in this tutorial use this format to highlight the anonymous aspect of a lambda function and avoid focusing on lambda in Python as a shorter way of defining a function.\n",
    "\n",
    "Python does not encourage using immediately invoked lambda expressions. It simply results from a lambda expression being callable, unlike the body of a normal function.\n",
    "\n",
    "Lambda functions are frequently used with higher-order functions, which take one or more functions as arguments or return one or more functions.\n",
    "\n",
    "A lambda function can be a higher-order function by taking a function (normal or lambda) as an argument like in the following contrived example:"
   ],
   "cell_type": "markdown",
   "metadata": {}
  },
  {
   "cell_type": "code",
   "execution_count": 18,
   "metadata": {},
   "outputs": [
    {
     "output_type": "execute_result",
     "data": {
      "text/plain": [
       "6"
      ]
     },
     "metadata": {},
     "execution_count": 18
    }
   ],
   "source": [
    "high_ord_func = lambda x, func: x + func(x)\n",
    "high_ord_func(2, lambda x: x * x)"
   ]
  },
  {
   "cell_type": "code",
   "execution_count": 19,
   "metadata": {},
   "outputs": [
    {
     "output_type": "execute_result",
     "data": {
      "text/plain": [
       "7"
      ]
     },
     "metadata": {},
     "execution_count": 19
    }
   ],
   "source": [
    "high_ord_func(2, lambda x: x + 3)"
   ]
  },
  {
   "source": [
    "Python exposes higher-order functions as built-in functions or in the standard library. Examples include map(), filter(), functools.reduce(), as well as key functions like sort(), sorted(), min(), and max()."
   ],
   "cell_type": "markdown",
   "metadata": {}
  },
  {
   "source": [
    "# Python Lambda and Regular Functions"
   ],
   "cell_type": "markdown",
   "metadata": {}
  },
  {
   "source": [
    "This quote from the Python Design and History FAQ seems to set the tone about the overall expectation regarding the usage of lambda functions in Python:\n",
    "\n",
    "Unlike lambda forms in other languages, where they add functionality, Python lambdas are only a shorthand notation if you’re too lazy to define a function. (Source)\n",
    "\n",
    "Nevertheless, don’t let this statement deter you from using Python’s lambda. At first glance, you may accept that a lambda function is a function with some syntactic sugar shortening the code to define or invoke a function. The following sections highlight the commonalities and subtle differences between normal Python functions and lambda functions."
   ],
   "cell_type": "markdown",
   "metadata": {}
  },
  {
   "source": [
    "## Functions"
   ],
   "cell_type": "markdown",
   "metadata": {}
  },
  {
   "source": [
    "\n",
    "At this point, you may wonder what fundamentally distinguishes a lambda function bound to a variable from a regular function with a single return line: under the surface, almost nothing. Let’s verify how Python sees a function built with a single return statement versus a function constructed as an expression (`lambda`).\n",
    "\n",
    "The `dis` module exposes functions to analyze Python bytecode generated by the Python compiler:"
   ],
   "cell_type": "markdown",
   "metadata": {}
  },
  {
   "cell_type": "code",
   "execution_count": 23,
   "metadata": {},
   "outputs": [
    {
     "output_type": "execute_result",
     "data": {
      "text/plain": [
       "function"
      ]
     },
     "metadata": {},
     "execution_count": 23
    }
   ],
   "source": [
    "import dis\n",
    "add = lambda x, y: x + y\n",
    "type(add)"
   ]
  },
  {
   "cell_type": "code",
   "execution_count": 24,
   "metadata": {},
   "outputs": [
    {
     "output_type": "stream",
     "name": "stdout",
     "text": [
      "  2           0 LOAD_FAST                0 (x)\n              2 LOAD_FAST                1 (y)\n              4 BINARY_ADD\n              6 RETURN_VALUE\n"
     ]
    }
   ],
   "source": [
    "dis.dis(add)"
   ]
  },
  {
   "source": [
    "You can see that dis() expose a readable version of the Python bytecode allowing the inspection of the low-level instructions that the Python interpreter will use while executing the program.\n",
    "\n",
    "Now see it with a regular function object:"
   ],
   "cell_type": "markdown",
   "metadata": {}
  },
  {
   "cell_type": "code",
   "execution_count": 30,
   "metadata": {},
   "outputs": [
    {
     "output_type": "execute_result",
     "data": {
      "text/plain": [
       "function"
      ]
     },
     "metadata": {},
     "execution_count": 30
    }
   ],
   "source": [
    "def add(x, y): return x + y\n",
    "type(add)"
   ]
  },
  {
   "cell_type": "code",
   "execution_count": 31,
   "metadata": {},
   "outputs": [
    {
     "output_type": "stream",
     "name": "stdout",
     "text": [
      "  1           0 LOAD_FAST                0 (x)\n              2 LOAD_FAST                1 (y)\n              4 BINARY_ADD\n              6 RETURN_VALUE\n"
     ]
    }
   ],
   "source": [
    "dis.dis(add)"
   ]
  },
  {
   "source": [
    "The bytecode interpreted by Python is the same for both functions. But you may notice that the naming is different: the function name is add for a function defined with def, whereas the Python lambda function is seen as lambda."
   ],
   "cell_type": "markdown",
   "metadata": {}
  },
  {
   "source": [
    "# Syntax"
   ],
   "cell_type": "markdown",
   "metadata": {}
  },
  {
   "source": [
    "\n",
    "As you saw in the previous sections, a lambda form presents syntactic distinctions from a normal function. In particular, a lambda function has the following characteristics:\n",
    "\n",
    "* It can only contain expressions and can’t include statements in its body.\n",
    "* It is written as a single line of execution.\n",
    "* It does not support type annotations.\n",
    "* It can be immediately invoked (IIFE).\n",
    "\n",
    "**No Statements**\n",
    "\n",
    "A lambda function can’t contain any statements. In a lambda function, statements like return, pass, assert, or raise will raise a SyntaxError exception. Here’s an example of adding assert to the body of a lambda:"
   ],
   "cell_type": "markdown",
   "metadata": {}
  },
  {
   "cell_type": "code",
   "execution_count": 33,
   "metadata": {},
   "outputs": [
    {
     "output_type": "execute_result",
     "data": {
      "text/plain": [
       "True"
      ]
     },
     "metadata": {},
     "execution_count": 33
    }
   ],
   "source": [
    "(lambda x: x == 2)(2)"
   ]
  },
  {
   "source": [
    "**Single Expression**\n",
    "\n",
    "In contrast to a normal function, a Python lambda function is a single expression. Although, in the body of a lambda, you can spread the expression over several lines using parentheses or a multiline string, it remains a single expression:"
   ],
   "cell_type": "markdown",
   "metadata": {}
  },
  {
   "cell_type": "code",
   "execution_count": 42,
   "metadata": {},
   "outputs": [
    {
     "output_type": "execute_result",
     "data": {
      "text/plain": [
       "'odd'"
      ]
     },
     "metadata": {},
     "execution_count": 42
    }
   ],
   "source": [
    "(lambda x: \n",
    "(x % 2 and 'odd' or 'even'))(3)"
   ]
  },
  {
   "source": [
    "The example above returns the string 'odd' when the lambda argument is odd, and 'even' when the argument is even. It spreads across two lines because it is contained in a set of parentheses, but it remains a single expression."
   ],
   "cell_type": "markdown",
   "metadata": {}
  },
  {
   "source": [
    "**Type Annotations**\n",
    "\n",
    "If you’ve started adopting type hinting, which is now available in Python, then you have another good reason to prefer normal functions over Python lambda functions. Check out Python Type Checking (Guide) to get learn more about Python type hints and type checking. In a lambda function, there is no equivalent for the following:"
   ],
   "cell_type": "markdown",
   "metadata": {}
  },
  {
   "cell_type": "code",
   "execution_count": 43,
   "metadata": {},
   "outputs": [],
   "source": [
    "def full_name(first: str, last: str) -> str:\n",
    "    return f'{first.title()} {last.title()}'"
   ]
  },
  {
   "source": [
    "Any type error with full_name() can be caught by tools like mypy or pyre, whereas a SyntaxError with the equivalent lambda function is raised at runtime:\n",
    "\n",
    "```\n",
    "lambda first: str, last: str: first.title() + \" \" + last.title() ->str\n",
    "```\n",
    "Like trying to include a statement in a lambda, adding type annotation immediately results in a SyntaxError at runtime."
   ],
   "cell_type": "markdown",
   "metadata": {}
  },
  {
   "source": [
    "**IIFE**<br>\n",
    "You’ve already seen several examples of immediately invoked function execution:"
   ],
   "cell_type": "markdown",
   "metadata": {}
  },
  {
   "cell_type": "code",
   "execution_count": 47,
   "metadata": {},
   "outputs": [
    {
     "output_type": "execute_result",
     "data": {
      "text/plain": [
       "9"
      ]
     },
     "metadata": {},
     "execution_count": 47
    }
   ],
   "source": [
    "(lambda x: x * x)(3)"
   ]
  },
  {
   "source": [
    "Outside of the Python interpreter, this feature is probably not used in practice. It’s a direct consequence of a lambda function being callable as it is defined. For example, this allows you to pass the definition of a Python lambda expression to a higher-order function like map(), filter(), or functools.reduce(), or to a key function."
   ],
   "cell_type": "markdown",
   "metadata": {}
  },
  {
   "source": [
    "## Arguments"
   ],
   "cell_type": "markdown",
   "metadata": {}
  },
  {
   "source": [
    "Like a normal function object defined with def, Python lambda expressions support all the different ways of passing arguments. This includes:\n",
    "\n",
    "* Positional arguments\n",
    "* Named arguments (sometimes called keyword arguments)\n",
    "* Variable list of arguments (often referred to as varargs)\n",
    "* Variable list of keyword arguments\n",
    "* Keyword-only arguments\n",
    "* The following examples illustrate options open to you in order to pass arguments to lambda expressions:"
   ],
   "cell_type": "markdown",
   "metadata": {}
  },
  {
   "cell_type": "code",
   "execution_count": 50,
   "metadata": {},
   "outputs": [
    {
     "output_type": "execute_result",
     "data": {
      "text/plain": [
       "6"
      ]
     },
     "metadata": {},
     "execution_count": 50
    }
   ],
   "source": [
    "(lambda x, y, z: x + y + z)(1, 2, 3)\n",
    "(lambda x, y, z=3: x + y + z)(1, 2)\n",
    "(lambda x, y, z=3: x + y + z)(1, y=2)"
   ]
  },
  {
   "cell_type": "code",
   "execution_count": 51,
   "metadata": {},
   "outputs": [
    {
     "output_type": "execute_result",
     "data": {
      "text/plain": [
       "6"
      ]
     },
     "metadata": {},
     "execution_count": 51
    }
   ],
   "source": [
    "(lambda *args: sum(args))(1,2,3)"
   ]
  },
  {
   "cell_type": "code",
   "execution_count": 52,
   "metadata": {},
   "outputs": [
    {
     "output_type": "execute_result",
     "data": {
      "text/plain": [
       "6"
      ]
     },
     "metadata": {},
     "execution_count": 52
    }
   ],
   "source": [
    "(lambda **kwargs: sum(kwargs.values()))(one=1, two=2, three=3)"
   ]
  },
  {
   "cell_type": "code",
   "execution_count": 56,
   "metadata": {},
   "outputs": [
    {
     "output_type": "execute_result",
     "data": {
      "text/plain": [
       "dict_keys(['one', 'two', 'three'])"
      ]
     },
     "metadata": {},
     "execution_count": 56
    }
   ],
   "source": [
    "(lambda **kwargs: kwargs.keys())(one=1, two=2, three=3)"
   ]
  },
  {
   "cell_type": "code",
   "execution_count": 53,
   "metadata": {},
   "outputs": [
    {
     "output_type": "execute_result",
     "data": {
      "text/plain": [
       "6"
      ]
     },
     "metadata": {},
     "execution_count": 53
    }
   ],
   "source": [
    "(lambda x, *, y=0, z=0: x + y + z)(1, y=2, z=3)"
   ]
  },
  {
   "source": [
    "## Decorators"
   ],
   "cell_type": "markdown",
   "metadata": {}
  },
  {
   "source": [
    "In Python, a decorator is the implementation of a pattern that allows adding a behavior to a function or a class. It is usually expressed with the @decorator syntax prefixing a function. Here’s a contrived example:"
   ],
   "cell_type": "markdown",
   "metadata": {}
  },
  {
   "cell_type": "code",
   "execution_count": 57,
   "metadata": {},
   "outputs": [],
   "source": [
    "def some_decorator(f):\n",
    "    def wraps(*args):\n",
    "        print(f\"Calling function '{f.__name__}'\")\n",
    "        return f(args)\n",
    "    return wraps\n",
    "\n",
    "@some_decorator\n",
    "def decorated_function(x):\n",
    "    print(f\"With argument '{x}'\")"
   ]
  },
  {
   "source": [
    "In the example above, some_decorator() is a function that adds a behavior to decorated_function(), so that invoking decorated_function(\"Python\") results in the following output:"
   ],
   "cell_type": "markdown",
   "metadata": {}
  },
  {
   "cell_type": "code",
   "execution_count": 61,
   "metadata": {},
   "outputs": [
    {
     "output_type": "stream",
     "name": "stdout",
     "text": [
      "Calling function 'decorated_function'\nWith argument '('Python',)'\n"
     ]
    }
   ],
   "source": [
    "decorated_function(\"Python\")"
   ]
  },
  {
   "source": [
    "decorated_function() only prints With argument 'Python', but the decorator adds an extra behavior that also prints Calling function 'decorated_function'.\n",
    "\n",
    "A decorator can be applied to a lambda. Although it’s not possible to decorate a lambda with the @decorator syntax, a decorator is just a function, so it can call the lambda function:"
   ],
   "cell_type": "markdown",
   "metadata": {}
  },
  {
   "cell_type": "code",
   "execution_count": 62,
   "metadata": {},
   "outputs": [],
   "source": [
    "# Defining a decorator\n",
    "def trace(f):\n",
    "    \n",
    "    def wrap(*args, **kwargs):\n",
    "        print(f\"[TRACE] func: {f.__name__}, args: {args}, kwargs: {kwargs}\")\n",
    "        return f(*args, **kwargs)\n",
    "\n",
    "    return wrap"
   ]
  },
  {
   "cell_type": "code",
   "execution_count": 63,
   "metadata": {},
   "outputs": [],
   "source": [
    "# Applying decorator to a function\n",
    "@trace\n",
    "def add_two(x):\n",
    "    return x + 2"
   ]
  },
  {
   "cell_type": "code",
   "execution_count": 64,
   "metadata": {},
   "outputs": [
    {
     "output_type": "stream",
     "name": "stdout",
     "text": [
      "[TRACE] func: add_two, args: (3,), kwargs: {}\n"
     ]
    },
    {
     "output_type": "execute_result",
     "data": {
      "text/plain": [
       "5"
      ]
     },
     "metadata": {},
     "execution_count": 64
    }
   ],
   "source": [
    "# Calling the decorated function\n",
    "add_two(3)"
   ]
  },
  {
   "cell_type": "code",
   "execution_count": 65,
   "metadata": {},
   "outputs": [
    {
     "output_type": "stream",
     "name": "stdout",
     "text": [
      "[TRACE] func: <lambda>, args: (3,), kwargs: {}\n9\n"
     ]
    }
   ],
   "source": [
    "print((trace(lambda x: x ** 2))(3))"
   ]
  },
  {
   "source": [
    "add_two(), decorated with @trace on line 11, is invoked with argument 3 on line 15. By contrast, on line 18, a lambda function is immediately involved and embedded in a call to trace(), the decorator. When you execute the code above you obtain the following:"
   ],
   "cell_type": "markdown",
   "metadata": {}
  },
  {
   "cell_type": "code",
   "execution_count": null,
   "metadata": {},
   "outputs": [],
   "source": []
  }
 ]
}